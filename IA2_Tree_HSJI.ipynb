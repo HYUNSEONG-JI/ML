{
 "cells": [
  {
   "cell_type": "code",
   "execution_count": 28,
   "metadata": {},
   "outputs": [],
   "source": [
    "import pandas as pd\n",
    "import numpy as np\n",
    "from sklearn.tree import DecisionTreeClassifier, DecisionTreeRegressor\n",
    "from sklearn.ensemble import RandomForestClassifier, GradientBoostingClassifier\n",
    "from sklearn.model_selection import train_test_split, cross_val_score, GridSearchCV\n",
    "import matplotlib.pylab as plt\n",
    "from dmba import plotDecisionTree, classificationSummary, regressionSummary\n"
   ]
  },
  {
   "cell_type": "code",
   "execution_count": 29,
   "metadata": {},
   "outputs": [],
   "source": [
    "\n",
    "# Q1. \n",
    "# Read UniversalBank.csv file and store it into universal_df\n",
    "# \n",
    "# Your code here\n",
    "universal_df=pd.read_csv('UniversalBank.csv')\n",
    "#---------------\n"
   ]
  },
  {
   "cell_type": "code",
   "execution_count": 30,
   "metadata": {},
   "outputs": [
    {
     "data": {
      "text/html": [
       "<div>\n",
       "<style scoped>\n",
       "    .dataframe tbody tr th:only-of-type {\n",
       "        vertical-align: middle;\n",
       "    }\n",
       "\n",
       "    .dataframe tbody tr th {\n",
       "        vertical-align: top;\n",
       "    }\n",
       "\n",
       "    .dataframe thead th {\n",
       "        text-align: right;\n",
       "    }\n",
       "</style>\n",
       "<table border=\"1\" class=\"dataframe\">\n",
       "  <thead>\n",
       "    <tr style=\"text-align: right;\">\n",
       "      <th></th>\n",
       "      <th>Age</th>\n",
       "      <th>Experience</th>\n",
       "      <th>Income</th>\n",
       "      <th>Family</th>\n",
       "      <th>CCAvg</th>\n",
       "      <th>Education</th>\n",
       "      <th>Mortgage</th>\n",
       "      <th>Personal Loan</th>\n",
       "      <th>Securities Account</th>\n",
       "      <th>CD Account</th>\n",
       "      <th>Online</th>\n",
       "      <th>CreditCard</th>\n",
       "    </tr>\n",
       "  </thead>\n",
       "  <tbody>\n",
       "    <tr>\n",
       "      <th>0</th>\n",
       "      <td>25</td>\n",
       "      <td>1</td>\n",
       "      <td>49</td>\n",
       "      <td>4</td>\n",
       "      <td>1.6</td>\n",
       "      <td>1</td>\n",
       "      <td>0</td>\n",
       "      <td>0</td>\n",
       "      <td>1</td>\n",
       "      <td>0</td>\n",
       "      <td>0</td>\n",
       "      <td>0</td>\n",
       "    </tr>\n",
       "    <tr>\n",
       "      <th>1</th>\n",
       "      <td>45</td>\n",
       "      <td>19</td>\n",
       "      <td>34</td>\n",
       "      <td>3</td>\n",
       "      <td>1.5</td>\n",
       "      <td>1</td>\n",
       "      <td>0</td>\n",
       "      <td>0</td>\n",
       "      <td>1</td>\n",
       "      <td>0</td>\n",
       "      <td>0</td>\n",
       "      <td>0</td>\n",
       "    </tr>\n",
       "    <tr>\n",
       "      <th>2</th>\n",
       "      <td>39</td>\n",
       "      <td>15</td>\n",
       "      <td>11</td>\n",
       "      <td>1</td>\n",
       "      <td>1.0</td>\n",
       "      <td>1</td>\n",
       "      <td>0</td>\n",
       "      <td>0</td>\n",
       "      <td>0</td>\n",
       "      <td>0</td>\n",
       "      <td>0</td>\n",
       "      <td>0</td>\n",
       "    </tr>\n",
       "    <tr>\n",
       "      <th>3</th>\n",
       "      <td>35</td>\n",
       "      <td>9</td>\n",
       "      <td>100</td>\n",
       "      <td>1</td>\n",
       "      <td>2.7</td>\n",
       "      <td>2</td>\n",
       "      <td>0</td>\n",
       "      <td>0</td>\n",
       "      <td>0</td>\n",
       "      <td>0</td>\n",
       "      <td>0</td>\n",
       "      <td>0</td>\n",
       "    </tr>\n",
       "    <tr>\n",
       "      <th>4</th>\n",
       "      <td>35</td>\n",
       "      <td>8</td>\n",
       "      <td>45</td>\n",
       "      <td>4</td>\n",
       "      <td>1.0</td>\n",
       "      <td>2</td>\n",
       "      <td>0</td>\n",
       "      <td>0</td>\n",
       "      <td>0</td>\n",
       "      <td>0</td>\n",
       "      <td>0</td>\n",
       "      <td>1</td>\n",
       "    </tr>\n",
       "  </tbody>\n",
       "</table>\n",
       "</div>"
      ],
      "text/plain": [
       "   Age  Experience  Income  Family  CCAvg  Education  Mortgage  Personal Loan  \\\n",
       "0   25           1      49       4    1.6          1         0              0   \n",
       "1   45          19      34       3    1.5          1         0              0   \n",
       "2   39          15      11       1    1.0          1         0              0   \n",
       "3   35           9     100       1    2.7          2         0              0   \n",
       "4   35           8      45       4    1.0          2         0              0   \n",
       "\n",
       "   Securities Account  CD Account  Online  CreditCard  \n",
       "0                   1           0       0           0  \n",
       "1                   1           0       0           0  \n",
       "2                   0           0       0           0  \n",
       "3                   0           0       0           0  \n",
       "4                   0           0       0           1  "
      ]
     },
     "execution_count": 30,
     "metadata": {},
     "output_type": "execute_result"
    }
   ],
   "source": [
    "# delete ID and Zip.Code columns. We are not going to use them for our analysis \n",
    "universal_df = universal_df.drop(['ID', 'ZIP Code'], axis=1)\n",
    "\n",
    "# preview universal.df\n",
    "universal_df.head()"
   ]
  },
  {
   "cell_type": "code",
   "execution_count": 31,
   "metadata": {},
   "outputs": [
    {
     "data": {
      "text/plain": [
       "Age                      int64\n",
       "Experience               int64\n",
       "Income                   int64\n",
       "Family                   int64\n",
       "CCAvg                  float64\n",
       "Education                int64\n",
       "Mortgage                 int64\n",
       "Personal Loan         category\n",
       "Securities Account       int64\n",
       "CD Account               int64\n",
       "Online                   int64\n",
       "CreditCard               int64\n",
       "dtype: object"
      ]
     },
     "execution_count": 31,
     "metadata": {},
     "output_type": "execute_result"
    }
   ],
   "source": [
    "# set CreditCard to categorical variable\n",
    "universal_df = universal_df.astype({'Personal Loan': 'category'})\n",
    "universal_df.dtypes\n"
   ]
  },
  {
   "cell_type": "code",
   "execution_count": 32,
   "metadata": {},
   "outputs": [],
   "source": [
    "from sklearn.model_selection import train_test_split\n",
    "\n",
    "X = universal_df.drop(columns=['Personal Loan'])\n",
    "y = universal_df['Personal Loan']\n"
   ]
  },
  {
   "cell_type": "code",
   "execution_count": 33,
   "metadata": {},
   "outputs": [],
   "source": [
    "## Partitioning \n",
    "#---------------\n",
    "# Q2. Set seed number so that you can get the same traing and test set whenever you create them. \n",
    "# Q3. Create train_X, train_y (60%) and test_X and test_y(40%) with universalNormX\n",
    "\n",
    "# Your code here  \n",
    "#---------------\n",
    "train_X, test_X, train_y, test_y = train_test_split(X, y, test_size=0.4, random_state=1)"
   ]
  },
  {
   "cell_type": "code",
   "execution_count": 34,
   "metadata": {},
   "outputs": [],
   "source": [
    "from sklearn.tree import DecisionTreeClassifier\n",
    "from sklearn.model_selection import GridSearchCV\n",
    "\n",
    "## Running decision tree\n",
    "# Start with an initial guess for parameters\n",
    "param_grid = { 'max_depth': [10, 20, 30, 40],\n",
    "               'min_samples_split': [20, 40, 60, 80, 100], \n",
    "               'min_impurity_decrease': [0, 0.0005, 0.001, 0.005, 0.01],\n",
    "             } \n",
    "\n"
   ]
  },
  {
   "cell_type": "code",
   "execution_count": 35,
   "metadata": {},
   "outputs": [
    {
     "name": "stdout",
     "output_type": "stream",
     "text": [
      "Initial score:  0.9876666666666667\n",
      "Initial parameters:  {'max_depth': 10, 'min_impurity_decrease': 0.0005, 'min_samples_split': 20}\n"
     ]
    }
   ],
   "source": [
    "gridSearch = GridSearchCV(DecisionTreeClassifier(random_state=1), param_grid, cv=5, n_jobs=-1) \n",
    "# n_jobs=-1 will utilize all available CPUs\n",
    "gridSearch.fit(train_X, train_y)\n",
    "print('Initial score: ', gridSearch.best_score_)\n",
    "print('Initial parameters: ', gridSearch.best_params_)\n",
    "\n"
   ]
  },
  {
   "cell_type": "code",
   "execution_count": 36,
   "metadata": {},
   "outputs": [
    {
     "name": "stdout",
     "output_type": "stream",
     "text": [
      "Initial test score:  0.982\n",
      "Initial test parameters:  {'max_depth': 10, 'min_impurity_decrease': 0.0005, 'min_samples_split': 20}\n"
     ]
    }
   ],
   "source": [
    "gridSearch.fit(test_X, test_y)\n",
    "print('Initial test score: ', gridSearch.best_score_)\n",
    "print('Initial test parameters: ', gridSearch.best_params_)"
   ]
  },
  {
   "cell_type": "code",
   "execution_count": 37,
   "metadata": {},
   "outputs": [
    {
     "name": "stdout",
     "output_type": "stream",
     "text": [
      "Confusion Matrix (Accuracy 0.9833)\n",
      "\n",
      "       Prediction\n",
      "Actual    0    1\n",
      "     0 2694   19\n",
      "     1   31  256\n",
      "Confusion Matrix (Accuracy 0.9900)\n",
      "\n",
      "       Prediction\n",
      "Actual    0    1\n",
      "     0 1801    6\n",
      "     1   14  179\n"
     ]
    }
   ],
   "source": [
    "from dmba import classificationSummary\n",
    "\n",
    "# fine-tuned tree: training\n",
    "classificationSummary(train_y, gridSearch.predict(train_X))\n",
    "\n",
    "# fine-tuned tree: test\n",
    "classificationSummary(test_y, gridSearch.predict(test_X))\n"
   ]
  },
  {
   "cell_type": "code",
   "execution_count": null,
   "metadata": {},
   "outputs": [],
   "source": [
    "#Adapt grid"
   ]
  },
  {
   "cell_type": "code",
   "execution_count": 38,
   "metadata": {},
   "outputs": [
    {
     "name": "stdout",
     "output_type": "stream",
     "text": [
      "Improved score:  0.9873333333333333\n",
      "Improved parameters:  {'max_depth': 4, 'min_impurity_decrease': 0.0011, 'min_samples_split': 15}\n"
     ]
    }
   ],
   "source": [
    "# Adapt grid based on result from initial grid search\n",
    "param_grid = { 'max_depth': list(range(2, 20)), \n",
    "               'min_samples_split': list(range(15, 25)), \n",
    "               'min_impurity_decrease': [0.0009, 0.001, 0.0011], \n",
    "             } \n",
    "gridSearch = GridSearchCV(DecisionTreeClassifier(random_state=1), param_grid, cv=5, n_jobs=-1)\n",
    "gridSearch.fit(train_X, train_y)\n",
    "print('Improved score: ', gridSearch.best_score_)\n",
    "print('Improved parameters: ', gridSearch.best_params_)\n",
    "bestClassTree = gridSearch.best_estimator_\n"
   ]
  },
  {
   "cell_type": "code",
   "execution_count": 39,
   "metadata": {},
   "outputs": [
    {
     "data": {
      "text/plain": [
       "DecisionTreeClassifier(max_depth=4, min_impurity_decrease=0.0011,\n",
       "                       min_samples_split=15, random_state=1)"
      ]
     },
     "execution_count": 39,
     "metadata": {},
     "output_type": "execute_result"
    }
   ],
   "source": [
    "bestClassTree"
   ]
  },
  {
   "cell_type": "code",
   "execution_count": 40,
   "metadata": {},
   "outputs": [],
   "source": [
    "import pydotplus"
   ]
  },
  {
   "cell_type": "code",
   "execution_count": 41,
   "metadata": {},
   "outputs": [],
   "source": [
    "import os\n",
    "os.environ['PATH'] += os.pathsep + 'C:\\ProgramData\\Anaconda3\\Lib\\site-packages\\pydotplus'"
   ]
  },
  {
   "cell_type": "code",
   "execution_count": 42,
   "metadata": {},
   "outputs": [],
   "source": [
    "from dmba import plotDecisionTree"
   ]
  },
  {
   "cell_type": "code",
   "execution_count": 43,
   "metadata": {},
   "outputs": [
    {
     "data": {
      "image/png": "[encoded data removed]",
      "text/plain": [
       "<IPython.core.display.Image object>"
      ]
     },
     "execution_count": 43,
     "metadata": {},
     "output_type": "execute_result"
    }
   ],
   "source": [
    "\n",
    "# plot the tree\n",
    "plotDecisionTree(bestClassTree, feature_names=train_X.columns)\n"
   ]
  },
  {
   "cell_type": "code",
   "execution_count": 44,
   "metadata": {},
   "outputs": [
    {
     "name": "stdout",
     "output_type": "stream",
     "text": [
      "Confusion Matrix (Accuracy 0.9867)\n",
      "\n",
      "       Prediction\n",
      "Actual    0    1\n",
      "     0 2708    5\n",
      "     1   35  252\n",
      "Confusion Matrix (Accuracy 0.9815)\n",
      "\n",
      "       Prediction\n",
      "Actual    0    1\n",
      "     0 1801    6\n",
      "     1   31  162\n"
     ]
    }
   ],
   "source": [
    "from dmba import classificationSummary\n",
    "\n",
    "# fine-tuned tree: training\n",
    "classificationSummary(train_y, bestClassTree.predict(train_X))\n",
    "\n",
    "# fine-tuned tree: test\n",
    "classificationSummary(test_y, bestClassTree.predict(test_X))\n"
   ]
  },
  {
   "cell_type": "code",
   "execution_count": 45,
   "metadata": {},
   "outputs": [
    {
     "name": "stdout",
     "output_type": "stream",
     "text": [
      "train set 의 error rate :0.013333333333333334\n",
      "train set 의 FPR :0.0018429782528566164\n",
      "train set 의 FNR :0.12195121951219512\n",
      "test set 의 error rate :0.0185\n",
      "test set 의 FPR :0.003320420586607637\n",
      "test set 의 FNR :0.16062176165803108\n"
     ]
    }
   ],
   "source": [
    "#---------------\n",
    "# Q4. What is the error rate, false positive rate, \n",
    "# and false negative rate from the confusion matrix of test set?\n",
    "# Is there any sign of overfitting?\n",
    "# \n",
    "# Your answer here\n",
    "\n",
    "#Train set과 Test set 의 Error rate 차이가 없는 것으로 보아 overfitting 문제는 없는 것 같다\n",
    "Err_train=(5+35)/(2708+5+35+252)\n",
    "print('train set 의 error rate :{}'.format(Err_train))\n",
    "FPR_train=5/(5+2708)\n",
    "print('train set 의 FPR :{}'.format(FPR_train))\n",
    "FNR_train=35/(35+252)\n",
    "print('train set 의 FNR :{}'.format(FNR_train))\n",
    "\n",
    "Err_test=(6+31)/(1801+6+31+162)\n",
    "print('test set 의 error rate :{}'.format(Err_test))\n",
    "FPR_test=6/(6+1801)\n",
    "print('test set 의 FPR :{}'.format(FPR_test))\n",
    "FNR_test=31/(31+162)\n",
    "print('test set 의 FNR :{}'.format(FNR_test))\n",
    "\n"
   ]
  },
  {
   "cell_type": "code",
   "execution_count": 46,
   "metadata": {},
   "outputs": [
    {
     "data": {
      "text/plain": [
       "RandomForestClassifier(n_estimators=500, random_state=1)"
      ]
     },
     "execution_count": 46,
     "metadata": {},
     "output_type": "execute_result"
    }
   ],
   "source": [
    "import numpy as np\n",
    "from sklearn.ensemble import RandomForestClassifier\n",
    "\n",
    "## Running random forest, tuning 전\n",
    "rf = RandomForestClassifier(n_estimators=500, random_state=1)\n",
    "rf.fit(train_X, train_y)\n",
    "\n"
   ]
  },
  {
   "cell_type": "code",
   "execution_count": 53,
   "metadata": {},
   "outputs": [
    {
     "name": "stdout",
     "output_type": "stream",
     "text": [
      "Fitting 5 folds for each of 2160 candidates, totalling 10800 fits\n"
     ]
    },
    {
     "name": "stderr",
     "output_type": "stream",
     "text": [
      "[Parallel(n_jobs=-1)]: Using backend LokyBackend with 4 concurrent workers.\n",
      "[Parallel(n_jobs=-1)]: Done  33 tasks      | elapsed:    7.0s\n",
      "[Parallel(n_jobs=-1)]: Done 154 tasks      | elapsed:   36.1s\n",
      "[Parallel(n_jobs=-1)]: Done 357 tasks      | elapsed:  1.5min\n",
      "[Parallel(n_jobs=-1)]: Done 640 tasks      | elapsed:  2.7min\n",
      "[Parallel(n_jobs=-1)]: Done 1005 tasks      | elapsed:  4.4min\n",
      "[Parallel(n_jobs=-1)]: Done 1450 tasks      | elapsed:  6.5min\n",
      "[Parallel(n_jobs=-1)]: Done 1977 tasks      | elapsed:  9.0min\n",
      "[Parallel(n_jobs=-1)]: Done 2584 tasks      | elapsed: 11.9min\n",
      "[Parallel(n_jobs=-1)]: Done 3273 tasks      | elapsed: 15.4min\n",
      "[Parallel(n_jobs=-1)]: Done 4042 tasks      | elapsed: 19.3min\n",
      "[Parallel(n_jobs=-1)]: Done 4893 tasks      | elapsed: 23.5min\n",
      "[Parallel(n_jobs=-1)]: Done 5824 tasks      | elapsed: 28.2min\n",
      "[Parallel(n_jobs=-1)]: Done 6837 tasks      | elapsed: 33.1min\n",
      "[Parallel(n_jobs=-1)]: Done 7930 tasks      | elapsed: 38.5min\n",
      "[Parallel(n_jobs=-1)]: Done 9105 tasks      | elapsed: 44.2min\n",
      "[Parallel(n_jobs=-1)]: Done 10360 tasks      | elapsed: 50.4min\n",
      "[Parallel(n_jobs=-1)]: Done 10800 out of 10800 | elapsed: 52.6min finished\n"
     ]
    },
    {
     "name": "stdout",
     "output_type": "stream",
     "text": [
      "RF score:  0.9723333333333333\n",
      "RF parameters:  {'max_depth': 11, 'min_impurity_decrease': 0.0009, 'min_samples_split': 18, 'n_estimators': 150}\n"
     ]
    }
   ],
   "source": [
    "from sklearn.ensemble import RandomForestClassifier\n",
    "#Best Parameter\n",
    "param_grid = {\"n_estimators\" :[150,200, 250, 500],\n",
    "              'max_depth': list(range(2, 20)), \n",
    "               'min_samples_split': list(range(15, 25)), \n",
    "               'min_impurity_decrease': [0.0009, 0.001, 0.0011]}\n",
    "\n",
    "rf_grid_search = GridSearchCV(estimator=RandomForestClassifier(),\n",
    "                              param_grid=param_grid, \n",
    "                              cv=5, verbose=2, n_jobs=-1)\n",
    "\n",
    "rf_grid_search.fit(train_X, train_y)\n",
    "print('RF score: ', rf_grid_search.best_score_)\n",
    "print('RF parameters: ', rf_grid_search.best_params_)\n",
    "best_RF_Tree=rf_grid_search.best_estimator_"
   ]
  },
  {
   "cell_type": "code",
   "execution_count": 54,
   "metadata": {},
   "outputs": [
    {
     "data": {
      "text/plain": [
       "RandomForestClassifier(max_depth=11, min_impurity_decrease=0.0009,\n",
       "                       min_samples_split=18, n_estimators=150)"
      ]
     },
     "execution_count": 54,
     "metadata": {},
     "output_type": "execute_result"
    }
   ],
   "source": [
    "best_RF_Tree"
   ]
  },
  {
   "cell_type": "code",
   "execution_count": 55,
   "metadata": {},
   "outputs": [
    {
     "name": "stdout",
     "output_type": "stream",
     "text": [
      "Confusion Matrix (Accuracy 0.9740)\n",
      "\n",
      "       Prediction\n",
      "Actual    0    1\n",
      "     0 2713    0\n",
      "     1   78  209\n",
      "Confusion Matrix (Accuracy 0.9650)\n",
      "\n",
      "       Prediction\n",
      "Actual    0    1\n",
      "     0 1807    0\n",
      "     1   70  123\n"
     ]
    }
   ],
   "source": [
    "# fine-tuned tree: training\n",
    "classificationSummary(train_y, best_RF_Tree.predict(train_X))\n",
    "\n",
    "# fine-tuned tree: test\n",
    "classificationSummary(test_y, best_RF_Tree.predict(test_X))"
   ]
  },
  {
   "cell_type": "code",
   "execution_count": 56,
   "metadata": {},
   "outputs": [],
   "source": [
    "from sklearn.metrics         import accuracy_score, confusion_matrix, roc_curve, auc"
   ]
  },
  {
   "cell_type": "code",
   "execution_count": 57,
   "metadata": {},
   "outputs": [
    {
     "name": "stdout",
     "output_type": "stream",
     "text": [
      "Accuracy : 0.965\n"
     ]
    }
   ],
   "source": [
    "rf_grid_search.pred=rf_grid_search.predict(test_X)\n",
    "accuracy = accuracy_score(test_y, rf_grid_search.pred)\n",
    "print(\"Accuracy :\", accuracy)"
   ]
  },
  {
   "cell_type": "code",
   "execution_count": 58,
   "metadata": {},
   "outputs": [
    {
     "name": "stdout",
     "output_type": "stream",
     "text": [
      "               feature  importance       std\n",
      "7   Securities Account    0.003964  0.004998\n",
      "9               Online    0.006394  0.005350\n",
      "10          CreditCard    0.007678  0.007053\n",
      "6             Mortgage    0.034243  0.023469\n",
      "1           Experience    0.035539  0.016061\n",
      "0                  Age    0.036258  0.015858\n",
      "8           CD Account    0.057917  0.043185\n",
      "3               Family    0.111375  0.053146\n",
      "4                CCAvg    0.172105  0.103011\n",
      "5            Education    0.200772  0.101002\n",
      "2               Income    0.333756  0.129227\n"
     ]
    },
    {
     "data": {
      "image/png": "[encoded data removed]",
      "text/plain": [
       "<Figure size 432x288 with 1 Axes>"
      ]
     },
     "metadata": {
      "needs_background": "light"
     },
     "output_type": "display_data"
    }
   ],
   "source": [
    "# variable (feature) importance plot\n",
    "importances = rf.feature_importances_\n",
    "std = np.std([tree.feature_importances_ for tree in rf.estimators_], axis=0)\n",
    "df = pd.DataFrame({'feature': train_X.columns, 'importance': importances, 'std': std})\n",
    "df = df.sort_values('importance' )\n",
    "print(df)\n",
    "\n",
    "ax=df.plot(kind='barh', xerr='std', x='feature', legend=False)\n",
    "ax.set_ylabel('')\n",
    "plt.show()\n"
   ]
  },
  {
   "cell_type": "code",
   "execution_count": 27,
   "metadata": {},
   "outputs": [
    {
     "name": "stdout",
     "output_type": "stream",
     "text": [
      "Confusion Matrix (Accuracy 0.9820)\n",
      "\n",
      "       Prediction\n",
      "Actual    0    1\n",
      "     0 1803    4\n",
      "     1   32  161\n",
      "Confusion Matrix (Accuracy 0.9815)\n",
      "\n",
      "       Prediction\n",
      "Actual    0    1\n",
      "     0 1802    5\n",
      "     1   32  161\n"
     ]
    }
   ],
   "source": [
    "# confusion matrix for validation set (RF)\n",
    "classificationSummary(test_y, rf.predict(test_X))\n",
    "classificationSummary(test_y, rf_grid_search.predict(test_X))\n",
    "\n",
    "#---------------\n",
    "# Q5. What is the performance of Random Forest?\n",
    "# Is it better than Decision Tree?\n",
    "# Which variables seem more important?\n",
    "# \n",
    "# Your answer here\n",
    "\n",
    "#기본 decision tree의 test set의 정확도가 0.99로 adapt grid 방법 및 Random forest 방법보다 더 정확도가 뛰어나서 decision tree \n",
    "#방법론이 가장 fit 한 모델로 판단했다.\n",
    "#RF Model의 경우 feature의 중요성의 경우 위의 표와 같이 income이 가장 높았고, \n",
    "#그 다음 Education, 가장 낮은 중요성의 feature는 securities account였다\n",
    "#---------------\n"
   ]
  }
 ],
 "metadata": {
  "kernelspec": {
   "display_name": "Python 3",
   "language": "python",
   "name": "python3"
  },
  "language_info": {
   "codemirror_mode": {
    "name": "ipython",
    "version": 3
   },
   "file_extension": ".py",
   "mimetype": "text/x-python",
   "name": "python",
   "nbconvert_exporter": "python",
   "pygments_lexer": "ipython3",
   "version": "3.8.5"
  }
 },
 "nbformat": 4,
 "nbformat_minor": 2
}
