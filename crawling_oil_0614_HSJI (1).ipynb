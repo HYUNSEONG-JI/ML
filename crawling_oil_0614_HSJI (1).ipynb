{
  "nbformat": 4,
  "nbformat_minor": 0,
  "metadata": {
    "kernelspec": {
      "display_name": "Python 3",
      "language": "python",
      "name": "python3"
    },
    "language_info": {
      "codemirror_mode": {
        "name": "ipython",
        "version": 3
      },
      "file_extension": ".py",
      "mimetype": "text/x-python",
      "name": "python",
      "nbconvert_exporter": "python",
      "pygments_lexer": "ipython3",
      "version": "3.8.5"
    },
    "colab": {
      "name": "crawling_oil_0614_HSJI.ipynb",
      "provenance": [],
      "collapsed_sections": []
    }
  },
  "cells": [
    {
      "cell_type": "markdown",
      "metadata": {
        "id": "ncLeMj0W7hAv"
      },
      "source": [
        "# Web Scrapping? Crawling?\n",
        "\n",
        "\n",
        "- 웹 서버에 저장된 데이터를 가져오는 행위(Web Scrapping 혹은 Crawling 이라고 함.)\n",
        "<br><br>\n",
        "- Web Scrapping과 Crawling은 의미상에 미묘한 차이가 있음. Web Scrapping이 단일 홈페이지에서 정보를 가져오는 행위라고 하면 Crawling은 불특정 다수의 웹페이지에서 필요한 정보를 모두 가져오는 행위를 의미함."
      ]
    },
    {
      "cell_type": "markdown",
      "metadata": {
        "id": "v2OTtvIy7hA0"
      },
      "source": [
        "## 1. How to get Web-Info\n",
        "\n",
        "- python에서 작동시킬 수 있는 크롤링 모듈은 크게 두 가지 형태가 있음.\n",
        "<br><br>\n",
        "- 웹 서버에 정보를 요청(request)하고, 메모리에 다운로드된 HTML, XML 정보로부터 필요한 정보를 추출해내는 방식과 javascript로 작성된 웹 페이지로부터 렌더링이 필요한 정보를 가져오는 방식이 있음.\n",
        "\n",
        "    **(1) BeautilfulSoup**\n",
        "        * 장점 : 쉬움, 심플함, 빠름(멀티프로세스, 멀티 스레드 적용시 해당)\n",
        "        * 단점 : javascript 렌더링이 필요한 사이트의 크롤링이 어려움.\n",
        "        \n",
        "    **(2) Selenium**\n",
        "        * 장점 : 사용자가 보는 웹 페이지의 모든 정보를 가져올 수 있음. javascript 렌더링 기능 지원, 사용방법이 직관적\n",
        "        * 단점 : 느림. 메모리를 많이 차지함."
      ]
    },
    {
      "cell_type": "markdown",
      "metadata": {
        "id": "b21QLwQd7hA1"
      },
      "source": [
        "### (1) Guide for BeautifulSoup\n",
        "\n",
        "1. 가져오고자 정보가 있는 웹 사이트의 URL 정보를 BeautifulSoup에게 넘겨줌.\n",
        "2. 해당 URL로부터 메모리에 다운로드된 HTML 정보를 파싱함.\n",
        "3. 파싱된 HTML 정보에서 필요한 정보가 담겨있는 head, body, title 등(HTML 구성요소)을 넘겨줌.\n",
        "4. 데이터 유형(text, table, style 등)에 따라 가져오는 방식은 각기 다름."
      ]
    },
    {
      "cell_type": "markdown",
      "metadata": {
        "id": "Pf2k488B7hA1"
      },
      "source": [
        "### (2) Library for Crawling\n",
        "\n",
        "------ 필 수 사 항 ------\n",
        "- requests : URL로부터 HTML 정보를 읽어오는데 사용.\n",
        "- BeautifulSoup : HTML 정보를 파싱하는데 사용.\n",
        "\n",
        "------ 선 택 사 항 ------\n",
        "- numpy : 행렬 계산을 위한 모듈\n",
        "- pandas : excel, csv 등 dataframe을 다루는데 사용하는 모듈"
      ]
    },
    {
      "cell_type": "markdown",
      "metadata": {
        "id": "-8lPMPyG7hA1"
      },
      "source": [
        "### (3) Step summary\n",
        "1. URL 패턴파악(여러 페이지로부터 데이터를 가져올 때)\n",
        "2. 각각의 URL이 return 해주는 HTML 정보를 읽어옴\n",
        "3. 읽어온 HTML 정보로부터 필요한 정보를 선택 추출\n",
        "4. 추출한 정보를 DataFrame 형태로 변환\n",
        "5. troubleshouting\n",
        "6. 위의 과정을 반복"
      ]
    },
    {
      "cell_type": "markdown",
      "metadata": {
        "id": "VtXbZc4O7hA2"
      },
      "source": [
        "## 2. Step-by-Step implementation of crawling"
      ]
    },
    {
      "cell_type": "code",
      "metadata": {
        "id": "eOhiBtkR7hA2"
      },
      "source": [
        "from bs4 import BeautifulSoup # html parsing\n",
        "import requests # url -> get html\n",
        "# import time\n",
        "# import datetime\n",
        "# import tqdm\n",
        "# import pandas as pd\n",
        "# import re"
      ],
      "execution_count": null,
      "outputs": []
    },
    {
      "cell_type": "code",
      "metadata": {
        "colab": {
          "base_uri": "https://localhost:8080/"
        },
        "id": "h9aHf12H75i0",
        "outputId": "180ac4f0-3514-4612-cfd7-c495f70ff347"
      },
      "source": [
        "from google.colab import drive\n",
        "drive.mount('/content/drive')"
      ],
      "execution_count": null,
      "outputs": [
        {
          "output_type": "stream",
          "text": [
            "Drive already mounted at /content/drive; to attempt to forcibly remount, call drive.mount(\"/content/drive\", force_remount=True).\n"
          ],
          "name": "stdout"
        }
      ]
    },
    {
      "cell_type": "markdown",
      "metadata": {
        "id": "IW4XfWaB7hA3"
      },
      "source": [
        "### Excercise_1 단일 페이지에서 제목 가져오기"
      ]
    },
    {
      "cell_type": "markdown",
      "metadata": {
        "id": "v2_-2KUk7hA4"
      },
      "source": [
        "### request 실패시 우회 접속 방법 -> headers 명시"
      ]
    },
    {
      "cell_type": "code",
      "metadata": {
        "id": "svuDzk5d7hA4"
      },
      "source": [
        "headers = {'User-Agents':'Mozilla/5.0 (Windows NT 10.0; Win64; x64) AppleWebKit/537.36 (KHTML, like Gecko) Chrome/74.0.3729.169 Safari/537.36'}"
      ],
      "execution_count": null,
      "outputs": []
    },
    {
      "cell_type": "code",
      "metadata": {
        "id": "RcKliXfNzkhl"
      },
      "source": [
        "url=\"https://oilprice.com/search/tab/articles/natural_gas_price\""
      ],
      "execution_count": null,
      "outputs": []
    },
    {
      "cell_type": "code",
      "metadata": {
        "colab": {
          "base_uri": "https://localhost:8080/"
        },
        "id": "1JT0pC1N0WMN",
        "outputId": "04ed299d-59ba-4db1-8949-afac9056e678"
      },
      "source": [
        "req = requests.get(url, headers=headers)\n",
        "req.content"
      ],
      "execution_count": null,
      "outputs": [
        {
          "output_type": "execute_result",
          "data": {
            "text/plain": [
              "b'<!DOCTYPE html>\\n<html lang=\"en\">\\n<head>\\n<meta name=\"viewport\" content=\"width=device-width, initial-scale=1\">\\n\\t<title>&quot;Natural Gas Price&quot; Articles</title>\\n\\t<meta http-equiv=\"Content-Type\" content=\"text/html; charset=utf-8\"/>\\n\\t<meta name=\"description\" content=\"\"/>\\n\\t<meta name=\"msvalidate.01\" content=\"D14A5D573CE72469797ECB50683F1795\"/>\\n\\t<meta name=\"robots\" content=\"noindex,nofollow\"/>\\n\\t\\t\\n\\t\\n\\t<meta name=\"globalsign-domain-verification\" content=\"i17dx3lHCudSTzNis2zK4tdE1MxllC1mnwnJlWeumr\"/>\\n\\t<meta name=\"google-site-verification\" content=\"GF7StMp03Fok8YcW3aFydFYdEc-SGzGZmsm8tg3zAXU\"/>\\n\\t<meta name=\"google-site-verification\" content=\"GmPOc04rwBxPbdPVD-Xv9q4TXrA_Gm2TmGHhT-j5eXM\"/>\\n\\n\\t<meta name=\"twitter:card\" content=\"summary\"/>\\n\\t<meta name=\"twitter:site\" content=\"@oilandenergy\"/>\\n\\t<meta name=\"twitter:title\" content=\"&quot;Natural Gas Price&quot; Articles\"/>\\n\\t<meta name=\"twitter:description\" content=\"\"/>\\n\\t<meta name=\"twitter:url\" content=\"https://oilprice.com/search/tab/articles/natural_gas_price\"/>\\n\\t\\n\\t<meta property=\"og:site_name\" content=\"OilPrice.com\"/>\\n\\n\\t\\t<meta property=\"og:type\" content=\"website\"/>\\n\\t\\t<meta property=\"og:title\" content=\"&quot;Natural Gas Price&quot; Articles\"/>\\n\\t\\t<meta property=\"og:image\" content=\"https://d1o9e4un86hhpc.cloudfront.net/images/facebook-share-logo.png\"/>\\n\\t\\t<meta property=\"og:image:secure_url\" content=\"https://d1o9e4un86hhpc.cloudfront.net/images/facebook-share-logo.png\"/>\\n\\t\\t<meta property=\"og:description\" content=\"\"/>\\n\\t<meta property=\"og:url\" content=\"https://oilprice.com/search/tab/articles/natural_gas_price\"/>\\n\\n\\t\\t\\t<script src=\\'https://tagan.adlightning.com/math-aids/op.js\\'></script>\\n    <script src=\\'https://qd.admetricspro.com/js/oilprice/home-layout.js\\'></script>\\n<script src=\\'//www.googletagservices.com/tag/js/gpt.js\\'></script>\\n<script src=\\'https://qd.admetricspro.com/js/oilprice/cmp.js\\'></script>\\n<script src=\\'https://qd.admetricspro.com/js/oilprice/prebid.js\\'></script>\\n<script src=\\'https://qd.admetricspro.com/js/oilprice/engine.js\\'></script>\\n<!-- AdMetricsPro Video Head Code for OilPrice -->\\n<script>!function(n){if(!window.cnx){window.cnx={},window.cnx.cmd=[];var t=n.createElement(\\'iframe\\');t.display=\\'none\\',t.onload=function(){var n=t.contentWindow.document,c=n.createElement(\\'script\\');c.src=\\'//cd.connatix.com/connatix.player.js\\',c.setAttribute(\\'async\\',\\'1\\'),c.setAttribute(\\'type\\',\\'text/javascript\\'),n.body.appendChild(c)},n.head.appendChild(t)}}(document);</script>\\n<!-- AdMetricsPro Video Head Code for OilPrice -->\\t\\n\\t\\n    <!-- Google Tag Manager -->\\n<script>(function(w,d,s,l,i){w[l]=w[l]||[];w[l].push({\\'gtm.start\\':new Date().getTime(),event:\\'gtm.js\\'});var f=d.getElementsByTagName(s)[0],j=d.createElement(s),dl=l!=\\'dataLayer\\'?\\'&l=\\'+l:\\'\\';j.async=true;j.src=\\'https://www.googletagmanager.com/gtm.js?id=\\'+i+dl;f.parentNode.insertBefore(j,f);})(window,document,\\'script\\',\\'dataLayer\\',\\'GTM-TKBMHMJ\\');</script>\\n<!-- End Google Tag Manager -->\\n\\n\\t\\t\\n\\t\\n\\t\\n\\t\\n\\t\\n\\t<link rel=\"shortcut icon\" type=\"image/x-icon\" href=\"https://d1o9e4un86hhpc.cloudfront.net/images/common/favicon.ico\"/>\\n\\t\\t\\n\\t<script>var head=document.getElementsByTagName(\\'head\\');var element=document.createElement(\\'link\\');element.rel=\\'stylesheet\\';element.type=\\'text/css\\';element.href=\\'https://fonts.googleapis.com/css?family=Roboto:300,400,500,700,400italic&display=swap\\';element.media=\\'non-existant-media\\';head[0].appendChild(element,head.firstChild);setTimeout(function(){element.media=\\'all\\';});</script>\\n\\n\\t<link href=\"https://d1o9e4un86hhpc.cloudfront.net/min/f=a/css/style.css,a/css/mobile_popups/style.css,a/css/search/style.css?v=1623252009\" id=\"main-stylesheet\" rel=\"stylesheet\" type=\"text/css\"/>\\t\\n\\t<link rel=\"canonical\" href=\"https://oilprice.com/search/tab/articles/natural_gas_price\"/>\\n\\t\\t\\t<script type=\"text/javascript\">(function(p,u,s,h){p._pcq=p._pcq||[];p._pcq.push([\\'_currentTime\\',Date.now()]);_pcq.push([\\'APIReady\\',callbackFunction]);function callbackFunction(){console.log(pushcrew.subscriberId);if(pushcrew.subscriberId!=false&&pushcrew.subscriberId!=-1){if($(\\'body\\').hasClass(\\'loggedin\\')){var request=$.ajax({url:\"/ajax/add_pushcrew\",method:\"POST\",data:{pushcrew:pushcrew.subscriberId}});request.done(function(msg){});request.fail(function(jqXHR,textStatus){console.log(\"Request failed: \"+textStatus);});}}}s=u.createElement(\\'script\\');s.type=\\'text/javascript\\';s.async=true;s.src=\\'https://cdn.pushcrew.com/js/d73f213cd09905b25c9f6f6f12508f7c.js\\';h=u.getElementsByTagName(\\'script\\')[0];h.parentNode.insertBefore(s,h);})(window,document);</script>\\n\\t\\t\\n\\t<script type=\"text/javascript\"></script>\\n\\t<style type=\"text/css\">.video-ad-hide{display:none!important}.video-ad-show{display:block!important}</style>\\n\\n\\t<!-- Start SmartBanner -->\\n\\t<!--link rel=\"stylesheet\" href=\"a/css/third_party/smartbanner.min.css\" type=\"text/css\" />\\n\\t<script src=\"a/js/third_party/smartbanner.min.js\"></script>\\n\\t<meta name=\"smartbanner:title\" content=\"Oilprice\">\\n\\t<meta name=\"smartbanner:author\" content=\"Energy News\">\\n\\t<meta name=\"smartbanner:price\" content=\"FREE\">\\n\\t<meta name=\"smartbanner:price-suffix-apple\" content=\" - On the App Store\">\\n\\t<meta name=\"smartbanner:price-suffix-google\" content=\" - In Google Play\">\\n\\t<meta name=\"smartbanner:icon-apple\" content=\"https://is4-ssl.mzstatic.com/image/thumb/Purple118/v4/48/e3/48/48e34816-fabf-149d-4d3d-13d7629580eb/AppIcon-1x_U007emarketing-0-0-GLES2_U002c0-512MB-sRGB-0-0-0-85-220-0-0-0-6.png/246x0w.jpg\">\\n\\t<meta name=\"smartbanner:icon-google\" content=\"https://lh3.googleusercontent.com/jSvFs4rb41j5extKZYrQDg8VEgwqLIoNedSfPSwQZgpWbhoTbw00FWj8vjZ5_qX_IMwb=s180-rw\">\\n\\t<meta name=\"smartbanner:button\" content=\"INSTALL\">\\n\\t<meta name=\"smartbanner:button-url-apple\" content=\"https://itunes.apple.com/in/app/oilprice/id1389772617?mt=8\">\\n\\t<meta name=\"smartbanner:button-url-google\" content=\"https://play.google.com/store/apps/details?id=oilprice.android.app\">\\n\\t<meta name=\"smartbanner:enabled-platforms\" content=\"android,ios\">\\n\\t<meta name=\"smartbanner:disable-positioning\" content=\"true\"-->\\n\\t<style type=\"text/css\">\\n\\t\\t.smartbanner--ios, .smartbanner--android{\\n\\t\\t\\tdisplay: none;\\n\\t\\t\\tposition: fixed;\\n\\t\\t\\tbottom: 0;\\n\\t\\t\\tleft: 0;\\n\\t\\t\\ttop: auto;\\n\\t\\t\\tz-index: 9998;\\n\\t\\t\\t/* animation: 2s fadeIn;\\n\\t\\t\\t-webkit-backface-visibility: hidden;\\n\\t\\t\\tvisibility: hidden;\\n\\t\\t\\tanimation-delay: 10s;\\n  \\t\\tanimation-fill-mode: forwards; */\\n\\t\\t}\\n\\n\\t\\t/* @keyframes fadeIn {\\n\\n\\t\\t\\t0% {\\n\\t\\t\\topacity: 0;\\n\\t\\t\\t}\\n\\n\\t\\t\\t100% {\\n\\t\\t\\t\\tvisibility: visible;\\n\\t\\t\\t\\topacity: 1;\\n\\t\\t\\t}\\n\\n\\t\\t} */;\\n\\t\\t\\t/* animation: 2s fadeIn;\\n\\t\\t\\t-webkit-backface-visibility: hidden;\\n\\t\\t\\tvisibility: hidden;\\n\\t\\t\\tanimation-delay: 10s;\\n  \\t\\tanimation-fill-mode: forwards; */\\n\\t\\t}\\n\\n\\t\\t/* @keyframes fadeIn {\\n\\n\\t\\t\\t0% {\\n\\t\\t\\topacity: 0;\\n\\t\\t\\t}\\n\\n\\t\\t\\t100% {\\n\\t\\t\\t\\tvisibility: visible;\\n\\t\\t\\t\\topacity: 1;\\n\\t\\t\\t}\\n\\n\\t\\t} */\\n\\n\\t</style>\\n\\t<!-- End SmartBanner configuration -->\\n\\n\\t<!-- preconnect -->\\n\\t<link rel=\"preconnect\" href=\"https://fonts.googleapis.com\">\\n\\t<link rel=\"preconnect\" href=\"https://d1o9e4un86hhpc.cloudfront.net\">\\n\\t\\n\\n\\t\\t<style id=\"antiClickjack\">body{display:none!important}</style>\\n\\t<script type=\"text/javascript\">if(self===top){var antiClickjack=document.getElementById(\"antiClickjack\");antiClickjack.parentNode.removeChild(antiClickjack);}else{top.location=self.location;}</script>\\n\\n\\t\\n\\t</head>\\n\\n<body id=\"pagetop\" class=\"search loggedout show_mobile_header_ad\">\\n\\n<!-- Google Tag Manager (noscript) -->\\n<noscript><iframe src=\"https://www.googletagmanager.com/ns.html?id=GTM-TKBMHMJ\" height=\"0\" width=\"0\" style=\"display:none;visibility:hidden\"></iframe></noscript>\\n<!-- End Google Tag Manager (noscript) -->\\n\\n\\n\\n\\n\\t\\t\\t<div id=\"mobile-footer-popup-container\"></div>\\n\\t\\t\\n<form id=\"form-search\" method=\"post\" action=\"https://oilprice.com/search/index\">\\n\\t<div id=\"search-close\" class=\"open\">\\n\\t\\t<span></span>\\n\\t\\t<span></span>\\n\\t\\t<span></span>\\n\\t\\t<span></span>\\n\\t</div>\\n\\t<fieldset>\\n\\t\\t<label for=\"keyword\">Type your search and press <b>Enter</b></label>\\n\\t\\t<input type=\"text\" id=\"keyword\" name=\"keyword\" value=\"\" placeholder=\"Search...\">\\n\\t</fieldset>\\n</form>\\n\\n<div class=\"siteWrapper\">\\n\\t<div class=\"header\">\\n\\t\\t<div class=\"siteContainer\">\\n\\t\\t\\t\\t\\t\\t\\t<div class=\"banner--header_mobile\">\\n\\t\\t\\t\\t\\t<style>div#div-gpt-ad-1584055153783-0{width:320px;height:50px;text-align:center;margin:0 auto;position:fixed;top:0;left:0;z-index:2000000;right:0}</style>\\n<!-- /192633929/OilPrice-320x50-ATF -->\\n<div id=\\'div-gpt-ad-1584055153783-0\\'>\\n  <script>googletag.cmd.push(function(){googletag.display(\\'div-gpt-ad-1584055153783-0\\');});</script>\\n</div>\\t\\t\\t\\t</div>\\n\\t\\t\\t \\n\\t\\t\\t<a class=\"siteLogo\" href=\"https://oilprice.com/\">\\n\\t\\t\\t<picture>\\n    \\t\\t\\t<source media=\"(min-width:1224px)\" srcset=\"https://d1o9e4un86hhpc.cloudfront.net/a/img/oilprice-logo.webp\" type=\"image/webp\">\\n    \\t\\t\\t<source media=\"(max-width:1224px)\" srcset=\"https://d1o9e4un86hhpc.cloudfront.net/a/img/common/header/mobile_logo.webp\" type=\"image/webp\">\\n\\t\\t\\t\\t<img class=\"desktop_logo\" src=\"https://d1o9e4un86hhpc.cloudfront.net/a/img/oilprice-logo.png?v=3\" alt=\"Crude oil prices today - Oilprice.com\" title=\"Oil prices - Oilprice.com\">\\n\\t\\t\\t\\t<img class=\"mobile_logo\" src=\"https://d1o9e4un86hhpc.cloudfront.net/a/img/common/header/mobile_logo.png?v=3\" alt=\"Crude oil prices today - Oilprice.com\" title=\"Oil prices - Oilprice.com\">\\n\\t\\t\\t</picture>\\n\\t\\t\\t</a>\\n\\t\\t\\t<div class=\"banner--header\">\\n\\t\\t\\t\\t<!-- /192633929/OilPrice-728x90-ATF -->\\n<div id=\\'div-gpt-ad-1553138910110-0\\' style=\\'height:90px; width:728px;\\'>\\n  <script>googletag.cmd.push(function(){googletag.display(\\'div-gpt-ad-1553138910110-0\\');});</script>\\n</div>\\n<!-- END: /192633929/OilPrice-728x90-ATF -->\\t\\t\\t</div>\\n\\t\\t\\t<!-- /.header__banner -->\\n\\t\\t</div>\\n\\t\\t<!-- /.siteContainer -->\\n\\t</div>\\n\\t<!-- /.header -->\\n\\n\\t<div class=\"primaryNavigation\">\\n\\t\\t<div id=\"primaryNavigationButtonContainer\" class=\"primaryNavigation__buttonContainer\"><a href=\"#\" id=\"primaryNavigationButton\" class=\"primaryNavigation__button\"></a></div>\\n\\t\\t<div class=\"siteContainer siteContainer--relativePosition menu_holder_site\">\\n\\t\\t\\t\\t<ul id=\"primaryNavigation\" class=\"primaryNavigation__menu\">\\n\\t\\t\\t\\t<li class=\"primaryNavigation__menuItem\"><a href=\"https://oilprice.com/\" class=\"primaryNavigation__link primaryNavigation__link--first\">Home</a></li>\\n\\t\\t\\t<li class=\"primaryNavigation__menuItem\"><a href=\"https://oilprice.com/oil-price-charts/\" class=\"primaryNavigation__link primaryNavigation__link\">Oil Prices</a></li>\\n\\t\\t\\t<li class=\"primaryNavigation__menuItem\"><a href=\"https://oilprice.com/rig-count\" class=\"primaryNavigation__link primaryNavigation__link\">Rig Count</a></li>\\n\\t\\t\\t<li class=\"primaryNavigation__menuItem\"><a href=\"https://oilprice.com/Energy/\" class=\"primaryNavigation__link\">Energy <i class=\"fa fa-chevron-down\" aria-hidden=\"true\"></i></a>\\n\\t\\t\\t\\t<div class=\"primaryNavigation__megaMenuContainer\">\\n\\t\\t\\t\\t\\t<ul class=\"primaryNavigation__megaMenu\">\\n\\t\\t\\t\\t\\t\\t\\t\\t\\t\\t\\t\\t\\t\\t<li class=\"primaryNavigation__subMenuItem  first\"><a class=\"primaryNavigation__subMenuLink\" href=\"https://oilprice.com/Energy/Energy-General/\">Energy-General</a></li>\\n\\t\\t\\t\\t\\t\\t\\t\\t\\t\\t\\t\\t\\t\\t\\t\\t<li class=\"primaryNavigation__subMenuItem \"><a class=\"primaryNavigation__subMenuLink\" href=\"https://oilprice.com/Energy/Oil-Prices/\">Oil Prices</a></li>\\n\\t\\t\\t\\t\\t\\t\\t\\t\\t\\t\\t\\t\\t\\t\\t\\t<li class=\"primaryNavigation__subMenuItem \"><a class=\"primaryNavigation__subMenuLink\" href=\"https://oilprice.com/Energy/Crude-Oil/\">Crude Oil</a></li>\\n\\t\\t\\t\\t\\t\\t\\t\\t\\t\\t\\t\\t\\t\\t\\t\\t<li class=\"primaryNavigation__subMenuItem \"><a class=\"primaryNavigation__subMenuLink\" href=\"https://oilprice.com/Energy/Heating-Oil/\">Heating Oil</a></li>\\n\\t\\t\\t\\t\\t\\t\\t\\t\\t\\t\\t\\t\\t\\t\\t\\t<li class=\"primaryNavigation__subMenuItem \"><a class=\"primaryNavigation__subMenuLink\" href=\"https://oilprice.com/Energy/Gas-Prices/\">Gas Prices</a></li>\\n\\t\\t\\t\\t\\t\\t\\t\\t\\t\\t\\t\\t\\t\\t\\t\\t<li class=\"primaryNavigation__subMenuItem \"><a class=\"primaryNavigation__subMenuLink\" href=\"https://oilprice.com/Energy/Natural-Gas/\">Natural Gas</a></li>\\n\\t\\t\\t\\t\\t\\t\\t\\t\\t\\t\\t\\t\\t\\t\\t\\t<li class=\"primaryNavigation__subMenuItem \"><a class=\"primaryNavigation__subMenuLink\" href=\"https://oilprice.com/Energy/Coal/\">Coal</a></li>\\n\\t\\t\\t\\t\\t\\t\\t\\t\\t\\t\\t\\t\\t</ul>\\n\\t\\t\\t\\t\\t<ul class=\"primaryNavigation__megaMenu\">\\n\\t\\t\\t\\t\\t\\t<li class=\"primaryNavigation__subMenuItem\"><a href=\"https://oilprice.com/oilcompanynews\" class=\"primaryNavigation__subMenuLink primaryNavigation__subMenuLinkCategory\">Company News</a></li>\\n\\t\\t\\t\\t\\t\\t<li class=\"primaryNavigation__subMenuItem\"><a href=\"https://oilprice.com/Interviews\" class=\"primaryNavigation__subMenuLink primaryNavigation__subMenuLinkCategory\">Interviews</a></li>\\n\\t\\t\\t\\t\\t</ul>\\n\\t\\t\\t\\t</div>\\n\\t\\t\\t</li>\\n\\t\\t\\t<li class=\"primaryNavigation__menuItem\"><a href=\"https://oilprice.com/Alternative-Energy/\" class=\"primaryNavigation__link\">Alternative Energy <i class=\"fa fa-chevron-down\" aria-hidden=\"true\"></i></a>\\n\\t\\t\\t\\t<div class=\"primaryNavigation__megaMenuContainer\">\\n\\t\\t\\t\\t\\t<ul class=\"primaryNavigation__megaMenu\">\\n\\t\\t\\t\\t\\t\\t\\t\\t\\t\\t\\t\\t\\t\\t<li class=\"primaryNavigation__subMenuItem  first\"><a class=\"primaryNavigation__subMenuLink\" href=\"https://oilprice.com/Alternative-Energy/Nuclear-Power/\">Nuclear Power</a></li>\\n\\t\\t\\t\\t\\t\\t\\t\\t\\t\\t\\t\\t\\t\\t\\t\\t<li class=\"primaryNavigation__subMenuItem \"><a class=\"primaryNavigation__subMenuLink\" href=\"https://oilprice.com/Alternative-Energy/Solar-Energy/\">Solar Energy</a></li>\\n\\t\\t\\t\\t\\t\\t\\t\\t\\t\\t\\t\\t\\t\\t\\t\\t<li class=\"primaryNavigation__subMenuItem \"><a class=\"primaryNavigation__subMenuLink\" href=\"https://oilprice.com/Alternative-Energy/Hydroelectric/\">Hydroelectric</a></li>\\n\\t\\t\\t\\t\\t\\t\\t\\t\\t\\t\\t\\t\\t\\t\\t\\t<li class=\"primaryNavigation__subMenuItem \"><a class=\"primaryNavigation__subMenuLink\" href=\"https://oilprice.com/Alternative-Energy/Renewable-Energy/\">Renewable Energy</a></li>\\n\\t\\t\\t\\t\\t\\t\\t\\t\\t\\t\\t\\t\\t\\t\\t\\t<li class=\"primaryNavigation__subMenuItem \"><a class=\"primaryNavigation__subMenuLink\" href=\"https://oilprice.com/Alternative-Energy/Geothermal-Energy/\">Geothermal Energy</a></li>\\n\\t\\t\\t\\t\\t\\t\\t\\t\\t\\t\\t\\t\\t\\t\\t\\t<li class=\"primaryNavigation__subMenuItem \"><a class=\"primaryNavigation__subMenuLink\" href=\"https://oilprice.com/Alternative-Energy/Wind-Power/\">Wind Power</a></li>\\n\\t\\t\\t\\t\\t\\t\\t\\t\\t\\t\\t\\t\\t\\t\\t\\t<li class=\"primaryNavigation__subMenuItem \"><a class=\"primaryNavigation__subMenuLink\" href=\"https://oilprice.com/Alternative-Energy/Fuel-Cells/\">Fuel Cells</a></li>\\n\\t\\t\\t\\t\\t\\t\\t\\t\\t\\t\\t\\t\\t\\t\\t\\t<li class=\"primaryNavigation__subMenuItem \"><a class=\"primaryNavigation__subMenuLink\" href=\"https://oilprice.com/Alternative-Energy/Tidal-Energy/\">Tidal Energy</a></li>\\n\\t\\t\\t\\t\\t\\t\\t\\t\\t\\t\\t\\t\\t\\t\\t\\t<li class=\"primaryNavigation__subMenuItem \"><a class=\"primaryNavigation__subMenuLink\" href=\"https://oilprice.com/Alternative-Energy/Biofuels/\">Biofuels</a></li>\\n\\t\\t\\t\\t\\t\\t\\t\\t\\t\\t\\t\\t\\t</ul>\\n\\t\\t\\t\\t\\t<ul class=\"primaryNavigation__megaMenu\">\\n\\t\\t\\t\\t\\t\\t<li class=\"primaryNavigation__subMenuItem\"><a href=\"https://oilprice.com/The-Environment/\" class=\"primaryNavigation__subMenuLink primaryNavigation__subMenuLinkCategory\">Environment</a>\\n\\t\\t\\t\\t\\t\\t\\t\\t\\t\\t\\t\\t\\t\\t<li class=\"primaryNavigation__subMenuItem  first\"><a class=\"primaryNavigation__subMenuLink\" href=\"https://oilprice.com/The-Environment/Global-Warming/\">Global Warming</a></li>\\n\\t\\t\\t\\t\\t\\t\\t\\t\\t\\t\\t\\t\\t\\t\\t\\t<li class=\"primaryNavigation__subMenuItem \"><a class=\"primaryNavigation__subMenuLink\" href=\"https://oilprice.com/The-Environment/Oil-Spills/\">Oil Spills</a></li>\\n\\t\\t\\t\\t\\t\\t\\t\\t\\t\\t\\t\\t\\t</ul>\\n\\t\\t\\t\\t</div>\\n\\t\\t\\t</li>\\n<!--\\t\\t\\t<li class=\"primaryNavigation__menuItem\"><a href=\"--><!--The-Environment/\" class=\"primaryNavigation__link\">Environment</a>-->\\n<!--\\t\\t\\t\\t<ul class=\"primaryNavigation__subMenu\">-->\\n<!--\\t\\t\\t\\t\\t-->\\n<!--\\t\\t\\t\\t</ul>-->\\n<!--\\t\\t\\t</li>-->\\n\\t\\t\\t<li class=\"primaryNavigation__menuItem\"><a href=\"https://oilprice.com/Geopolitics/\" class=\"primaryNavigation__link\">Geopolitics <i class=\"fa fa-chevron-down\" aria-hidden=\"true\"></i></a>\\n\\t\\t\\t\\t<ul class=\"primaryNavigation__subMenu\">\\n\\t\\t\\t\\t\\t\\t\\t\\t\\t\\t\\t<li class=\"primaryNavigation__subMenuItem  first\"><a class=\"primaryNavigation__subMenuLink\" href=\"https://oilprice.com/Geopolitics/Africa/\">Africa</a></li>\\n\\t\\t\\t\\t\\t\\t\\t\\t\\t\\t\\t\\t<li class=\"primaryNavigation__subMenuItem \"><a class=\"primaryNavigation__subMenuLink\" href=\"https://oilprice.com/Geopolitics/Asia/\">Asia</a></li>\\n\\t\\t\\t\\t\\t\\t\\t\\t\\t\\t\\t\\t<li class=\"primaryNavigation__subMenuItem \"><a class=\"primaryNavigation__subMenuLink\" href=\"https://oilprice.com/Geopolitics/Europe/\">Europe</a></li>\\n\\t\\t\\t\\t\\t\\t\\t\\t\\t\\t\\t\\t<li class=\"primaryNavigation__subMenuItem \"><a class=\"primaryNavigation__subMenuLink\" href=\"https://oilprice.com/Geopolitics/Indonesia/\">Indonesia</a></li>\\n\\t\\t\\t\\t\\t\\t\\t\\t\\t\\t\\t\\t<li class=\"primaryNavigation__subMenuItem \"><a class=\"primaryNavigation__subMenuLink\" href=\"https://oilprice.com/Geopolitics/International/\">International</a></li>\\n\\t\\t\\t\\t\\t\\t\\t\\t\\t\\t\\t\\t<li class=\"primaryNavigation__subMenuItem \"><a class=\"primaryNavigation__subMenuLink\" href=\"https://oilprice.com/Geopolitics/Middle-East/\">Middle East</a></li>\\n\\t\\t\\t\\t\\t\\t\\t\\t\\t\\t\\t\\t<li class=\"primaryNavigation__subMenuItem \"><a class=\"primaryNavigation__subMenuLink\" href=\"https://oilprice.com/Geopolitics/North-America/\">North America</a></li>\\n\\t\\t\\t\\t\\t\\t\\t\\t\\t\\t\\t\\t<li class=\"primaryNavigation__subMenuItem \"><a class=\"primaryNavigation__subMenuLink\" href=\"https://oilprice.com/Geopolitics/South-America/\">South America</a></li>\\n\\t\\t\\t\\t\\t\\t\\t\\t\\t\\t</ul>\\n\\t\\t\\t</li>\\n\\t\\t\\t\\n\\t\\t\\t\\t\\t\\t\\n\\t\\t\\t<li class=\"primaryNavigation__menuItem primaryNavigation__menuItem--red\"><a href=\"https://www.youtube.com/channel/UCnH6QL7JCDRp9HBXtm4mqxg\" class=\"primaryNavigation__link\" target=\"_blank\" rel=\"nofollow\">Video</a></li>\\n\\t\\t\\t<li class=\"primaryNavigation__menuItem\"><a href=\"https://oilprice.com/Latest-Energy-News/World-News/\" class=\"primaryNavigation__link\">Breaking News</a></li>\\n\\t\\t\\t<li class=\"primaryNavigation__menuItem\"><a href=\"https://oilprice.com/gea-articles/\" class=\"primaryNavigation__link premium\">Premium Articles</a></li>\\n\\t\\t\\t<li class=\"primaryNavigation__menuItem\"><a href=\"https://community.oilprice.com/\" target=\"_blank\" class=\"primaryNavigation__link\">Community</a></li>\\n\\t\\t\\t<li class=\"primaryNavigation__menuItem primaryNavigation__menuItem--mobile-menu-only primaryNavigation__menuItem--green primaryNavigation__menuItem--trade_energy_now_mobile\"><a href=\"https://opcmarkets.com/account-creation/register.php?intent_group=tradenow=https://opcmarkets.com/account-creation/register.php?utm_source=oil%20price&utm_medium=button&utm_campaign=menu&utm_content=register&pid=oilpricepop\" target=\"_blank\" class=\"primaryNavigation__link\">Trade Now</a></li>\\n\\t\\t\\t\\t<li class=\"primaryNavigation__menuItem\"><a href=\"https://oilprice.com/account/index\" class=\"primaryNavigation__link primaryNavigation__link primaryNavigation__link--alt\" rel=\"nofollow\">My Account</a></li>\\n\\t\\t\\t</ul>\\n\\t\\t\\t\\t<a href=\"#\" style=\"right: 160px;\" class=\"primaryNavigation__icon-search\"><i class=\"fa fa-search\"></i></a>\\n\\t\\t\\t<a href=\"#\" id=\"primaryNavigationCommunityButton\" class=\"primaryNavigation__icon-community\"></a>\\n\\n\\t\\t\\t<ul id=\"primaryNavigationCommunity\" class=\"primaryNavigation__menu\">\\n\\t\\t\\t\\t<li class=\"primaryNavigation__menuItem\"><a class=\"primaryNavigation__link\" href=\"https://community.oilprice.com/discover/\" target=\"_blank\">Latest Discussions</a></li>\\n\\t\\t\\t\\t<li class=\"primaryNavigation__menuItem\"><a class=\"primaryNavigation__link\" href=\"https://community.oilprice.com/forum/63-energy-general/\" target=\"_blank\">Energy General</a></li>\\n\\t\\t\\t\\t<li class=\"primaryNavigation__menuItem\"><a class=\"primaryNavigation__link\" href=\"https://community.oilprice.com/forum/70-oil-stocks-prices/\" target=\"_blank\">Oil Stocks &amp; Prices</a></li>\\n\\t\\t\\t\\t<li class=\"primaryNavigation__menuItem\"><a class=\"primaryNavigation__link\" href=\"https://community.oilprice.com/forum/76-other-energy-topics/\" target=\"_blank\">Other Energy Topics</a></li>\\n\\t\\t\\t</ul>\\n\\n\\t\\t\\t<a href=\"https://opcmarkets.com/account-creation/register.php?intent_group=tradenow=https://opcmarkets.com/account-creation/register.php?utm_source=oil%20price&utm_medium=button&utm_campaign=menu&utm_content=register&pid=oilpricepop\" class=\"primaryNavigation__link primaryNavigation__trade_energy_now_button show_trade_energy\" target=\"_blank\" id=\"trade_energy_now\" onClick=\"ga(\\'send\\', \\'event\\', \\'Nav Button Click Secrets Successful\\', \\'click\\', \\'Button 1\\', \\'1\\');\">\\n\\t\\t\\t\\tTrade Now\\n\\t\\t\\t</a>\\n\\t\\t\\t<a href=\"/global-energy-alert\" class=\"primaryNavigation__link primaryNavigation__trade_energy_now_button\" id=\"get_exclusive_intel\" onClick=\"ga(\\'send\\', \\'event\\', \\'Nav Button Click Secrets Successful\\', \\'click\\', \\'Button 1\\', \\'1\\');\">\\n\\t\\t\\t\\tGet Exclusive Intel\\n\\t\\t\\t</a>\\n\\t\\t\\t\\t\\t</div>\\n\\t\\t<!-- /.siteContainer -->\\n\\t</div>\\n\\t<!-- /.primaryNavigation -->\\n\\n\\t<div class=\"header_charts buttons_height\">\\n\\t<div class=\"siteContainer\">\\n\\t\\t<div class=\"left_block show_buy_sell\">\\n\\t\\t\\t<div class=\"section_bar\">\\n\\t\\t\\t\\t<ul>\\n\\t\\t\\t\\t\\t<li class=\"active\"><a href=\"https://oilprice.com/oil-price-charts/block/1\" class=\"blends_tab\" data-tab=\"1\" data-header_block=\"1\">All Prices</a></li>\\n\\t\\t\\t\\t\\t<li class=\"\"><a href=\"https://oilprice.com/oil-price-charts/block/50\" class=\"blends_tab\" data-tab=\"2\" data-header_block=\"50\">OPEC Blends</a></li>\\n\\t\\t\\t\\t\\t<li class=\"\"><a href=\"https://oilprice.com/oil-price-charts/block/49\" class=\"blends_tab\" data-tab=\"3\" data-header_block=\"49\">Canadian Blends</a></li>\\n\\t\\t\\t\\t\\t<li class=\"\"><a href=\"https://oilprice.com/oil-price-charts/block/8\" class=\"blends_tab\" data-tab=\"4\" data-header_block=\"8\">U.S. Blends</a></li>\\n\\t\\t\\t\\t</ul>\\n\\t\\t\\t</div>\\n\\n\\t\\t\\t\\t\\t\\t\\t<div class=\"blends_block active\" data-id=\"1\">\\n\\t\\t\\t\\t\\t<div class=\"left_column\">\\n\\t\\t\\t\\t\\t\\t<table>\\n\\t\\t\\t\\t\\t\\t\\t\\t\\t\\t\\t\\t\\t\\t\\t<tr class=\"change_up link_oilprice_row\" data-id=\"45\" data-periods=\"2,3,4,5,7\" data-spread=\"Crude Oil WTI\">\\n\\t\\t\\t\\t\\t\\t\\t\\t\\t<td class=\"mobile_graph\"><img class=\"graph_up lozad opacity_0\" alt=\"Graph up\" data-src=\"https://d1o9e4un86hhpc.cloudfront.net/a/img/common/header/chart_green.svg?v=3\"></td>\\n\\t\\t\\t\\t\\t\\t\\t\\t\\t<td class=\"blend_name\">WTI Crude <span class=\"dot\">\\xe2\\x80\\xa2</span><span class=\"last_updated\">10 mins</span> \\n\\t\\t\\t\\t\\t\\t\\t\\t\\t</td>\\n\\t\\t\\t\\t\\t\\t\\t\\t\\t\\t\\t\\t\\t\\t\\t\\t\\t\\t<td class=\"buy_sell\"><a class=\"sell\" href=\"https://content.opcmarkets.com/promo/launch/index5.html?intent_group=wtitrader=https://content.opcmarkets.com/promo/launch/index5.html?utm_source=oil%20price&utm_medium=buysell&utm_campaign=buysell&utm_content=short%20a&pid=oilprice.com\" target=\"_blank\">Sell</a><a href=\"https://content.opcmarkets.com/promo/launch/index5.html?intent_group=wtitrader=https://content.opcmarkets.com/promo/launch/index5.html?utm_source=oil%20price&utm_medium=buysell&utm_campaign=buysell&utm_content=short%20a&pid=oilprice.com\" class=\"buy\" target=\"_blank\">Buy</a></td>\\n\\t\\t\\t\\t\\t\\t\\t\\t\\t\\t\\n\\t\\t\\t\\t\\t\\t\\t\\t\\t<td class=\"value\">71.19 <i class=\"fa fa-caret-up\" aria-hidden=\"true\"></i></td>\\n\\t\\t\\t\\t\\t\\t\\t\\t\\t<td class=\"change_amount\">+0.31</td>\\n\\t\\t\\t\\t\\t\\t\\t\\t\\t<td class=\"change_percent\">+0.44%</td>\\n\\t\\t\\t\\t\\t\\t\\t\\t</tr>\\n\\t\\t\\t\\t\\t\\t\\t\\t\\t\\t\\t\\t\\t\\t\\t\\t\\t\\t\\t\\t\\t\\t\\t<tr class=\"change_up link_oilprice_row\" data-id=\"46\" data-periods=\"\" data-spread=\"Crude Oil Brent\">\\n\\t\\t\\t\\t\\t\\t\\t\\t\\t<td class=\"mobile_graph\"><img class=\"graph_up lozad opacity_0\" alt=\"Graph up\" data-src=\"https://d1o9e4un86hhpc.cloudfront.net/a/img/common/header/chart_green.svg?v=3\"></td>\\n\\t\\t\\t\\t\\t\\t\\t\\t\\t<td class=\"blend_name\">Brent Crude <span class=\"dot\">\\xe2\\x80\\xa2</span><span class=\"last_updated\">10 mins</span> \\n\\t\\t\\t\\t\\t\\t\\t\\t\\t</td>\\n\\t\\t\\t\\t\\t\\t\\t\\t\\t\\t\\t\\t\\t\\t\\t\\t\\t\\t<td class=\"buy_sell\"><a class=\"sell\" href=\"https://uk.opcmarkets.com/en/trading/commodities/ukoil/?intent_group=brentoiltrader=https://uk.opcmarkets.com/en/trading/commodities/ukoil/?utm_source=oil%20price&utm_medium=buysell&utm_campaign=buysell&utm_content=brent%20instrument&pid=oilprice.com\" target=\"_blank\">Sell</a><a href=\"https://uk.opcmarkets.com/en/trading/commodities/ukoil/?intent_group=brentoiltrader=https://uk.opcmarkets.com/en/trading/commodities/ukoil/?utm_source=oil%20price&utm_medium=buysell&utm_campaign=buysell&utm_content=brent%20instrument&pid=oilprice.com\" class=\"buy\" target=\"_blank\">Buy</a></td>\\n\\t\\t\\t\\t\\t\\t\\t\\t\\t\\t\\n\\t\\t\\t\\t\\t\\t\\t\\t\\t<td class=\"value\">73.23 <i class=\"fa fa-caret-up\" aria-hidden=\"true\"></i></td>\\n\\t\\t\\t\\t\\t\\t\\t\\t\\t<td class=\"change_amount\">+0.37</td>\\n\\t\\t\\t\\t\\t\\t\\t\\t\\t<td class=\"change_percent\">+0.51%</td>\\n\\t\\t\\t\\t\\t\\t\\t\\t</tr>\\n\\t\\t\\t\\t\\t\\t\\t\\t\\t\\t\\t\\t\\t\\t\\t\\t\\t\\t\\t\\t\\t\\t\\t<tr class=\"change_up link_oilprice_row\" data-id=\"51\" data-periods=\"\" data-spread=\"Natural Gas\">\\n\\t\\t\\t\\t\\t\\t\\t\\t\\t<td class=\"mobile_graph\"><img class=\"graph_up lozad opacity_0\" alt=\"Graph up\" data-src=\"https://d1o9e4un86hhpc.cloudfront.net/a/img/common/header/chart_green.svg?v=3\"></td>\\n\\t\\t\\t\\t\\t\\t\\t\\t\\t<td class=\"blend_name\">Natural Gas <span class=\"dot\">\\xe2\\x80\\xa2</span><span class=\"last_updated\">10 mins</span> \\n\\t\\t\\t\\t\\t\\t\\t\\t\\t</td>\\n\\t\\t\\t\\t\\t\\t\\t\\t\\t\\t\\t\\t\\t\\t\\t\\t\\t\\t<td class=\"buy_sell\"><a class=\"sell\" href=\"https://content.opcmarkets.com/promo/launch/index5.html?intent_group=wtitrader=https://content.opcmarkets.com/promo/launch/index5.html?utm_source=oil%20price&utm_medium=buysell&utm_campaign=buysell&utm_content=short%20a&pid=oilprice.com\" target=\"_blank\">Sell</a><a href=\"https://content.opcmarkets.com/promo/launch/index5.html?intent_group=wtitrader=https://content.opcmarkets.com/promo/launch/index5.html?utm_source=oil%20price&utm_medium=buysell&utm_campaign=buysell&utm_content=short%20a&pid=oilprice.com\" class=\"buy\" target=\"_blank\">Buy</a></td>\\n\\t\\t\\t\\t\\t\\t\\t\\t\\t\\t\\n\\t\\t\\t\\t\\t\\t\\t\\t\\t<td class=\"value\">3.358 <i class=\"fa fa-caret-up\" aria-hidden=\"true\"></i></td>\\n\\t\\t\\t\\t\\t\\t\\t\\t\\t<td class=\"change_amount\">+0.006</td>\\n\\t\\t\\t\\t\\t\\t\\t\\t\\t<td class=\"change_percent\">+0.18%</td>\\n\\t\\t\\t\\t\\t\\t\\t\\t</tr>\\n\\t\\t\\t\\t\\t\\t\\t\\t\\t\\t\\t\\t\\t\\t\\t\\t\\t\\t\\t\\t\\t\\t\\t<tr class=\"change_up link_oilprice_row\" data-id=\"52\" data-periods=\"\" data-spread=\"ULSD NY Harbor\">\\n\\t\\t\\t\\t\\t\\t\\t\\t\\t<td class=\"mobile_graph\"><img class=\"graph_up lozad opacity_0\" alt=\"Graph up\" data-src=\"https://d1o9e4un86hhpc.cloudfront.net/a/img/common/header/chart_green.svg?v=3\"></td>\\n\\t\\t\\t\\t\\t\\t\\t\\t\\t<td class=\"blend_name\">Heating Oil <span class=\"dot\">\\xe2\\x80\\xa2</span><span class=\"last_updated\">10 mins</span> \\n\\t\\t\\t\\t\\t\\t\\t\\t\\t</td>\\n\\t\\t\\t\\t\\t\\t\\t\\t\\t\\t\\t\\t\\t\\t\\t\\t\\t\\t<td class=\"buy_sell\"><a class=\"sell\" href=\"https://content.opcmarkets.com/promo/launch/index5.html?intent_group=wtitrader=https://content.opcmarkets.com/promo/launch/index5.html?utm_source=oil%20price&utm_medium=buysell&utm_campaign=buysell&utm_content=short%20a&pid=oilprice.com\" target=\"_blank\">Sell</a><a href=\"https://content.opcmarkets.com/promo/launch/index5.html?intent_group=wtitrader=https://content.opcmarkets.com/promo/launch/index5.html?utm_source=oil%20price&utm_medium=buysell&utm_campaign=buysell&utm_content=short%20a&pid=oilprice.com\" class=\"buy\" target=\"_blank\">Buy</a></td>\\n\\t\\t\\t\\t\\t\\t\\t\\t\\t\\t\\n\\t\\t\\t\\t\\t\\t\\t\\t\\t<td class=\"value\">2.115 <i class=\"fa fa-caret-up\" aria-hidden=\"true\"></i></td>\\n\\t\\t\\t\\t\\t\\t\\t\\t\\t<td class=\"change_amount\">+0.003</td>\\n\\t\\t\\t\\t\\t\\t\\t\\t\\t<td class=\"change_percent\">+0.16%</td>\\n\\t\\t\\t\\t\\t\\t\\t\\t</tr>\\n\\t\\t\\t\\t\\t\\t\\t\\t\\t\\t\\t\\t\\t\\t\\t\\t\\t\\t\\t\\t\\t\\t\\t<tr class=\"change_up link_oilprice_row\" data-id=\"53\" data-periods=\"\" data-spread=\"Gasoline RBOB\">\\n\\t\\t\\t\\t\\t\\t\\t\\t\\t<td class=\"mobile_graph\"><img class=\"graph_up lozad opacity_0\" alt=\"Graph up\" data-src=\"https://d1o9e4un86hhpc.cloudfront.net/a/img/common/header/chart_green.svg?v=3\"></td>\\n\\t\\t\\t\\t\\t\\t\\t\\t\\t<td class=\"blend_name\">Gasoline <span class=\"dot\">\\xe2\\x80\\xa2</span><span class=\"last_updated\">10 mins</span> \\n\\t\\t\\t\\t\\t\\t\\t\\t\\t</td>\\n\\t\\t\\t\\t\\t\\t\\t\\t\\t<td class=\"empty_buy_sell\"></td>\\t\\n\\t\\t\\t\\t\\t\\t\\t\\t\\t<td class=\"value\">2.184 <i class=\"fa fa-caret-up\" aria-hidden=\"true\"></i></td>\\n\\t\\t\\t\\t\\t\\t\\t\\t\\t<td class=\"change_amount\">+0.013</td>\\n\\t\\t\\t\\t\\t\\t\\t\\t\\t<td class=\"change_percent\">+0.60%</td>\\n\\t\\t\\t\\t\\t\\t\\t\\t</tr>\\n\\t\\t\\t\\t\\t\\t\\t\\t\\t\\t\\t\\t\\t\\t\\t\\t\\t\\t\\t\\t\\t\\t\\t<tr class=\"change_up link_oilprice_row\" data-id=\"76\" data-periods=\"4,5\" data-spread=\"Louisiana Light\">\\n\\t\\t\\t\\t\\t\\t\\t\\t\\t<td class=\"mobile_graph\"><img class=\"graph_up lozad opacity_0\" alt=\"Graph up\" data-src=\"https://d1o9e4un86hhpc.cloudfront.net/a/img/common/header/chart_green.svg?v=3\"></td>\\n\\t\\t\\t\\t\\t\\t\\t\\t\\t<td class=\"blend_name\">Louisiana Light <span class=\"dot\">\\xe2\\x80\\xa2</span><span class=\"last_updated\">4 days</span> \\n\\t\\t\\t\\t\\t\\t\\t\\t\\t</td>\\n\\t\\t\\t\\t\\t\\t\\t\\t\\t<td class=\"empty_buy_sell\"></td>\\t\\n\\t\\t\\t\\t\\t\\t\\t\\t\\t<td class=\"value\">73.00 <i class=\"fa fa-caret-up\" aria-hidden=\"true\"></i></td>\\n\\t\\t\\t\\t\\t\\t\\t\\t\\t<td class=\"change_amount\">+0.61</td>\\n\\t\\t\\t\\t\\t\\t\\t\\t\\t<td class=\"change_percent\">+0.84%</td>\\n\\t\\t\\t\\t\\t\\t\\t\\t</tr>\\n\\t\\t\\t\\t\\t\\t\\t\\t\\t\\t\\t\\t\\t\\t\\t\\t\\t\\t\\n\\t\\t\\t\\t\\t\\t\\t<tr class=\"page_link page_link_opc\">\\n\\t\\t\\t\\t\\t\\t\\t\\t<td colspan=\"6\"><a href=\"https://content.opcmarkets.com/promo/launch/index5.html?intent_group=wtitrader=https://content.opcmarkets.com/promo/launch/index5.html?utm_source=oil%20price&utm_medium=buysell&utm_campaign=buysell&utm_content=short%20a&pid=oilprice.com\" class=\"full_parent\" target=\"_blank\"></a>Start Trading CFDs Over 2,200 Different Instruments<img width=\"21\" height=\"21\" src=\"https://d1o9e4un86hhpc.cloudfront.net/a/img/common/header/link.png\" alt=\"Link\"></td>\\n\\t\\t\\t\\t\\t\\t\\t</tr>\\n\\t\\t\\t\\t\\t\\t\\t<tr class=\"page_link page_link_oil\">\\n\\t\\t\\t\\t\\t\\t\\t\\t<td colspan=\"6\"><a href=\"https://oilprice.com/oil-price-charts#prices\" class=\"full_parent\"></a>Click Here for 150+ Global Oil Prices <img width=\"21\" height=\"21\" src=\"https://d1o9e4un86hhpc.cloudfront.net/a/img/common/header/link.png\" alt=\"Link\"></td>\\n\\t\\t\\t\\t\\t\\t\\t</tr>\\n\\t\\t\\t\\t\\t\\t</table>\\n\\t\\t\\t\\t\\t</div>\\n\\t\\t\\t\\t\\t<div class=\"right_column\">\\n\\t\\t\\t\\t\\t\\t<table>\\n\\t\\t\\t\\t\\t\\t\\t\\t\\t\\t\\t\\t\\t\\t\\t<tr class=\"change_up link_oilprice_row\" data-id=\"76\" data-periods=\"4,5\" data-spread=\"Louisiana Light\">\\n\\t\\t\\t\\t\\t\\t\\t\\t\\t<td class=\"mobile_graph\"><img class=\"lozad opacity_0\" data-src=\"https://d1o9e4un86hhpc.cloudfront.net/a/img/common/header/chart.svg\" alt=\"Chart\"></td>\\n\\t\\t\\t\\t\\t\\t\\t\\t\\t<td class=\"spacer\"></td>\\n\\t\\t\\t\\t\\t\\t\\t\\t\\t<td class=\"blend_name\">Louisiana Light <span class=\"dot\">\\xe2\\x80\\xa2</span> <span class=\"last_updated\">4 days</span></td>\\n\\t\\t\\t\\t\\t\\t\\t\\t\\t<td class=\"empty_buy_sell\"></td>\\t\\t\\t\\t\\t\\t\\t\\t\\t<td class=\"value\">73.00  <i class=\"fa fa-caret-up\" aria-hidden=\"true\"></i></td>\\n\\t\\t\\t\\t\\t\\t\\t\\t\\t<td class=\"change_amount\">+0.61</td>\\n\\t\\t\\t\\t\\t\\t\\t\\t\\t<td class=\"change_percent\">+0.84%</td>\\n\\t\\t\\t\\t\\t\\t\\t\\t</tr>\\n\\t\\t\\t\\t\\t\\t\\t\\t\\t\\t\\t\\t\\t\\t\\t<tr class=\"change_up link_oilprice_row\" data-id=\"4189\" data-periods=\"4,5,7\" data-spread=\"Bonny (Nigeria)\">\\n\\t\\t\\t\\t\\t\\t\\t\\t\\t<td class=\"mobile_graph\"><img class=\"lozad opacity_0\" data-src=\"https://d1o9e4un86hhpc.cloudfront.net/a/img/common/header/chart.svg\" alt=\"Chart\"></td>\\n\\t\\t\\t\\t\\t\\t\\t\\t\\t<td class=\"spacer\"></td>\\n\\t\\t\\t\\t\\t\\t\\t\\t\\t<td class=\"blend_name\">Bonny Light <span class=\"dot\">\\xe2\\x80\\xa2</span> <span class=\"last_updated\">1 day</span></td>\\n\\t\\t\\t\\t\\t\\t\\t\\t\\t<td class=\"empty_buy_sell\"></td>\\t\\t\\t\\t\\t\\t\\t\\t\\t<td class=\"value\">72.66  <i class=\"fa fa-caret-up\" aria-hidden=\"true\"></i></td>\\n\\t\\t\\t\\t\\t\\t\\t\\t\\t<td class=\"change_amount\">+0.58</td>\\n\\t\\t\\t\\t\\t\\t\\t\\t\\t<td class=\"change_percent\">+0.80%</td>\\n\\t\\t\\t\\t\\t\\t\\t\\t</tr>\\n\\t\\t\\t\\t\\t\\t\\t\\t\\t\\t\\t\\t\\t\\t\\t<tr class=\"change_up link_oilprice_row\" data-id=\"29\" data-periods=\"4,5,7\" data-spread=\"Opec Basket Price\">\\n\\t\\t\\t\\t\\t\\t\\t\\t\\t<td class=\"mobile_graph\"><img class=\"lozad opacity_0\" data-src=\"https://d1o9e4un86hhpc.cloudfront.net/a/img/common/header/chart.svg\" alt=\"Chart\"></td>\\n\\t\\t\\t\\t\\t\\t\\t\\t\\t<td class=\"spacer\"></td>\\n\\t\\t\\t\\t\\t\\t\\t\\t\\t<td class=\"blend_name\">Opec Basket <span class=\"dot\">\\xe2\\x80\\xa2</span> <span class=\"last_updated\">4 days</span></td>\\n\\t\\t\\t\\t\\t\\t\\t\\t\\t<td class=\"empty_buy_sell\"></td>\\t\\t\\t\\t\\t\\t\\t\\t\\t<td class=\"value\">71.31  <i class=\"fa fa-caret-up\" aria-hidden=\"true\"></i></td>\\n\\t\\t\\t\\t\\t\\t\\t\\t\\t<td class=\"change_amount\">+0.41</td>\\n\\t\\t\\t\\t\\t\\t\\t\\t\\t<td class=\"change_percent\">+0.58%</td>\\n\\t\\t\\t\\t\\t\\t\\t\\t</tr>\\n\\t\\t\\t\\t\\t\\t\\t\\t\\t\\t\\t\\t\\t\\t\\t<tr class=\"change_down link_oilprice_row\" data-id=\"50\" data-periods=\"4,5,7\" data-spread=\"Gulf Sour Crude Oil\">\\n\\t\\t\\t\\t\\t\\t\\t\\t\\t<td class=\"mobile_graph\"><img class=\"lozad opacity_0\" data-src=\"https://d1o9e4un86hhpc.cloudfront.net/a/img/common/header/chart.svg\" alt=\"Chart\"></td>\\n\\t\\t\\t\\t\\t\\t\\t\\t\\t<td class=\"spacer\"></td>\\n\\t\\t\\t\\t\\t\\t\\t\\t\\t<td class=\"blend_name\">Mars US <span class=\"dot\">\\xe2\\x80\\xa2</span> <span class=\"last_updated\">5 hours</span></td>\\n\\t\\t\\t\\t\\t\\t\\t\\t\\t<td class=\"empty_buy_sell\"></td>\\t\\t\\t\\t\\t\\t\\t\\t\\t<td class=\"value\">70.43  <i class=\"fa fa-caret-down\" aria-hidden=\"true\"></i></td>\\n\\t\\t\\t\\t\\t\\t\\t\\t\\t<td class=\"change_amount\">-0.03</td>\\n\\t\\t\\t\\t\\t\\t\\t\\t\\t<td class=\"change_percent\">-0.04%</td>\\n\\t\\t\\t\\t\\t\\t\\t\\t</tr>\\n\\t\\t\\t\\t\\t\\t\\t\\t\\t\\t\\t\\t\\t\\t\\t<tr class=\"change_up link_oilprice_row\" data-id=\"53\" data-periods=\"\" data-spread=\"Gasoline RBOB\">\\n\\t\\t\\t\\t\\t\\t\\t\\t\\t<td class=\"mobile_graph\"><img class=\"lozad opacity_0\" data-src=\"https://d1o9e4un86hhpc.cloudfront.net/a/img/common/header/chart.svg\" alt=\"Chart\"></td>\\n\\t\\t\\t\\t\\t\\t\\t\\t\\t<td class=\"spacer\"></td>\\n\\t\\t\\t\\t\\t\\t\\t\\t\\t<td class=\"blend_name\">Gasoline <span class=\"dot\">\\xe2\\x80\\xa2</span> <span class=\"last_updated\">10 mins</span></td>\\n\\t\\t\\t\\t\\t\\t\\t\\t\\t<td class=\"empty_buy_sell\"></td>\\t\\t\\t\\t\\t\\t\\t\\t\\t<td class=\"value\">2.184  <i class=\"fa fa-caret-up\" aria-hidden=\"true\"></i></td>\\n\\t\\t\\t\\t\\t\\t\\t\\t\\t<td class=\"change_amount\">+0.013</td>\\n\\t\\t\\t\\t\\t\\t\\t\\t\\t<td class=\"change_percent\">+0.60%</td>\\n\\t\\t\\t\\t\\t\\t\\t\\t</tr>\\n\\t\\t\\t\\t\\t\\t\\t\\t\\t\\t\\t\\t\\t\\t\\t\\t\\t\\t\\t\\t</table>\\n\\t\\t\\t\\t\\t</div>\\n\\t\\t\\t\\t\\t<div class=\"mobile_200_link mobile_200_link_oil\">\\n\\t\\t\\t\\t\\t\\t<p><a href=\"https://oilprice.com/oil-price-charts#prices\">Click Here for 150+ Global Oil Prices <img src=\"https://d1o9e4un86hhpc.cloudfront.net/a/img/common/header/link.png\" alt=\"Link\"></a></p>\\n\\t\\t\\t\\t\\t</div>\\n\\t\\t\\t\\t\\t<div class=\"mobile_200_link mobile_200_link_opc\">\\n\\t\\t\\t\\t\\t\\t<p><a href=\"https://content.opcmarkets.com/promo/launch/index5.html?intent_group=wtitrader=https://content.opcmarkets.com/promo/launch/index5.html?utm_source=oil%20price&utm_medium=buysell&utm_campaign=buysell&utm_content=short%20a&pid=oilprice.com\" target=\"_blank\">Start Trading CFDs Over 2,200 Different Instruments <img src=\"https://d1o9e4un86hhpc.cloudfront.net/a/img/common/header/link.png\" alt=\"Link\"></a></p>\\n\\t\\t\\t\\t\\t</div>\\n\\t\\t\\t\\t\\t<div class=\"desktop_close\">\\n\\t\\t\\t\\t\\t\\t<p><a href=\"https://oilprice.com/oil-price-charts#prices\">Click Here for 150+ Global Oil Prices <img src=\"https://d1o9e4un86hhpc.cloudfront.net/a/img/common/header/link.png\" alt=\"Link\"></a></p>\\n\\t\\t\\t\\t\\t</div>\\n\\t\\t\\t\\t</div>\\n\\n\\t\\t\\t\\t\\t\\t\\t<div class=\"blends_block \" data-id=\"2\">\\n\\t\\t\\t\\t\\t<div class=\"left_column\">\\n\\t\\t\\t\\t\\t\\t<table>\\n\\t\\t\\t\\t\\t\\t\\t\\t\\t\\t\\t\\t\\t\\t\\t<tr class=\"change_up link_oilprice_row\" data-id=\"4184\" data-periods=\"4,7\" data-spread=\"Marin (Qatar Offshore Oil)\">\\n\\t\\t\\t\\t\\t\\t\\t\\t\\t<td class=\"mobile_graph\"><img class=\"graph_up lozad opacity_0\" alt=\"Graph up\" data-src=\"https://d1o9e4un86hhpc.cloudfront.net/a/img/common/header/chart_green.svg?v=3\"></td>\\n\\t\\t\\t\\t\\t\\t\\t\\t\\t<td class=\"blend_name\">Marine <span class=\"dot\">\\xe2\\x80\\xa2</span><span class=\"last_updated\">1 day</span> \\n\\t\\t\\t\\t\\t\\t\\t\\t\\t</td>\\n\\t\\t\\t\\t\\t\\t\\t\\t\\t<td class=\"empty_buy_sell\"></td>\\t\\n\\t\\t\\t\\t\\t\\t\\t\\t\\t<td class=\"value\">72.01 <i class=\"fa fa-caret-up\" aria-hidden=\"true\"></i></td>\\n\\t\\t\\t\\t\\t\\t\\t\\t\\t<td class=\"change_amount\">+0.87</td>\\n\\t\\t\\t\\t\\t\\t\\t\\t\\t<td class=\"change_percent\">+1.22%</td>\\n\\t\\t\\t\\t\\t\\t\\t\\t</tr>\\n\\t\\t\\t\\t\\t\\t\\t\\t\\t\\t\\t\\t\\t\\t\\t\\t\\t\\t\\t\\t\\t\\t\\t<tr class=\"change_up link_oilprice_row\" data-id=\"4185\" data-periods=\"4,5,7\" data-spread=\"Murban (UAE)\">\\n\\t\\t\\t\\t\\t\\t\\t\\t\\t<td class=\"mobile_graph\"><img class=\"graph_up lozad opacity_0\" alt=\"Graph up\" data-src=\"https://d1o9e4un86hhpc.cloudfront.net/a/img/common/header/chart_green.svg?v=3\"></td>\\n\\t\\t\\t\\t\\t\\t\\t\\t\\t<td class=\"blend_name\">Murban <span class=\"dot\">\\xe2\\x80\\xa2</span><span class=\"last_updated\">1 day</span> \\n\\t\\t\\t\\t\\t\\t\\t\\t\\t</td>\\n\\t\\t\\t\\t\\t\\t\\t\\t\\t<td class=\"empty_buy_sell\"></td>\\t\\n\\t\\t\\t\\t\\t\\t\\t\\t\\t<td class=\"value\">73.02 <i class=\"fa fa-caret-up\" aria-hidden=\"true\"></i></td>\\n\\t\\t\\t\\t\\t\\t\\t\\t\\t<td class=\"change_amount\">+0.99</td>\\n\\t\\t\\t\\t\\t\\t\\t\\t\\t<td class=\"change_percent\">+1.37%</td>\\n\\t\\t\\t\\t\\t\\t\\t\\t</tr>\\n\\t\\t\\t\\t\\t\\t\\t\\t\\t\\t\\t\\t\\t\\t\\t\\t\\t\\t\\t\\t\\t\\t\\t<tr class=\"change_up link_oilprice_row\" data-id=\"4186\" data-periods=\"4,5,7\" data-spread=\"Iran Heavy Crude\">\\n\\t\\t\\t\\t\\t\\t\\t\\t\\t<td class=\"mobile_graph\"><img class=\"graph_up lozad opacity_0\" alt=\"Graph up\" data-src=\"https://d1o9e4un86hhpc.cloudfront.net/a/img/common/header/chart_green.svg?v=3\"></td>\\n\\t\\t\\t\\t\\t\\t\\t\\t\\t<td class=\"blend_name\">Iran Heavy <span class=\"dot\">\\xe2\\x80\\xa2</span><span class=\"last_updated\">1 day</span> \\n\\t\\t\\t\\t\\t\\t\\t\\t\\t</td>\\n\\t\\t\\t\\t\\t\\t\\t\\t\\t<td class=\"empty_buy_sell\"></td>\\t\\n\\t\\t\\t\\t\\t\\t\\t\\t\\t<td class=\"value\">68.63 <i class=\"fa fa-caret-up\" aria-hidden=\"true\"></i></td>\\n\\t\\t\\t\\t\\t\\t\\t\\t\\t<td class=\"change_amount\">+1.03</td>\\n\\t\\t\\t\\t\\t\\t\\t\\t\\t<td class=\"change_percent\">+1.52%</td>\\n\\t\\t\\t\\t\\t\\t\\t\\t</tr>\\n\\t\\t\\t\\t\\t\\t\\t\\t\\t\\t\\t\\t\\t\\t\\t\\t\\t\\t\\t\\t\\t\\t\\t<tr class=\"change_up link_oilprice_row\" data-id=\"4187\" data-periods=\"4,5,7\" data-spread=\"Basra Light (Iraq)\">\\n\\t\\t\\t\\t\\t\\t\\t\\t\\t<td class=\"mobile_graph\"><img class=\"graph_up lozad opacity_0\" alt=\"Graph up\" data-src=\"https://d1o9e4un86hhpc.cloudfront.net/a/img/common/header/chart_green.svg?v=3\"></td>\\n\\t\\t\\t\\t\\t\\t\\t\\t\\t<td class=\"blend_name\">Basra Light <span class=\"dot\">\\xe2\\x80\\xa2</span><span class=\"last_updated\">1 day</span> \\n\\t\\t\\t\\t\\t\\t\\t\\t\\t</td>\\n\\t\\t\\t\\t\\t\\t\\t\\t\\t<td class=\"empty_buy_sell\"></td>\\t\\n\\t\\t\\t\\t\\t\\t\\t\\t\\t<td class=\"value\">72.98 <i class=\"fa fa-caret-up\" aria-hidden=\"true\"></i></td>\\n\\t\\t\\t\\t\\t\\t\\t\\t\\t<td class=\"change_amount\">+0.25</td>\\n\\t\\t\\t\\t\\t\\t\\t\\t\\t<td class=\"change_percent\">+0.34%</td>\\n\\t\\t\\t\\t\\t\\t\\t\\t</tr>\\n\\t\\t\\t\\t\\t\\t\\t\\t\\t\\t\\t\\t\\t\\t\\t\\t\\t\\t\\t\\t\\t\\t\\t<tr class=\"change_up link_oilprice_row\" data-id=\"4188\" data-periods=\"4,5,7\" data-spread=\"Saharan Blend (Algeria)\">\\n\\t\\t\\t\\t\\t\\t\\t\\t\\t<td class=\"mobile_graph\"><img class=\"graph_up lozad opacity_0\" alt=\"Graph up\" data-src=\"https://d1o9e4un86hhpc.cloudfront.net/a/img/common/header/chart_green.svg?v=3\"></td>\\n\\t\\t\\t\\t\\t\\t\\t\\t\\t<td class=\"blend_name\">Saharan Blend <span class=\"dot\">\\xe2\\x80\\xa2</span><span class=\"last_updated\">1 day</span> \\n\\t\\t\\t\\t\\t\\t\\t\\t\\t</td>\\n\\t\\t\\t\\t\\t\\t\\t\\t\\t<td class=\"empty_buy_sell\"></td>\\t\\n\\t\\t\\t\\t\\t\\t\\t\\t\\t<td class=\"value\">72.13 <i class=\"fa fa-caret-up\" aria-hidden=\"true\"></i></td>\\n\\t\\t\\t\\t\\t\\t\\t\\t\\t<td class=\"change_amount\">+0.69</td>\\n\\t\\t\\t\\t\\t\\t\\t\\t\\t<td class=\"change_percent\">+0.97%</td>\\n\\t\\t\\t\\t\\t\\t\\t\\t</tr>\\n\\t\\t\\t\\t\\t\\t\\t\\t\\t\\t\\t\\t\\t\\t\\t\\t\\t\\t\\t\\t\\t\\t\\t<tr class=\"change_up link_oilprice_row\" data-id=\"4189\" data-periods=\"4,5,7\" data-spread=\"Bonny (Nigeria)\">\\n\\t\\t\\t\\t\\t\\t\\t\\t\\t<td class=\"mobile_graph\"><img class=\"graph_up lozad opacity_0\" alt=\"Graph up\" data-src=\"https://d1o9e4un86hhpc.cloudfront.net/a/img/common/header/chart_green.svg?v=3\"></td>\\n\\t\\t\\t\\t\\t\\t\\t\\t\\t<td class=\"blend_name\">Bonny Light <span class=\"dot\">\\xe2\\x80\\xa2</span><span class=\"last_updated\">1 day</span> \\n\\t\\t\\t\\t\\t\\t\\t\\t\\t</td>\\n\\t\\t\\t\\t\\t\\t\\t\\t\\t<td class=\"empty_buy_sell\"></td>\\t\\n\\t\\t\\t\\t\\t\\t\\t\\t\\t<td class=\"value\">72.66 <i class=\"fa fa-caret-up\" aria-hidden=\"true\"></i></td>\\n\\t\\t\\t\\t\\t\\t\\t\\t\\t<td class=\"change_amount\">+0.58</td>\\n\\t\\t\\t\\t\\t\\t\\t\\t\\t<td class=\"change_percent\">+0.80%</td>\\n\\t\\t\\t\\t\\t\\t\\t\\t</tr>\\n\\t\\t\\t\\t\\t\\t\\t\\t\\t\\t\\t\\t\\t\\t\\t\\t\\t\\t\\n\\t\\t\\t\\t\\t\\t\\t<tr class=\"page_link page_link_opc\">\\n\\t\\t\\t\\t\\t\\t\\t\\t<td colspan=\"6\"><a href=\"https://content.opcmarkets.com/promo/launch/index5.html?intent_group=wtitrader=https://content.opcmarkets.com/promo/launch/index5.html?utm_source=oil%20price&utm_medium=buysell&utm_campaign=buysell&utm_content=short%20a&pid=oilprice.com\" class=\"full_parent\" target=\"_blank\"></a>Start Trading CFDs Over 2,200 Different Instruments<img width=\"21\" height=\"21\" src=\"https://d1o9e4un86hhpc.cloudfront.net/a/img/common/header/link.png\" alt=\"Link\"></td>\\n\\t\\t\\t\\t\\t\\t\\t</tr>\\n\\t\\t\\t\\t\\t\\t\\t<tr class=\"page_link page_link_oil\">\\n\\t\\t\\t\\t\\t\\t\\t\\t<td colspan=\"6\"><a href=\"https://oilprice.com/oil-price-charts#prices\" class=\"full_parent\"></a>Click Here for 150+ Global Oil Prices <img width=\"21\" height=\"21\" src=\"https://d1o9e4un86hhpc.cloudfront.net/a/img/common/header/link.png\" alt=\"Link\"></td>\\n\\t\\t\\t\\t\\t\\t\\t</tr>\\n\\t\\t\\t\\t\\t\\t</table>\\n\\t\\t\\t\\t\\t</div>\\n\\t\\t\\t\\t\\t<div class=\"right_column\">\\n\\t\\t\\t\\t\\t\\t<table>\\n\\t\\t\\t\\t\\t\\t\\t\\t\\t\\t\\t\\t\\t\\t\\t<tr class=\"change_up link_oilprice_row\" data-id=\"4189\" data-periods=\"4,5,7\" data-spread=\"Bonny (Nigeria)\">\\n\\t\\t\\t\\t\\t\\t\\t\\t\\t<td class=\"mobile_graph\"><img class=\"lozad opacity_0\" data-src=\"https://d1o9e4un86hhpc.cloudfront.net/a/img/common/header/chart.svg\" alt=\"Chart\"></td>\\n\\t\\t\\t\\t\\t\\t\\t\\t\\t<td class=\"spacer\"></td>\\n\\t\\t\\t\\t\\t\\t\\t\\t\\t<td class=\"blend_name\">Bonny Light <span class=\"dot\">\\xe2\\x80\\xa2</span> <span class=\"last_updated\">1 day</span></td>\\n\\t\\t\\t\\t\\t\\t\\t\\t\\t<td class=\"empty_buy_sell\"></td>\\t\\t\\t\\t\\t\\t\\t\\t\\t<td class=\"value\">72.66  <i class=\"fa fa-caret-up\" aria-hidden=\"true\"></i></td>\\n\\t\\t\\t\\t\\t\\t\\t\\t\\t<td class=\"change_amount\">+0.58</td>\\n\\t\\t\\t\\t\\t\\t\\t\\t\\t<td class=\"change_percent\">+0.80%</td>\\n\\t\\t\\t\\t\\t\\t\\t\\t</tr>\\n\\t\\t\\t\\t\\t\\t\\t\\t\\t\\t\\t\\t\\t\\t\\t<tr class=\"change_up link_oilprice_row\" data-id=\"4190\" data-periods=\"4,5,7\" data-spread=\"Girassol (Angola)\">\\n\\t\\t\\t\\t\\t\\t\\t\\t\\t<td class=\"mobile_graph\"><img class=\"lozad opacity_0\" data-src=\"https://d1o9e4un86hhpc.cloudfront.net/a/img/common/header/chart.svg\" alt=\"Chart\"></td>\\n\\t\\t\\t\\t\\t\\t\\t\\t\\t<td class=\"spacer\"></td>\\n\\t\\t\\t\\t\\t\\t\\t\\t\\t<td class=\"blend_name\">Girassol <span class=\"dot\">\\xe2\\x80\\xa2</span> <span class=\"last_updated\">1 day</span></td>\\n\\t\\t\\t\\t\\t\\t\\t\\t\\t<td class=\"empty_buy_sell\"></td>\\t\\t\\t\\t\\t\\t\\t\\t\\t<td class=\"value\">72.88  <i class=\"fa fa-caret-up\" aria-hidden=\"true\"></i></td>\\n\\t\\t\\t\\t\\t\\t\\t\\t\\t<td class=\"change_amount\">+0.58</td>\\n\\t\\t\\t\\t\\t\\t\\t\\t\\t<td class=\"change_percent\">+0.80%</td>\\n\\t\\t\\t\\t\\t\\t\\t\\t</tr>\\n\\t\\t\\t\\t\\t\\t\\t\\t\\t\\t\\t\\t\\t\\t\\t<tr class=\"change_up link_oilprice_row\" data-id=\"29\" data-periods=\"4,5,7\" data-spread=\"Opec Basket Price\">\\n\\t\\t\\t\\t\\t\\t\\t\\t\\t<td class=\"mobile_graph\"><img class=\"lozad opacity_0\" data-src=\"https://d1o9e4un86hhpc.cloudfront.net/a/img/common/header/chart.svg\" alt=\"Chart\"></td>\\n\\t\\t\\t\\t\\t\\t\\t\\t\\t<td class=\"spacer\"></td>\\n\\t\\t\\t\\t\\t\\t\\t\\t\\t<td class=\"blend_name\">Opec Basket <span class=\"dot\">\\xe2\\x80\\xa2</span> <span class=\"last_updated\">4 days</span></td>\\n\\t\\t\\t\\t\\t\\t\\t\\t\\t<td class=\"empty_buy_sell\"></td>\\t\\t\\t\\t\\t\\t\\t\\t\\t<td class=\"value\">71.31  <i class=\"fa fa-caret-up\" aria-hidden=\"true\"></i></td>\\n\\t\\t\\t\\t\\t\\t\\t\\t\\t<td class=\"change_amount\">+0.41</td>\\n\\t\\t\\t\\t\\t\\t\\t\\t\\t<td class=\"change_percent\">+0.58%</td>\\n\\t\\t\\t\\t\\t\\t\\t\\t</tr>\\n\\t\\t\\t\\t\\t\\t\\t\\t\\t\\t\\t\\t\\t\\t\\t\\t\\t\\t\\t\\t</table>\\n\\t\\t\\t\\t\\t</div>\\n\\t\\t\\t\\t\\t<div class=\"mobile_200_link mobile_200_link_oil\">\\n\\t\\t\\t\\t\\t\\t<p><a href=\"https://oilprice.com/oil-price-charts#prices\">Click Here for 150+ Global Oil Prices <img src=\"https://d1o9e4un86hhpc.cloudfront.net/a/img/common/header/link.png\" alt=\"Link\"></a></p>\\n\\t\\t\\t\\t\\t</div>\\n\\t\\t\\t\\t\\t<div class=\"mobile_200_link mobile_200_link_opc\">\\n\\t\\t\\t\\t\\t\\t<p><a href=\"https://content.opcmarkets.com/promo/launch/index5.html?intent_group=wtitrader=https://content.opcmarkets.com/promo/launch/index5.html?utm_source=oil%20price&utm_medium=buysell&utm_campaign=buysell&utm_content=short%20a&pid=oilprice.com\" target=\"_blank\">Start Trading CFDs Over 2,200 Different Instruments <img src=\"https://d1o9e4un86hhpc.cloudfront.net/a/img/common/header/link.png\" alt=\"Link\"></a></p>\\n\\t\\t\\t\\t\\t</div>\\n\\t\\t\\t\\t\\t<div class=\"desktop_close\">\\n\\t\\t\\t\\t\\t\\t<p><a href=\"https://oilprice.com/oil-price-charts#prices\">Click Here for 150+ Global Oil Prices <img src=\"https://d1o9e4un86hhpc.cloudfront.net/a/img/common/header/link.png\" alt=\"Link\"></a></p>\\n\\t\\t\\t\\t\\t</div>\\n\\t\\t\\t\\t</div>\\n\\n\\t\\t\\t\\t\\t\\t\\t<div class=\"blends_block \" data-id=\"3\">\\n\\t\\t\\t\\t\\t<div class=\"left_column\">\\n\\t\\t\\t\\t\\t\\t<table>\\n\\t\\t\\t\\t\\t\\t\\t\\t\\t\\t\\t\\t\\t\\t\\t<tr class=\"change_up link_oilprice_row\" data-id=\"68\" data-periods=\"2,4,5,7\" data-spread=\"Canadian Crude Index\">\\n\\t\\t\\t\\t\\t\\t\\t\\t\\t<td class=\"mobile_graph\"><img class=\"graph_up lozad opacity_0\" alt=\"Graph up\" data-src=\"https://d1o9e4un86hhpc.cloudfront.net/a/img/common/header/chart_green.svg?v=3\"></td>\\n\\t\\t\\t\\t\\t\\t\\t\\t\\t<td class=\"blend_name\">Canadian Crude Index <span class=\"dot\">\\xe2\\x80\\xa2</span><span class=\"last_updated\">1 day</span> \\n\\t\\t\\t\\t\\t\\t\\t\\t\\t</td>\\n\\t\\t\\t\\t\\t\\t\\t\\t\\t<td class=\"empty_buy_sell\"></td>\\t\\n\\t\\t\\t\\t\\t\\t\\t\\t\\t<td class=\"value\">56.27 <i class=\"fa fa-caret-up\" aria-hidden=\"true\"></i></td>\\n\\t\\t\\t\\t\\t\\t\\t\\t\\t<td class=\"change_amount\">+0.26</td>\\n\\t\\t\\t\\t\\t\\t\\t\\t\\t<td class=\"change_percent\">+0.46%</td>\\n\\t\\t\\t\\t\\t\\t\\t\\t</tr>\\n\\t\\t\\t\\t\\t\\t\\t\\t\\t\\t\\t\\t\\t\\t\\t\\t\\t\\t\\t\\t\\t\\t\\t<tr class=\"change_up link_oilprice_row\" data-id=\"257\" data-periods=\"4,5,7\" data-spread=\"WCS\">\\n\\t\\t\\t\\t\\t\\t\\t\\t\\t<td class=\"mobile_graph\"><img class=\"graph_up lozad opacity_0\" alt=\"Graph up\" data-src=\"https://d1o9e4un86hhpc.cloudfront.net/a/img/common/header/chart_green.svg?v=3\"></td>\\n\\t\\t\\t\\t\\t\\t\\t\\t\\t<td class=\"blend_name\">Western Canadian Select <span class=\"dot\">\\xe2\\x80\\xa2</span><span class=\"last_updated\">1 hour</span> \\n\\t\\t\\t\\t\\t\\t\\t\\t\\t</td>\\n\\t\\t\\t\\t\\t\\t\\t\\t\\t<td class=\"empty_buy_sell\"></td>\\t\\n\\t\\t\\t\\t\\t\\t\\t\\t\\t<td class=\"value\">57.38 <i class=\"fa fa-caret-up\" aria-hidden=\"true\"></i></td>\\n\\t\\t\\t\\t\\t\\t\\t\\t\\t<td class=\"change_amount\">+0.52</td>\\n\\t\\t\\t\\t\\t\\t\\t\\t\\t<td class=\"change_percent\">+0.91%</td>\\n\\t\\t\\t\\t\\t\\t\\t\\t</tr>\\n\\t\\t\\t\\t\\t\\t\\t\\t\\t\\t\\t\\t\\t\\t\\t\\t\\t\\t\\t\\t\\t\\t\\t<tr class=\"change_down link_oilprice_row\" data-id=\"280\" data-periods=\"4,5,7\" data-spread=\"C5+\">\\n\\t\\t\\t\\t\\t\\t\\t\\t\\t<td class=\"mobile_graph\"><img class=\"graph_down lozad opacity_0\" alt=\"Graph down\" data-src=\"https://d1o9e4un86hhpc.cloudfront.net/a/img/common/header/chart_red_flip.svg?v=3\"></td>\\n\\t\\t\\t\\t\\t\\t\\t\\t\\t<td class=\"blend_name\">Canadian Condensate <span class=\"dot\">\\xe2\\x80\\xa2</span><span class=\"last_updated\">1 hour</span> \\n\\t\\t\\t\\t\\t\\t\\t\\t\\t</td>\\n\\t\\t\\t\\t\\t\\t\\t\\t\\t<td class=\"empty_buy_sell\"></td>\\t\\n\\t\\t\\t\\t\\t\\t\\t\\t\\t<td class=\"value\">69.88 <i class=\"fa fa-caret-down\" aria-hidden=\"true\"></i></td>\\n\\t\\t\\t\\t\\t\\t\\t\\t\\t<td class=\"change_amount\">-0.03</td>\\n\\t\\t\\t\\t\\t\\t\\t\\t\\t<td class=\"change_percent\">-0.04%</td>\\n\\t\\t\\t\\t\\t\\t\\t\\t</tr>\\n\\t\\t\\t\\t\\t\\t\\t\\t\\t\\t\\t\\t\\t\\t\\t\\t\\t\\t\\t\\t\\t\\t\\t<tr class=\"change_down link_oilprice_row\" data-id=\"287\" data-periods=\"4,5,7\" data-spread=\"PSY/SSP\">\\n\\t\\t\\t\\t\\t\\t\\t\\t\\t<td class=\"mobile_graph\"><img class=\"graph_down lozad opacity_0\" alt=\"Graph down\" data-src=\"https://d1o9e4un86hhpc.cloudfront.net/a/img/common/header/chart_red_flip.svg?v=3\"></td>\\n\\t\\t\\t\\t\\t\\t\\t\\t\\t<td class=\"blend_name\">Premium Synthetic <span class=\"dot\">\\xe2\\x80\\xa2</span><span class=\"last_updated\">1 hour</span> \\n\\t\\t\\t\\t\\t\\t\\t\\t\\t</td>\\n\\t\\t\\t\\t\\t\\t\\t\\t\\t<td class=\"empty_buy_sell\"></td>\\t\\n\\t\\t\\t\\t\\t\\t\\t\\t\\t<td class=\"value\">71.28 <i class=\"fa fa-caret-down\" aria-hidden=\"true\"></i></td>\\n\\t\\t\\t\\t\\t\\t\\t\\t\\t<td class=\"change_amount\">-0.03</td>\\n\\t\\t\\t\\t\\t\\t\\t\\t\\t<td class=\"change_percent\">-0.04%</td>\\n\\t\\t\\t\\t\\t\\t\\t\\t</tr>\\n\\t\\t\\t\\t\\t\\t\\t\\t\\t\\t\\t\\t\\t\\t\\t\\t\\t\\t\\t\\t\\t\\t\\t<tr class=\"change_down link_oilprice_row\" data-id=\"278\" data-periods=\"4,5,7\" data-spread=\"SW\">\\n\\t\\t\\t\\t\\t\\t\\t\\t\\t<td class=\"mobile_graph\"><img class=\"graph_down lozad opacity_0\" alt=\"Graph down\" data-src=\"https://d1o9e4un86hhpc.cloudfront.net/a/img/common/header/chart_red_flip.svg?v=3\"></td>\\n\\t\\t\\t\\t\\t\\t\\t\\t\\t<td class=\"blend_name\">Sweet Crude <span class=\"dot\">\\xe2\\x80\\xa2</span><span class=\"last_updated\">1 hour</span> \\n\\t\\t\\t\\t\\t\\t\\t\\t\\t</td>\\n\\t\\t\\t\\t\\t\\t\\t\\t\\t<td class=\"empty_buy_sell\"></td>\\t\\n\\t\\t\\t\\t\\t\\t\\t\\t\\t<td class=\"value\">66.33 <i class=\"fa fa-caret-down\" aria-hidden=\"true\"></i></td>\\n\\t\\t\\t\\t\\t\\t\\t\\t\\t<td class=\"change_amount\">-0.03</td>\\n\\t\\t\\t\\t\\t\\t\\t\\t\\t<td class=\"change_percent\">-0.05%</td>\\n\\t\\t\\t\\t\\t\\t\\t\\t</tr>\\n\\t\\t\\t\\t\\t\\t\\t\\t\\t\\t\\t\\t\\t\\t\\t\\t\\t\\t\\t\\t\\t\\t\\t<tr class=\"change_down link_oilprice_row\" data-id=\"276\" data-periods=\"4,5,7\" data-spread=\"PSO\">\\n\\t\\t\\t\\t\\t\\t\\t\\t\\t<td class=\"mobile_graph\"><img class=\"graph_down lozad opacity_0\" alt=\"Graph down\" data-src=\"https://d1o9e4un86hhpc.cloudfront.net/a/img/common/header/chart_red_flip.svg?v=3\"></td>\\n\\t\\t\\t\\t\\t\\t\\t\\t\\t<td class=\"blend_name\">Peace Sour <span class=\"dot\">\\xe2\\x80\\xa2</span><span class=\"last_updated\">1 hour</span> \\n\\t\\t\\t\\t\\t\\t\\t\\t\\t</td>\\n\\t\\t\\t\\t\\t\\t\\t\\t\\t<td class=\"empty_buy_sell\"></td>\\t\\n\\t\\t\\t\\t\\t\\t\\t\\t\\t<td class=\"value\">63.88 <i class=\"fa fa-caret-down\" aria-hidden=\"true\"></i></td>\\n\\t\\t\\t\\t\\t\\t\\t\\t\\t<td class=\"change_amount\">-0.03</td>\\n\\t\\t\\t\\t\\t\\t\\t\\t\\t<td class=\"change_percent\">-0.05%</td>\\n\\t\\t\\t\\t\\t\\t\\t\\t</tr>\\n\\t\\t\\t\\t\\t\\t\\t\\t\\t\\t\\t\\t\\t\\t\\t\\t\\t\\t\\n\\t\\t\\t\\t\\t\\t\\t<tr class=\"page_link page_link_opc\">\\n\\t\\t\\t\\t\\t\\t\\t\\t<td colspan=\"6\"><a href=\"https://content.opcmarkets.com/promo/launch/index5.html?intent_group=wtitrader=https://content.opcmarkets.com/promo/launch/index5.html?utm_source=oil%20price&utm_medium=buysell&utm_campaign=buysell&utm_content=short%20a&pid=oilprice.com\" class=\"full_parent\" target=\"_blank\"></a>Start Trading CFDs Over 2,200 Different Instruments<img width=\"21\" height=\"21\" src=\"https://d1o9e4un86hhpc.cloudfront.net/a/img/common/header/link.png\" alt=\"Link\"></td>\\n\\t\\t\\t\\t\\t\\t\\t</tr>\\n\\t\\t\\t\\t\\t\\t\\t<tr class=\"page_link page_link_oil\">\\n\\t\\t\\t\\t\\t\\t\\t\\t<td colspan=\"6\"><a href=\"https://oilprice.com/oil-price-charts#prices\" class=\"full_parent\"></a>Click Here for 150+ Global Oil Prices <img width=\"21\" height=\"21\" src=\"https://d1o9e4un86hhpc.cloudfront.net/a/img/common/header/link.png\" alt=\"Link\"></td>\\n\\t\\t\\t\\t\\t\\t\\t</tr>\\n\\t\\t\\t\\t\\t\\t</table>\\n\\t\\t\\t\\t\\t</div>\\n\\t\\t\\t\\t\\t<div class=\"right_column\">\\n\\t\\t\\t\\t\\t\\t<table>\\n\\t\\t\\t\\t\\t\\t\\t\\t\\t\\t\\t\\t\\t\\t\\t<tr class=\"change_down link_oilprice_row\" data-id=\"276\" data-periods=\"4,5,7\" data-spread=\"PSO\">\\n\\t\\t\\t\\t\\t\\t\\t\\t\\t<td class=\"mobile_graph\"><img class=\"lozad opacity_0\" data-src=\"https://d1o9e4un86hhpc.cloudfront.net/a/img/common/header/chart.svg\" alt=\"Chart\"></td>\\n\\t\\t\\t\\t\\t\\t\\t\\t\\t<td class=\"spacer\"></td>\\n\\t\\t\\t\\t\\t\\t\\t\\t\\t<td class=\"blend_name\">Peace Sour <span class=\"dot\">\\xe2\\x80\\xa2</span> <span class=\"last_updated\">1 hour</span></td>\\n\\t\\t\\t\\t\\t\\t\\t\\t\\t<td class=\"empty_buy_sell\"></td>\\t\\t\\t\\t\\t\\t\\t\\t\\t<td class=\"value\">63.88  <i class=\"fa fa-caret-down\" aria-hidden=\"true\"></i></td>\\n\\t\\t\\t\\t\\t\\t\\t\\t\\t<td class=\"change_amount\">-0.03</td>\\n\\t\\t\\t\\t\\t\\t\\t\\t\\t<td class=\"change_percent\">-0.05%</td>\\n\\t\\t\\t\\t\\t\\t\\t\\t</tr>\\n\\t\\t\\t\\t\\t\\t\\t\\t\\t\\t\\t\\t\\t\\t\\t<tr class=\"change_down link_oilprice_row\" data-id=\"275\" data-periods=\"4,5,7\" data-spread=\"LSB\">\\n\\t\\t\\t\\t\\t\\t\\t\\t\\t<td class=\"mobile_graph\"><img class=\"lozad opacity_0\" data-src=\"https://d1o9e4un86hhpc.cloudfront.net/a/img/common/header/chart.svg\" alt=\"Chart\"></td>\\n\\t\\t\\t\\t\\t\\t\\t\\t\\t<td class=\"spacer\"></td>\\n\\t\\t\\t\\t\\t\\t\\t\\t\\t<td class=\"blend_name\">Light Sour Blend <span class=\"dot\">\\xe2\\x80\\xa2</span> <span class=\"last_updated\">1 hour</span></td>\\n\\t\\t\\t\\t\\t\\t\\t\\t\\t<td class=\"empty_buy_sell\"></td>\\t\\t\\t\\t\\t\\t\\t\\t\\t<td class=\"value\">66.23  <i class=\"fa fa-caret-down\" aria-hidden=\"true\"></i></td>\\n\\t\\t\\t\\t\\t\\t\\t\\t\\t<td class=\"change_amount\">-0.03</td>\\n\\t\\t\\t\\t\\t\\t\\t\\t\\t<td class=\"change_percent\">-0.05%</td>\\n\\t\\t\\t\\t\\t\\t\\t\\t</tr>\\n\\t\\t\\t\\t\\t\\t\\t\\t\\t\\t\\t\\t\\t\\t\\t<tr class=\"change_up link_oilprice_row\" data-id=\"277\" data-periods=\"4,5,7\" data-spread=\"SSP\">\\n\\t\\t\\t\\t\\t\\t\\t\\t\\t<td class=\"mobile_graph\"><img class=\"lozad opacity_0\" data-src=\"https://d1o9e4un86hhpc.cloudfront.net/a/img/common/header/chart.svg\" alt=\"Chart\"></td>\\n\\t\\t\\t\\t\\t\\t\\t\\t\\t<td class=\"spacer\"></td>\\n\\t\\t\\t\\t\\t\\t\\t\\t\\t<td class=\"blend_name\">Syncrude Sweet Premium <span class=\"dot\">\\xe2\\x80\\xa2</span> <span class=\"last_updated\">1 hour</span></td>\\n\\t\\t\\t\\t\\t\\t\\t\\t\\t<td class=\"empty_buy_sell\"></td>\\t\\t\\t\\t\\t\\t\\t\\t\\t<td class=\"value\">69.13  <i class=\"fa fa-caret-up\" aria-hidden=\"true\"></i></td>\\n\\t\\t\\t\\t\\t\\t\\t\\t\\t<td class=\"change_amount\">+0.07</td>\\n\\t\\t\\t\\t\\t\\t\\t\\t\\t<td class=\"change_percent\">+0.10%</td>\\n\\t\\t\\t\\t\\t\\t\\t\\t</tr>\\n\\t\\t\\t\\t\\t\\t\\t\\t\\t\\t\\t\\t\\t\\t\\t<tr class=\"change_down link_oilprice_row\" data-id=\"274\" data-periods=\"4,5,7\" data-spread=\"CAL\">\\n\\t\\t\\t\\t\\t\\t\\t\\t\\t<td class=\"mobile_graph\"><img class=\"lozad opacity_0\" data-src=\"https://d1o9e4un86hhpc.cloudfront.net/a/img/common/header/chart.svg\" alt=\"Chart\"></td>\\n\\t\\t\\t\\t\\t\\t\\t\\t\\t<td class=\"spacer\"></td>\\n\\t\\t\\t\\t\\t\\t\\t\\t\\t<td class=\"blend_name\">Central Alberta <span class=\"dot\">\\xe2\\x80\\xa2</span> <span class=\"last_updated\">1 hour</span></td>\\n\\t\\t\\t\\t\\t\\t\\t\\t\\t<td class=\"empty_buy_sell\"></td>\\t\\t\\t\\t\\t\\t\\t\\t\\t<td class=\"value\">63.78  <i class=\"fa fa-caret-down\" aria-hidden=\"true\"></i></td>\\n\\t\\t\\t\\t\\t\\t\\t\\t\\t<td class=\"change_amount\">-0.03</td>\\n\\t\\t\\t\\t\\t\\t\\t\\t\\t<td class=\"change_percent\">-0.05%</td>\\n\\t\\t\\t\\t\\t\\t\\t\\t</tr>\\n\\t\\t\\t\\t\\t\\t\\t\\t\\t\\t\\t\\t\\t\\t\\t\\t\\t\\t\\t\\t</table>\\n\\t\\t\\t\\t\\t</div>\\n\\t\\t\\t\\t\\t<div class=\"mobile_200_link mobile_200_link_oil\">\\n\\t\\t\\t\\t\\t\\t<p><a href=\"https://oilprice.com/oil-price-charts#prices\">Click Here for 150+ Global Oil Prices <img src=\"https://d1o9e4un86hhpc.cloudfront.net/a/img/common/header/link.png\" alt=\"Link\"></a></p>\\n\\t\\t\\t\\t\\t</div>\\n\\t\\t\\t\\t\\t<div class=\"mobile_200_link mobile_200_link_opc\">\\n\\t\\t\\t\\t\\t\\t<p><a href=\"https://content.opcmarkets.com/promo/launch/index5.html?intent_group=wtitrader=https://content.opcmarkets.com/promo/launch/index5.html?utm_source=oil%20price&utm_medium=buysell&utm_campaign=buysell&utm_content=short%20a&pid=oilprice.com\" target=\"_blank\">Start Trading CFDs Over 2,200 Different Instruments <img src=\"https://d1o9e4un86hhpc.cloudfront.net/a/img/common/header/link.png\" alt=\"Link\"></a></p>\\n\\t\\t\\t\\t\\t</div>\\n\\t\\t\\t\\t\\t<div class=\"desktop_close\">\\n\\t\\t\\t\\t\\t\\t<p><a href=\"https://oilprice.com/oil-price-charts#prices\">Click Here for 150+ Global Oil Prices <img src=\"https://d1o9e4un86hhpc.cloudfront.net/a/img/common/header/link.png\" alt=\"Link\"></a></p>\\n\\t\\t\\t\\t\\t</div>\\n\\t\\t\\t\\t</div>\\n\\n\\t\\t\\t\\t\\t\\t\\t<div class=\"blends_block \" data-id=\"4\">\\n\\t\\t\\t\\t\\t<div class=\"left_column\">\\n\\t\\t\\t\\t\\t\\t<table>\\n\\t\\t\\t\\t\\t\\t\\t\\t\\t\\t\\t\\t\\t\\t\\t<tr class=\"change_up link_oilprice_row\" data-id=\"76\" data-periods=\"4,5\" data-spread=\"Louisiana Light\">\\n\\t\\t\\t\\t\\t\\t\\t\\t\\t<td class=\"mobile_graph\"><img class=\"graph_up lozad opacity_0\" alt=\"Graph up\" data-src=\"https://d1o9e4un86hhpc.cloudfront.net/a/img/common/header/chart_green.svg?v=3\"></td>\\n\\t\\t\\t\\t\\t\\t\\t\\t\\t<td class=\"blend_name\">Louisiana Light <span class=\"dot\">\\xe2\\x80\\xa2</span><span class=\"last_updated\">4 days</span> \\n\\t\\t\\t\\t\\t\\t\\t\\t\\t</td>\\n\\t\\t\\t\\t\\t\\t\\t\\t\\t<td class=\"empty_buy_sell\"></td>\\t\\n\\t\\t\\t\\t\\t\\t\\t\\t\\t<td class=\"value\">73.00 <i class=\"fa fa-caret-up\" aria-hidden=\"true\"></i></td>\\n\\t\\t\\t\\t\\t\\t\\t\\t\\t<td class=\"change_amount\">+0.61</td>\\n\\t\\t\\t\\t\\t\\t\\t\\t\\t<td class=\"change_percent\">+0.84%</td>\\n\\t\\t\\t\\t\\t\\t\\t\\t</tr>\\n\\t\\t\\t\\t\\t\\t\\t\\t\\t\\t\\t\\t\\t\\t\\t\\t\\t\\t\\t\\t\\t\\t\\t<tr class=\"change_up link_oilprice_row\" data-id=\"26\" data-periods=\"4,5,7\" data-spread=\"Domestic Swt. @ Cushing\">\\n\\t\\t\\t\\t\\t\\t\\t\\t\\t<td class=\"mobile_graph\"><img class=\"graph_up lozad opacity_0\" alt=\"Graph up\" data-src=\"https://d1o9e4un86hhpc.cloudfront.net/a/img/common/header/chart_green.svg?v=3\"></td>\\n\\t\\t\\t\\t\\t\\t\\t\\t\\t<td class=\"blend_name\">Domestic Swt. @ Cushing <span class=\"dot\">\\xe2\\x80\\xa2</span><span class=\"last_updated\">4 days</span> \\n\\t\\t\\t\\t\\t\\t\\t\\t\\t</td>\\n\\t\\t\\t\\t\\t\\t\\t\\t\\t<td class=\"empty_buy_sell\"></td>\\t\\n\\t\\t\\t\\t\\t\\t\\t\\t\\t<td class=\"value\">67.50 <i class=\"fa fa-caret-up\" aria-hidden=\"true\"></i></td>\\n\\t\\t\\t\\t\\t\\t\\t\\t\\t<td class=\"change_amount\">+0.50</td>\\n\\t\\t\\t\\t\\t\\t\\t\\t\\t<td class=\"change_percent\">+0.75%</td>\\n\\t\\t\\t\\t\\t\\t\\t\\t</tr>\\n\\t\\t\\t\\t\\t\\t\\t\\t\\t\\t\\t\\t\\t\\t\\t\\t\\t\\t\\t\\t\\t\\t\\t<tr class=\"change_up link_oilprice_row\" data-id=\"27\" data-periods=\"4,5,7\" data-spread=\"Giddings\">\\n\\t\\t\\t\\t\\t\\t\\t\\t\\t<td class=\"mobile_graph\"><img class=\"graph_up lozad opacity_0\" alt=\"Graph up\" data-src=\"https://d1o9e4un86hhpc.cloudfront.net/a/img/common/header/chart_green.svg?v=3\"></td>\\n\\t\\t\\t\\t\\t\\t\\t\\t\\t<td class=\"blend_name\">Giddings <span class=\"dot\">\\xe2\\x80\\xa2</span><span class=\"last_updated\">4 days</span> \\n\\t\\t\\t\\t\\t\\t\\t\\t\\t</td>\\n\\t\\t\\t\\t\\t\\t\\t\\t\\t<td class=\"empty_buy_sell\"></td>\\t\\n\\t\\t\\t\\t\\t\\t\\t\\t\\t<td class=\"value\">61.25 <i class=\"fa fa-caret-up\" aria-hidden=\"true\"></i></td>\\n\\t\\t\\t\\t\\t\\t\\t\\t\\t<td class=\"change_amount\">+0.50</td>\\n\\t\\t\\t\\t\\t\\t\\t\\t\\t<td class=\"change_percent\">+0.82%</td>\\n\\t\\t\\t\\t\\t\\t\\t\\t</tr>\\n\\t\\t\\t\\t\\t\\t\\t\\t\\t\\t\\t\\t\\t\\t\\t\\t\\t\\t\\t\\t\\t\\t\\t<tr class=\"change_up link_oilprice_row\" data-id=\"44\" data-periods=\"4,5,7\" data-spread=\"ANS West Coast\">\\n\\t\\t\\t\\t\\t\\t\\t\\t\\t<td class=\"mobile_graph\"><img class=\"graph_up lozad opacity_0\" alt=\"Graph up\" data-src=\"https://d1o9e4un86hhpc.cloudfront.net/a/img/common/header/chart_green.svg?v=3\"></td>\\n\\t\\t\\t\\t\\t\\t\\t\\t\\t<td class=\"blend_name\">ANS West Coast <span class=\"dot\">\\xe2\\x80\\xa2</span><span class=\"last_updated\">5 days</span> \\n\\t\\t\\t\\t\\t\\t\\t\\t\\t</td>\\n\\t\\t\\t\\t\\t\\t\\t\\t\\t<td class=\"empty_buy_sell\"></td>\\t\\n\\t\\t\\t\\t\\t\\t\\t\\t\\t<td class=\"value\">72.21 <i class=\"fa fa-caret-up\" aria-hidden=\"true\"></i></td>\\n\\t\\t\\t\\t\\t\\t\\t\\t\\t<td class=\"change_amount\">+0.13</td>\\n\\t\\t\\t\\t\\t\\t\\t\\t\\t<td class=\"change_percent\">+0.18%</td>\\n\\t\\t\\t\\t\\t\\t\\t\\t</tr>\\n\\t\\t\\t\\t\\t\\t\\t\\t\\t\\t\\t\\t\\t\\t\\t\\t\\t\\t\\t\\t\\t\\t\\t<tr class=\"change_up link_oilprice_row\" data-id=\"3\" data-periods=\"4,5,7\" data-spread=\"West Texas Sour\">\\n\\t\\t\\t\\t\\t\\t\\t\\t\\t<td class=\"mobile_graph\"><img class=\"graph_up lozad opacity_0\" alt=\"Graph up\" data-src=\"https://d1o9e4un86hhpc.cloudfront.net/a/img/common/header/chart_green.svg?v=3\"></td>\\n\\t\\t\\t\\t\\t\\t\\t\\t\\t<td class=\"blend_name\">West Texas Sour <span class=\"dot\">\\xe2\\x80\\xa2</span><span class=\"last_updated\">4 days</span> \\n\\t\\t\\t\\t\\t\\t\\t\\t\\t</td>\\n\\t\\t\\t\\t\\t\\t\\t\\t\\t<td class=\"empty_buy_sell\"></td>\\t\\n\\t\\t\\t\\t\\t\\t\\t\\t\\t<td class=\"value\">64.86 <i class=\"fa fa-caret-up\" aria-hidden=\"true\"></i></td>\\n\\t\\t\\t\\t\\t\\t\\t\\t\\t<td class=\"change_amount\">+0.62</td>\\n\\t\\t\\t\\t\\t\\t\\t\\t\\t<td class=\"change_percent\">+0.97%</td>\\n\\t\\t\\t\\t\\t\\t\\t\\t</tr>\\n\\t\\t\\t\\t\\t\\t\\t\\t\\t\\t\\t\\t\\t\\t\\t\\t\\t\\t\\t\\t\\t\\t\\t<tr class=\"change_up link_oilprice_row\" data-id=\"12\" data-periods=\"4,5,7\" data-spread=\"Eagle Ford\">\\n\\t\\t\\t\\t\\t\\t\\t\\t\\t<td class=\"mobile_graph\"><img class=\"graph_up lozad opacity_0\" alt=\"Graph up\" data-src=\"https://d1o9e4un86hhpc.cloudfront.net/a/img/common/header/chart_green.svg?v=3\"></td>\\n\\t\\t\\t\\t\\t\\t\\t\\t\\t<td class=\"blend_name\">Eagle Ford <span class=\"dot\">\\xe2\\x80\\xa2</span><span class=\"last_updated\">4 days</span> \\n\\t\\t\\t\\t\\t\\t\\t\\t\\t</td>\\n\\t\\t\\t\\t\\t\\t\\t\\t\\t<td class=\"empty_buy_sell\"></td>\\t\\n\\t\\t\\t\\t\\t\\t\\t\\t\\t<td class=\"value\">68.81 <i class=\"fa fa-caret-up\" aria-hidden=\"true\"></i></td>\\n\\t\\t\\t\\t\\t\\t\\t\\t\\t<td class=\"change_amount\">+0.62</td>\\n\\t\\t\\t\\t\\t\\t\\t\\t\\t<td class=\"change_percent\">+0.91%</td>\\n\\t\\t\\t\\t\\t\\t\\t\\t</tr>\\n\\t\\t\\t\\t\\t\\t\\t\\t\\t\\t\\t\\t\\t\\t\\t\\t\\t\\t\\n\\t\\t\\t\\t\\t\\t\\t<tr class=\"page_link page_link_opc\">\\n\\t\\t\\t\\t\\t\\t\\t\\t<td colspan=\"6\"><a href=\"https://content.opcmarkets.com/promo/launch/index5.html?intent_group=wtitrader=https://content.opcmarkets.com/promo/launch/index5.html?utm_source=oil%20price&utm_medium=buysell&utm_campaign=buysell&utm_content=short%20a&pid=oilprice.com\" class=\"full_parent\" target=\"_blank\"></a>Start Trading CFDs Over 2,200 Different Instruments<img width=\"21\" height=\"21\" src=\"https://d1o9e4un86hhpc.cloudfront.net/a/img/common/header/link.png\" alt=\"Link\"></td>\\n\\t\\t\\t\\t\\t\\t\\t</tr>\\n\\t\\t\\t\\t\\t\\t\\t<tr class=\"page_link page_link_oil\">\\n\\t\\t\\t\\t\\t\\t\\t\\t<td colspan=\"6\"><a href=\"https://oilprice.com/oil-price-charts#prices\" class=\"full_parent\"></a>Click Here for 150+ Global Oil Prices <img width=\"21\" height=\"21\" src=\"https://d1o9e4un86hhpc.cloudfront.net/a/img/common/header/link.png\" alt=\"Link\"></td>\\n\\t\\t\\t\\t\\t\\t\\t</tr>\\n\\t\\t\\t\\t\\t\\t</table>\\n\\t\\t\\t\\t\\t</div>\\n\\t\\t\\t\\t\\t<div class=\"right_column\">\\n\\t\\t\\t\\t\\t\\t<table>\\n\\t\\t\\t\\t\\t\\t\\t\\t\\t\\t\\t\\t\\t\\t\\t<tr class=\"change_up link_oilprice_row\" data-id=\"12\" data-periods=\"4,5,7\" data-spread=\"Eagle Ford\">\\n\\t\\t\\t\\t\\t\\t\\t\\t\\t<td class=\"mobile_graph\"><img class=\"lozad opacity_0\" data-src=\"https://d1o9e4un86hhpc.cloudfront.net/a/img/common/header/chart.svg\" alt=\"Chart\"></td>\\n\\t\\t\\t\\t\\t\\t\\t\\t\\t<td class=\"spacer\"></td>\\n\\t\\t\\t\\t\\t\\t\\t\\t\\t<td class=\"blend_name\">Eagle Ford <span class=\"dot\">\\xe2\\x80\\xa2</span> <span class=\"last_updated\">4 days</span></td>\\n\\t\\t\\t\\t\\t\\t\\t\\t\\t<td class=\"empty_buy_sell\"></td>\\t\\t\\t\\t\\t\\t\\t\\t\\t<td class=\"value\">68.81  <i class=\"fa fa-caret-up\" aria-hidden=\"true\"></i></td>\\n\\t\\t\\t\\t\\t\\t\\t\\t\\t<td class=\"change_amount\">+0.62</td>\\n\\t\\t\\t\\t\\t\\t\\t\\t\\t<td class=\"change_percent\">+0.91%</td>\\n\\t\\t\\t\\t\\t\\t\\t\\t</tr>\\n\\t\\t\\t\\t\\t\\t\\t\\t\\t\\t\\t\\t\\t\\t\\t<tr class=\"change_up link_oilprice_row\" data-id=\"1\" data-periods=\"4,5,7\" data-spread=\"Oklahoma Sweet\">\\n\\t\\t\\t\\t\\t\\t\\t\\t\\t<td class=\"mobile_graph\"><img class=\"lozad opacity_0\" data-src=\"https://d1o9e4un86hhpc.cloudfront.net/a/img/common/header/chart.svg\" alt=\"Chart\"></td>\\n\\t\\t\\t\\t\\t\\t\\t\\t\\t<td class=\"spacer\"></td>\\n\\t\\t\\t\\t\\t\\t\\t\\t\\t<td class=\"blend_name\">Oklahoma Sweet <span class=\"dot\">\\xe2\\x80\\xa2</span> <span class=\"last_updated\">4 days</span></td>\\n\\t\\t\\t\\t\\t\\t\\t\\t\\t<td class=\"empty_buy_sell\"></td>\\t\\t\\t\\t\\t\\t\\t\\t\\t<td class=\"value\">67.50  <i class=\"fa fa-caret-up\" aria-hidden=\"true\"></i></td>\\n\\t\\t\\t\\t\\t\\t\\t\\t\\t<td class=\"change_amount\">+0.50</td>\\n\\t\\t\\t\\t\\t\\t\\t\\t\\t<td class=\"change_percent\">+0.75%</td>\\n\\t\\t\\t\\t\\t\\t\\t\\t</tr>\\n\\t\\t\\t\\t\\t\\t\\t\\t\\t\\t\\t\\t\\t\\t\\t<tr class=\"change_up link_oilprice_row\" data-id=\"77\" data-periods=\"4,5,7\" data-spread=\"Kansas Common\">\\n\\t\\t\\t\\t\\t\\t\\t\\t\\t<td class=\"mobile_graph\"><img class=\"lozad opacity_0\" data-src=\"https://d1o9e4un86hhpc.cloudfront.net/a/img/common/header/chart.svg\" alt=\"Chart\"></td>\\n\\t\\t\\t\\t\\t\\t\\t\\t\\t<td class=\"spacer\"></td>\\n\\t\\t\\t\\t\\t\\t\\t\\t\\t<td class=\"blend_name\">Kansas Common <span class=\"dot\">\\xe2\\x80\\xa2</span> <span class=\"last_updated\">4 days</span></td>\\n\\t\\t\\t\\t\\t\\t\\t\\t\\t<td class=\"empty_buy_sell\"></td>\\t\\t\\t\\t\\t\\t\\t\\t\\t<td class=\"value\">61.25  <i class=\"fa fa-caret-up\" aria-hidden=\"true\"></i></td>\\n\\t\\t\\t\\t\\t\\t\\t\\t\\t<td class=\"change_amount\">+0.75</td>\\n\\t\\t\\t\\t\\t\\t\\t\\t\\t<td class=\"change_percent\">+1.24%</td>\\n\\t\\t\\t\\t\\t\\t\\t\\t</tr>\\n\\t\\t\\t\\t\\t\\t\\t\\t\\t\\t\\t\\t\\t\\t\\t<tr class=\"change_down link_oilprice_row\" data-id=\"136\" data-periods=\"4,5,7\" data-spread=\"Buena Vista\">\\n\\t\\t\\t\\t\\t\\t\\t\\t\\t<td class=\"mobile_graph\"><img class=\"lozad opacity_0\" data-src=\"https://d1o9e4un86hhpc.cloudfront.net/a/img/common/header/chart.svg\" alt=\"Chart\"></td>\\n\\t\\t\\t\\t\\t\\t\\t\\t\\t<td class=\"spacer\"></td>\\n\\t\\t\\t\\t\\t\\t\\t\\t\\t<td class=\"blend_name\">Buena Vista <span class=\"dot\">\\xe2\\x80\\xa2</span> <span class=\"last_updated\">5 days</span></td>\\n\\t\\t\\t\\t\\t\\t\\t\\t\\t<td class=\"empty_buy_sell\"></td>\\t\\t\\t\\t\\t\\t\\t\\t\\t<td class=\"value\">75.88  <i class=\"fa fa-caret-down\" aria-hidden=\"true\"></i></td>\\n\\t\\t\\t\\t\\t\\t\\t\\t\\t<td class=\"change_amount\">-0.01</td>\\n\\t\\t\\t\\t\\t\\t\\t\\t\\t<td class=\"change_percent\">-0.01%</td>\\n\\t\\t\\t\\t\\t\\t\\t\\t</tr>\\n\\t\\t\\t\\t\\t\\t\\t\\t\\t\\t\\t\\t\\t\\t\\t\\t\\t\\t\\t\\t</table>\\n\\t\\t\\t\\t\\t</div>\\n\\t\\t\\t\\t\\t<div class=\"mobile_200_link mobile_200_link_oil\">\\n\\t\\t\\t\\t\\t\\t<p><a href=\"https://oilprice.com/oil-price-charts#prices\">Click Here for 150+ Global Oil Prices <img src=\"https://d1o9e4un86hhpc.cloudfront.net/a/img/common/header/link.png\" alt=\"Link\"></a></p>\\n\\t\\t\\t\\t\\t</div>\\n\\t\\t\\t\\t\\t<div class=\"mobile_200_link mobile_200_link_opc\">\\n\\t\\t\\t\\t\\t\\t<p><a href=\"https://content.opcmarkets.com/promo/launch/index5.html?intent_group=wtitrader=https://content.opcmarkets.com/promo/launch/index5.html?utm_source=oil%20price&utm_medium=buysell&utm_campaign=buysell&utm_content=short%20a&pid=oilprice.com\" target=\"_blank\">Start Trading CFDs Over 2,200 Different Instruments <img src=\"https://d1o9e4un86hhpc.cloudfront.net/a/img/common/header/link.png\" alt=\"Link\"></a></p>\\n\\t\\t\\t\\t\\t</div>\\n\\t\\t\\t\\t\\t<div class=\"desktop_close\">\\n\\t\\t\\t\\t\\t\\t<p><a href=\"https://oilprice.com/oil-price-charts#prices\">Click Here for 150+ Global Oil Prices <img src=\"https://d1o9e4un86hhpc.cloudfront.net/a/img/common/header/link.png\" alt=\"Link\"></a></p>\\n\\t\\t\\t\\t\\t</div>\\n\\t\\t\\t\\t</div>\\n\\n\\t\\t\\t\\t\\t\\t\\n\\t\\t</div>\\n\\t\\t<div class=\"middle_block\">\\n\\t\\t\\t<div class=\"header_bar\">\\n\\t\\t\\t\\t<ul class=\"graph_changer\">\\n\\t\\t\\t\\t\\t<li class=\"active\"><a href=\"#\" data-id=\"2\">1D</a></li>\\n\\t\\t\\t\\t\\t<li class=\"\"><a href=\"#\" data-id=\"4\">1M</a></li>\\n\\t\\t\\t\\t\\t<li class=\"\"><a href=\"#\" data-id=\"6\">3M</a></li>\\n\\t\\t\\t\\t\\t<li class=\"\"><a href=\"#\" data-id=\"5\">1Y</a></li>\\n\\t\\t\\t\\t</ul>\\n\\t\\t\\t\\t<a class=\"all_charts\" href=\"https://oilprice.com/oil-price-charts\">All Charts</a>\\n\\t\\t\\t</div>\\n\\t\\t\\t<div class=\"graph_area\" data-blend=\"45\">\\n\\t\\t\\t\\t<img data-base=\"https://d32r1sh890xpii.cloudfront.net/header_graphs/blend_\" class=\"lozad opacity_0\" data-src=\"https://d32r1sh890xpii.cloudfront.net/header_graphs/blend_45_2.png?cb=1623741607\">\\n\\t\\t\\t</div>\\n\\t\\t</div>\\n\\t\\t<div class=\"right_block\">\\n\\t\\t\\t<div class=\"header_bar\">\\n\\t\\t\\t\\t<ul>\\n\\t\\t\\t\\t\\t<li class=\"hidden\" id=\"products_tab\"><a href=\"#\" class=\"change_tab\" data-link=\"products\">Products</a></li>\\n\\t\\t\\t\\t\\t<li class=\"active\" id=\"community_tab\"><a href=\"#\" class=\"change_tab\" data-link=\"community\">Discussion</a></li>\\n\\t\\t\\t\\t\\t<li class=\"\" id=\"headlines_tab\"><a href=\"#\" class=\"change_tab\" data-link=\"news\">Headlines</a></li>\\n\\t\\t\\t\\t</ul>\\n\\t\\t\\t\\t<a href=\"#\" class=\"news_scroll_up news_scroller\"><i class=\"fa fa-caret-up\" aria-hidden=\"true\"></i></a>\\n\\t\\t\\t\\t<a href=\"#\" class=\"news_scroll_down active news_scroller\"><i class=\"fa fa-caret-down\" aria-hidden=\"true\"></i></a>\\n\\t\\t\\t</div>\\n\\t\\t\\t<div class=\"news_block toggle_block hidden\">\\n\\t\\t\\t\\t<ul>\\n\\t\\t\\t\\t\\t\\t\\t\\t\\t\\t\\t<li>\\n\\t\\t\\t\\t\\t\\t\\t<div class=\"headline_row\" data-id=\"0\">\\n\\t\\t\\t\\t\\t\\t\\t\\t<a href=\"https://oilprice.com/Latest-Energy-News/World-News/US-Shale-Oil-Production-Set-To-Grow-By-38000-Bpd-Next-Month.html\" class=\"full_parent\"></a>\\n\\t\\t\\t\\t\\t\\t\\t\\t<span class=\"time_ago\">5 hours</span>\\n\\t\\t\\t\\t\\t\\t\\t\\t<span class=\"article_name\">U.S. Shale Oil Production Set To Grow By 38,000 Bpd Next Month</span>\\n\\t\\t\\t\\t\\t\\t\\t</div>\\n\\t\\t\\t\\t\\t\\t</li>\\n\\t\\t\\t\\t\\t\\t\\t\\t\\t\\t\\t<li>\\n\\t\\t\\t\\t\\t\\t\\t<div class=\"headline_row\" data-id=\"1\">\\n\\t\\t\\t\\t\\t\\t\\t\\t<a href=\"https://oilprice.com/Latest-Energy-News/World-News/Texas-Faces-Another-Power-Crisis-Amid-Heat-Wave.html\" class=\"full_parent\"></a>\\n\\t\\t\\t\\t\\t\\t\\t\\t<span class=\"time_ago\">7 hours</span>\\n\\t\\t\\t\\t\\t\\t\\t\\t<span class=\"article_name\">Texas Faces Another Power Crisis Amid Heat Wave</span>\\n\\t\\t\\t\\t\\t\\t\\t</div>\\n\\t\\t\\t\\t\\t\\t</li>\\n\\t\\t\\t\\t\\t\\t\\t\\t\\t\\t\\t<li>\\n\\t\\t\\t\\t\\t\\t\\t<div class=\"headline_row\" data-id=\"2\">\\n\\t\\t\\t\\t\\t\\t\\t\\t<a href=\"https://oilprice.com/Latest-Energy-News/World-News/BP-Plans-To-Spin-Off-Its-Iraqi-Oil-Assets-Into-Separate-Company.html\" class=\"full_parent\"></a>\\n\\t\\t\\t\\t\\t\\t\\t\\t<span class=\"time_ago\">8 hours</span>\\n\\t\\t\\t\\t\\t\\t\\t\\t<span class=\"article_name\">BP Plans To Spin Off Its Iraqi Oil Assets Into Separate Company</span>\\n\\t\\t\\t\\t\\t\\t\\t</div>\\n\\t\\t\\t\\t\\t\\t</li>\\n\\t\\t\\t\\t\\t\\t\\t\\t\\t\\t\\t<li>\\n\\t\\t\\t\\t\\t\\t\\t<div class=\"headline_row\" data-id=\"3\">\\n\\t\\t\\t\\t\\t\\t\\t\\t<a href=\"https://oilprice.com/Latest-Energy-News/World-News/Supreme-Court-Tosses-Big-Oil-Appeal-To-Move-Climate-Lawsuit-To-Federal-Court.html\" class=\"full_parent\"></a>\\n\\t\\t\\t\\t\\t\\t\\t\\t<span class=\"time_ago\">9 hours</span>\\n\\t\\t\\t\\t\\t\\t\\t\\t<span class=\"article_name\">Supreme Court Tosses Big Oil Appeal To Move Climate Lawsuit To Federal Court</span>\\n\\t\\t\\t\\t\\t\\t\\t</div>\\n\\t\\t\\t\\t\\t\\t</li>\\n\\t\\t\\t\\t\\t\\t\\t\\t\\t\\t\\t<li>\\n\\t\\t\\t\\t\\t\\t\\t<div class=\"headline_row\" data-id=\"4\">\\n\\t\\t\\t\\t\\t\\t\\t\\t<a href=\"https://oilprice.com/Latest-Energy-News/World-News/Perus-Copper-Industry-At-Risk-As-New-Administration-Takes-The-Wheel.html\" class=\"full_parent\"></a>\\n\\t\\t\\t\\t\\t\\t\\t\\t<span class=\"time_ago\">14 hours</span>\\n\\t\\t\\t\\t\\t\\t\\t\\t<span class=\"article_name\">Peru\\xe2\\x80\\x99s Copper Industry At Risk As New Administration Takes The Wheel</span>\\n\\t\\t\\t\\t\\t\\t\\t</div>\\n\\t\\t\\t\\t\\t\\t</li>\\n\\t\\t\\t\\t\\t\\t\\t\\t\\t\\t\\t<li>\\n\\t\\t\\t\\t\\t\\t\\t<div class=\"headline_row\" data-id=\"5\">\\n\\t\\t\\t\\t\\t\\t\\t\\t<a href=\"https://oilprice.com/Latest-Energy-News/World-News/Oil-Majors-Race-To-Get-A-Piece-Of-The-Qatari-LNG-Market.html\" class=\"full_parent\"></a>\\n\\t\\t\\t\\t\\t\\t\\t\\t<span class=\"time_ago\">16 hours</span>\\n\\t\\t\\t\\t\\t\\t\\t\\t<span class=\"article_name\">Oil Majors Race To Get A Piece Of The Qatari LNG Market</span>\\n\\t\\t\\t\\t\\t\\t\\t</div>\\n\\t\\t\\t\\t\\t\\t</li>\\n\\t\\t\\t\\t\\t\\t\\t\\t\\t\\t\\t<li>\\n\\t\\t\\t\\t\\t\\t\\t<div class=\"headline_row\" data-id=\"6\">\\n\\t\\t\\t\\t\\t\\t\\t\\t<a href=\"https://oilprice.com/Latest-Energy-News/World-News/IEA-Sees-Oil-Demand-Hitting-1006-Million-Bpd-By-End-2022.html\" class=\"full_parent\"></a>\\n\\t\\t\\t\\t\\t\\t\\t\\t<span class=\"time_ago\">17 hours</span>\\n\\t\\t\\t\\t\\t\\t\\t\\t<span class=\"article_name\">IEA Sees Oil Demand Hitting 100.6 Million Bpd By End-2022</span>\\n\\t\\t\\t\\t\\t\\t\\t</div>\\n\\t\\t\\t\\t\\t\\t</li>\\n\\t\\t\\t\\t\\t\\t\\t\\t\\t\\t\\t<li>\\n\\t\\t\\t\\t\\t\\t\\t<div class=\"headline_row\" data-id=\"7\">\\n\\t\\t\\t\\t\\t\\t\\t\\t<a href=\"https://oilprice.com/Latest-Energy-News/World-News/Saudi-Aramco-Raises-6-Billion-From-Fresh-Bond-Sale.html\" class=\"full_parent\"></a>\\n\\t\\t\\t\\t\\t\\t\\t\\t<span class=\"time_ago\">3 days</span>\\n\\t\\t\\t\\t\\t\\t\\t\\t<span class=\"article_name\">Saudi Aramco Raises $6 Billion From Fresh Bond Sale</span>\\n\\t\\t\\t\\t\\t\\t\\t</div>\\n\\t\\t\\t\\t\\t\\t</li>\\n\\t\\t\\t\\t\\t\\t\\t\\t\\t\\t\\t<li>\\n\\t\\t\\t\\t\\t\\t\\t<div class=\"headline_row\" data-id=\"8\">\\n\\t\\t\\t\\t\\t\\t\\t\\t<a href=\"https://oilprice.com/Latest-Energy-News/World-News/Norway-Isnt-Giving-Up-On-New-Oil-Development.html\" class=\"full_parent\"></a>\\n\\t\\t\\t\\t\\t\\t\\t\\t<span class=\"time_ago\">3 days</span>\\n\\t\\t\\t\\t\\t\\t\\t\\t<span class=\"article_name\">Norway Isn\\xe2\\x80\\x99t Giving Up On New Oil Development</span>\\n\\t\\t\\t\\t\\t\\t\\t</div>\\n\\t\\t\\t\\t\\t\\t</li>\\n\\t\\t\\t\\t\\t\\t\\t\\t\\t\\t\\t<li>\\n\\t\\t\\t\\t\\t\\t\\t<div class=\"headline_row\" data-id=\"9\">\\n\\t\\t\\t\\t\\t\\t\\t\\t<a href=\"https://oilprice.com/Latest-Energy-News/World-News/Iran-Nuclear-Talks-Head-For-Crucial-Weekend-Discussions.html\" class=\"full_parent\"></a>\\n\\t\\t\\t\\t\\t\\t\\t\\t<span class=\"time_ago\">4 days</span>\\n\\t\\t\\t\\t\\t\\t\\t\\t<span class=\"article_name\">Iran Nuclear Talks Head For Crucial Weekend Discussions</span>\\n\\t\\t\\t\\t\\t\\t\\t</div>\\n\\t\\t\\t\\t\\t\\t</li>\\n\\t\\t\\t\\t\\t\\t\\t\\t\\t\\t\\t<li>\\n\\t\\t\\t\\t\\t\\t\\t<div class=\"headline_row\" data-id=\"10\">\\n\\t\\t\\t\\t\\t\\t\\t\\t<a href=\"https://oilprice.com/Latest-Energy-News/World-News/Worlds-Top-Oil-Firms-Boosted-Q1-Combined-Profits-To-46-Billion.html\" class=\"full_parent\"></a>\\n\\t\\t\\t\\t\\t\\t\\t\\t<span class=\"time_ago\">4 days</span>\\n\\t\\t\\t\\t\\t\\t\\t\\t<span class=\"article_name\">World\\xe2\\x80\\x99s Top Oil Firms Boosted Q1 Combined Profits To $46 Billion</span>\\n\\t\\t\\t\\t\\t\\t\\t</div>\\n\\t\\t\\t\\t\\t\\t</li>\\n\\t\\t\\t\\t\\t\\t\\t\\t\\t\\t\\t<li>\\n\\t\\t\\t\\t\\t\\t\\t<div class=\"headline_row\" data-id=\"11\">\\n\\t\\t\\t\\t\\t\\t\\t\\t<a href=\"https://oilprice.com/Latest-Energy-News/World-News/California-Wildfires-Could-Spark-Fresh-Wave-Of-Blackouts.html\" class=\"full_parent\"></a>\\n\\t\\t\\t\\t\\t\\t\\t\\t<span class=\"time_ago\">4 days</span>\\n\\t\\t\\t\\t\\t\\t\\t\\t<span class=\"article_name\">California Wildfires Could Spark Fresh Wave Of Blackouts</span>\\n\\t\\t\\t\\t\\t\\t\\t</div>\\n\\t\\t\\t\\t\\t\\t</li>\\n\\t\\t\\t\\t\\t\\t\\t\\t\\t\\t\\t<li>\\n\\t\\t\\t\\t\\t\\t\\t<div class=\"headline_row\" data-id=\"12\">\\n\\t\\t\\t\\t\\t\\t\\t\\t<a href=\"https://oilprice.com/Latest-Energy-News/World-News/Canadas-Terra-Nova-Oilfield-Rescue-In-Jeopardy.html\" class=\"full_parent\"></a>\\n\\t\\t\\t\\t\\t\\t\\t\\t<span class=\"time_ago\">4 days</span>\\n\\t\\t\\t\\t\\t\\t\\t\\t<span class=\"article_name\">Canada\\'s Terra Nova Oilfield Rescue In Jeopardy</span>\\n\\t\\t\\t\\t\\t\\t\\t</div>\\n\\t\\t\\t\\t\\t\\t</li>\\n\\t\\t\\t\\t\\t\\t\\t\\t\\t\\t\\t<li>\\n\\t\\t\\t\\t\\t\\t\\t<div class=\"headline_row\" data-id=\"13\">\\n\\t\\t\\t\\t\\t\\t\\t\\t<a href=\"https://oilprice.com/Latest-Energy-News/World-News/Worlds-Largest-Copper-Miners-Leave-Money-On-The-Table-During-Epic-Rally.html\" class=\"full_parent\"></a>\\n\\t\\t\\t\\t\\t\\t\\t\\t<span class=\"time_ago\">4 days</span>\\n\\t\\t\\t\\t\\t\\t\\t\\t<span class=\"article_name\">World\\'s Largest Copper Miners Leave Money On The Table During Epic Rally</span>\\n\\t\\t\\t\\t\\t\\t\\t</div>\\n\\t\\t\\t\\t\\t\\t</li>\\n\\t\\t\\t\\t\\t\\t\\t\\t\\t\\t\\t<li>\\n\\t\\t\\t\\t\\t\\t\\t<div class=\"headline_row\" data-id=\"14\">\\n\\t\\t\\t\\t\\t\\t\\t\\t<a href=\"https://oilprice.com/Latest-Energy-News/World-News/Chinas-Solar-Industry-Begs-Producers-To-Please-Not-Hoard-Raw-Materials.html\" class=\"full_parent\"></a>\\n\\t\\t\\t\\t\\t\\t\\t\\t<span class=\"time_ago\">4 days</span>\\n\\t\\t\\t\\t\\t\\t\\t\\t<span class=\"article_name\">China\\'s Solar Industry Begs Producers To Please Not Hoard Raw Materials</span>\\n\\t\\t\\t\\t\\t\\t\\t</div>\\n\\t\\t\\t\\t\\t\\t</li>\\n\\t\\t\\t\\t\\t\\t\\t\\t\\t\\t\\t<li>\\n\\t\\t\\t\\t\\t\\t\\t<div class=\"headline_row\" data-id=\"15\">\\n\\t\\t\\t\\t\\t\\t\\t\\t<a href=\"https://oilprice.com/Latest-Energy-News/World-News/EU-To-Create-Social-Fund-To-Help-Households-Through-Energy-Transition.html\" class=\"full_parent\"></a>\\n\\t\\t\\t\\t\\t\\t\\t\\t<span class=\"time_ago\">5 days</span>\\n\\t\\t\\t\\t\\t\\t\\t\\t<span class=\"article_name\">EU To Create Social Fund To Help Households Through Energy Transition</span>\\n\\t\\t\\t\\t\\t\\t\\t</div>\\n\\t\\t\\t\\t\\t\\t</li>\\n\\t\\t\\t\\t\\t\\t\\t\\t\\t\\t\\t<li>\\n\\t\\t\\t\\t\\t\\t\\t<div class=\"headline_row\" data-id=\"16\">\\n\\t\\t\\t\\t\\t\\t\\t\\t<a href=\"https://oilprice.com/Latest-Energy-News/World-News/OPEC-Raised-Oil-Production-By-400000-Bpd-In-May.html\" class=\"full_parent\"></a>\\n\\t\\t\\t\\t\\t\\t\\t\\t<span class=\"time_ago\">5 days</span>\\n\\t\\t\\t\\t\\t\\t\\t\\t<span class=\"article_name\">OPEC Raised Oil Production By 400,000 Bpd In May</span>\\n\\t\\t\\t\\t\\t\\t\\t</div>\\n\\t\\t\\t\\t\\t\\t</li>\\n\\t\\t\\t\\t\\t\\t\\t\\t\\t\\t\\t<li>\\n\\t\\t\\t\\t\\t\\t\\t<div class=\"headline_row\" data-id=\"17\">\\n\\t\\t\\t\\t\\t\\t\\t\\t<a href=\"https://oilprice.com/Latest-Energy-News/World-News/Exxon-Strikes-More-Oil-Offshore-Guyana.html\" class=\"full_parent\"></a>\\n\\t\\t\\t\\t\\t\\t\\t\\t<span class=\"time_ago\">5 days</span>\\n\\t\\t\\t\\t\\t\\t\\t\\t<span class=\"article_name\">Exxon Strikes More Oil Offshore Guyana</span>\\n\\t\\t\\t\\t\\t\\t\\t</div>\\n\\t\\t\\t\\t\\t\\t</li>\\n\\t\\t\\t\\t\\t\\t\\t\\t\\t\\t\\t<li>\\n\\t\\t\\t\\t\\t\\t\\t<div class=\"headline_row\" data-id=\"18\">\\n\\t\\t\\t\\t\\t\\t\\t\\t<a href=\"https://oilprice.com/Latest-Energy-News/World-News/TC-Energy-Cancels-Critical-Keystone-XL-Pipeline.html\" class=\"full_parent\"></a>\\n\\t\\t\\t\\t\\t\\t\\t\\t<span class=\"time_ago\">5 days</span>\\n\\t\\t\\t\\t\\t\\t\\t\\t<span class=\"article_name\">TC Energy Cancels Critical Keystone XL Pipeline</span>\\n\\t\\t\\t\\t\\t\\t\\t</div>\\n\\t\\t\\t\\t\\t\\t</li>\\n\\t\\t\\t\\t\\t\\t\\t\\t\\t\\t\\t<li>\\n\\t\\t\\t\\t\\t\\t\\t<div class=\"headline_row\" data-id=\"19\">\\n\\t\\t\\t\\t\\t\\t\\t\\t<a href=\"https://oilprice.com/Latest-Energy-News/World-News/Iran-Says-Its-Ready-For-Speedy-Oil-Output-Hike.html\" class=\"full_parent\"></a>\\n\\t\\t\\t\\t\\t\\t\\t\\t<span class=\"time_ago\">5 days</span>\\n\\t\\t\\t\\t\\t\\t\\t\\t<span class=\"article_name\">Iran Says It\\'s Ready For Speedy Oil Output Hike</span>\\n\\t\\t\\t\\t\\t\\t\\t</div>\\n\\t\\t\\t\\t\\t\\t</li>\\n\\t\\t\\t\\t\\t\\t\\t\\t\\t\\t\\t<li>\\n\\t\\t\\t\\t\\t\\t\\t<div class=\"headline_row\" data-id=\"20\">\\n\\t\\t\\t\\t\\t\\t\\t\\t<a href=\"https://oilprice.com/Latest-Energy-News/World-News/Canadas-Top-Oil-Sands-Firms-Set-Up-Net-Zero-Emissions-Alliance.html\" class=\"full_parent\"></a>\\n\\t\\t\\t\\t\\t\\t\\t\\t<span class=\"time_ago\">6 days</span>\\n\\t\\t\\t\\t\\t\\t\\t\\t<span class=\"article_name\">Canada\\xe2\\x80\\x99s Top Oil Sands Firms Set Up Net-Zero Emissions Alliance</span>\\n\\t\\t\\t\\t\\t\\t\\t</div>\\n\\t\\t\\t\\t\\t\\t</li>\\n\\t\\t\\t\\t\\t\\t\\t\\t\\t\\t\\t<li>\\n\\t\\t\\t\\t\\t\\t\\t<div class=\"headline_row\" data-id=\"21\">\\n\\t\\t\\t\\t\\t\\t\\t\\t<a href=\"https://oilprice.com/Latest-Energy-News/World-News/Israeli-Minister-Calls-For-Scrapping-UAE-Oil-Pipeline-Deal.html\" class=\"full_parent\"></a>\\n\\t\\t\\t\\t\\t\\t\\t\\t<span class=\"time_ago\">6 days</span>\\n\\t\\t\\t\\t\\t\\t\\t\\t<span class=\"article_name\">Israeli Minister Calls For Scrapping UAE Oil Pipeline Deal</span>\\n\\t\\t\\t\\t\\t\\t\\t</div>\\n\\t\\t\\t\\t\\t\\t</li>\\n\\t\\t\\t\\t\\t\\t\\t\\t\\t\\t\\t<li>\\n\\t\\t\\t\\t\\t\\t\\t<div class=\"headline_row\" data-id=\"22\">\\n\\t\\t\\t\\t\\t\\t\\t\\t<a href=\"https://oilprice.com/Latest-Energy-News/World-News/This-EV-Startup-May-Be-About-To-Collapse.html\" class=\"full_parent\"></a>\\n\\t\\t\\t\\t\\t\\t\\t\\t<span class=\"time_ago\">6 days</span>\\n\\t\\t\\t\\t\\t\\t\\t\\t<span class=\"article_name\">This EV Startup May Be About To Collapse</span>\\n\\t\\t\\t\\t\\t\\t\\t</div>\\n\\t\\t\\t\\t\\t\\t</li>\\n\\t\\t\\t\\t\\t\\t\\t\\t\\t\\t\\t<li>\\n\\t\\t\\t\\t\\t\\t\\t<div class=\"headline_row\" data-id=\"23\">\\n\\t\\t\\t\\t\\t\\t\\t\\t<a href=\"https://oilprice.com/Latest-Energy-News/World-News/The-Permian-Has-Solved-Its-Natural-Gas-Pipeline-Shortage.html\" class=\"full_parent\"></a>\\n\\t\\t\\t\\t\\t\\t\\t\\t<span class=\"time_ago\">6 days</span>\\n\\t\\t\\t\\t\\t\\t\\t\\t<span class=\"article_name\">The Permian Has Solved Its Natural Gas Pipeline Shortage</span>\\n\\t\\t\\t\\t\\t\\t\\t</div>\\n\\t\\t\\t\\t\\t\\t</li>\\n\\t\\t\\t\\t\\t\\t\\t\\t\\t\\t\\t<li>\\n\\t\\t\\t\\t\\t\\t\\t<div class=\"headline_row\" data-id=\"24\">\\n\\t\\t\\t\\t\\t\\t\\t\\t<a href=\"https://oilprice.com/Latest-Energy-News/World-News/Oil-Prices-Climb-As-API-Report-Adds-To-Bullish-Sentiment.html\" class=\"full_parent\"></a>\\n\\t\\t\\t\\t\\t\\t\\t\\t<span class=\"time_ago\">6 days</span>\\n\\t\\t\\t\\t\\t\\t\\t\\t<span class=\"article_name\">Oil Prices Climb As API Report Adds To Bullish Sentiment</span>\\n\\t\\t\\t\\t\\t\\t\\t</div>\\n\\t\\t\\t\\t\\t\\t</li>\\n\\t\\t\\t\\t\\t\\t\\t\\t\\t\\t\\t<li>\\n\\t\\t\\t\\t\\t\\t\\t<div class=\"headline_row\" data-id=\"25\">\\n\\t\\t\\t\\t\\t\\t\\t\\t<a href=\"https://oilprice.com/Latest-Energy-News/World-News/US-Crude-Oil-Exports-Jump-To-Highest-Level-This-Year.html\" class=\"full_parent\"></a>\\n\\t\\t\\t\\t\\t\\t\\t\\t<span class=\"time_ago\">6 days</span>\\n\\t\\t\\t\\t\\t\\t\\t\\t<span class=\"article_name\">U.S. Crude Oil Exports Jump To Highest Level This Year</span>\\n\\t\\t\\t\\t\\t\\t\\t</div>\\n\\t\\t\\t\\t\\t\\t</li>\\n\\t\\t\\t\\t\\t\\t\\t\\t\\t\\t\\t<li>\\n\\t\\t\\t\\t\\t\\t\\t<div class=\"headline_row\" data-id=\"26\">\\n\\t\\t\\t\\t\\t\\t\\t\\t<a href=\"https://oilprice.com/Latest-Energy-News/World-News/Oil-Pipeline-Leak-Could-Force-Libya-To-Shut-In-60000-Bpd-Of-Production.html\" class=\"full_parent\"></a>\\n\\t\\t\\t\\t\\t\\t\\t\\t<span class=\"time_ago\">6 days</span>\\n\\t\\t\\t\\t\\t\\t\\t\\t<span class=\"article_name\">Oil Pipeline Leak Could Force Libya To Shut In 60,000 Bpd Of Production</span>\\n\\t\\t\\t\\t\\t\\t\\t</div>\\n\\t\\t\\t\\t\\t\\t</li>\\n\\t\\t\\t\\t\\t\\t\\t\\t\\t\\t\\t<li>\\n\\t\\t\\t\\t\\t\\t\\t<div class=\"headline_row\" data-id=\"27\">\\n\\t\\t\\t\\t\\t\\t\\t\\t<a href=\"https://oilprice.com/Latest-Energy-News/World-News/Will-Iraqs-40-Billion-Bet-On-Nuclear-Power-Solve-Its-Energy-Crisis.html\" class=\"full_parent\"></a>\\n\\t\\t\\t\\t\\t\\t\\t\\t<span class=\"time_ago\">6 days</span>\\n\\t\\t\\t\\t\\t\\t\\t\\t<span class=\"article_name\">Will Iraq\\xe2\\x80\\x99s $40 Billion Bet On Nuclear Power Solve Its Energy Crisis?</span>\\n\\t\\t\\t\\t\\t\\t\\t</div>\\n\\t\\t\\t\\t\\t\\t</li>\\n\\t\\t\\t\\t\\t\\t\\t\\t\\t\\t\\t<li>\\n\\t\\t\\t\\t\\t\\t\\t<div class=\"headline_row\" data-id=\"28\">\\n\\t\\t\\t\\t\\t\\t\\t\\t<a href=\"https://oilprice.com/Latest-Energy-News/World-News/US-Government-Considers-Making-Ransom-Payments-Illegal.html\" class=\"full_parent\"></a>\\n\\t\\t\\t\\t\\t\\t\\t\\t<span class=\"time_ago\">7 days</span>\\n\\t\\t\\t\\t\\t\\t\\t\\t<span class=\"article_name\">U.S. Government Considers Making Ransom Payments Illegal</span>\\n\\t\\t\\t\\t\\t\\t\\t</div>\\n\\t\\t\\t\\t\\t\\t</li>\\n\\t\\t\\t\\t\\t\\t\\t\\t\\t\\t\\t<li>\\n\\t\\t\\t\\t\\t\\t\\t<div class=\"headline_row\" data-id=\"29\">\\n\\t\\t\\t\\t\\t\\t\\t\\t<a href=\"https://oilprice.com/Latest-Energy-News/World-News/How-An-Oil-Pipeline-Hack-Sent-Bitcoin-Prices-Tumbling.html\" class=\"full_parent\"></a>\\n\\t\\t\\t\\t\\t\\t\\t\\t<span class=\"time_ago\">7 days</span>\\n\\t\\t\\t\\t\\t\\t\\t\\t<span class=\"article_name\">How An Oil Pipeline Hack Sent Bitcoin Prices Tumbling</span>\\n\\t\\t\\t\\t\\t\\t\\t</div>\\n\\t\\t\\t\\t\\t\\t</li>\\n\\t\\t\\t\\t\\t\\t\\t\\t\\t\\t\\t<li>\\n\\t\\t\\t\\t\\t\\t\\t<div class=\"headline_row\" data-id=\"30\">\\n\\t\\t\\t\\t\\t\\t\\t\\t<a href=\"https://oilprice.com/Latest-Energy-News/World-News/Tesla-Stock-Jumps-As-It-Claws-Back-Chinese-Market-Share.html\" class=\"full_parent\"></a>\\n\\t\\t\\t\\t\\t\\t\\t\\t<span class=\"time_ago\">7 days</span>\\n\\t\\t\\t\\t\\t\\t\\t\\t<span class=\"article_name\">Tesla Stock Jumps As It Claws Back Chinese Market Share</span>\\n\\t\\t\\t\\t\\t\\t\\t</div>\\n\\t\\t\\t\\t\\t\\t</li>\\n\\t\\t\\t\\t\\t\\t\\t\\t\\t\\t\\t<li>\\n\\t\\t\\t\\t\\t\\t\\t<div class=\"headline_row\" data-id=\"31\">\\n\\t\\t\\t\\t\\t\\t\\t\\t<a href=\"https://oilprice.com/Latest-Energy-News/World-News/Mega-Merger-Creates-A-57-Billion-US-Shale-Giant.html\" class=\"full_parent\"></a>\\n\\t\\t\\t\\t\\t\\t\\t\\t<span class=\"time_ago\">7 days</span>\\n\\t\\t\\t\\t\\t\\t\\t\\t<span class=\"article_name\">Mega-Merger Creates A $5.7 Billion U.S. Shale Giant</span>\\n\\t\\t\\t\\t\\t\\t\\t</div>\\n\\t\\t\\t\\t\\t\\t</li>\\n\\t\\t\\t\\t\\t\\t\\t\\t\\t\\t\\t<li>\\n\\t\\t\\t\\t\\t\\t\\t<div class=\"headline_row\" data-id=\"32\">\\n\\t\\t\\t\\t\\t\\t\\t\\t<a href=\"https://oilprice.com/Latest-Energy-News/World-News/Iranian-Diplomat-Discusses-Oil-Agenda-With-OPEC-Chief.html\" class=\"full_parent\"></a>\\n\\t\\t\\t\\t\\t\\t\\t\\t<span class=\"time_ago\">7 days</span>\\n\\t\\t\\t\\t\\t\\t\\t\\t<span class=\"article_name\">Iranian Diplomat Discusses Oil Agenda With OPEC Chief</span>\\n\\t\\t\\t\\t\\t\\t\\t</div>\\n\\t\\t\\t\\t\\t\\t</li>\\n\\t\\t\\t\\t\\t\\t\\t\\t\\t\\t\\t<li>\\n\\t\\t\\t\\t\\t\\t\\t<div class=\"headline_row\" data-id=\"33\">\\n\\t\\t\\t\\t\\t\\t\\t\\t<a href=\"https://oilprice.com/Latest-Energy-News/World-News/US-Claws-Back-Millions-From-Pipeline-Ransomware-Attackers.html\" class=\"full_parent\"></a>\\n\\t\\t\\t\\t\\t\\t\\t\\t<span class=\"time_ago\">7 days</span>\\n\\t\\t\\t\\t\\t\\t\\t\\t<span class=\"article_name\">U.S. Claws Back Millions From Pipeline Ransomware Attackers</span>\\n\\t\\t\\t\\t\\t\\t\\t</div>\\n\\t\\t\\t\\t\\t\\t</li>\\n\\t\\t\\t\\t\\t\\t\\t\\t\\t\\t\\t<li>\\n\\t\\t\\t\\t\\t\\t\\t<div class=\"headline_row\" data-id=\"34\">\\n\\t\\t\\t\\t\\t\\t\\t\\t<a href=\"https://oilprice.com/Latest-Energy-News/World-News/North-Sea-Oil-Floating-Off-Europe-Could-Signal-Weak-Asian-Demand.html\" class=\"full_parent\"></a>\\n\\t\\t\\t\\t\\t\\t\\t\\t<span class=\"time_ago\">7 days</span>\\n\\t\\t\\t\\t\\t\\t\\t\\t<span class=\"article_name\">North Sea Oil Floating Off Europe Could Signal Weak Asian Demand</span>\\n\\t\\t\\t\\t\\t\\t\\t</div>\\n\\t\\t\\t\\t\\t\\t</li>\\n\\t\\t\\t\\t\\t\\t\\t\\t\\t\\t\\t<li>\\n\\t\\t\\t\\t\\t\\t\\t<div class=\"headline_row\" data-id=\"35\">\\n\\t\\t\\t\\t\\t\\t\\t\\t<a href=\"https://oilprice.com/Latest-Energy-News/World-News/OPEC-Head-Global-Oil-Inventories-Will-Continue-To-Draw-Down.html\" class=\"full_parent\"></a>\\n\\t\\t\\t\\t\\t\\t\\t\\t<span class=\"time_ago\">8 days</span>\\n\\t\\t\\t\\t\\t\\t\\t\\t<span class=\"article_name\">OPEC Head: Global Oil Inventories Will Continue To Draw Down</span>\\n\\t\\t\\t\\t\\t\\t\\t</div>\\n\\t\\t\\t\\t\\t\\t</li>\\n\\t\\t\\t\\t\\t\\t\\t\\t\\t\\t\\t<li>\\n\\t\\t\\t\\t\\t\\t\\t<div class=\"headline_row\" data-id=\"36\">\\n\\t\\t\\t\\t\\t\\t\\t\\t<a href=\"https://oilprice.com/Latest-Energy-News/World-News/Scientists-Find-Cheap-And-Easy-Way-To-Extract-Lithium-From-Seawater.html\" class=\"full_parent\"></a>\\n\\t\\t\\t\\t\\t\\t\\t\\t<span class=\"time_ago\">8 days</span>\\n\\t\\t\\t\\t\\t\\t\\t\\t<span class=\"article_name\">Scientists Find Cheap And Easy Way To Extract Lithium From Seawater</span>\\n\\t\\t\\t\\t\\t\\t\\t</div>\\n\\t\\t\\t\\t\\t\\t</li>\\n\\t\\t\\t\\t\\t\\t\\t\\t\\t\\t\\t<li>\\n\\t\\t\\t\\t\\t\\t\\t<div class=\"headline_row\" data-id=\"37\">\\n\\t\\t\\t\\t\\t\\t\\t\\t<a href=\"https://oilprice.com/Latest-Energy-News/World-News/EU-Approves-21B-Green-Transition-Fund.html\" class=\"full_parent\"></a>\\n\\t\\t\\t\\t\\t\\t\\t\\t<span class=\"time_ago\">8 days</span>\\n\\t\\t\\t\\t\\t\\t\\t\\t<span class=\"article_name\">EU Approves $21B Green Transition Fund</span>\\n\\t\\t\\t\\t\\t\\t\\t</div>\\n\\t\\t\\t\\t\\t\\t</li>\\n\\t\\t\\t\\t\\t\\t\\t\\t\\t\\t\\t<li>\\n\\t\\t\\t\\t\\t\\t\\t<div class=\"headline_row\" data-id=\"38\">\\n\\t\\t\\t\\t\\t\\t\\t\\t<a href=\"https://oilprice.com/Latest-Energy-News/World-News/Renewables-Was-Sole-US-Energy-Source-With-Rising-Consumption-In-2020.html\" class=\"full_parent\"></a>\\n\\t\\t\\t\\t\\t\\t\\t\\t<span class=\"time_ago\">8 days</span>\\n\\t\\t\\t\\t\\t\\t\\t\\t<span class=\"article_name\">Renewables Was Sole U.S. Energy Source With Rising Consumption In 2020</span>\\n\\t\\t\\t\\t\\t\\t\\t</div>\\n\\t\\t\\t\\t\\t\\t</li>\\n\\t\\t\\t\\t\\t\\t\\t\\t\\t\\t\\t<li>\\n\\t\\t\\t\\t\\t\\t\\t<div class=\"headline_row\" data-id=\"39\">\\n\\t\\t\\t\\t\\t\\t\\t\\t<a href=\"https://oilprice.com/Latest-Energy-News/World-News/Russia-Claims-Its-Compliance-With-OPEC-Cuts-Was-Almost-100-In-May.html\" class=\"full_parent\"></a>\\n\\t\\t\\t\\t\\t\\t\\t\\t<span class=\"time_ago\">11 days</span>\\n\\t\\t\\t\\t\\t\\t\\t\\t<span class=\"article_name\">Russia Claims Its Compliance With OPEC+ Cuts Was Almost 100% In May</span>\\n\\t\\t\\t\\t\\t\\t\\t</div>\\n\\t\\t\\t\\t\\t\\t</li>\\n\\t\\t\\t\\t\\t\\t\\t\\t\\t</ul>\\n\\t\\t\\t</div>\\n\\t\\t\\t<div class=\"community_block toggle_block\">\\n\\t\\t\\t\\t<ul>\\n\\t\\t\\t\\t\\t\\t\\t\\t\\t\\t\\t<li>\\n\\t\\t\\t\\t\\t\\t\\t<div class=\"headline_row\" data-id=\"0\">\\n\\t\\t\\t\\t\\t\\t\\t\\t<a target=\"_blank\" href=\"https://community.oilprice.com/topic/23538-electric-cars-may-make-driving-too-expensive-for-middle-classes-warns-vauxhall-chief/\" class=\"full_parent\"></a>\\n\\t\\t\\t\\t\\t\\t\\t\\t<span class=\"time_ago\">4 minutes</span>\\n\\t\\t\\t\\t\\t\\t\\t\\t<span class=\"article_name\">Electric cars may make driving too expensive for middle classes, warns Vauxhall chief</span>\\n\\t\\t\\t\\t\\t\\t\\t</div>\\n\\t\\t\\t\\t\\t\\t</li>\\n\\t\\t\\t\\t\\t\\t\\t\\t\\t\\t\\t<li>\\n\\t\\t\\t\\t\\t\\t\\t<div class=\"headline_row\" data-id=\"1\">\\n\\t\\t\\t\\t\\t\\t\\t\\t<a target=\"_blank\" href=\"https://community.oilprice.com/topic/23081-natural-gas-mobility-for-heavy-duty-trucks/\" class=\"full_parent\"></a>\\n\\t\\t\\t\\t\\t\\t\\t\\t<span class=\"time_ago\">7 minutes</span>\\n\\t\\t\\t\\t\\t\\t\\t\\t<span class=\"article_name\">Natural gas mobility for heavy duty trucks</span>\\n\\t\\t\\t\\t\\t\\t\\t</div>\\n\\t\\t\\t\\t\\t\\t</li>\\n\\t\\t\\t\\t\\t\\t\\t\\t\\t\\t\\t<li>\\n\\t\\t\\t\\t\\t\\t\\t<div class=\"headline_row\" data-id=\"2\">\\n\\t\\t\\t\\t\\t\\t\\t\\t<a target=\"_blank\" href=\"https://community.oilprice.com/topic/23430-5-star-article-by-irina-slav-the-ugly-truth-about-renewable-power/\" class=\"full_parent\"></a>\\n\\t\\t\\t\\t\\t\\t\\t\\t<span class=\"time_ago\">9 minutes</span>\\n\\t\\t\\t\\t\\t\\t\\t\\t<span class=\"article_name\">*****5 STAR Article by Irina Slav - \"The Ugly Truth About Renewable Power\"</span>\\n\\t\\t\\t\\t\\t\\t\\t</div>\\n\\t\\t\\t\\t\\t\\t</li>\\n\\t\\t\\t\\t\\t\\t\\t\\t\\t\\t\\t<li>\\n\\t\\t\\t\\t\\t\\t\\t<div class=\"headline_row\" data-id=\"3\">\\n\\t\\t\\t\\t\\t\\t\\t\\t<a target=\"_blank\" href=\"https://community.oilprice.com/topic/21472-us-presidential-elections-status-electoral-votes/\" class=\"full_parent\"></a>\\n\\t\\t\\t\\t\\t\\t\\t\\t<span class=\"time_ago\">1 hour</span>\\n\\t\\t\\t\\t\\t\\t\\t\\t<span class=\"article_name\">U.S. Presidential Elections Status - Electoral Votes</span>\\n\\t\\t\\t\\t\\t\\t\\t</div>\\n\\t\\t\\t\\t\\t\\t</li>\\n\\t\\t\\t\\t\\t\\t\\t\\t\\t\\t\\t<li>\\n\\t\\t\\t\\t\\t\\t\\t<div class=\"headline_row\" data-id=\"4\">\\n\\t\\t\\t\\t\\t\\t\\t\\t<a target=\"_blank\" href=\"https://community.oilprice.com/topic/23356-green-new-deal-blizzard-of-lies/\" class=\"full_parent\"></a>\\n\\t\\t\\t\\t\\t\\t\\t\\t<span class=\"time_ago\">2 hours</span>\\n\\t\\t\\t\\t\\t\\t\\t\\t<span class=\"article_name\">GREEN NEW DEAL = BLIZZARD OF LIES</span>\\n\\t\\t\\t\\t\\t\\t\\t</div>\\n\\t\\t\\t\\t\\t\\t</li>\\n\\t\\t\\t\\t\\t\\t\\t\\t\\t\\t\\t<li>\\n\\t\\t\\t\\t\\t\\t\\t<div class=\"headline_row\" data-id=\"5\">\\n\\t\\t\\t\\t\\t\\t\\t\\t<a target=\"_blank\" href=\"https://community.oilprice.com/topic/23775-colonial-pipeline-hack/\" class=\"full_parent\"></a>\\n\\t\\t\\t\\t\\t\\t\\t\\t<span class=\"time_ago\">1 day</span>\\n\\t\\t\\t\\t\\t\\t\\t\\t<span class=\"article_name\">Colonial pipeline hack</span>\\n\\t\\t\\t\\t\\t\\t\\t</div>\\n\\t\\t\\t\\t\\t\\t</li>\\n\\t\\t\\t\\t\\t\\t\\t\\t\\t\\t\\t<li>\\n\\t\\t\\t\\t\\t\\t\\t<div class=\"headline_row\" data-id=\"6\">\\n\\t\\t\\t\\t\\t\\t\\t\\t<a target=\"_blank\" href=\"https://community.oilprice.com/topic/23821-succession-planning-in-human-resources-for-vaccinated-individuals-in-the-oil-gas-industry/\" class=\"full_parent\"></a>\\n\\t\\t\\t\\t\\t\\t\\t\\t<span class=\"time_ago\">1 hour</span>\\n\\t\\t\\t\\t\\t\\t\\t\\t<span class=\"article_name\">Succession Planning in Human Resources for Vaccinated Individuals in the Oil & Gas Industry</span>\\n\\t\\t\\t\\t\\t\\t\\t</div>\\n\\t\\t\\t\\t\\t\\t</li>\\n\\t\\t\\t\\t\\t\\t\\t\\t\\t</ul>\\n\\t\\t\\t</div>\\n\\t\\t\\t<div class=\"products_block toggle_block hidden\">\\n                <ul>\\n\\t\\t\\t\\t\\t\\t\\t\\t\\t\\t\\t<li>\\n\\t\\t\\t\\t\\t\\t\\t<div class=\"headline_row\" data-id=\"0\">\\n\\t\\t\\t\\t\\t\\t\\t\\t<a href=\"https://www.opcmarkets.com/account-creation/register.php?intent_group=buyselltrader=https://www.opcmarkets.com/account-creation/register.php?utm_source=oil%20price&utm_medium=buysell&utm_campaign=buysell&utm_content=reg%20funnel&pid=oilprice.com\" class=\"full_parent products_link\" target=\"_blank\"></a>\\n\\t\\t\\t\\t\\t\\t\\t\\t<span class=\"stock_name\"></span>\\n\\t\\t\\t\\t\\t\\t\\t\\t<a class=\"sell\" target=\"_blank\">Sell</a>\\n\\t\\t\\t\\t\\t\\t\\t\\t<a class=\"buy\" target=\"_blank\">Buy</a>\\n\\t\\t\\t\\t\\t\\t\\t\\t<span class=\"stock_price\"></span>\\n\\t\\t\\t\\t\\t\\t\\t\\t<span class=\"stock_change\"></span>\\n\\t\\t\\t\\t\\t\\t\\t</div>\\n\\t\\t\\t\\t\\t\\t</li>\\n\\t\\t\\t\\t\\t\\t\\t\\t\\t\\t\\t\\t<li>\\n\\t\\t\\t\\t\\t\\t\\t<div class=\"headline_row\" data-id=\"1\">\\n\\t\\t\\t\\t\\t\\t\\t\\t<a href=\"https://www.opcmarkets.com/account-creation/register.php?intent_group=buyselltrader=https://www.opcmarkets.com/account-creation/register.php?utm_source=oil%20price&utm_medium=buysell&utm_campaign=buysell&utm_content=reg%20funnel&pid=oilprice.com\" class=\"full_parent products_link\" target=\"_blank\"></a>\\n\\t\\t\\t\\t\\t\\t\\t\\t<span class=\"stock_name\"></span>\\n\\t\\t\\t\\t\\t\\t\\t\\t<a class=\"sell\" target=\"_blank\">Sell</a>\\n\\t\\t\\t\\t\\t\\t\\t\\t<a class=\"buy\" target=\"_blank\">Buy</a>\\n\\t\\t\\t\\t\\t\\t\\t\\t<span class=\"stock_price\"></span>\\n\\t\\t\\t\\t\\t\\t\\t\\t<span class=\"stock_change\"></span>\\n\\t\\t\\t\\t\\t\\t\\t</div>\\n\\t\\t\\t\\t\\t\\t</li>\\n\\t\\t\\t\\t\\t\\t\\t\\t\\t\\t\\t\\t<li>\\n\\t\\t\\t\\t\\t\\t\\t<div class=\"headline_row\" data-id=\"2\">\\n\\t\\t\\t\\t\\t\\t\\t\\t<a href=\"https://www.opcmarkets.com/account-creation/register.php?intent_group=buyselltrader=https://www.opcmarkets.com/account-creation/register.php?utm_source=oil%20price&utm_medium=buysell&utm_campaign=buysell&utm_content=reg%20funnel&pid=oilprice.com\" class=\"full_parent products_link\" target=\"_blank\"></a>\\n\\t\\t\\t\\t\\t\\t\\t\\t<span class=\"stock_name\"></span>\\n\\t\\t\\t\\t\\t\\t\\t\\t<a class=\"sell\" target=\"_blank\">Sell</a>\\n\\t\\t\\t\\t\\t\\t\\t\\t<a class=\"buy\" target=\"_blank\">Buy</a>\\n\\t\\t\\t\\t\\t\\t\\t\\t<span class=\"stock_price\"></span>\\n\\t\\t\\t\\t\\t\\t\\t\\t<span class=\"stock_change\"></span>\\n\\t\\t\\t\\t\\t\\t\\t</div>\\n\\t\\t\\t\\t\\t\\t</li>\\n\\t\\t\\t\\t\\t\\t\\t\\t\\t\\t\\t\\t<li>\\n\\t\\t\\t\\t\\t\\t\\t<div class=\"headline_row\" data-id=\"3\">\\n\\t\\t\\t\\t\\t\\t\\t\\t<a href=\"https://www.opcmarkets.com/account-creation/register.php?intent_group=buyselltrader=https://www.opcmarkets.com/account-creation/register.php?utm_source=oil%20price&utm_medium=buysell&utm_campaign=buysell&utm_content=reg%20funnel&pid=oilprice.com\" class=\"full_parent products_link\" target=\"_blank\"></a>\\n\\t\\t\\t\\t\\t\\t\\t\\t<span class=\"stock_name\"></span>\\n\\t\\t\\t\\t\\t\\t\\t\\t<a class=\"sell\" target=\"_blank\">Sell</a>\\n\\t\\t\\t\\t\\t\\t\\t\\t<a class=\"buy\" target=\"_blank\">Buy</a>\\n\\t\\t\\t\\t\\t\\t\\t\\t<span class=\"stock_price\"></span>\\n\\t\\t\\t\\t\\t\\t\\t\\t<span class=\"stock_change\"></span>\\n\\t\\t\\t\\t\\t\\t\\t</div>\\n\\t\\t\\t\\t\\t\\t</li>\\n\\t\\t\\t\\t\\t\\t\\t\\t\\t\\t\\t\\t<li>\\n\\t\\t\\t\\t\\t\\t\\t<div class=\"headline_row\" data-id=\"4\">\\n\\t\\t\\t\\t\\t\\t\\t\\t<a href=\"https://www.opcmarkets.com/account-creation/register.php?intent_group=buyselltrader=https://www.opcmarkets.com/account-creation/register.php?utm_source=oil%20price&utm_medium=buysell&utm_campaign=buysell&utm_content=reg%20funnel&pid=oilprice.com\" class=\"full_parent products_link\" target=\"_blank\"></a>\\n\\t\\t\\t\\t\\t\\t\\t\\t<span class=\"stock_name\"></span>\\n\\t\\t\\t\\t\\t\\t\\t\\t<a class=\"sell\" target=\"_blank\">Sell</a>\\n\\t\\t\\t\\t\\t\\t\\t\\t<a class=\"buy\" target=\"_blank\">Buy</a>\\n\\t\\t\\t\\t\\t\\t\\t\\t<span class=\"stock_price\"></span>\\n\\t\\t\\t\\t\\t\\t\\t\\t<span class=\"stock_change\"></span>\\n\\t\\t\\t\\t\\t\\t\\t</div>\\n\\t\\t\\t\\t\\t\\t</li>\\n\\t\\t\\t\\t\\t\\t                </ul>\\n            </div>\\n\\t\\t</div>\\n\\t</div>\\n</div>\\t\\t<div class=\"breakingNews\">\\n\\t\\t<div class=\"siteContainer siteContainer--relativePosition\">\\n\\t\\t\\t<h3 class=\"breakingNews__title\">Breaking News:</h3> <p class=\"breakingNews__headline\"><a href=\"https://oilprice.com/Latest-Energy-News/World-News/US-Shale-Oil-Production-Set-To-Grow-By-38000-Bpd-Next-Month.html\">U.S. Shale Oil Production Set To Grow By 38,000 Bpd Next Month</a></p>\\n\\t\\t\\t<p class=\"breakingNews__socialMedia\">\\n\\t\\t\\t\\t<span>Find us on:</span>\\n\\t\\t\\t\\t<a class=\"breakingNews__socialLink\" href=\"https://www.facebook.com/oilpricenews\" rel=\"external\"><i class=\"fab fa-facebook-f\"></i></a>\\n\\t\\t\\t\\t<a class=\"breakingNews__socialLink\" href=\"https://twitter.com/OilandEnergy\" rel=\"external\"><i class=\"fab fa-twitter\"></i></a>\\n\\t\\t\\t\\t<a class=\"breakingNews__socialLink\" href=\"https://www.linkedin.com/company/oilprice-com?report%2Esuccess=KJ_KkFGTDCfMt-A7wV3Fn9Yvgwr02Kd6AZHGx4bQCDiP6-2rfP2oxyVoEQiPrcAQ7Bf\" rel=\"external\"><i class=\"fab fa-linkedin\"></i></a>\\n\\t\\t\\t\\t<a class=\"breakingNews__socialLink\" href=\"https://feeds.feedburner.com/oilpricecom\" rel=\"external publisher\"><i class=\"icon-feedburner\"></i><!--<img src=\"https://d1o9e4un86hhpc.cloudfront.net/a/img/common/icon-feedburner.png\" height=\"14\" width=\"13\" alt=\"Feedburner\">--></a>\\n\\t\\t\\t\\t<a class=\"breakingNews__socialLink\" href=\"https://oilprice.com/rss/main\" rel=\"external\"><i class=\"fa fa-rss\"></i></a>\\n\\t\\t\\t\\t<a class=\"header_toggle\">\\n\\t\\t\\t\\t\\t<i class=\"fa fa-caret-up\" aria-hidden=\"true\"></i>\\n\\t\\t\\t\\t</a>\\t\\t\\t</p>\\n\\t\\t\\t<!-- /.breakingNews__socialMedia -->\\n\\t\\t\\t\\n\\t\\t\\t\\n\\t\\t</div>\\n\\t\\t<!-- /.siteContainer -->\\n\\t</div>\\n\\t<!-- /.breakingNews -->\\n\\t\\t\\t<div id=\"pagecontent\">\\n\\t\\t<div id=\"pageContent\" class=\"siteContainer\">\\n\\n\\t<ol class=\"breadcrumbs\" itemscope itemtype=\"https://schema.org/BreadcrumbList\">\\n\\t\\t<li itemprop=\"itemListElement\" itemscope itemtype=\"https://schema.org/ListItem\">\\n\\t\\t\\t<a itemprop=\"item\" href=\"https://oilprice.com/\" class=\"first\">\\n\\t\\t\\t<span itemprop=\"name\">Home</span></a>\\n\\t\\t\\t<meta itemprop=\"position\" content=\"1\"/>\\n\\t\\t</li>\\n\\t\\t<li itemprop=\"itemListElement\" itemscope itemtype=\"https://schema.org/ListItem\">\\n\\t\\t\\t<a itemprop=\"item\" href=\"https://oilprice.com/search/index\">\\n\\t\\t\\t<span itemprop=\"name\">Search</span></a>\\n\\t\\t\\t<meta itemprop=\"position\" content=\"2\"/>\\n\\t\\t</li>\\n\\t\\t<li itemprop=\"itemListElement\" itemscope itemtype=\"https://schema.org/ListItem\">\\n\\t\\t\\t<span itemprop=\"name\">natural gas price</span>\\n\\t\\t\\t<meta itemprop=\"position\" content=\"3\"/>\\n\\t\\t</li>\\n\\t</ol>\\n\\n\\t<h1>&quot;Natural Gas Price&quot; Articles</h1>\\n\\t<p>Please find results of your search below. You can see results from our main site or from our News and Events section.</p>\\n\\n\\t<ul id=\"searchtabs\" class=\"clear\">\\n\\t\\t<li id=\"tab-articles\" class=\"first articles on\"><a href=\"https://oilprice.com/search/tab/articles/natural_gas_price\">Articles <span>(10,800)</span></a></li>\\n\\t\\t<li id=\"tab-news\" class=\"news\"><a href=\"https://oilprice.com/search/tab/news/natural_gas_price\">News <span>(4,062)</span></a></li>\\n\\t\\t<li id=\"tab-pressreleases\" class=\"pressreleases\"><a href=\"https://oilprice.com/search/tab/pressreleases/natural_gas_price\">Company News <span>(0)</span></a></li>\\n\\t\\t<li id=\"tab-interviews\" class=\"interviews\"><a href=\"https://oilprice.com/search/tab/interviews/natural_gas_price\">Interviews <span>(58)</span></a></li>\\n\\t</ul>\\n\\t\\n\\t\\t\\t<div id=\"search-results-articles\" class=\"search-results\">\\n\\t\\t\\t\\t\\t\\t\\t<ul>\\n\\t\\t\\t\\t\\t\\t\\t\\t\\t\\t<li>\\n\\t\\t\\t\\t\\t\\t\\t<h3><a href=\"https://oilprice.com/Energy/Energy-General/The-UAE-Is-Poised-To-Become-The-Next-Middle-East-Energy-Giant.html\">The UAE Is Poised To Become The Next Middle East Energy Giant</a></h3>\\n\\t\\t\\t\\t\\t\\t\\t<div class=\"dateadded\">14 June 2021</div>\\n\\t\\t\\t\\t\\t\\t\\t<p>Saudi Arabia is synonymous with oil, the EU is obsessed with renewable energy, and the U.S. is the world\\'s leading&#8230;</p>\\n\\t\\t\\t\\t\\t\\t</li>\\n\\t\\t\\t\\t\\t\\t\\t\\t\\t\\t\\t\\t<li>\\n\\t\\t\\t\\t\\t\\t\\t<h3><a href=\"https://oilprice.com/Energy/Energy-General/The-Renewable-Energy-Revolution-Has-A-Major-Employment-Problem.html\">The Renewable Energy Revolution Has A Major Employment Problem</a></h3>\\n\\t\\t\\t\\t\\t\\t\\t<div class=\"dateadded\">14 June 2021</div>\\n\\t\\t\\t\\t\\t\\t\\t<p>Renewable energy is going gangbusters. The &ldquo;remarkable and unstoppable growth of green energy&rdquo; has been on the horizon for a&#8230;</p>\\n\\t\\t\\t\\t\\t\\t</li>\\n\\t\\t\\t\\t\\t\\t\\t\\t\\t\\t\\t\\t<li>\\n\\t\\t\\t\\t\\t\\t\\t<h3><a href=\"https://oilprice.com/Energy/Energy-General/Energy-Transition-Forces-LNG-Industry-To-Cut-Emissions.html\">Energy Transition Forces LNG Industry To Cut Emissions</a></h3>\\n\\t\\t\\t\\t\\t\\t\\t<div class=\"dateadded\">11 June 2021</div>\\n\\t\\t\\t\\t\\t\\t\\t<p>In just a few years, the image of natural gas markedly shifted from the bridge fuel of the energy transition&#8230;</p>\\n\\t\\t\\t\\t\\t\\t</li>\\n\\t\\t\\t\\t\\t\\t\\t\\t\\t\\t\\t\\t<li>\\n\\t\\t\\t\\t\\t\\t\\t<h3><a href=\"https://oilprice.com/Energy/Oil-Prices/Solving-Nigerias-Gasoline-Crisis.html\">Solving Nigeria\\xe2\\x80\\x99s Gasoline Crisis</a></h3>\\n\\t\\t\\t\\t\\t\\t\\t<div class=\"dateadded\">11 June 2021</div>\\n\\t\\t\\t\\t\\t\\t\\t<p>The world of Nigerian refining is an enigma shrouded in a mystery. Although the story of Nigeria&rsquo;s refining has been&#8230;</p>\\n\\t\\t\\t\\t\\t\\t</li>\\n\\t\\t\\t\\t\\t\\t\\t\\t\\t\\t\\t\\t<li>\\n\\t\\t\\t\\t\\t\\t\\t<h3><a href=\"https://oilprice.com/Energy/Natural-Gas/Chinas-Pivot-To-Gas-Is-Fueling-Support-In-LNG-Demand.html\">China\\xe2\\x80\\x99s Pivot To Gas Is Fueling Support In LNG Demand</a></h3>\\n\\t\\t\\t\\t\\t\\t\\t<div class=\"dateadded\">11 June 2021</div>\\n\\t\\t\\t\\t\\t\\t\\t<p>Global economic recovery is gradually taking shape as the spread of the coronavirus is slowing in most countries due to&#8230;</p>\\n\\t\\t\\t\\t\\t\\t</li>\\n\\t\\t\\t\\t\\t\\t\\t\\t\\t\\t\\t\\t<li>\\n\\t\\t\\t\\t\\t\\t\\t<h3><a href=\"https://oilprice.com/Energy/Energy-General/IEA-Tells-OPEC-To-Open-The-Taps.html\">IEA Tells OPEC To \\xe2\\x80\\x9cOpen The Taps\\xe2\\x80\\x9d</a></h3>\\n\\t\\t\\t\\t\\t\\t\\t<div class=\"dateadded\">11 June 2021</div>\\n\\t\\t\\t\\t\\t\\t\\t<p>Oil prices climbed on Friday as the IEA boosted optimism about global oil demand recovery.Friday, June 11th, 2021Oil prices showed&#8230;</p>\\n\\t\\t\\t\\t\\t\\t</li>\\n\\t\\t\\t\\t\\t\\t\\t\\t\\t\\t\\t\\t<li>\\n\\t\\t\\t\\t\\t\\t\\t<h3><a href=\"https://oilprice.com/Energy/Natural-Gas/Turkey-Makes-Moves-To-Become-An-Energy-Hub.html\">Turkey Makes Moves To Become An Energy Hub</a></h3>\\n\\t\\t\\t\\t\\t\\t\\t<div class=\"dateadded\">11 June 2021</div>\\n\\t\\t\\t\\t\\t\\t\\t<p>Turkey has dreamed about becoming an energy hub for decades, and as East Mediterranean offshore energy projects develop, it seems&#8230;</p>\\n\\t\\t\\t\\t\\t\\t</li>\\n\\t\\t\\t\\t\\t\\t\\t\\t\\t\\t\\t\\t<li>\\n\\t\\t\\t\\t\\t\\t\\t<h3><a href=\"https://oilprice.com/Energy/Crude-Oil/Is-This-The-Most-Exciting-Oil-Play-Of-The-Last-20-Years.html\">Is This The Most Exciting Oil Play Of The Last 20 Years?</a></h3>\\n\\t\\t\\t\\t\\t\\t\\t<div class=\"dateadded\">10 June 2021</div>\\n\\t\\t\\t\\t\\t\\t\\t<p>The African nation of Namibia has never produced a barrel of oil in its history. Now, for the second time&#8230;</p>\\n\\t\\t\\t\\t\\t\\t</li>\\n\\t\\t\\t\\t\\t\\t\\t\\t\\t\\t\\t\\t<li>\\n\\t\\t\\t\\t\\t\\t\\t<h3><a href=\"https://oilprice.com/Energy/Natural-Gas/US-LNG-Exports-Set-For-Another-Record-High-This-Year.html\">U.S. LNG Exports Set For Another Record High This Year</a></h3>\\n\\t\\t\\t\\t\\t\\t\\t<div class=\"dateadded\">10 June 2021</div>\\n\\t\\t\\t\\t\\t\\t\\t<p>U.S. exports of liquefied natural gas (LNG) are set to surge this year from the already record levels in 2020&#8230;</p>\\n\\t\\t\\t\\t\\t\\t</li>\\n\\t\\t\\t\\t\\t\\t\\t\\t\\t\\t\\t\\t<li>\\n\\t\\t\\t\\t\\t\\t\\t<h3><a href=\"https://oilprice.com/Energy/Energy-General/Can-Oil-Sands-Be-Banned.html\">Can Oil Sands Be Banned?</a></h3>\\n\\t\\t\\t\\t\\t\\t\\t<div class=\"dateadded\">10 June 2021</div>\\n\\t\\t\\t\\t\\t\\t\\t<p>The boardroom wars around ExxonMobil, a district court in the Hague ruling Shell should speed up its emissions cutting above&#8230;</p>\\n\\t\\t\\t\\t\\t\\t</li>\\n\\t\\t\\t\\t\\t\\t\\t\\t\\t\\t\\t\\t<li>\\n\\t\\t\\t\\t\\t\\t\\t<h3><a href=\"https://oilprice.com/Energy/Energy-General/China-About-To-Become-Top-LNG-Importer-This-Year.html\">China About To Become Top LNG Importer This Year</a></h3>\\n\\t\\t\\t\\t\\t\\t\\t<div class=\"dateadded\">10 June 2021</div>\\n\\t\\t\\t\\t\\t\\t\\t<p>China will this year overtake Japan as the world&rsquo;s largest importer of liquefied natural gas, ICIS Edge, a service of&#8230;</p>\\n\\t\\t\\t\\t\\t\\t</li>\\n\\t\\t\\t\\t\\t\\t\\t\\t\\t\\t\\t\\t<li>\\n\\t\\t\\t\\t\\t\\t\\t<h3><a href=\"https://oilprice.com/Energy/Energy-General/The-Fuel-Of-The-Future-Thats-9-Times-More-Efficient-Than-Lithium.html\">The Fuel Of The Future That\\xe2\\x80\\x99s 9 Times More Efficient Than Lithium</a></h3>\\n\\t\\t\\t\\t\\t\\t\\t<div class=\"dateadded\">09 June 2021</div>\\n\\t\\t\\t\\t\\t\\t\\t<p>The worldwide shift toward cleaner, greener energy sources once again appears to be picking up speed.\\r\\nWhile the world&rsquo;s focus&#8230;</p>\\n\\t\\t\\t\\t\\t\\t</li>\\n\\t\\t\\t\\t\\t\\t\\t\\t\\t\\t\\t\\t<li>\\n\\t\\t\\t\\t\\t\\t\\t<h3><a href=\"https://oilprice.com/Energy/Crude-Oil/Canadas-Oil-Industry-Optimistic-As-Prices-Rebound.html\">Canada\\xe2\\x80\\x99s Oil Industry Optimistic As Prices Rebound</a></h3>\\n\\t\\t\\t\\t\\t\\t\\t<div class=\"dateadded\">09 June 2021</div>\\n\\t\\t\\t\\t\\t\\t\\t<p>Canada&rsquo;s oil and gas sector is growing increasingly optimistic about its near-term future as economies recover and oil prices rally.&#8230;</p>\\n\\t\\t\\t\\t\\t\\t</li>\\n\\t\\t\\t\\t\\t\\t\\t\\t\\t\\t\\t\\t<li>\\n\\t\\t\\t\\t\\t\\t\\t<h3><a href=\"https://oilprice.com/Energy/Energy-General/These-EV-Stocks-Could-Explode-Higher-This-Summer.html\">These EV Stocks Could Explode Higher This Summer</a></h3>\\n\\t\\t\\t\\t\\t\\t\\t<div class=\"dateadded\">09 June 2021</div>\\n\\t\\t\\t\\t\\t\\t\\t<p>It doesn&rsquo;t matter how you look at it, the electric vehicle revolution is only going to continue in 2021.\\r\\nPresident&#8230;</p>\\n\\t\\t\\t\\t\\t\\t</li>\\n\\t\\t\\t\\t\\t\\t\\t\\t\\t\\t\\t\\t<li>\\n\\t\\t\\t\\t\\t\\t\\t<h3><a href=\"https://oilprice.com/Energy/Energy-General/Natural-Gas-Is-The-Secret-To-Scaling-Geothermal-Energy.html\">Natural Gas Is The Secret To Scaling Geothermal Energy</a></h3>\\n\\t\\t\\t\\t\\t\\t\\t<div class=\"dateadded\">09 June 2021</div>\\n\\t\\t\\t\\t\\t\\t\\t<p>No matter where you are on Earth, you are situated right on top of a potential clean energy production hub.&#8230;</p>\\n\\t\\t\\t\\t\\t\\t</li>\\n\\t\\t\\t\\t\\t\\t\\t\\t\\t\\t\\t\\t<li>\\n\\t\\t\\t\\t\\t\\t\\t<h3><a href=\"https://oilprice.com/Energy/Energy-General/Is-This-The-Beginning-Of-The-End-For-Oil-Super-Majors.html\">Is This The Beginning Of The End For Oil Super Majors?</a></h3>\\n\\t\\t\\t\\t\\t\\t\\t<div class=\"dateadded\">08 June 2021</div>\\n\\t\\t\\t\\t\\t\\t\\t<p>Energy-oriented investors could not fail to have taken note of the&nbsp;decision&nbsp;that came down in the Dutch court against Shell, (NYSE:RDS.A),&#8230;</p>\\n\\t\\t\\t\\t\\t\\t</li>\\n\\t\\t\\t\\t\\t\\t\\t\\t\\t\\t\\t\\t<li>\\n\\t\\t\\t\\t\\t\\t\\t<h3><a href=\"https://oilprice.com/Energy/Energy-General/Carbon-Capture-Investment-Soars-As-CO2-Levels-Hit-Record-High.html\">Carbon Capture Investment Soars As CO2 Levels Hit Record High</a></h3>\\n\\t\\t\\t\\t\\t\\t\\t<div class=\"dateadded\">08 June 2021</div>\\n\\t\\t\\t\\t\\t\\t\\t<p>With carbon capture having hit record levels, government investment in new projects is soaring, even Elon Musk is backing it.&#8230;</p>\\n\\t\\t\\t\\t\\t\\t</li>\\n\\t\\t\\t\\t\\t\\t\\t\\t\\t\\t\\t\\t<li>\\n\\t\\t\\t\\t\\t\\t\\t<h3><a href=\"https://oilprice.com/Energy/Energy-General/Russia-Expands-Its-Influence-In-Major-Iraqi-Oil-Fields.html\">Russia Expands Its Influence In Major Iraqi Oil Fields</a></h3>\\n\\t\\t\\t\\t\\t\\t\\t<div class=\"dateadded\">08 June 2021</div>\\n\\t\\t\\t\\t\\t\\t\\t<p>Given the U.S.&rsquo;s broad scaling-down of its on-the-ground operations in the Middle East over the past five years, a specific&#8230;</p>\\n\\t\\t\\t\\t\\t\\t</li>\\n\\t\\t\\t\\t\\t\\t\\t\\t\\t\\t\\t\\t<li>\\n\\t\\t\\t\\t\\t\\t\\t<h3><a href=\"https://oilprice.com/Energy/Energy-General/Investors-Set-Their-Sights-On-100-Oil.html\">Investors Set Their Sights On $100 Oil</a></h3>\\n\\t\\t\\t\\t\\t\\t\\t<div class=\"dateadded\">08 June 2021</div>\\n\\t\\t\\t\\t\\t\\t\\t<p>Chart of the Week-&nbsp; &nbsp;&nbsp;More than half of Vietnam&rsquo;s electricity comes from coal.&nbsp;-&nbsp;&nbsp; &nbsp;But renewables are growing quickly, and now&#8230;</p>\\n\\t\\t\\t\\t\\t\\t</li>\\n\\t\\t\\t\\t\\t\\t\\t\\t\\t\\t\\t\\t<li class=\"last\">\\n\\t\\t\\t\\t\\t\\t\\t<h3><a href=\"https://oilprice.com/Energy/Energy-General/Could-This-Household-Chemical-Become-The-Superfuel-Of-The-Future.html\">Could This Household Chemical Become The Superfuel Of The Future?</a></h3>\\n\\t\\t\\t\\t\\t\\t\\t<div class=\"dateadded\">07 June 2021</div>\\n\\t\\t\\t\\t\\t\\t\\t<p>These two gases are some of the best options for zero-carbon fuel.\\r\\nThat could make them the hottest commodities on&#8230;</p>\\n\\t\\t\\t\\t\\t\\t</li>\\n\\t\\t\\t\\t\\t\\t\\t\\t\\t\\t</ul>\\n\\t\\t\\t\\t\\t\\t</div>\\n\\t\\t\\n\\t<div class=\"pagination clear\">\\n\\t\\t<span class=\"first disabled\">&lt; First</span><span class=\"disabled\">&lt;</span><span class=\"current\">1</span><span class=\"num_pages\">/540</span><a href=\"https://oilprice.com/search/tab/articles/natural_gas_price/Page-2.html\" class=\"num\">2</a><a href=\"https://oilprice.com/search/tab/articles/natural_gas_price/Page-3.html\" class=\"num\">3</a><a href=\"https://oilprice.com/search/tab/articles/natural_gas_price/Page-4.html\" class=\"num\">4</a><a href=\"https://oilprice.com/search/tab/articles/natural_gas_price/Page-5.html\" class=\"num\">5</a><a href=\"https://oilprice.com/search/tab/articles/natural_gas_price/Page-6.html\" class=\"num\">6</a><a href=\"https://oilprice.com/search/tab/articles/natural_gas_price/Page-7.html\" class=\"num\">7</a><a href=\"https://oilprice.com/search/tab/articles/natural_gas_price/Page-539.html\" class=\"num\">539</a><a href=\"https://oilprice.com/search/tab/articles/natural_gas_price/Page-540.html\" class=\"num\">540</a><a href=\"https://oilprice.com/search/tab/articles/natural_gas_price/Page-2.html\" class=\"next\">&gt;</a><a href=\"https://oilprice.com/search/tab/articles/natural_gas_price/Page-540.html\" class=\"last\">Last &gt;</a>\\t</div>\\n</div>\\t</div>\\n\\t\\t\\t<div class=\"footerLogoBanner\">\\n\\t\\t<div class=\"siteContainer\">\\n            <img class=\"lozad\" data-src=\"https://d1o9e4un86hhpc.cloudfront.net/a/img/oilprice-logo-footer.png\" alt=\"Oilprice - The No. 1 Source for Oil &amp; Energy News\" width=\"224\" height=\"55\" title=\"Oilprice - The No. 1 Source for Oil &amp; Energy News\">\\n\\t\\t\\t\\t\\t\\t\\t\\t\\t<p class=\"footerLogoBanner__socialMedia\">\\n\\t\\t\\t\\t<a class=\"footerLogoBanner__socialLink\" href=\"https://www.facebook.com/oilpricenews\" rel=\"external\"><i class=\"fab fa-facebook-f\"></i></a>\\n\\t\\t\\t\\t<a class=\"footerLogoBanner__socialLink\" href=\"https://twitter.com/OilandEnergy\" rel=\"external\"><i class=\"fab fa-twitter\"></i></a>\\n\\t\\t\\t\\t<a class=\"footerLogoBanner__socialLink\" href=\"https://www.linkedin.com/company/oilprice-com?report%2Esuccess=KJ_KkFGTDCfMt-A7wV3Fn9Yvgwr02Kd6AZHGx4bQCDiP6-2rfP2oxyVoEQiPrcAQ7Bf\" rel=\"external\"><i class=\"fab fa-linkedin\"></i></a>\\n\\t\\t\\t\\t<a class=\"footerLogoBanner__socialLink\" href=\"https://feeds.feedburner.com/oilpricecom\" rel=\"external publisher\"><i class=\"icon-feedburner\"></i></a>\\n\\t\\t\\t\\t<a class=\"footerLogoBanner__socialLink\" href=\"https://oilprice.com/rss/main\" rel=\"external\"><i class=\"fa fa-rss\"></i></a>\\n\\n\\t\\t\\t</p>\\n\\t\\t\\t<!-- /.breakingNews__socialMedia -->\\n\\t\\t</div>\\n\\t\\t<!-- /.siteContainer -->\\n\\t</div>\\n\\t<!-- /.footerLogoBanner -->\\n\\n\\n\\t<div class=\"footer\" style=\"background:url(https://d1o9e4un86hhpc.cloudfront.net/a/img/footer.png)\">\\n\\t\\t<div class=\"siteContainer\">\\n\\t\\t\\t<div class=\"footerNavigation\">\\n\\t\\t\\t\\t<div class=\"footerNavigation__column\">\\n\\t\\t\\t\\t\\t<ul class=\"footerNavigation__linkList\">\\n\\t\\t\\t\\t\\t\\t<li class=\"footerNavigation__linkItem\"><a href=\"https://oilprice.com/about-us\" class=\"footerNavigation__link footerNavigation__link--title\">More About Us</a></li>\\n\\t\\t\\t\\t\\t\\t<li class=\"footerNavigation__linkItem\"><a href=\"https://oilprice.com/about-us\" class=\"footerNavigation__link\">About Us</a></li>\\n\\t\\t\\t\\t\\t\\t<li class=\"footerNavigation__linkItem\"><a href=\"https://oilprice.com/Latest-Energy-News/World-News\" class=\"footerNavigation__link\">Site News</a></li>\\n\\t\\t\\t\\t\\t\\t<li class=\"footerNavigation__linkItem\"><a href=\"https://oilprice.com/Sitemap\" class=\"footerNavigation__link\">Sitemap</a></li>\\n\\t\\t\\t\\t\\t\\t<li class=\"footerNavigation__linkItem\"><a href=\"https://oilprice.com/advertising\" class=\"footerNavigation__link\">Advertise with us</a></li>\\n\\t\\t\\t\\t\\t\\t<!-- <li class=\"footerNavigation__linkItem\"><a href=\"https://oilprice.com/editorial-staff\" class=\"footerNavigation__link\">Editorial Staff</a></li> -->\\n\\t\\t\\t\\t\\t</ul>\\n\\t\\t\\t\\t</div>\\n\\t\\t\\t\\t<!-- /.footerNavigation__column -->\\n\\n\\t\\t\\t\\t<div class=\"footerNavigation__column\">\\n\\t\\t\\t\\t\\t<ul class=\"footerNavigation__linkList\">\\n\\t\\t\\t\\t\\t\\t<li class=\"footerNavigation__linkItem\"><a class=\"footerNavigation__link footerNavigation__link--title\">Site info</a></li>\\n\\t\\t\\t\\t\\t\\t<li class=\"footerNavigation__linkItem\"><a href=\"https://oilprice.com/terms-and-conditions\" class=\"footerNavigation__link\">Terms &amp; Conditions</a></li>\\n\\t\\t\\t\\t\\t\\t<li class=\"footerNavigation__linkItem\"><a href=\"https://oilprice.com/disclaimer\" class=\"footerNavigation__link\">Disclaimer</a></li>\\n\\t\\t\\t\\t\\t\\t<li class=\"footerNavigation__linkItem\"><a href=\"https://oilprice.com/privacy-policy\" class=\"footerNavigation__link\">Privacy Policy</a></li>\\n\\t\\t\\t\\t\\t\\t<li class=\"footerNavigation__linkItem\"><a href=\"https://oilprice.com/contact\" class=\"footerNavigation__link\">Contact Us</a></li>\\n\\t\\t\\t\\t\\t</ul>\\n\\t\\t\\t\\t</div>\\n\\t\\t\\t\\t<!-- /.footerNavigation__column -->\\n\\n\\t\\t\\t\\t<div class=\"footerNavigation__column float_right footer_copyright\">\\n\\t\\t\\t\\t\\t<p class=\"copyrightText\">&copy; <a href=\"/\">OilPrice.com</a><!-- | <a href=\"https://plus.google.com/100818571694606454377/posts\" rel=\"external nofollow\">Google+</a>--></p>\\n\\t\\t\\t\\t\\t<p class=\"smallprint\">The materials provided on this Web site are for informational and educational purposes only and are not intended to provide tax, legal, or investment advice.</p>\\n\\t\\t\\t\\t\\t<p class=\"smallprint\">Nothing contained on the Web site shall be considered a recommendation, solicitation, or offer to buy or sell a security to any person in any jurisdiction.</p>\\n\\t\\t\\t\\t\\t<p class=\"smallprint\">Trading and investing carries a high risk of losing money rapidly due to leverage. Individuals should consider whether they can afford the risks associated to trading.</p>\\n\\t\\t\\t\\t\\t<p class=\"smallprint\">74-89% of retail investor accounts lose money. Any trading and execution of orders mentioned on this website is carried out by and through OPCMarkets.</p>\\n\\t\\t\\t\\t\\t<p class=\"smallprint\">Merchant of Record: A Media Solutions trading as Oilprice.com</p>\\n\\t\\t\\t\\t</div>\\n\\t\\t\\t</div>\\n\\t\\t\\t<!-- /.footerNavigation -->\\n\\t\\t</div>\\n\\t\\t<!-- /.siteContainer -->\\n\\t</div>\\n\\t<!-- /.footer -->\\n\\n</div>\\n<!-- /wrapper-container -->\\n\\n\\n\\n\\t\\t<script type=\"text/javascript\" src=\"https://d1o9e4un86hhpc.cloudfront.net/min/f=a/js/third_party/jquery-3.4.1.min.js,a/js/third_party/jquery.cookie.js,a/js/script.js,a/js/third_party/lozad.js?v=1623252009\"></script>\\n\\t\\t<script type=\"text/javascript\" src=\"https://polyfill.io/v3/polyfill.js?flags=gated&amp;features=Object.assign%2CIntersectionObserver\"></script>\\n<script type=\"text/javascript\" src=\"https://www.dianomi.com/partner/oilprices/js/dianomi-oilprices.js?v=2\"></script>\\n\\n\\n<script type=\"text/javascript\">country(\\'US\\');var disallowed_countries=[\"IN\",\"PK\",\"SG\",\"ZA\",\"IQ\",\"BR\",\"HK\",\"RU\",\"NZ\",\"IL\",\"JP\",\"TT\",\"CN\",\"IR\",\"EG\",\"RS\",\"GH\",\"LK\",\"TN\",\"ET\",\"YE\",\"SY\",\"VI\",\"MP\",\"VU\",\"KP\"];var s3_header_json=\"widgets/oilprices/all/last.json\";var s3_all_json=\"oilprices/blend_cache.json\";</script>\\n\\n\\t\\t<script src=\\'https://www.opcmarkets.com/oil-price-modal/js/op-register-modal.js\\'></script>\\n\\t<script type=\"text/javascript\">document.addEventListener(\\'DOMContentLoaded\\',function(){if($.cookie(\\'country_code\\')&&$.cookie(\\'country_code\\')!=\\'CA\\'&&$.cookie(\\'country_code\\')!=\\'US\\'){var buy_sell_buttons=document.querySelectorAll(\\'a#trade_energy_now,a.sell,a.buy,a.RedTradeBtn,a.products_link\\');$.each($(\\'a#trade_energy_now,a.sell,a.buy,a.RedTradeBtn,a.products_link\\'),function(index,value){var $item=$(value);$(value)[0].addEventListener(\\'click\\',function($item){track_opc_track($($item.target));});});if(buy_sell_buttons.length>0){for(var i=0;i<buy_sell_buttons.length;i++){buy_sell_buttons[i].addEventListener(\\'click\\',oilPriceModaliFrame);}}}});</script>\\n\\t\\t\\n\\t<!-- Quantcast Tag -->\\n\\t<script type=\"text/javascript\">var _qevents=_qevents||[];(function(){var elem=document.createElement(\\'script\\');elem.src=(document.location.protocol==\"https:\"?\"https://secure\":\"http://edge\")+\".quantserve.com/quant.js\";elem.async=true;elem.type=\"text/javascript\";var scpt=document.getElementsByTagName(\\'script\\')[0];scpt.parentNode.insertBefore(elem,scpt);})();_qevents.push({qacct:\"p-mYGzvda-tntH2\"});</script>\\n\\n\\t<noscript>\\n\\t<div style=\"display:none;\">\\n\\t<img src=\"//pixel.quantserve.com/pixel/p-mYGzvda-tntH2.gif\" border=\"0\" height=\"1\" width=\"1\" alt=\"Quantcast\"/>\\n\\t</div>\\n\\t</noscript>\\n\\t<!-- End Quantcast tag -->\\n\\t\\n\\n\\t<!-- Incudles Optin Monster Popup Campaigns -->\\n\\t\\n\\t\\n\\t\\t\\t\\t\\t\\t\\t\\t\\t\\n\\n<!-- Bing retargeting pixel -->\\n<script>(function(w,d,t,r,u){var f,n,i;w[u]=w[u]||[],f=function(){var o={ti:\"26054419\"};o.q=w[u],w[u]=new UET(o),w[u].push(\"pageLoad\")},n=d.createElement(t),n.src=r,n.async=1,n.onload=n.onreadystatechange=function(){var s=this.readyState;s&&s!==\"loaded\"&&s!==\"complete\"||(f(),n.onload=n.onreadystatechange=null)},i=d.getElementsByTagName(t)[0],i.parentNode.insertBefore(n,i)})(window,document,\"script\",\"//bat.bing.com/bat.js\",\"uetq\");</script>\\n<!-- End Bing retargeting pixel -->\\n\\n<!-- Facebook Pixel Code -->\\n<script>!function(f,b,e,v,n,t,s){if(f.fbq)return;n=f.fbq=function(){n.callMethod?n.callMethod.apply(n,arguments):n.queue.push(arguments)};if(!f._fbq)f._fbq=n;n.push=n;n.loaded=!0;n.version=\\'2.0\\';n.queue=[];t=b.createElement(e);t.async=!0;t.src=v;s=b.getElementsByTagName(e)[0];s.parentNode.insertBefore(t,s)}(window,document,\\'script\\',\\'https://connect.facebook.net/en_US/fbevents.js\\');fbq(\\'init\\',\\'332667700771750\\');fbq(\\'track\\',\\'PageView\\');</script>\\n<noscript>\\n<img height=\"1\" width=\"1\" style=\"display:none\" src=\"https://www.facebook.com/tr?id=332667700771750&ev=PageView&noscript=1\"/>\\n</noscript>\\n<!-- End Facebook Pixel Code -->\\n\\n\\n\\n\\n<!-- Check if article to load in extra fb pixel and google pixel-->\\n\\n\\n\\n<script type=\"text/javascript\">var current_header_block=0;</script>\\n\\n<script type=\"text/javascript\">var uaString=navigator.userAgent;var includesMobile=uaString.includes(\"Mobile\");var includesWV=uaString.includes(\"wv)\");var includesVersion=uaString.includes(\"Version\");var includesiPhone=uaString.includes(\"iPhone\");var includesAndroid=uaString.includes(\"Android\");if((includesMobile&&includesiPhone&&!includesVersion)||(includesMobile&&includesWV&&includesAndroid)){document.write(\\'<style type=\"text/css\">.hide-in-app,.smartbanner, #om-vfajfuoxhhid9q37enfd, #om-i8bhm8esmrx2w3gojuo6{display:none !important;}</style>\\');}</script>\\n\\n<script type=\"application/ld+json\">\\n{ \"@context\": \"https://schema.org\",\\n \"@type\": \"Organization\",\\n \"name\": \"Oilprice.com\",\\n \"legalName\" : \"Advanced Media Solutions\",\\n \"url\": \"https://oilprice.com/\",\\n \"logo\": \"https://d1o9e4un86hhpc.cloudfront.net/a/img/oilprice-logo.png?v=3\",\\n \"foundingDate\": \"2009\",\\n \"founders\": [\\n {\\n \"@type\": \"Person\",\\n \"name\": \"James Stafford\"\\n }],\\n \"contactPoint\": {\\n \"@type\": \"ContactPoint\",\\n \"contactType\": \"Sales Enquiries\",\\n \"telephone\": \"[+44 7557 340113]\",\\n \"email\": \"paul.gilbert@oilprice.com\"\\n },\\n \"sameAs\": [ \\n \"https://twitter.com/OilandEnergy\",\\n \"https://www.facebook.com/oilpricenews\",\\n \"https://www.linkedin.com/company/oilprice-com\",\\n \"https://plus.google.com/share?url=https%3A%2F%2Foilprice.com%2FEnergy%2FNatural-Gas%2FThe-Next-LNG-Boom-Will-Dwarf-The-Last-One.html%3Futm_source%3Dgoogleplus%26utm_medium%3Dgoogleplus_repost\"\\n ]}\\n</script>\\n\\n\\n</body>\\n</html>\\n'"
            ]
          },
          "metadata": {
            "tags": []
          },
          "execution_count": 5
        }
      ]
    },
    {
      "cell_type": "code",
      "metadata": {
        "id": "5ObpTaNB2Afm"
      },
      "source": [
        "soup=BeautifulSoup(req.content , 'html.parser')"
      ],
      "execution_count": null,
      "outputs": []
    },
    {
      "cell_type": "code",
      "metadata": {
        "colab": {
          "base_uri": "https://localhost:8080/",
          "height": 35
        },
        "id": "I5-HOGeP7hA6",
        "outputId": "ef6d97de-fa2c-4d66-fb9b-b0f4614491b7"
      },
      "source": [
        "soup.select('#search-results-articles > ul > li > h3 > a')[0]['href']"
      ],
      "execution_count": null,
      "outputs": [
        {
          "output_type": "execute_result",
          "data": {
            "application/vnd.google.colaboratory.intrinsic+json": {
              "type": "string"
            },
            "text/plain": [
              "'https://oilprice.com/Energy/Energy-General/The-UAE-Is-Poised-To-Become-The-Next-Middle-East-Energy-Giant.html'"
            ]
          },
          "metadata": {
            "tags": []
          },
          "execution_count": 7
        }
      ]
    },
    {
      "cell_type": "code",
      "metadata": {
        "colab": {
          "base_uri": "https://localhost:8080/",
          "height": 35
        },
        "id": "h6xOKfC64_bl",
        "outputId": "4c1c63d7-0422-446d-b874-6ccda5dbddf2"
      },
      "source": [
        "soup.select('#search-results-articles > ul > li > h3 > a')[0].text"
      ],
      "execution_count": null,
      "outputs": [
        {
          "output_type": "execute_result",
          "data": {
            "application/vnd.google.colaboratory.intrinsic+json": {
              "type": "string"
            },
            "text/plain": [
              "'The UAE Is Poised To Become The Next Middle East Energy Giant'"
            ]
          },
          "metadata": {
            "tags": []
          },
          "execution_count": 8
        }
      ]
    },
    {
      "cell_type": "code",
      "metadata": {
        "id": "2oww2eC16E3C"
      },
      "source": [
        "x=soup.select('#search-results-articles > ul > li > h3 > a')"
      ],
      "execution_count": null,
      "outputs": []
    },
    {
      "cell_type": "code",
      "metadata": {
        "colab": {
          "base_uri": "https://localhost:8080/",
          "height": 35
        },
        "id": "TMtMfTXs6V7k",
        "outputId": "79e8e242-a1ba-4ca3-b685-175177f2a5cd"
      },
      "source": [
        "x[0].text"
      ],
      "execution_count": null,
      "outputs": [
        {
          "output_type": "execute_result",
          "data": {
            "application/vnd.google.colaboratory.intrinsic+json": {
              "type": "string"
            },
            "text/plain": [
              "'The UAE Is Poised To Become The Next Middle East Energy Giant'"
            ]
          },
          "metadata": {
            "tags": []
          },
          "execution_count": 10
        }
      ]
    },
    {
      "cell_type": "code",
      "metadata": {
        "colab": {
          "base_uri": "https://localhost:8080/",
          "height": 35
        },
        "id": "Q45ZVrdI6V-P",
        "outputId": "ca813949-448e-4b12-d683-d2b9d13a5b7b"
      },
      "source": [
        "x[0]['href']"
      ],
      "execution_count": null,
      "outputs": [
        {
          "output_type": "execute_result",
          "data": {
            "application/vnd.google.colaboratory.intrinsic+json": {
              "type": "string"
            },
            "text/plain": [
              "'https://oilprice.com/Energy/Energy-General/The-UAE-Is-Poised-To-Become-The-Next-Middle-East-Energy-Giant.html'"
            ]
          },
          "metadata": {
            "tags": []
          },
          "execution_count": 11
        }
      ]
    },
    {
      "cell_type": "code",
      "metadata": {
        "id": "TEenRU717hA7"
      },
      "source": [
        "title_list = []\n",
        "for x in soup.select('#search-results-articles > ul > li > h3 > a'):\n",
        "    title_list.append(x.text)"
      ],
      "execution_count": null,
      "outputs": []
    },
    {
      "cell_type": "markdown",
      "metadata": {
        "id": "6SXZsg5Y7hA8"
      },
      "source": [
        "### Excercise_2 1 ~ 5 페이지 제목 가져오기"
      ]
    },
    {
      "cell_type": "code",
      "metadata": {
        "id": "NVnvMus_7bgN"
      },
      "source": [
        "article_info={}\n",
        "for i in range(1,540):\n",
        "    url='https://oilprice.com/search/tab/articles/natural_gas_price/Page-{}.html'.format(i)\n",
        "    req=requests.get(url, headers=headers)\n",
        "    soup=BeautifulSoup(req.content, 'html.parser' )\n",
        "    for x in soup.select('#search-results-articles > ul > li > h3 > a'):\n",
        "        title=x.text\n",
        "        url=x['href']\n",
        "        article_info[title]=url\n",
        "    "
      ],
      "execution_count": null,
      "outputs": []
    },
    {
      "cell_type": "code",
      "metadata": {
        "colab": {
          "base_uri": "https://localhost:8080/"
        },
        "id": "T7VxW5VI95j9",
        "outputId": "412dc091-7a65-4474-c946-8395e3f65b4e"
      },
      "source": [
        "article_info"
      ],
      "execution_count": null,
      "outputs": [
        {
          "output_type": "execute_result",
          "data": {
            "text/plain": [
              "{'The UAE Is Poised To Become The Next Middle East Energy Giant': 'https://oilprice.com/Energy/Energy-General/The-UAE-Is-Poised-To-Become-The-Next-Middle-East-Energy-Giant.html',\n",
              " 'The Renewable Energy Revolution Has A Major Employment Problem': 'https://oilprice.com/Energy/Energy-General/The-Renewable-Energy-Revolution-Has-A-Major-Employment-Problem.html',\n",
              " 'Energy Transition Forces LNG Industry To Cut Emissions': 'https://oilprice.com/Energy/Energy-General/Energy-Transition-Forces-LNG-Industry-To-Cut-Emissions.html',\n",
              " 'Solving Nigeria’s Gasoline Crisis': 'https://oilprice.com/Energy/Oil-Prices/Solving-Nigerias-Gasoline-Crisis.html',\n",
              " 'China’s Pivot To Gas Is Fueling Support In LNG Demand': 'https://oilprice.com/Energy/Natural-Gas/Chinas-Pivot-To-Gas-Is-Fueling-Support-In-LNG-Demand.html',\n",
              " 'IEA Tells OPEC To “Open The Taps”': 'https://oilprice.com/Energy/Energy-General/IEA-Tells-OPEC-To-Open-The-Taps.html',\n",
              " 'Turkey Makes Moves To Become An Energy Hub': 'https://oilprice.com/Energy/Natural-Gas/Turkey-Makes-Moves-To-Become-An-Energy-Hub.html',\n",
              " 'Is This The Most Exciting Oil Play Of The Last 20 Years?': 'https://oilprice.com/Energy/Crude-Oil/Is-This-The-Most-Exciting-Oil-Play-Of-The-Last-20-Years.html',\n",
              " 'U.S. LNG Exports Set For Another Record High This Year': 'https://oilprice.com/Energy/Natural-Gas/US-LNG-Exports-Set-For-Another-Record-High-This-Year.html',\n",
              " 'Can Oil Sands Be Banned?': 'https://oilprice.com/Energy/Energy-General/Can-Oil-Sands-Be-Banned.html',\n",
              " 'China About To Become Top LNG Importer This Year': 'https://oilprice.com/Energy/Energy-General/China-About-To-Become-Top-LNG-Importer-This-Year.html',\n",
              " 'The Fuel Of The Future That’s 9 Times More Efficient Than Lithium': 'https://oilprice.com/Energy/Energy-General/The-Fuel-Of-The-Future-Thats-9-Times-More-Efficient-Than-Lithium.html',\n",
              " 'Canada’s Oil Industry Optimistic As Prices Rebound': 'https://oilprice.com/Energy/Crude-Oil/Canadas-Oil-Industry-Optimistic-As-Prices-Rebound.html',\n",
              " 'These EV Stocks Could Explode Higher This Summer': 'https://oilprice.com/Energy/Energy-General/These-EV-Stocks-Could-Explode-Higher-This-Summer.html',\n",
              " 'Natural Gas Is The Secret To Scaling Geothermal Energy': 'https://oilprice.com/Energy/Energy-General/Natural-Gas-Is-The-Secret-To-Scaling-Geothermal-Energy.html',\n",
              " 'Is This The Beginning Of The End For Oil Super Majors?': 'https://oilprice.com/Energy/Energy-General/Is-This-The-Beginning-Of-The-End-For-Oil-Super-Majors.html',\n",
              " 'Carbon Capture Investment Soars As CO2 Levels Hit Record High': 'https://oilprice.com/Energy/Energy-General/Carbon-Capture-Investment-Soars-As-CO2-Levels-Hit-Record-High.html',\n",
              " 'Russia Expands Its Influence In Major Iraqi Oil Fields': 'https://oilprice.com/Energy/Energy-General/Russia-Expands-Its-Influence-In-Major-Iraqi-Oil-Fields.html',\n",
              " 'Investors Set Their Sights On $100 Oil': 'https://oilprice.com/Energy/Energy-General/Investors-Set-Their-Sights-On-100-Oil.html',\n",
              " 'Could This Household Chemical Become The Superfuel Of The Future?': 'https://oilprice.com/Energy/Energy-General/Could-This-Household-Chemical-Become-The-Superfuel-Of-The-Future.html',\n",
              " 'Is The Golden Age Of Natural Gas Really Over?': 'https://oilprice.com/Energy/Natural-Gas/Is-The-Golden-Age-Of-Natural-Gas-Really-Over.html',\n",
              " 'New Renewable Fuel Might be 3 Times More Powerful Than Gasoline': 'https://oilprice.com/Energy/Energy-General/New-Renewable-Fuel-Might-be-3-Times-More-Powerful-Than-Gasoline.html',\n",
              " 'Forget Activism: Chronic Underperformance Is Big Oil’s Biggest Problem': 'https://oilprice.com/Energy/Energy-General/Forget-Activism-Chronic-Underperformance-Is-Big-Oils-Biggest-Problem.html',\n",
              " 'Who Will Control Canada’s Most Important Pipeline?': 'https://oilprice.com/Energy/Energy-General/Who-Will-Control-Canadas-Most-Important-Pipeline.html',\n",
              " 'Africa’s Oil Nations Push Against Global Drive To Shun Oil And Gas': 'https://oilprice.com/Energy/Crude-Oil/Africas-Oil-Nations-Push-Against-Global-Drive-To-Shun-Oil-And-Gas.html',\n",
              " 'U.S. Cities And States Clash Over Natural Gas': 'https://oilprice.com/Energy/Energy-General/US-Cities-And-States-Clash-Over-Natural-Gas.html',\n",
              " 'Colombian Oil Production Slips Amid Deadly Protests': 'https://oilprice.com/Energy/Crude-Oil/Colombian-Oil-Production-Slips-Amid-Deadly-Protests.html',\n",
              " 'Texas Gas Companies To Pay Steep Bill To Avoid Another Power Crisis': 'https://oilprice.com/Energy/Energy-General/Texas-Gas-Companies-To-Pay-Steep-Bill-To-Avoid-Another-Power-Crisis.html',\n",
              " '\\'\\'We\\'ll See $200 Oil\": Russia & OPEC Ministers\\xa0Blast\\xa0IEA\\'s Net Zero Plan': 'https://oilprice.com/Energy/Oil-Prices/Well-See-200-Oil-Russia-OPEC-MinistersBlastIEAs-Net-Zero-Plan.html',\n",
              " 'Russia’s LNG Boom Hinges On Foreign Tech': 'https://oilprice.com/Energy/Energy-General/Russias-LNG-Boom-Hinges-On-Foreign-Tech.html',\n",
              " 'Biden Nixes $35 Billion In Fossil Fuel Tax Benefits': 'https://oilprice.com/Energy/Energy-General/Biden-Nixes-35-Billion-In-Fossil-Fuel-Tax-Benefits.html',\n",
              " 'Japan Looks To Become Leader In Wind Energy': 'https://oilprice.com/Energy/Energy-General/Japan-Looks-To-Become-Leader-In-Wind-Energy.html',\n",
              " 'Rapid Energy Transition Could Doom Oil Exporting Countries': 'https://oilprice.com/Energy/Crude-Oil/Rapid-Energy-Transition-Could-Doom-Oil-Exporting-Countries.html',\n",
              " 'Why EV Stocks Are Poised To Explode This Summer': 'https://oilprice.com/Energy/Energy-General/Why-EV-Stocks-Are-Poised-To-Explode-This-Summer.html',\n",
              " 'Iraq Plays U.S. Off Against Iran With New Crucial Gas Deal': 'https://oilprice.com/Energy/Energy-General/Iraq-Plays-US-Off-Against-Iran-With-New-Crucial-Gas-Deal.html',\n",
              " 'Lawmakers Are Firing Back At Fossil Fuel Divestors': 'https://oilprice.com/Energy/Energy-General/Lawmakers-Are-Firing-Back-At-Fossil-Fuel-Divestors.html',\n",
              " 'Oil Prices Hit 2-Year High': 'https://oilprice.com/Energy/Energy-General/Oil-Prices-Hit-2-Year-High.html',\n",
              " 'The U.S. Shale Patch Could Be In For Another Wave of Mergers': 'https://oilprice.com/Energy/Energy-General/The-US-Shale-Patch-Could-Be-In-For-Another-Wave-of-Mergers.html',\n",
              " 'The Oil ETFs To Watch If The Iran Deal Crumbles': 'https://oilprice.com/Energy/Crude-Oil/The-Oil-ETFs-To-Watch-If-The-Iran-Deal-Crumbles.html',\n",
              " 'The IEA Is Pleading To China To Slow Down Coal Production': 'https://oilprice.com/Energy/Coal/The-IEA-Is-Pleading-To-China-To-Slow-Down-Coal-Production.html',\n",
              " 'Is This Just The First In A Series Of Gas Discoveries For Turkey?': 'https://oilprice.com/Energy/Natural-Gas/Is-This-Just-The-First-In-A-Series-Of-Gas-Discoveries-For-Turkey.html',\n",
              " 'The Two Major Obstacles To A Hydrogen Revolution': 'https://oilprice.com/Energy/Energy-General/The-Two-Major-Obstacles-To-A-Hydrogen-Revolution.html',\n",
              " 'Canada’s Largest Pension Funds Stick To Lucrative Oil Sands Bets': 'https://oilprice.com/Energy/Energy-General/Canadas-Largest-Pension-Funds-Stick-To-Lucrative-Oil-Sands-Bets.html',\n",
              " \"The World's Most Attractive Renewable Energy Market\": 'https://oilprice.com/Energy/Energy-General/The-Worlds-Most-Attractive-Renewable-Energy-Market.html',\n",
              " 'Is This The First Truly Global Gas Price Benchmark?': 'https://oilprice.com/Energy/Gas-Prices/Is-This-The-First-Truly-Global-Gas-Price-Benchmark.html',\n",
              " 'Bitcoin Could Use Otherwise-Wasted Energy': 'https://oilprice.com/Energy/Energy-General/Bitcoin-Could-Use-Otherwise-Wasted-Energy.html',\n",
              " 'Could This Be The No.1 EV Stock Of 2021?': 'https://oilprice.com/Energy/Energy-General/Could-This-Be-The-No1-EV-Stock-Of-2021.html',\n",
              " 'Is There A Huge Undisclosed Short In Oil Explorer Reconnaissance Energy Africa?': 'https://oilprice.com/Energy/Crude-Oil/Is-There-A-Huge-Undisclosed-Short-In-Oil-Explorer-Reconnaissance-Energy-Africa.html',\n",
              " 'Will The U.S. Nuclear Industry Finally Get Government Help?': 'https://oilprice.com/Alternative-Energy/Nuclear-Power/Will-The-US-Nuclear-Industry-Finally-Get-Government-Help.html',\n",
              " 'Sanctions-busting Iranian Pipeline To Make First Shipment In June': 'https://oilprice.com/Energy/Crude-Oil/Sanctions-busting-Iranian-Pipeline-To-Make-First-Shipment-In-June.html',\n",
              " 'Asia Braces For Expensive LNG This Summer': 'https://oilprice.com/Energy/Gas-Prices/Asia-Braces-For-Expensive-LNG-This-Summer.html',\n",
              " 'Africa’s Oil Nations Will Be Doomed If Exploration Is Halted': 'https://oilprice.com/Energy/Energy-General/Africas-Oil-Nations-Will-Be-Doomed-If-Exploration-Is-Halted.html',\n",
              " 'A Storm Is Brewing In Asian LNG Markets': 'https://oilprice.com/Energy/Energy-General/A-Storm-Is-Brewing-In-Asian-LNG-Markets.html',\n",
              " 'Oil Prices Rebound As Demand Optimism Returns': 'https://oilprice.com/Energy/Energy-General/Oil-Prices-Rebound-As-Demand-Optimism-Returns.html',\n",
              " 'Canada To Boost Oil Exports To The U.S.': 'https://oilprice.com/Energy/Energy-General/Canada-To-Boost-Oil-Exports-To-The-US.html',\n",
              " 'Secret Meeting Between Saudi Arabia And Iran May Trigger Major Policy Change': 'https://oilprice.com/Geopolitics/Middle-East/Secret-Meeting-Between-Saudi-Arabia-And-Iran-May-Trigger-Major-Policy-Change.html',\n",
              " \"America's Gas Crisis Could Send These EV Stocks Even Higher\": 'https://oilprice.com/Energy/Energy-General/Americas-Gas-Crisis-Could-Send-These-EV-Stocks-Even-Higher.html',\n",
              " 'Ambitious Energy Goals Are Hurting European Businesses': 'https://oilprice.com/Energy/Energy-General/Ambitious-Energy-Goals-Are-Hurting-European-Businesses.html',\n",
              " \"The IEA's Seven Pillars Of Decarbonization\": 'https://oilprice.com/Energy/Energy-General/The-IEAs-Seven-Pillars-Of-Decarbonization.html',\n",
              " 'Can The U.S. Compete With Qatari LNG?': 'https://oilprice.com/Energy/Energy-General/Can-The-US-Compete-With-Qatari-LNG.html',\n",
              " 'Is It Possible To Have A Nuanced Discussion About The Energy Transition?': 'https://oilprice.com/Energy/Energy-General/Is-It-Possible-To-Have-A-Nuanced-Discussion-About-The-Energy-Transition.html',\n",
              " 'Oil Companies Close The Taps As Fear Of Civil War Grows In Colombia': 'https://oilprice.com/Energy/Energy-General/Oil-Companies-Close-The-Taps-As-Fear-Of-Civil-War-Grows-In-Colombia.html',\n",
              " 'Are The Risks Of Nuclear Energy Overblown?': 'https://oilprice.com/Alternative-Energy/Nuclear-Power/Are-The-Risks-Of-Nuclear-Energy-Overblown.html',\n",
              " 'Google, Amazon And Netflix Are Scrambling for This Rare Gas': 'https://oilprice.com/Energy/Energy-General/Google-Amazon-And-Netflix-Are-Scrambling-for-This-Rare-Gas.html',\n",
              " 'There Is Light At The End Of The Tunnel For Argentina’s Oil Industry': 'https://oilprice.com/Energy/Crude-Oil/There-Is-Light-At-The-End-Of-The-Tunnel-For-Argentinas-Oil-Industry.html',\n",
              " 'The Four Biggest Threats To U.S. Energy Independence': 'https://oilprice.com/Energy/Energy-General/The-Four-Biggest-Threats-To-US-Energy-Independence.html',\n",
              " 'The IEA May Have Given OPEC A Huge Gift': 'https://oilprice.com/Energy/Crude-Oil/The-IEA-May-Have-Given-OPEC-A-Huge-Gift.html',\n",
              " 'The U.S. Is Not Ready For An All-Electric Future': 'https://oilprice.com/Energy/Energy-General/The-US-Is-Not-Ready-For-An-All-Electric-Future.html',\n",
              " 'The IEA’s Latest Proposal Is Both Reckless And Impossible': 'https://oilprice.com/Energy/Crude-Oil/The-IEAs-Latest-Proposal-Is-Both-Reckless-And-Impossible.html',\n",
              " 'Colombia’s Oil Industry Is On The Brink Of Collapse': 'https://oilprice.com/Energy/Crude-Oil/Colombias-Oil-Industry-Is-On-The-Brink-Of-Collapse.html',\n",
              " 'IEA Drops Bombshell Report On Oil And Gas': 'https://oilprice.com/Energy/Energy-General/IEA-Drops-Bombshell-Report-On-Oil-And-Gas.html',\n",
              " 'IEA: Net-Zero Goal Means No More New Oil And Gas Investment Ever': 'https://oilprice.com/Energy/Crude-Oil/IEA-Net-Zero-Goal-Means-No-More-New-Oil-And-Gas-Investment-Ever.html',\n",
              " '2 Under The Radar EV Stocks Set To Explode This Summer': 'https://oilprice.com/Energy/Energy-General/2-Under-The-Radar-EV-Stocks-Set-To-Explode-This-Summer.html',\n",
              " 'Quick Rise In U.S. Natural Gas Prices To Boost Coal Demand': 'https://oilprice.com/Energy/Gas-Prices/Quick-Rise-In-US-Natural-Gas-Prices-To-Boost-Coal-Demand.html',\n",
              " 'Gulf Countries Are Rushing To Unload Non-Essential Oil Assets': 'https://oilprice.com/Energy/Energy-General/Gulf-Countries-Are-Rushing-To-Unload-Non-Essential-Oil-Assets.html',\n",
              " 'Is This One Of The Best Ways To Play The Electric Vehicle Boom?': 'https://oilprice.com/Energy/Energy-General/Is-This-One-Of-The-Best-Ways-To-Play-The-Electric-Vehicle-Boom.html',\n",
              " 'The Saudi Aramco Sale Is A Key Part Of Vision 2030': 'https://oilprice.com/Energy/Energy-General/The-Saudi-Aramco-Sale-Is-A-Key-Part-Of-Vision-2030.html',\n",
              " 'What Will It Take To Make Biden’s Climate Plan Work?': 'https://oilprice.com/Alternative-Energy/Renewable-Energy/What-Will-It-Take-To-Make-Bidens-Climate-Plan-Work.html',\n",
              " 'Can U.S. LNG Compete In An Increasingly Crowded Market?': 'https://oilprice.com/Energy/Natural-Gas/Can-US-LNG-Compete-In-An-Increasingly-Crowded-Market.html',\n",
              " 'Conflict In Gaza Threatens U.S. Middle East Strategy': 'https://oilprice.com/Geopolitics/Middle-East/Conflict-In-Gaza-Threatens-US-Middle-East-Strategy.html',\n",
              " 'Oil Prices Rebound As Global Oil Glut Drains': 'https://oilprice.com/Energy/Energy-General/Oil-Prices-Rebound-As-Global-Oil-Glut-Drains.html',\n",
              " 'Russia Has Oil Reserves At Least Until 2080': 'https://oilprice.com/Energy/Crude-Oil/Russia-Has-Oil-Reserves-At-Least-Until-2080.html',\n",
              " '3 Strong Oil And Gas Stocks For The Summer': 'https://oilprice.com/Energy/Energy-General/3-Strong-Oil-And-Gas-Stocks-For-The-Summer.html',\n",
              " 'Iraq Revives Its Monster Pipeline Project': 'https://oilprice.com/Energy/Energy-General/Iraq-Revives-Its-Monster-Pipeline-Project.html',\n",
              " 'Can Canada Boost Oil Production While Reducing Emissions?': 'https://oilprice.com/Energy/Crude-Oil/Can-Canada-Boost-Oil-Production-While-Reducing-Emissions.html',\n",
              " 'America’s Multi-Trillion Dollar Infrastructure Security Crisis': 'https://oilprice.com/Energy/Energy-General/Americas-Multi-Trillion-Dollar-Infrastructure-Security-Crisis.html',\n",
              " 'How A Helium Shortage Could Put The Brakes On The Tech Boom': 'https://oilprice.com/Energy/Energy-General/How-A-Helium-Shortage-Could-Put-The-Brakes-On-The-Tech-Boom.html',\n",
              " 'Renewable Energy Additions Spike To Record High In 2020: IEA': 'https://oilprice.com/Alternative-Energy/Renewable-Energy/Renewable-Energy-Additions-Spike-To-Record-High-In-2020-IEA.html',\n",
              " 'Oil Markets Stable Despite Major Pipeline Outage': 'https://oilprice.com/Energy/Energy-General/Oil-Markets-Stable-Despite-Major-Pipeline-Outage.html',\n",
              " 'How Qatar Plans To Dominate LNG Markets': 'https://oilprice.com/Energy/Energy-General/How-Qatar-Plans-To-Dominate-LNG-Markets.html',\n",
              " 'Russian Gas Giant Novatek Presents Answer To U.S. Shale': 'https://oilprice.com/Energy/Natural-Gas/Russian-Gas-Giant-Novatek-Presents-Answer-To-US-Shale.html',\n",
              " \"Saudi Arabia's Covid Aid Comes At A Cost For India\": 'https://oilprice.com/Energy/Energy-General/Saudi-Arabias-Covid-Aid-Comes-At-A-Cost-For-India.html',\n",
              " 'Soaring Petrochemical Demand Sparks Major Profits': 'https://oilprice.com/Energy/Energy-General/Soaring-Petrochemical-Demand-Sparks-Major-Profits.html',\n",
              " 'The Future Of U.S. LNG: Only The Biggest Will Survive': 'https://oilprice.com/Energy/Energy-General/The-Future-Of-US-LNG-Only-The-Biggest-Will-Survive.html',\n",
              " 'Big Oil Eyes Wave Of Buybacks After Blowout Earnings': 'https://oilprice.com/Energy/Energy-General/Big-Oil-Eyes-Wave-Of-Buybacks-After-Blowout-Earnings.html',\n",
              " 'Can Oil Firms Win Over ESG Investors?': 'https://oilprice.com/Energy/Energy-General/Can-Oil-Firms-Win-Over-ESG-Investors.html',\n",
              " 'Tesla Admits It Won’t Have A Fully Self-Driving Car In 2021': 'https://oilprice.com/Energy/Energy-General/Tesla-Admits-It-Wont-Have-A-Fully-Self-Driving-Car-In-2021.html',\n",
              " 'Iran Nuclear Deal Talks Are Finally Progressing': 'https://oilprice.com/Geopolitics/Middle-East/Iran-Nuclear-Deal-Talks-Are-Finally-Progressing.html',\n",
              " 'Leaked EU Report Reveals Ambitious Renewables Agenda': 'https://oilprice.com/Energy/Energy-General/Leaked-EU-Report-Reveals-Ambitious-Renewables-Agenda.html',\n",
              " 'Texas Lawmakers Brace For A War On The Oil & Gas Sector': 'https://oilprice.com/Energy/Energy-General/Texas-Lawmakers-Brace-For-A-War-On-The-Oil-Gas-Sector.html',\n",
              " 'Could Trinidad And Tobago Become A Hotspot For Oil In The Caribbean?': 'https://oilprice.com/Energy/Energy-General/Could-Trinidad-And-Tobago-Become-A-Hotspot-For-Oil-In-The-Caribbean.html',\n",
              " 'The Only Two Commodities Missing Out On The Supercycle': 'https://oilprice.com/Metals/Commodities/The-Only-Two-Commodities-Missing-Out-On-The-Supercycle.html',\n",
              " 'Oil Markets Optimistic As Brent Flirts With $70': 'https://oilprice.com/Energy/Energy-General/Oil-Markets-Optimistic-As-Brent-Flirts-With-70.html',\n",
              " 'U.S. Shale Pre-Hedge Revenues Set To Hit All-Time High In 2021': 'https://oilprice.com/Energy/Energy-General/US-Shale-Pre-Hedge-Revenues-Set-To-Hit-All-Time-High-In-2021.html',\n",
              " 'The Energy Crisis That No One Is Talking About': 'https://oilprice.com/Energy/Energy-General/The-Energy-Crisis-That-No-One-Is-Talking-About.html',\n",
              " 'The Biggest Winners From The Texas Freeze': 'https://oilprice.com/Energy/Natural-Gas/The-Biggest-Winners-From-The-Texas-Freeze.html',\n",
              " 'Will Iraq Become A Petrochemicals Powerhouse?': 'https://oilprice.com/Energy/Energy-General/Will-Iraq-Become-A-Petrochemicals-Powerhouse.html',\n",
              " 'The Only Venue Where Oil Majors Will Still Spend Big': 'https://oilprice.com/Energy/Crude-Oil/The-Only-Venue-Where-Oil-Majors-Will-Still-Spend-Big.html',\n",
              " 'Saudi Aramco Needs More Than Just Strong Earnings': 'https://oilprice.com/Energy/Energy-General/Saudi-Aramco-Needs-More-Than-Just-Strong-Earnings.html',\n",
              " 'Mozambique Delays Could Disrupt Global LNG Market': 'https://oilprice.com/Energy/Crude-Oil/Mozambique-Delays-Could-Disrupt-Global-LNG-Market.html',\n",
              " 'Will U.S. Crude Oil Exports Smash Records Again This Year?': 'https://oilprice.com/Energy/Energy-General/Will-US-Crude-Oil-Exports-Smash-Records-Again-This-Year.html',\n",
              " 'Is It Time To Invest In Smart Energy Tech?': 'https://oilprice.com/Energy/Energy-General/Is-It-Time-To-Invest-In-Smart-Energy-Tech.html',\n",
              " 'Asian LNG Buyers Are Preparing For A Harsh Winter': 'https://oilprice.com/Energy/Gas-Prices/Asian-LNG-Buyers-Are-Preparing-For-A-Harsh-Winter.html',\n",
              " 'The Nuclear Option For Hydrogen': 'https://oilprice.com/Alternative-Energy/Fuel-Cells/The-Nuclear-Option-For-Hydrogen.html',\n",
              " \"Explosion Of Violence Is A Major Threat To Colombia's Oil Industry\": 'https://oilprice.com/Geopolitics/South-America/Explosion-Of-Violence-Is-A-Major-Threat-To-Colombias-Oil-Industry.html',\n",
              " 'Big Oil Hikes Dividends After Blowout Quarter': 'https://oilprice.com/Energy/Energy-General/Big-Oil-Hikes-Dividends-After-Blowout-Quarter.html',\n",
              " 'Tech Giants Could Send Helium Prices Soaring as War For Supply Grows': 'https://oilprice.com/Energy/Energy-General/Tech-Giants-Could-Send-Helium-Prices-Soaring-as-War-For-Supply-Grows.html',\n",
              " 'The Wider Ramifications Of A China-Aramco Deal': 'https://oilprice.com/Energy/Energy-General/The-Wider-Ramifications-Of-A-China-Aramco-Deal.html',\n",
              " 'Oil Investment Lags Jump In Crude Prices': 'https://oilprice.com/Energy/Crude-Oil/Oil-Investment-Lags-Jump-In-Crude-Prices.html',\n",
              " 'Could Oil Prices Hit $80 Per Barrel?': 'https://oilprice.com/Energy/Oil-Prices/Could-Oil-Prices-Hit-80-Per-Barrel.html',\n",
              " 'Australian LNG Exports To China Are Bouncing Back': 'https://oilprice.com/Energy/Natural-Gas/Australian-LNG-Exports-To-China-Are-Bouncing-Back.html',\n",
              " 'World’s Top Commodities Exchange To Launch Lithium Futures': 'https://oilprice.com/Energy/Energy-General/Worlds-Top-Commodities-Exchange-To-Launch-Lithium-Futures.html',\n",
              " 'Are Big Oil’s Renewable Investments Paying Off?': 'https://oilprice.com/Energy/Energy-General/Are-Big-Oils-Renewable-Investments-Paying-Off.html',\n",
              " 'Oil Turns Higher As EU Looks To Welcome Vaccinated Tourists': 'https://oilprice.com/Energy/Oil-Prices/Oil-Turns-Higher-As-EU-Looks-To-Welcome-Vaccinated-Tourists.html',\n",
              " 'Russia Boosted Oil Production In April': 'https://oilprice.com/Energy/Crude-Oil/Russia-Boosted-Oil-Production-In-April.html',\n",
              " 'India’s Oil Imports From OPEC Slump To 20-Year Low': 'https://oilprice.com/Energy/Energy-General/Indias-Oil-Imports-From-OPEC-Slump-To-20-Year-Low.html',\n",
              " 'Africa’s Most Interesting Untapped Oil Play': 'https://oilprice.com/Energy/Crude-Oil/Africas-Most-Interesting-Untapped-Oil-Play.html',\n",
              " 'How Will Biden Pay For His $6 Trillion Economic Overhaul?': 'https://oilprice.com/Energy/Energy-General/How-Will-Biden-Pay-For-His-6-Trillion-Economic-Overhaul.html',\n",
              " 'How Canada Could Repurpose Oil Wells For Its Renewable Revolution': 'https://oilprice.com/Energy/Energy-General/How-Canada-Could-Repurpose-Oil-Wells-For-Its-Renewable-Revolution.html',\n",
              " 'Canada Is Battling Another Pipeline Cancelation By The U.S.': 'https://oilprice.com/Energy/Crude-Oil/Canada-Is-Battling-Another-Pipeline-Cancelation-By-The-US.html',\n",
              " 'The Supreme Court Case That Could Change Everything For U.S. Pipelines': 'https://oilprice.com/Energy/Energy-General/The-Supreme-Court-Case-That-Could-Change-Everything-For-US-Pipelines.html',\n",
              " 'Building Australia’s First-Ever Offshore Wind Farm': 'https://oilprice.com/Alternative-Energy/Wind-Power/Building-Australias-First-Ever-Offshore-Wind-Farm.html',\n",
              " \"The Port City That Could Become Europe's First Big Hydrogen Hub\": 'https://oilprice.com/Energy/Energy-General/The-Port-City-That-Could-Become-Europes-First-Big-Hydrogen-Hub.html',\n",
              " 'Will Covid-19 End The Oil Indexation Of Gas Prices?': 'https://oilprice.com/Energy/Energy-General/Will-Covid-19-End-The-Oil-Indexation-Of-Gas-Prices.html',\n",
              " 'What Will Privatization Mean For India’s Burgeoning Oil Industry?': 'https://oilprice.com/Energy/Crude-Oil/What-Will-Privatization-Mean-For-Indias-Burgeoning-Oil-Industry.html',\n",
              " 'U.S. Power Demand Won’t Recover To Pre-Pandemic Level Until 2022': 'https://oilprice.com/Energy/Energy-General/US-Power-Demand-Wont-Recover-To-Pre-Pandemic-Level-Until-2022.html',\n",
              " 'U.S. Rig Count Increases To 440 Rigs': 'https://oilprice.com/Energy/Energy-General/US-Rig-Count-Increases-To-440-Rigs.html',\n",
              " 'Oil Prices Pull Back After A Big Week': 'https://oilprice.com/Energy/Energy-General/Oil-Prices-Pull-Back-After-A-Big-Week.html',\n",
              " 'M&A Activity In Oil And Gas Drops In March': 'https://oilprice.com/Energy/Energy-General/MA-Activity-In-Oil-And-Gas-Drops-In-March.html',\n",
              " 'Oil Slips On Profit Taking, Stronger U.S. Dollar': 'https://oilprice.com/Energy/Oil-Prices/Oil-Slips-On-Profit-Taking-Stronger-US-Dollar.html',\n",
              " 'OPEC Production Rises As Iran Continues To Increase Supply': 'https://oilprice.com/Energy/Energy-General/OPEC-Production-Rises-As-Iran-Continues-To-Increase-Supply.html',\n",
              " 'Canada’s Oil Patch Is Preparing For A Production Hike': 'https://oilprice.com/Energy/Crude-Oil/Canadas-Oil-Patch-Is-Preparing-For-A-Production-Hike.html',\n",
              " 'Oil Prices Rally Towards $70 As Demand Outlook Improves': 'https://oilprice.com/Energy/Oil-Prices/Oil-Prices-Rally-Towards-70-As-Demand-Outlook-Improves.html',\n",
              " 'The “Great Car Comeback” Brightens Oil Demand Outlook': 'https://oilprice.com/Energy/Crude-Oil/The-Great-Car-Comeback-Brightens-Oil-Demand-Outlook.html',\n",
              " 'China Snubs U.S. With Huge Iraqi Gas Deal': 'https://oilprice.com/Energy/Natural-Gas/China-Snubs-US-With-Huge-Iraqi-Gas-Deal.html',\n",
              " 'China’s Shale Industry Faces Numerous Challenges': 'https://oilprice.com/Energy/Natural-Gas/Chinas-Shale-Industry-Faces-Numerous-Challenges.html',\n",
              " 'When Will Oil Demand Fully Recover?': 'https://oilprice.com/Energy/Crude-Oil/When-Will-Oil-Demand-Fully-Recover.html',\n",
              " 'Offshore Wind To See Spending Explode To $810 Billion This Decade': 'https://oilprice.com/Alternative-Energy/Wind-Power/Offshore-Wind-To-See-Spending-Explode-To-810-Billion-This-Decade.html',\n",
              " 'Oil Jumps To Six-Week High On Stronger Economic Outlook': 'https://oilprice.com/Energy/Energy-General/Oil-Jumps-To-Six-Week-High-On-Stronger-Economic-Outlook.html',\n",
              " 'IEA: Electric Vehicle Sales Are Soaring Globally': 'https://oilprice.com/Energy/Energy-General/IEA-Electric-Vehicle-Sales-Are-Soaring-Globally.html',\n",
              " 'India COVID Crisis Could Slow Global Oil Demand Rebound': 'https://oilprice.com/Energy/Crude-Oil/India-COVID-Crisis-Could-Slow-Global-Oil-Demand-Rebound.html',\n",
              " 'Three Things That Will Drive Oil Prices In May': 'https://oilprice.com/Energy/Crude-Oil/Three-Things-That-Will-Drive-Oil-Prices-In-May.html',\n",
              " 'Amazon, Google and Netflix Are Fighting Over This Rare Gas': 'https://oilprice.com/Energy/Energy-General/Amazon-Google-and-Netflix-Are-Fighting-Over-This-Rare-Gas.html',\n",
              " 'Goldman: Oil To Hit $80 On Largest Ever Demand Jump': 'https://oilprice.com/Energy/Energy-General/Goldman-Oil-To-Hit-80-On-Largest-Ever-Demand-Jump.html',\n",
              " \"Aramco Could Sell 1% Stake To ''Leading Global Energy Company''\": 'https://oilprice.com/Energy/Energy-General/Aramco-Could-Sell-1-Stake-To-Leading-Global-Energy-Company.html',\n",
              " 'Cautious Hedging Costs U.S. Drillers Billions': 'https://oilprice.com/Energy/Oil-Prices/Cautious-Hedging-Costs-US-Drillers-Billions.html',\n",
              " 'European Oil Majors Out-Traded U.S. Peers In 2020': 'https://oilprice.com/Energy/Crude-Oil/European-Oil-Majors-Out-Traded-US-Peers-In-2020.html',\n",
              " 'Is California’s Fracking Ban A Big Deal For The Oil Industry?': 'https://oilprice.com/Energy/Crude-Oil/Is-Californias-Fracking-Ban-A-Big-Deal-For-The-Oil-Industry.html',\n",
              " 'China Makes Big Move On Battery Metals In Africa': 'https://oilprice.com/Metals/Commodities/China-Makes-Big-Move-On-Battery-Metals-In-Africa.html',\n",
              " 'OPEC+ Buoys Oil Despite India Concerns': 'https://oilprice.com/Energy/Energy-General/OPEC-Buoys-Oil-Despite-India-Concerns.html',\n",
              " 'Exxon Makes Another Oil Discovery Offshore Guyana': 'https://oilprice.com/Energy/Energy-General/Exxon-Makes-Another-Oil-Discovery-Offshore-Guyana.html',\n",
              " 'Egypt Restarts Major LNG Project On Rising Demand': 'https://oilprice.com/Energy/Natural-Gas/Egypt-Restarts-Major-LNG-Project-On-Rising-Demand.html',\n",
              " 'Can Big Oil Lure Investors Back?': 'https://oilprice.com/Energy/Energy-General/Can-Big-Oil-Lure-Investors-Back.html',\n",
              " 'Energy Secretary Urges Oil Industry To Not Become Kodak': 'https://oilprice.com/Energy/Energy-General/Energy-Secretary-Urges-Oil-Industry-To-Not-Become-Kodak.html',\n",
              " 'The 5 Most Influential Oil Companies In The World': 'https://oilprice.com/Energy/Crude-Oil/The-5-Most-Influential-Oil-Companies-In-The-World.html',\n",
              " 'Libyan Oil Production Surprise Puts Pressure On Prices': 'https://oilprice.com/Energy/Crude-Oil/Libyan-Oil-Production-Surprise-Puts-Pressure-On-Prices.html',\n",
              " 'EU Admits It Can’t Go Net-Zero Without Natural Gas': 'https://oilprice.com/Energy/Natural-Gas/EU-Admits-It-Cant-Go-Net-Zero-Without-Natural-Gas.html',\n",
              " \"Saudi Arabia's Shift To Renewables Could Save It $200 Billion\": 'https://oilprice.com/Alternative-Energy/Renewable-Energy/Saudi-Arabias-Shift-To-Renewables-Could-Save-It-200-Billion.html',\n",
              " 'The U.S. Could See Record Natural Gas Production In 2022': 'https://oilprice.com/Energy/Natural-Gas/The-US-Could-See-Record-Natural-Gas-Production-In-2022.html',\n",
              " 'Energy Transition Could Doom Africa’s Oil Producers': 'https://oilprice.com/Energy/Crude-Oil/Energy-Transition-Could-Doom-Africas-Oil-Producers.html',\n",
              " 'Canada’s Oil And Gas Industry Must Innovate To Survive': 'https://oilprice.com/Energy/Crude-Oil/Canadas-Oil-And-Gas-Industry-Must-Innovate-To-Survive.html',\n",
              " 'Can Latin America Become The Middle East Of Hydrogen?': 'https://oilprice.com/Alternative-Energy/Fuel-Cells/Can-Latin-America-Become-The-Middle-East-Of-Hydrogen.html',\n",
              " 'New Wave Of Peruvian Energy Nationalism Could Destroy Its Oil Industry': 'https://oilprice.com/Energy/Energy-General/New-Wave-Of-Peruvian-Energy-Nationalism-Could-Destroy-Its-Oil-Industry.html',\n",
              " 'Bullish Oil News Offset By New Lockdowns In India': 'https://oilprice.com/Energy/Energy-General/Bullish-Oil-News-Offset-By-New-Lockdowns-In-India.html',\n",
              " 'Fighting Continues In Yemen Amid Secret Ceasefire Talks': 'https://oilprice.com/Geopolitics/International/Fighting-Continues-In-Yemen-Amid-Secret-Ceasefire-Talks.html',\n",
              " 'U.S. Natural Gas Production Poised To Soar': 'https://oilprice.com/Energy/Energy-General/US-Natural-Gas-Production-Poised-To-Soar.html',\n",
              " 'OPEC Urges Its Members To Lobby Against NOPEC Bill': 'https://oilprice.com/Energy/Energy-General/OPEC-Urges-Its-Members-To-Lobby-Against-NOPEC-Bill.html',\n",
              " 'Small Companies Rush To Buy Up Big Oil’s Assets': 'https://oilprice.com/Energy/Energy-General/Small-Companies-Rush-To-Buy-Up-Big-Oils-Assets.html',\n",
              " 'Did The World Bank Just Doom LNG?': 'https://oilprice.com/Energy/Energy-General/Did-The-World-Bank-Just-Doom-LNG.html',\n",
              " 'The Future For Oil Producer Romania Looks Bleak': 'https://oilprice.com/Energy/Crude-Oil/The-Future-For-Oil-Producer-Romania-Looks-Bleak.html',\n",
              " 'How Accurate Are Peak Oil Demand Projections?': 'https://oilprice.com/Energy/Energy-General/How-Accurate-Are-Peak-Oil-Demand-Projections.html',\n",
              " 'Natural Gas Prices Jump On Smaller-Than-Expected U.S. Inventory Build': 'https://oilprice.com/Energy/Energy-General/Natural-Gas-Prices-Jump-On-Smaller-Than-Expected-US-Inventory-Build.html',\n",
              " 'Energy Sector Sees Blowout Quarter': 'https://oilprice.com/Energy/Energy-General/Energy-Sector-Sees-Blowout-Quarter.html',\n",
              " \"Aramco May Sell Stakes In 'Non-Strategic' Oil Fields\": 'https://oilprice.com/Energy/Energy-General/Aramco-May-Sell-Stakes-In-Non-Strategic-Oil-Fields.html',\n",
              " 'Why Helium Could Be The Next Commodity To Boom': 'https://oilprice.com/Energy/Energy-General/Why-Helium-Could-Be-The-Next-Commodity-To-Boom.html',\n",
              " 'Guyana Poised To Become A Leading Offshore Producer Within Years': 'https://oilprice.com/Energy/Energy-General/Guyana-Poised-To-Become-A-Leading-Offshore-Producer-Within-Years.html',\n",
              " 'Will Big Oil’s Huge Carbon Capture Bet Pay Off?': 'https://oilprice.com/Energy/Energy-General/Will-Big-Oils-Huge-Carbon-Capture-Bet-Pay-Off.html',\n",
              " 'Why Natural Gas Won’t Be Replaced Anytime Soon': 'https://oilprice.com/Energy/Natural-Gas/Why-Natural-Gas-Wont-Be-Replaced-Anytime-Soon.html',\n",
              " 'Will COVID Derail The World’s Hottest Offshore Oil Boom?': 'https://oilprice.com/Energy/Crude-Oil/Will-COVID-Derail-The-Worlds-Hottest-Offshore-Oil-Boom.html',\n",
              " 'A World Of Difference: One Year After Oil Prices Went Negative': 'https://oilprice.com/Energy/Oil-Prices/A-World-Of-Difference-One-Year-After-Oil-Prices-Went-Negative.html',\n",
              " 'Oil Prices Down Despite Libya Outage': 'https://oilprice.com/Energy/Energy-General/Oil-Prices-Down-Despite-Libya-Outage.html',\n",
              " 'Deeply Discounted Crude Becomes Headache For OPEC': 'https://oilprice.com/Energy/Crude-Oil/Deeply-Discounted-Crude-Becomes-Headache-For-OPEC.html',\n",
              " 'The Best Is Yet To Come For The World’s Hottest Oil Play': 'https://oilprice.com/Energy/Crude-Oil/The-Best-Is-Yet-To-Come-For-The-Worlds-Hottest-Oil-Play.html',\n",
              " '2021 Will Be Another Disastrous Year For Colombia’s Oil Industry': 'https://oilprice.com/Energy/Energy-General/2021-Will-Be-Another-Disastrous-Year-For-Colombias-Oil-Industry.html',\n",
              " 'Global Oil Demand Boosted By Strong Road Fuel Consumption': 'https://oilprice.com/Energy/Energy-General/Global-Oil-Demand-Boosted-By-Strong-Road-Fuel-Consumption.html',\n",
              " 'China’s Shale Gas Industry Is Finally Taking Off': 'https://oilprice.com/Energy/Energy-General/Chinas-Shale-Gas-Industry-Is-Finally-Taking-Off.html',\n",
              " 'Oil Demand Is Finally Bouncing Back': 'https://oilprice.com/Energy/Energy-General/Oil-Demand-Is-Finally-Bouncing-Back.html',\n",
              " '3 Oil Stocks To Watch This Spring': 'https://oilprice.com/Energy/Crude-Oil/3-Oil-Stocks-To-Watch-This-Spring.html',\n",
              " 'Is This The Most Exciting Commodity Play Of 2021?': 'https://oilprice.com/Energy/Energy-General/Is-This-The-Most-Exciting-Commodity-Play-Of-2021.html',\n",
              " 'The Permian Faces An Empty Pipeline Crisis': 'https://oilprice.com/Energy/Crude-Oil/The-Permian-Faces-An-Empty-Pipeline-Crisis.html',\n",
              " 'Could This Be One Of The Best Ways To Play The Electric Vehicle Boom?': 'https://oilprice.com/Energy/Energy-General/Could-This-Be-One-Of-The-Best-Ways-To-Play-The-Electric-Vehicle-Boom.html',\n",
              " 'The Permian Will Never Face A Pipeline Shortage Again': 'https://oilprice.com/Energy/Energy-General/The-Permian-Will-Never-Face-A-Pipeline-Shortage-Again.html',\n",
              " 'U.S. Refiners Are Desperate For A Gasoline Demand Boom': 'https://oilprice.com/Energy/Energy-General/US-Refiners-Are-Desperate-For-A-Gasoline-Demand-Boom.html',\n",
              " 'The Permian Basin Is Poised For A Production Boom': 'https://oilprice.com/Energy/Energy-General/The-Permian-Basin-Is-Poised-For-A-Production-Boom.html',\n",
              " 'The Story Behind The World’s Longest Electrically Heated Oil Pipeline': 'https://oilprice.com/Energy/Energy-General/The-Story-Behind-The-Worlds-Longest-Electrically-Heated-Oil-Pipeline.html',\n",
              " 'Ecuador’s Shock Presidential Election Result May Save Its Oil Industry': 'https://oilprice.com/Energy/Energy-General/Ecuadors-Shock-Presidential-Election-Result-May-Save-Its-Oil-Industry.html',\n",
              " 'Oil Prices Rangebound As Long Term Problems Emerge': 'https://oilprice.com/Energy/Energy-General/Oil-Prices-Rangebound-As-Long-Term-Problems-Emerge.html',\n",
              " 'Offshore Oil Is Much Greener Than You May Think': 'https://oilprice.com/Energy/Energy-General/Offshore-Oil-Is-Much-Greener-Than-You-May-Think.html',\n",
              " \"Russia Tightens Its Grip On Europe's Natural Gas Markets\": 'https://oilprice.com/Energy/Natural-Gas/Russia-Tightens-Its-Grip-On-Europes-Natural-Gas-Markets.html',\n",
              " 'The $7 Trillion Reason Saudi Arabia Is Cutting Oil Production': 'https://oilprice.com/Energy/Crude-Oil/The-7-Trillion-Reason-Saudi-Arabia-Is-Cutting-Oil-Production.html',\n",
              " 'Qatar Could Throw A Wrench In America’s Ambitious LNG Plans': 'https://oilprice.com/Energy/Natural-Gas/Qatar-Could-Throw-A-Wrench-In-Americas-Ambitious-LNG-Plans.html',\n",
              " 'Eni’s Latest Oil Discovery Could Be Big For Angola': 'https://oilprice.com/Energy/Crude-Oil/Enis-Latest-Oil-Discovery-Could-Be-Big-For-Angola.html',\n",
              " 'Will U.S. Shale Trigger Another Oil Price Crash?': 'https://oilprice.com/Energy/Oil-Prices/Will-US-Shale-Trigger-Another-Oil-Price-Crash.html',\n",
              " 'Smart Money Is Betting On A Helium Boom': 'https://oilprice.com/Energy/Energy-General/Smart-Money-Is-Betting-On-A-Helium-Boom.html',\n",
              " \"Ecuador's Oil Industry Desperately Needs A Miracle\": 'https://oilprice.com/Energy/Energy-General/Ecuadors-Oil-Industry-Desperately-Needs-A-Miracle.html',\n",
              " 'Mining Giant Rio Tinto Starts Lithium Production In The U.S.': 'https://oilprice.com/Energy/Energy-General/Mining-Giant-Rio-Tinto-Starts-Lithium-Production-In-The-US.html',\n",
              " 'Why Has President Biden Sidelined Natural Gas?': 'https://oilprice.com/Energy/Natural-Gas/Why-Has-President-Biden-Sidelined-Natural-Gas.html',\n",
              " 'Qatar Looks To Dominate This Very-Fast Growing Gas Market': 'https://oilprice.com/Energy/Natural-Gas/Qatar-Looks-To-Dominate-This-Very-Fast-Growing-Gas-Market.html',\n",
              " 'Russia Slashes 2021-2022 Oil Production Forecasts': 'https://oilprice.com/Energy/Energy-General/Russia-Slashes-2021-2022-Oil-Production-Forecasts.html',\n",
              " 'Demand Concerns Continue To Plague Oil Markets': 'https://oilprice.com/Energy/Energy-General/Demand-Concerns-Continue-To-Plague-Oil-Markets.html',\n",
              " 'A Global Helium Shortage Is Now Looming': 'https://oilprice.com/Energy/Energy-General/A-Global-Helium-Shortage-Is-Now-Looming.html',\n",
              " 'Iraq Moves To Exploit Its Massive Natural Gas Reserves': 'https://oilprice.com/Energy/Energy-General/Iraq-Moves-To-Exploit-Its-Massive-Natural-Gas-Reserves.html',\n",
              " 'Is Venezuela Preparing For A Military Strike On Colombia?': 'https://oilprice.com/Energy/Energy-General/Is-Venezuela-Preparing-For-A-Military-Strike-On-Colombia.html',\n",
              " 'Why The Suez Crisis Failed To Disrupt LNG Markets': 'https://oilprice.com/Energy/Natural-Gas/Why-The-Suez-Crisis-Failed-To-Disrupt-LNG-Markets.html',\n",
              " 'Is The U.S. Finally Embracing Wave Energy?': 'https://oilprice.com/Energy/Energy-General/Is-The-US-Finally-Embracing-Tidal-Energy.html',\n",
              " 'Forget OPEC Production Cuts, It’s Exports That Matter': 'https://oilprice.com/Energy/Energy-General/Forget-OPEC-Production-Cuts-Its-Exports-That-Matter.html',\n",
              " 'U.S. Oil Production Is About To Climb': 'https://oilprice.com/Energy/Energy-General/US-Oil-Production-Is-About-To-Climb.html',\n",
              " 'Russia Is Being Left Behind In The Energy Transition': 'https://oilprice.com/Energy/Energy-General/Russia-Is-Being-Left-Behind-In-The-Energy-Transition.html',\n",
              " 'Blackrock Investment Guru Busts The ESG Investing Myth': 'https://oilprice.com/Energy/Energy-General/Blackrock-Investment-Guru-Busts-The-ESG-Investing-Myth.html',\n",
              " 'Alaska Won’t Let Biden Stop Its Oil Boom': 'https://oilprice.com/Energy/Energy-General/Alaska-Wont-Let-Biden-Stop-Its-Oil-Boom.html',\n",
              " 'The Most Anticipated Licensing Round Of 2021': 'https://oilprice.com/Energy/Natural-Gas/The-Most-Anticipated-Licensing-Round-Of-2021.html',\n",
              " 'France Pushes To Make Nuclear Power Mainstream In Europe': 'https://oilprice.com/Energy/Energy-General/France-Pushes-To-Make-Nuclear-Power-Mainstream-In-Europe.html',\n",
              " 'U.S. LNG Exports To Asia Hit Record Highs': 'https://oilprice.com/Energy/Natural-Gas/US-LNG-Exports-To-Asia-Hit-Record-Highs.html',\n",
              " \"OPEC's Surprise Decision Bodes Well For Oil Demand\": 'https://oilprice.com/Energy/Energy-General/OPECs-Surprise-Decision-Bodes-Well-For-Oil-Demand.html',\n",
              " 'Shale Giant Pioneer Buys Texas Oil Company For $6.4 Billion': 'https://oilprice.com/Energy/Energy-General/Shale-Giant-Pioneer-Buys-Texas-Oil-Company-For-64-Billion.html',\n",
              " 'A Critical Week For The Yemen Ceasefire': 'https://oilprice.com/Energy/Energy-General/A-Critical-Week-For-The-Yemen-Ceasefire.html',\n",
              " 'Europe Looks To Stock Up On Natural Gas This Summer': 'https://oilprice.com/Energy/Natural-Gas/Europe-Looks-To-Stock-Up-On-Natural-Gas-This-Summer.html',\n",
              " 'Could Bitcoin Solve The Oil Flaring Problem?': 'https://oilprice.com/Energy/Energy-General/Could-Bitcoin-Solve-The-Oil-Flaring-Problem.html',\n",
              " 'Canada’s Oil Sands Need More Than Just Profit To Survive': 'https://oilprice.com/Energy/Energy-General/Canadas-Oil-Sands-Need-More-Than-Just-Profit-To-Survive.html',\n",
              " 'OPEC Meeting: Saudis Look To Unwind Unilateral Output Cuts': 'https://oilprice.com/Energy/Crude-Oil/OPEC-Meeting-Saudis-Look-To-Unwind-Unilateral-Output-Cuts.html',\n",
              " 'OPEC+ Meeting Begins: Russia Sees Improving Oil Markets': 'https://oilprice.com/Energy/Energy-General/OPEC-Meeting-Begins-Russia-Sees-Improving-Oil-Markets.html',\n",
              " 'The Future Of U.S. LNG Hangs In The Balance': 'https://oilprice.com/Energy/Gas-Prices/The-Future-Of-US-LNG-Hangs-In-The-Balance.html',\n",
              " \"The Real Ramifications Of China's LNG Deal With Qatar\": 'https://oilprice.com/Energy/Natural-Gas/The-Real-Ramifications-Of-Chinas-LNG-Deal-With-Qatar.html',\n",
              " 'Why Is There So Much Hype About Hydrogen': 'https://oilprice.com/Energy/Energy-General/Why-Is-There-So-Much-Hype-About-Hydrogen.html',\n",
              " 'Peru’s Oil Industry Is Key To Its Pandemic Recovery': 'https://oilprice.com/Energy/Energy-General/Perus-Oil-Industry-Is-Key-To-Its-Pandemic-Recovery.html',\n",
              " 'Coal Is In Terminal Decline, But China’s Consumption Is Climbing': 'https://oilprice.com/Energy/Energy-General/Coal-Is-In-Terminal-Decline-But-Chinas-Consumption-Is-Climbing.html',\n",
              " 'Blocking The Sun: A Crazy Idea To Stop Climate Change?': 'https://oilprice.com/Energy/Energy-General/Blocking-The-Sun-A-Crazy-Idea-To-Stop-Climate-Change.html',\n",
              " 'Oil Prices Fall As Bearish Sentiment Returns': 'https://oilprice.com/Energy/Energy-General/Oil-Prices-Fall-As-Bearish-Sentiment-Returns.html',\n",
              " \"China Set To Buy 1 Million Bpd Of 'Cheap' Iranian Crude This Month\": 'https://oilprice.com/Energy/Crude-Oil/China-Set-To-Buy-1-Million-Bpd-Of-Cheap-Iranian-Crude-This-Month.html',\n",
              " \"Why The World’s Largest Oil Company Won't Cut Dividends\": 'https://oilprice.com/Energy/Crude-Oil/Why-The-Worlds-Largest-Oil-Company-Wont-Cut-Dividends.html',\n",
              " 'Is Natural Gas Still A Safe Bet For Oil Majors?': 'https://oilprice.com/Energy/Energy-General/Is-Natural-Gas-Still-A-Safe-Bet-For-Oil-Majors.html',\n",
              " 'Colombia Is Preparing For A Fracking Boom': 'https://oilprice.com/Energy/Energy-General/Colombia-Is-Preparing-For-A-Fracking-Boom.html',\n",
              " 'Global Petroplastic Markets Set To Explode This Year': 'https://oilprice.com/Energy/Energy-General/Global-Petroplastic-Markets-Set-To-Explode-This-Year.html',\n",
              " 'Why Natural Gas Prices Are Unlikely To Break Out In The Short Term': 'https://oilprice.com/Energy/Natural-Gas/Why-Natural-Gas-Prices-Are-Unlikely-To-Break-Out-In-The-Short-Term.html',\n",
              " 'Can Oil And Gas Save Europe’s Poorest Country?': 'https://oilprice.com/Energy/Energy-General/Can-Oil-And-Gas-Save-Europes-Poorest-Country.html',\n",
              " 'China Emerges As The Leader In The Clean Energy Boom': 'https://oilprice.com/Energy/Energy-General/China-Emerges-As-The-Leader-In-The-Clean-Energy-Boom.html',\n",
              " 'Bitcoin’s Energy Problem Isn’t Going Away Anytime Soon': 'https://oilprice.com/Energy/Energy-General/Bitcoins-Energy-Problem-Isnt-Going-Away-Anytime-Soon.html',\n",
              " 'Most Hydrogen Is A “Climate Killer”: Enel Executive': 'https://oilprice.com/Alternative-Energy/Fuel-Cells/Most-Hydrogen-Is-A-Climate-Killer-Enel-Executive.html',\n",
              " 'Goldman Sachs: EV Producers Grapple With Rising Battery Costs': 'https://oilprice.com/Energy/Energy-General/Goldman-Sachs-EV-Producers-Grapple-With-Rising-Battery-Costs.html',\n",
              " 'The Top 5 Natural Gas Wildcats Of 2021': 'https://oilprice.com/Energy/Energy-General/The-Top-5-Natural-Gas-Wildcats-Of-2021.html',\n",
              " 'Iran Looks To Expand Oil Influence In Africa Through New Pipeline': 'https://oilprice.com/Energy/Energy-General/Iran-Looks-To-Expand-Oil-Influence-In-Africa-Through-New-Pipeline.html',\n",
              " 'The Iran-China Axis Is A Fast Growing Force In Oil Markets': 'https://oilprice.com/Energy/Energy-General/The-Iran-China-Axis-Is-A-Fast-Growing-Force-In-Oil-Markets.html',\n",
              " 'Saudi Arabia Skips LNG, Bets Big On Hydrogen': 'https://oilprice.com/Energy/Energy-General/Saudi-Arabia-Skips-LNG-Bets-Big-On-Hydrogen.html',\n",
              " 'Kazakhstan Is Eager To Abandon The OPEC+ Deal': 'https://oilprice.com/Energy/Energy-General/Kazakhstan-Is-Eager-To-Abandon-The-OPEC-Deal.html',\n",
              " 'Oil Falls 6% As Bearish Sentiment Returns': 'https://oilprice.com/Energy/Energy-General/Oil-Falls-6-As-Bearish-Sentiment-Returns.html',\n",
              " 'California Senators Urge Biden To Phase Out Gasoline Cars': 'https://oilprice.com/Energy/Energy-General/California-Senators-Urge-Biden-To-Phase-Out-Gasoline-Cars.html',\n",
              " 'Deutsche Bank Turns Bullish On Tesla’s Largest Competitor': 'https://oilprice.com/Energy/Energy-General/Deutsche-Bank-Turns-Bullish-On-Teslas-Largest-Competitor.html',\n",
              " 'Canada’s Oil & Gas Mergers Hit Record $18 Billion So Far This Year': 'https://oilprice.com/Energy/Energy-General/Canadas-Oil-Gas-Mergers-Hit-Record-18-Billion-So-Far-This-Year.html',\n",
              " 'Oil Plunges As European Countries Extend Lockdowns': 'https://oilprice.com/Energy/Oil-Prices/Oil-Plunges-As-European-Countries-Extend-Lockdowns.html',\n",
              " \"Saudi Arabia Sidelined By Biden's Middle East Strategy\": 'https://oilprice.com/Geopolitics/Middle-East/Saudi-Arabia-Sidelined-By-Bidens-Middle-East-Strategy.html',\n",
              " 'Asian LNG Buyers Could Form The World’s Next Energy Cartel': 'https://oilprice.com/Energy/Energy-General/Asian-LNG-Buyers-Could-Form-The-Worlds-Next-Energy-Cartel.html',\n",
              " '3 Small-Cap Energy Sectors With Major Upside': 'https://oilprice.com/Energy/Energy-General/3-Small-Cap-Energy-Sectors-With-Major-Upside.html',\n",
              " 'U.S. And Canada At Odds In Oil Sands Schism': 'https://oilprice.com/Energy/Energy-General/US-And-Canada-At-Odds-In-Oil-Sands-Schism.html',\n",
              " 'The Key Takeaways From Saudi Aramco’s 2020 Report': 'https://oilprice.com/Energy/Energy-General/The-Key-Takeaways-From-Saudi-Aramcos-2020-Report.html',\n",
              " 'Can South Korea Overcome Its Coal Dependence?': 'https://oilprice.com/Energy/Coal/Can-South-Korea-Overcome-Its-Coal-Dependence.html',\n",
              " 'Signs Of Strong Oil Demand Recovery Are Emerging': 'https://oilprice.com/Energy/Crude-Oil/Signs-Of-Strong-Oil-Demand-Recovery-Are-Emerging.html',\n",
              " 'Saudi Arabia Proposes Ceasefire In Yemen Conflict': 'https://oilprice.com/Geopolitics/Middle-East/Saudi-Arabia-Proposes-Ceasefire-In-Yemen-Conflict.html',\n",
              " 'Is The World’s Most Controversial Pipeline About To Pivot To Hydrogen?': 'https://oilprice.com/Energy/Energy-General/Is-The-Worlds-Most-Controversial-Pipeline-About-To-Pivot-To-Hydrogen.html',\n",
              " 'Natural Gas Pipeline In Venezuela Explodes': 'https://oilprice.com/Energy/Natural-Gas/Natural-Gas-Pipeline-In-Venezuela-Explodes.html',\n",
              " 'Aramco’s 2020 Profits Fell By 44%': 'https://oilprice.com/Energy/Crude-Oil/Aramco-2020-Profits-Slumps-44.html',\n",
              " 'Will Clean Energy Kickstart A New Resource War?': 'https://oilprice.com/Alternative-Energy/Renewable-Energy/Will-Clean-Energy-Kickstart-A-New-Resource-War.html',\n",
              " 'The 3 Nations Vying For Global LNG Dominance': 'https://oilprice.com/Energy/Natural-Gas/The-3-Nations-Vying-For-Global-LNG-Dominance.html',\n",
              " 'Texas Freeze Creates Global Plastics Shortage': 'https://oilprice.com/Energy/Energy-General/Texas-Freeze-Creates-Global-Plastics-Shortage.html',\n",
              " 'Egypt And Schlumberger Look To Digitalize Oil Production': 'https://oilprice.com/Energy/Energy-General/Egypt-And-Schlumberger-Look-To-Digitalize-Oil-Production.html',\n",
              " 'The World’s Biggest Oil Company Is About To Release Its 2020 Results': 'https://oilprice.com/Energy/Energy-General/The-Worlds-Biggest-Oil-Company-Is-About-To-Release-Its-2020-Results.html',\n",
              " 'Can Venezuela’s Oil Industry Come Back From The Dead?': 'https://oilprice.com/Energy/Crude-Oil/Can-Venezuelas-Oil-Industry-Come-Back-From-The-Dead.html',\n",
              " 'Colombia’s Coal Mining Ambitions Could Backfire': 'https://oilprice.com/Energy/Coal/Colombias-Coal-Mining-Ambitions-Could-Backfire.html',\n",
              " 'Australia Is Jumping On The Green Hydrogen Bandwagon': 'https://oilprice.com/Energy/Energy-General/Australia-Is-Jumping-On-The-Green-Hydrogen-Bandwagon.html',\n",
              " 'Hess Sells Off Denmark Oil Assets': 'https://oilprice.com/Energy/Oil-Prices/Hess-Sells-Off-Denmark-Oil-Assets.html',\n",
              " 'The Oil Price Rally Is Officially Over': 'https://oilprice.com/Energy/Energy-General/The-Oil-Price-Rally-Is-Officially-Over.html',\n",
              " 'Oil Rig Count Jumps As WTI Moves Back Above $60': 'https://oilprice.com/Energy/Energy-General/Oil-Rig-Count-Jumps-As-WTI-Moves-Back-Above-60.html',\n",
              " 'U.S. Warns China Against Buying Iranian Crude Oil': 'https://oilprice.com/Energy/Crude-Oil/US-Warns-China-Against-Buying-Iranian-Crude-Oil.html',\n",
              " 'Oil Extends Losses After Massive Sell-Off': 'https://oilprice.com/Energy/Energy-General/Oil-Extends-Losses-After-Massive-Sell-Off.html',\n",
              " 'Saudi Arabia Boosted Crude Oil Exports In January': 'https://oilprice.com/Energy/Crude-Oil/Saudi-Arabia-Boosted-Crude-Oil-Exports-In-January.html',\n",
              " 'Oil Traders Made A Killing Last Year': 'https://oilprice.com/Energy/Crude-Oil/Oil-Traders-Made-A-Killing-Last-Year.html',\n",
              " 'Fossil Fuels Will Continue To Dominate For Decades To Come': 'https://oilprice.com/Energy/Energy-General/Fossil-Fuels-Will-Continue-To-Dominate-For-Decades-To-Come.html',\n",
              " 'Heavy-Handed Government Intervention To Hurt Brazil’s Oil Boom': 'https://oilprice.com/Energy/Crude-Oil/Heavy-Handed-Government-Intervention-To-Hurt-Brazils-Oil-Boom.html',\n",
              " 'Rarely-Used Recovery Method Could Unlock Billions Of Barrels In Alaska': 'https://oilprice.com/Energy/Crude-Oil/Rarely-Used-Recovery-Method-Could-Unlock-Billions-Of-Barrels-In-Alaska.html',\n",
              " \"Exxon's Flagship Guyana Project Reaches Full Capacity\": 'https://oilprice.com/Energy/Crude-Oil/Exxons-Flagship-Guyana-Project-Reaches-Full-Capacity.html',\n",
              " 'Big Oil’s Hottest Prospects In 2021': 'https://oilprice.com/Energy/Crude-Oil/Big-Oils-Hottest-Prospects-In-2021.html',\n",
              " 'Did Warren Buffett Anticipate A Bull Run In Natural Gas?': 'https://oilprice.com/Energy/Natural-Gas/Did-Warren-Buffett-Anticipate-A-Bull-Run-In-Natural-Gas.html',\n",
              " 'Biden’s Energy Agenda To Reduce Oil Production And Boost Prices': 'https://oilprice.com/Energy/Energy-General/Bidens-Energy-Agenda-To-Reduce-Oil-Production-And-Boost-Prices.html',\n",
              " 'How Biden’s Tax Hike Affects Oil': 'https://oilprice.com/Energy/Energy-General/How-Bidens-Tax-Hike-Affects-Oil.html',\n",
              " 'Are Analysts Underestimating Chinese Oil Demand?': 'https://oilprice.com/Energy/Energy-General/Are-Analysts-Underestimating-Chinese-Oil-Demand.html',\n",
              " 'Oil Rally Halted As European Vaccination Campaign Stalls': 'https://oilprice.com/Energy/Energy-General/Oil-Rally-Halted-As-European-Vaccination-Campaign-Stalls.html',\n",
              " 'South Africa Hopes To Become The Next Big Shale Success Story': 'https://oilprice.com/Energy/Natural-Gas/South-Africa-Hopes-To-Become-The-Next-Big-Shale-Success-Story.html',\n",
              " 'Brent Back Above $69 As Bullish Sentiment Holds': 'https://oilprice.com/Energy/Energy-General/Brent-Back-Above-69-As-Bullish-Sentiment-Holds.html',\n",
              " 'Argentina’s Shale Patch Is Poised For A Comeback': 'https://oilprice.com/Energy/Crude-Oil/Argentinas-Shale-Patch-Is-Poised-For-A-Comeback.html',\n",
              " 'Why Are Investors Turning Their Backs On Fossil Fuel Projects?': 'https://oilprice.com/Energy/Energy-General/Why-Are-Investors-Turning-Their-Backs-On-Fossil-Fuel-Projects.html',\n",
              " 'Big Energy Emerges As Winner From Texas Winter Storm': 'https://oilprice.com/Energy/Energy-General/Big-Energy-Emerges-As-Winner-From-Texas-Winter-Storm.html',\n",
              " 'Iraq Is Losing Market Share In European Oil Markets': 'https://oilprice.com/Energy/Crude-Oil/Iraq-Is-Losing-Market-Share-In-European-Oil-Markets.html',\n",
              " 'Saudi Arabia Eyes Big Piece Of The Hydrogen Market': 'https://oilprice.com/Alternative-Energy/Fuel-Cells/Saudi-Arabia-Eyes-Big-Piece-Of-The-Hydrogen-Market.html',\n",
              " 'Biden’s Policies Unlikely To Cause Crash In U.S. Oil Production': 'https://oilprice.com/Energy/Crude-Oil/Bidens-Policies-Unlikely-To-Cause-Crash-In-US-Oil-Production.html',\n",
              " 'Will California Greenlight New Oil Production?': 'https://oilprice.com/Energy/Crude-Oil/Will-California-Greenlight-New-Oil-Production.html',\n",
              " 'Can Colombia Cash In On Higher Oil Prices?': 'https://oilprice.com/Energy/Crude-Oil/Can-Colombia-Cash-In-On-Higher-Oil-Prices.html',\n",
              " 'Is South Korea’s Monster Wind Farm Feasible?': 'https://oilprice.com/Alternative-Energy/Wind-Power/Is-South-Koreas-Monster-Wind-Farm-Feasible.html',\n",
              " 'UAE And Israel Look To Forge Energy Ties Through New Pipeline': 'https://oilprice.com/Energy/Crude-Oil/UAE-And-Israel-Look-To-Forge-Energy-Ties-Through-New-Pipeline.html',\n",
              " 'String Of LNG Deals Moves Qatar Closer To China': 'https://oilprice.com/Energy/Energy-General/String-Of-LNG-Deals-Moves-Qatar-Closer-To-China.html',\n",
              " 'Gas Imports Surge As China Sees Coldest Winter In Decades': 'https://oilprice.com/Energy/Natural-Gas/Gas-Imports-Surge-As-China-Sees-Coldest-Winter-In-Decades.html',\n",
              " 'The Single Biggest Threat To The Electric Vehicle Revolution': 'https://oilprice.com/Energy/Energy-General/The-Single-Biggest-Threat-To-The-Electric-Vehicle-Revolution.html',\n",
              " 'Have Oil Majors Given Up On French Guiana?': 'https://oilprice.com/Energy/Energy-General/Have-Oil-Majors-Given-Up-On-French-Guiana.html',\n",
              " 'Are Chinese Car Brands A Real Threat To Tesla?': 'https://oilprice.com/Energy/Energy-General/Are-Chinese-Car-Brands-A-Real-Threat-To-Tesla.html',\n",
              " 'The Largest Oil Lobby In America Is Now Backing A Carbon Tax': 'https://oilprice.com/Energy/Energy-General/The-Largest-Oil-Lobby-In-America-Is-Now-Backing-A-Carbon-Tax.html',\n",
              " 'Oil Flirts With $70 After The OPEC+ Surprise': 'https://oilprice.com/Energy/Energy-General/Oil-Flirts-With-70-After-The-OPEC-Surprise.html',\n",
              " 'India: OPEC+ Decision Could Derail Oil Demand Recovery': 'https://oilprice.com/Energy/Crude-Oil/India-OPEC-Decision-Could-Derail-Oil-Demand-Recovery.html',\n",
              " '5 Blockchain Startups Disrupting The Energy Sector': 'https://oilprice.com/Energy/Energy-General/5-Blockchain-Startups-Disrupting-The-Energy-Sector.html',\n",
              " 'Is This The World’s Next Big Offshore Oil Region?': 'https://oilprice.com/Energy/Crude-Oil/Is-This-The-Worlds-Next-Big-Offshore-Oil-Region.html',\n",
              " 'The U.S. Grid Isn’t Ready For A Major Shift To Renewables': 'https://oilprice.com/Energy/Energy-General/The-US-Grid-Isnt-Ready-For-A-Major-Shift-To-Renewables.html',\n",
              " 'Turkey’s Perfectly Timed Gas Discovery': 'https://oilprice.com/Energy/Natural-Gas/Turkeys-Perfectly-Timed-Gas-Discovery.html',\n",
              " 'Oil Prices Falter On Colossal Crude Inventory Build': 'https://oilprice.com/Energy/Crude-Oil/Oil-Prices-Falter-On-Colossal-Crude-Inventory-Build.html',\n",
              " 'Iran To Join LNG Race In Asia With Huge North Pars Development': 'https://oilprice.com/Energy/Natural-Gas/Iran-To-Join-LNG-Race-In-Asia-With-Huge-North-Pars-Development.html',\n",
              " 'Australia Boosts LNG Spending To Compete With Qatar': 'https://oilprice.com/Energy/Natural-Gas/Australia-Boosts-LNG-Spending-To-Compete-With-Qatar.html',\n",
              " 'Bloomberg’s Hottest Energy Picks For 2021': 'https://oilprice.com/Energy/Energy-General/Bloombergs-Hottest-Energy-Picks-For-2021.html',\n",
              " 'Oil Markets On Edge Ahead Of OPEC+ Meeting': 'https://oilprice.com/Energy/Energy-General/Oil-Markets-On-Edge-Ahead-Of-OPEC-Meeting.html',\n",
              " 'Everything You Need To Know About Musk’s New Passion Project': 'https://oilprice.com/Energy/Energy-General/Everything-You-Need-To-Know-About-Musks-New-Passion-Project.html',\n",
              " \"Can Peru's Oil Industry Recover From A Disastrous 2020?\": 'https://oilprice.com/Energy/Energy-General/Can-Perus-Oil-Industry-Recover-From-A-Disastrous-2020.html',\n",
              " '3 Ways To Play The Next Commodity Supercycle': 'https://oilprice.com/Energy/Energy-General/3-Ways-To-Play-The-Next-Commodity-Supercycle.html',\n",
              " 'The Real Reason Why Iraq Paused Its Major Oil Deal With China': 'https://oilprice.com/Energy/Energy-General/The-Real-Reason-Why-Iraq-Paused-Its-Major-Oil-Deal-With-China.html',\n",
              " 'New Battery Tech Could Make Solar Energy Storage Even Cheaper': 'https://oilprice.com/Energy/Energy-General/New-Battery-Tech-Could-Make-Solar-Energy-Storage-Even-Cheaper.html',\n",
              " 'OPEC Oil Production Plunges In February Thanks To Saudi Cut': 'https://oilprice.com/Energy/Crude-Oil/OPEC-Oil-Production-Plunges-In-February-Thanks-To-Saudi-Cut.html',\n",
              " 'Oil Prices Rally As U.S. House Passes Stimulus Package': 'https://oilprice.com/Energy/Energy-General/Oil-Prices-Rally-As-US-House-Passes-Stimulus-Package.html',\n",
              " 'Why Big Oil Expects Record Cash Flow In 2021': 'https://oilprice.com/Energy/Energy-General/Why-Big-Oil-Expects-Record-Cash-Flow-In-2021.html',\n",
              " 'This Energy Sector Will See The Next Big M&A Wave': 'https://oilprice.com/Energy/Energy-General/This-Energy-Sector-Will-See-The-Next-Big-MA-Wave.html',\n",
              " 'Brazil’s Oil Industry Shakeup Could Be Devastating For Its Economy': 'https://oilprice.com/Energy/Energy-General/Brazils-Oil-Industry-Shakeup-Could-Be-Devastating-For-Its-Economy.html',\n",
              " 'Can President Biden Avoid A Critical Metals Crisis?': 'https://oilprice.com/Energy/Energy-General/Can-President-Biden-Avoid-A-Critical-Metals-Crisis.html',\n",
              " 'Is A Deregulated Power Grid Good For Texans?': 'https://oilprice.com/Energy/Energy-General/Is-A-Deregulated-Power-Grid-Good-For-Texans.html',\n",
              " 'U.S. Oil Production Fell To 11 Million Bpd In December': 'https://oilprice.com/Energy/Crude-Oil/US-Oil-Production-Fell-To-11-Million-Bpd-In-December.html',\n",
              " 'Who’s To Blame For The Expensive Energy Bills In Texas?': 'https://oilprice.com/Energy/Energy-General/Whos-To-Blame-For-The-Expensive-Energy-Bills-In-Texas.html',\n",
              " 'Is Biden’s Energy Plan Too Ambitious?': 'https://oilprice.com/Alternative-Energy/Renewable-Energy/Is-Bidens-Energy-Plan-Too-Ambitious.html',\n",
              " 'One Of The World’s Oldest Oil Companies Looks To Stage A Comeback': 'https://oilprice.com/Energy/Crude-Oil/One-Of-The-Worlds-Oldest-Oil-Companies-Looks-To-Stage-A-Comeback.html',\n",
              " 'The World’s Largest Money Managers Hold $170 Billion In Coal Assets': 'https://oilprice.com/Energy/Coal/The-Worlds-Largest-Money-Managers-Hold-170-Billion-In-Coal-Assets.html',\n",
              " 'Oil Rig Count Inches Higher As Prices Drop': 'https://oilprice.com/Energy/Energy-General/Oil-Rig-Count-Inches-Higher-As-Prices-Drop.html',\n",
              " \"Why Oil Bulls Aren't Backing Down\": 'https://oilprice.com/Energy/Energy-General/Why-Oil-Bulls-Arent-Backing-Down.html',\n",
              " 'Reuters Poll: Bankers See Steady Rise In Oil Prices': 'https://oilprice.com/Energy/Oil-Prices/Reuters-Poll-Bankers-See-Steady-Rise-In-Oil-Prices.html',\n",
              " 'Texas Freeze Led To Second-Highest Natural Gas Withdrawal Ever': 'https://oilprice.com/Energy/Natural-Gas/Texas-Freeze-Led-To-Second-Highest-Natural-Gas-Withdrawal-Ever.html',\n",
              " \"China's Oil Reserves Near Limit\": 'https://oilprice.com/Energy/Energy-General/Chinas-Oil-Reserves-Near-Limit.html',\n",
              " 'How High Can Oil Really Go?': 'https://oilprice.com/Energy/Oil-Prices/How-High-Can-Oil-Really-Go.html',\n",
              " 'The Oil Industry Is Ready To Fight President Biden In Court': 'https://oilprice.com/Energy/Energy-General/The-Oil-Industry-Is-Ready-To-Fight-President-Biden-In-Court.html',\n",
              " 'Which Banks Are The Biggest Backers Of Oil And Gas?': 'https://oilprice.com/Energy/Energy-General/Which-Banks-Are-The-Biggest-Backers-Of-Oil-And-Gas.html',\n",
              " 'The Staggering Cost Of Weather-Proofing U.S. Infrastructure': 'https://oilprice.com/Energy/Energy-General/The-Staggering-Cost-Of-Weather-Proofing-US-Infrastructure.html',\n",
              " 'Natural Gas Production Plunged 45% During The Texas Freeze': 'https://oilprice.com/Energy/Natural-Gas/Natural-Gas-Production-Plunged-45-During-The-Texas-Freeze.html',\n",
              " 'The $7 Trillion Cost Of Upgrading The U.S. Power Grid': 'https://oilprice.com/Energy/Energy-General/The-7-Trillion-Cost-Of-Upgrading-The-US-Power-Grid.html',\n",
              " 'Shell Sees LNG Demand Nearly Doubling By 2040': 'https://oilprice.com/Energy/Natural-Gas/Shell-Sees-LNG-Demand-Nearly-Doubling-By-2040.html',\n",
              " 'Carbon Dioxide: A $550-Billion Opportunity': 'https://oilprice.com/Energy/Oil-Prices/Carbon-Dioxide-A-550-Billion-Opportunity.html',\n",
              " 'Jet Fuel Demand Is The Only Thing Holding Oil Back': 'https://oilprice.com/Energy/Crude-Oil/Jet-Fuel-Demand-Is-The-Only-Thing-Holding-Oil-Back.html',\n",
              " 'China’s Shale Boom Was Over Before It Began': 'https://oilprice.com/Energy/Energy-General/Chinas-Shale-Boom-Was-Over-Before-It-Began.html',\n",
              " 'Scientists Warn That Filling The Sahara With Solar Panels Is A Bad Idea': 'https://oilprice.com/Energy/Energy-General/Scientists-Warn-That-Filling-The-Sahara-With-Solar-Panels-Is-A-Bad-Idea.html',\n",
              " 'Natural Gas Is Driving Decarbonization In India': 'https://oilprice.com/Energy/Energy-General/Natural-Gas-Is-Driving-Decarbonization-In-India.html',\n",
              " 'Why Is Mexico Returning To Coal?': 'https://oilprice.com/Energy/Energy-General/Why-Is-Mexico-Returning-To-Coal.html',\n",
              " 'Oil Holds Gains Above $60': 'https://oilprice.com/Energy/Energy-General/Oil-Holds-Gains-Above-60.html',\n",
              " 'Canada May Become Global Leader In Booming Battery Metals Market': 'https://oilprice.com/Energy/Energy-General/Canada-May-Become-Global-Leader-In-Booming-Battery-Metals-Market.html',\n",
              " 'Oil Major Total Makes Big Bet On Green Hydrogen': 'https://oilprice.com/Energy/Energy-General/Oil-Major-Total-Makes-Big-Bet-On-Green-Hydrogen.html',\n",
              " 'Should You Follow Buffett Into Energy Stocks?': 'https://oilprice.com/Energy/Energy-General/Should-You-Follow-Buffett-Into-Energy-Stocks.html',\n",
              " \"Qatar's LNG Megaprojects Are Making Markets Increasingly Competitive\": 'https://oilprice.com/Energy/Natural-Gas/Qatars-LNG-Megaprojects-Are-Making-Markets-Increasingly-Competitive.html',\n",
              " 'The Texas Cold Blast Was A Warning To Hydrogen Investors': 'https://oilprice.com/Alternative-Energy/Fuel-Cells/The-Texas-Cold-Blast-Was-A-Warning-To-Hydrogen-Investors.html',\n",
              " 'Is Another LNG Glut Looming?': 'https://oilprice.com/Energy/Natural-Gas/Is-Another-LNG-Glut-Looming.html',\n",
              " 'Will New Zealand Ever Unlock Its Oil Potential?': 'https://oilprice.com/Energy/Crude-Oil/Will-New-Zealand-Ever-Unlock-Its-Oil-Potential.html',\n",
              " 'Texas Storm Shut In As Much As 4 Million Bpd Of U.S. Oil Production': 'https://oilprice.com/Energy/Energy-General/Texas-Storm-Shut-In-As-Much-As-4-Million-Bpd-Of-US-Oil-Production.html',\n",
              " 'Oil Prices Fall Back Below $60': 'https://oilprice.com/Energy/Energy-General/Oil-Prices-Fall-Back-Below-60.html',\n",
              " 'Oil Rig Count Ends Twelve Week Streak Of Gains As Oil Prices Slip': 'https://oilprice.com/Energy/Energy-General/Oil-Rig-Count-Ends-Twelve-Week-Streak-Of-Gains-As-Oil-Prices-Slip.html',\n",
              " 'Big Oil To See Production Peak In 2028': 'https://oilprice.com/Energy/Energy-General/Big-Oil-To-See-Production-Peak-In-2028.html',\n",
              " 'Gas Companies “Hit the Jackpot” On Deep Freeze': 'https://oilprice.com/Energy/Gas-Prices/Gas-Companies-Hit-the-Jackpot-On-Deep-Freeze.html',\n",
              " 'What The #%@$ Is Happening In Texas?': 'https://oilprice.com/Energy/Energy-General/What-The-Is-Happening-In-Texas.html',\n",
              " 'Iran Plans Petrochemical Boom Despite U.S. Sanctions': 'https://oilprice.com/Energy/Energy-General/Iran-Plans-Petrochemical-Boom-Despite-US-Sanctions.html',\n",
              " 'Why Tanzania’s Oil And Gas Boom Isn’t Taking Off': 'https://oilprice.com/Energy/Energy-General/Why-Tanzanias-Oil-And-Gas-Boom-Isnt-Taking-Off.html',\n",
              " 'Who’s To Blame For The Texas Power Crisis?': 'https://oilprice.com/Energy/Energy-General/Whos-To-Blame-For-The-Texas-Power-Crisis.html',\n",
              " 'Rhetoric vs Reality: The EU’s Battle For Net Zero Emissions': 'https://oilprice.com/Energy/Energy-General/Rhetoric-vs-Reality-The-EUs-Battle-For-Net-Zero-Emissions.html',\n",
              " 'Qatar Looks To Be World’s Top LNG Producer For Decades': 'https://oilprice.com/Energy/Natural-Gas/Qatar-Looks-To-Be-Worlds-Top-LNG-Producer-For-Decades.html',\n",
              " 'Europe Divided Over The Future Of Nuclear': 'https://oilprice.com/Alternative-Energy/Nuclear-Power/Europe-Divided-Over-The-Future-Of-Nuclear.html',\n",
              " 'Malaysia Makes Major Natural Gas Find As Prices Soar': 'https://oilprice.com/Energy/Natural-Gas/Malaysia-Makes-Major-Natural-Gas-Find-As-Prices-Soar.html',\n",
              " 'Chevron Is Buffett’s Latest Billion-Dollar ‘Mystery’ Investment': 'https://oilprice.com/Energy/Energy-General/Chevron-Is-Buffetts-Latest-Billion-Dollar-Mystery-Investment.html',\n",
              " 'Oil Prices Soar As U.S. Oil Production Plunges 30%': 'https://oilprice.com/Energy/Oil-Prices/Oil-Prices-Soar-As-US-Oil-Production-Plunges-30.html',\n",
              " 'Is This Oil Rally The Start Of Something Much Bigger?': 'https://oilprice.com/Energy/Oil-Prices/Is-This-Oil-Rally-The-Start-Of-Something-Much-Bigger.html',\n",
              " 'Texas Winter Storm Highlights The Importance Of Fossil Fuels': 'https://oilprice.com/Energy/Energy-General/Texas-Winter-Storm-Highlights-The-Importance-Of-Fossil-Fuels.html',\n",
              " '3 Extra Fringe Energy Innovations For 2021': 'https://oilprice.com/Energy/Energy-General/3-Extra-Fringe-Energy-Innovations-For-2021.html',\n",
              " \"Is This The Beginning Of The End For Ecuador's Oil Industry?\": 'https://oilprice.com/Energy/Crude-Oil/Is-This-The-Beginning-Of-The-End-For-Ecuadors-Oil-Industry.html',\n",
              " 'What The Media Isn’t Telling You About Texas Blackouts': 'https://oilprice.com/Energy/Energy-General/What-The-Media-Isnt-Telling-You-About-Texas-Blackouts.html',\n",
              " 'Texas Freeze Raises Cost Of Charging A Tesla To $900': 'https://oilprice.com/Energy/Energy-General/Texas-Freeze-Raises-Cost-Of-Charging-A-Tesla-To-900.html',\n",
              " 'Gas Prices Hit Another High Amid Blackouts': 'https://oilprice.com/Energy/Gas-Prices/Gas-Prices-Hit-Another-High-Amid-Blackouts.html',\n",
              " 'How India’s Hunger For Oil Could Transform The Middle East': 'https://oilprice.com/Energy/Crude-Oil/How-Indias-Hunger-For-Oil-Could-Transform-The-Middle-East.html',\n",
              " 'The Single Biggest Threat To The Electric Vehicle Boom': 'https://oilprice.com/Energy/Energy-General/The-Single-Biggest-Threat-To-The-Electric-Vehicle-Boom.html',\n",
              " 'Has This Record-Breaking Oil Rally Gone Too Far?': 'https://oilprice.com/Energy/Energy-General/Has-This-Record-Breaking-Oil-Rally-Gone-Too-Far.html',\n",
              " 'Shipping Is The Next Big Industry To Go Net-Zero': 'https://oilprice.com/Energy/Energy-General/Shipping-Is-The-Next-Big-Industry-To-Go-Net-Zero.html',\n",
              " 'Extreme Cold Snap Paralyzes Texas Refineries': 'https://oilprice.com/Energy/Energy-General/Extreme-Cold-Snap-Paralyzes-Texas-Refineries.html',\n",
              " 'U.S. Gas Prices Explode On Freezing Weather': 'https://oilprice.com/Energy/Gas-Prices/US-Gas-Prices-Explode-On-Freezing-Weather.html',\n",
              " '5 Companies Betting Big On Futuristic Energy Tech': 'https://oilprice.com/Energy/Energy-General/5-Companies-Betting-Big-On-Futuristic-Energy-Tech.html',\n",
              " 'Biden Sets The Stage For An Offshore Wind Energy Boom': 'https://oilprice.com/Alternative-Energy/Renewable-Energy/Biden-Sets-The-Stage-For-An-Offshore-Wind-Energy-Boom.html',\n",
              " 'Is The Caribbean Ready For An Oil Boom?': 'https://oilprice.com/Energy/Crude-Oil/Is-The-Caribbean-Ready-For-An-Oil-Boom.html',\n",
              " 'Investors Are Looking Long Term In LNG Markets\\xa0': 'https://oilprice.com/Energy/Gas-Prices/Investors-Are-Looking-Long-Term-In-LNG-Markets.html',\n",
              " 'Australia Is Growing Dangerously Dependent On Foreign Fuel': 'https://oilprice.com/Energy/Energy-General/Australia-Is-Growing-Dangerously-Dependent-On-Foreign-Fuel.html',\n",
              " 'How High Can Oil Prices Go?': 'https://oilprice.com/Energy/Energy-General/How-High-Can-Oil-Prices-Go.html',\n",
              " 'The Most Overlooked Energy Source On Earth': 'https://oilprice.com/Energy/Energy-General/The-Most-Overlooked-Energy-Source-On-Earth.html',\n",
              " 'Biden’s Clean Energy Revolution Could Send These Stocks Soaring': 'https://oilprice.com/Energy/Energy-General/Bidens-Clean-Energy-Revolution-Could-Send-These-Stocks-Soaring.html',\n",
              " 'Argentina Narrowly Avoids Another Oil Industry Crisis': 'https://oilprice.com/Energy/Energy-General/Argentina-Narrowly-Avoids-Another-Oil-Industry-Crisis.html',\n",
              " 'The Most Fragile Oil Price Rally In History': 'https://oilprice.com/Energy/Energy-General/The-Most-Fragile-Oil-Price-Rally-In-History.html',\n",
              " 'Oil Major Total Sees 10 Million Bpd Supply Gap In 2025': 'https://oilprice.com/Energy/Energy-General/Oil-Major-Total-Sees-10-Million-Bpd-Supply-Gap-In-2025.html',\n",
              " 'The Oil Price Slump Crippled Colombia’s Economic Recovery': 'https://oilprice.com/Energy/Crude-Oil/The-Oil-Price-Slump-Crippled-Colombias-Economic-Recovery.html',\n",
              " 'Morgan Stanley: Gasoline Industry Is About to Become Totally Worthless': 'https://oilprice.com/Energy/Energy-General/Morgan-Stanley-Gasoline-Industry-Is-About-to-Become-Totally-Worthless.html',\n",
              " '2 Under The Radar Electric Vehicle Stocks That Could Soar In 2021': 'https://oilprice.com/Energy/Energy-General/2-Under-The-Radar-Electric-Vehicle-Stocks-That-Could-Soar-In-2021.html',\n",
              " 'Can Exxon Bounce Back From A Disasterous 2020?': 'https://oilprice.com/Energy/Energy-General/Can-Exxon-Bounce-Back-From-A-Disasterous-2020.html',\n",
              " 'Can The Steel Industry Survive Without Coal?': 'https://oilprice.com/Energy/Coal/Can-The-Steel-Industry-Survive-Without-Coal.html',\n",
              " 'Qatar Approves World’s Largest LNG Project': 'https://oilprice.com/Energy/Natural-Gas/Qatar-Approves-Worlds-Largest-LNG-Project.html',\n",
              " 'UAE Aims To Triple Its Solar Installations By 2025': 'https://oilprice.com/Energy/Energy-General/UAE-Aims-To-Triple-Its-Solar-Installations-By-2025.html',\n",
              " 'Bullish Sentiment Takes Over Oil Markets': 'https://oilprice.com/Energy/Energy-General/Bullish-Sentiment-Takes-Over-Oil-Markets.html',\n",
              " 'The Rapid Rise Of National Oil Companies': 'https://oilprice.com/Energy/Energy-General/The-Rapid-Rise-Of-National-Oil-Companies.html',\n",
              " 'India Will Drive Energy Demand For The Next 20 Years': 'https://oilprice.com/Energy/Energy-General/India-Will-Drive-Energy-Demand-For-The-Next-20-Years.html',\n",
              " 'Could Oil Prices Break $100 Next Year?': 'https://oilprice.com/Energy/Oil-Prices/Could-Oil-Prices-Break-100-Next-Year.html',\n",
              " 'Russian, Saudi Oil Giants To Benefit From Biden’s Anti-Oil Agenda': 'https://oilprice.com/Energy/Crude-Oil/Russian-Saudi-Oil-Giants-To-Benefit-From-Bidens-Anti-Oil-Agenda.html',\n",
              " 'The Oil Deal That Could Break Up Iraq': 'https://oilprice.com/Energy/Crude-Oil/The-Oil-Deal-That-Could-Break-Up-Iraq.html',\n",
              " 'Is Clean Gas Worth The Premium?': 'https://oilprice.com/Energy/Natural-Gas/Is-Clean-Gas-Worth-The-Premium.html',\n",
              " 'Oil May Not Be Chevron’s Largest Business In 20 Years': 'https://oilprice.com/Energy/Energy-General/Oil-May-Not-Be-Chevrons-Largest-Business-In-20-Years.html',\n",
              " \"How Biden's Posturing In The Middle East Could Hurt America\": 'https://oilprice.com/Energy/Energy-General/How-Bidens-Posturing-In-The-Middle-East-Could-Hurt-America.html',\n",
              " 'The Hydrogen Economy Is No Longer A Pipe Dream': 'https://oilprice.com/Alternative-Energy/Fuel-Cells/The-Hydrogen-Economy-Is-No-Longer-A-Pipe-Dream.html',\n",
              " 'Car Makers Slammed By Semiconductor Shortage': 'https://oilprice.com/Energy/Energy-General/Car-Makers-Slammed-By-Semiconductor-Shortage.html',\n",
              " 'Oil Sees Strongest January In 30 Years': 'https://oilprice.com/Energy/Energy-General/Oil-Sees-Strongest-January-In-30-Years.html',\n",
              " 'Australia To Build The World’s Largest Battery': 'https://oilprice.com/Alternative-Energy/Solar-Energy/Australia-To-Build-The-Worlds-Largest-Battery.html',\n",
              " 'Iraq Wants Oil At $80': 'https://oilprice.com/Energy/Crude-Oil/Iraq-Wants-Oil-At-80.html',\n",
              " 'Oil Hits $60 For The First Time Since Pandemic Started': 'https://oilprice.com/Energy/Energy-General/Oil-Hits-60-For-The-First-Time-Since-Pandemic-Started.html',\n",
              " 'Aramco Remains Second Most Valuable Oil Brand In The World': 'https://oilprice.com/Energy/Energy-General/Aramco-Remains-Second-Most-Valuable-Oil-Brand-In-The-World.html',\n",
              " 'Bitcoin Surges To All-Time Highs On Tesla’s $1.5 Billion Investment': 'https://oilprice.com/Finance/the-Markets/Bitcoin-Surges-To-All-Time-Highs-On-Teslas-15-Billion-Investment.html',\n",
              " 'How U.S. Sanctions Against Venezuela Backfired': 'https://oilprice.com/Geopolitics/South-America/How-US-Sanctions-Against-Venezuela-Backfired.html',\n",
              " 'Green Tech Could Create The First Trillionaire': 'https://oilprice.com/Energy/Energy-General/Green-Tech-Could-Create-The-First-Trillionaire.html',\n",
              " 'Absolute-Zero Is The New Net-Zero For Emissions': 'https://oilprice.com/Energy/Energy-General/Absolute-Zero-Is-The-New-Net-Zero-For-Emissions.html',\n",
              " 'Is A Career In Oil Still A Safe Bet?': 'https://oilprice.com/Energy/Energy-General/Is-A-Career-In-Oil-Still-A-Safe-Bet.html',\n",
              " 'Chile Could Save Argentina’s Shale Boom': 'https://oilprice.com/Energy/Crude-Oil/Chile-Could-Save-Argentinas-Shale-Boom.html',\n",
              " 'American Utilities Are Getting Pummeled By Unpaid Bills': 'https://oilprice.com/Energy/Energy-General/American-Utilities-Are-Getting-Pummeled-By-Unpaid-Bills.html',\n",
              " 'Will Reddit Fuel A Green Energy Stock Boom?': 'https://oilprice.com/Alternative-Energy/Renewable-Energy/Will-Reddit-Fuel-A-Green-Energy-Stock-Boom.html',\n",
              " 'Fossil Fuels Aren’t Going Anywhere': 'https://oilprice.com/Energy/Energy-General/Fossil-Fuels-Arent-Going-Anywhere.html',\n",
              " 'Why Big Oil Isn’t Worried About Biden’s Executive Orders': 'https://oilprice.com/Energy/Energy-General/Why-Big-Oil-Isnt-Worried-About-Bidens-Executive-Orders.html',\n",
              " \"China Has Just Launched The World's Largest Carbon Market\": 'https://oilprice.com/Energy/Energy-General/China-Has-Just-Launched-The-Worlds-Largest-Carbon-Market.html',\n",
              " 'Can Nuclear Power Make A Comeback This Decade?': 'https://oilprice.com/Alternative-Energy/Nuclear-Power/Can-Nuclear-Power-Make-A-Comeback-This-Decade.html',\n",
              " 'UAE’s Energy Ambitions Extend Far Beyond Oil': 'https://oilprice.com/Energy/Energy-General/UAEs-Energy-Ambitions-Extend-Far-Beyond-Oil.html',\n",
              " 'Is This The Tipping Point For Electric Vehicle Adoption?': 'https://oilprice.com/Energy/Energy-General/Is-This-The-Tipping-Point-For-Electric-Vehicle-Adoption.html',\n",
              " 'Why A New Nuclear Deal With Iran Looks Unlikely': 'https://oilprice.com/Geopolitics/International/Experts-A-New-Iran-Nuclear-Deal-Seems-Unlikely.html',\n",
              " 'Oil Surges Towards $60': 'https://oilprice.com/Energy/Energy-General/Oil-Surges-Towards-60.html',\n",
              " 'U.S. Rig Count Jumps Amid Rising Oil Prices': 'https://oilprice.com/Energy/Energy-General/US-Rig-Count-Jumps-Amid-Rising-Oil-Prices.html',\n",
              " 'Energy Commodities Rally: Oil Nears $60, Natural Gas Jumps Above $3': 'https://oilprice.com/Energy/Oil-Prices/Energy-Commodities-Rally-Oil-Nears-60-Natural-Gas-Jumps-Above-3.html',\n",
              " 'Is This The Start Of A Commodity Price Supercycle?': 'https://oilprice.com/Energy/Energy-General/Is-This-The-Start-Of-A-Commodity-Price-Supercycle.html',\n",
              " 'South Korea To Build World’s Largest Offshore Wind Farm': 'https://oilprice.com/Energy/Energy-General/South-Korea-To-Build-Worlds-Largest-Offshore-Wind-Farm.html',\n",
              " 'Canada Oil And Gas Deals Surge 468%': 'https://oilprice.com/Energy/Crude-Oil/Canada-Oil-And-Gas-Deals-Surge-468.html',\n",
              " 'Trading Giant Gunvor: $60 Could Be The Ceiling For Oil Prices': 'https://oilprice.com/Energy/Oil-Prices/Trading-Giant-Gunvor-60-Could-Be-The-Ceiling-For-Oil-Prices.html',\n",
              " 'Can Anything Help Restore Wall Street’s Confidence In U.S. Shale?': 'https://oilprice.com/Energy/Crude-Oil/Can-Anything-Help-Restore-Wall-Streets-Confidence-In-US-Shale.html',\n",
              " 'Qatar Loses Interest In Europe’s LNG Market': 'https://oilprice.com/Energy/Natural-Gas/Qatar-Loses-Interest-In-Europes-LNG-Market.html',\n",
              " 'Cold Weather Pushes Gas Prices Above $3': 'https://oilprice.com/Energy/Energy-General/Cold-Weather-Pushes-Gas-Prices-Above-3.html',\n",
              " 'The COVID-19 Pandemic Has Upended Global Energy Investment Trends': 'https://oilprice.com/Energy/Energy-General/The-COVID-19-Pandemic-Has-Upended-Global-Energy-Investment-Trends.html',\n",
              " 'These Stocks Could Soar As The U.S.-China Electric Vehicle War Heats Up': 'https://oilprice.com/Energy/Energy-General/These-Stocks-Could-Soar-As-The-US-China-Electric-Vehicle-War-Heats-Up.html',\n",
              " 'The Single Biggest Threat To Big Oil': 'https://oilprice.com/Energy/Energy-General/The-Single-Biggest-Threat-To-Big-Oil.html',\n",
              " 'Does The World Have Enough Energy To Support The EV Boom?': 'https://oilprice.com/Energy/Energy-General/Does-The-World-Have-Enough-Energy-To-Support-The-EV-Boom.html',\n",
              " \"Argentina's Shale Boom Is Competing With The Best\": 'https://oilprice.com/Energy/Energy-General/Argentinas-Shale-Boom-Is-Competing-With-The-Best.html',\n",
              " 'Oil Prices Continue To Rise As Bullish News Mounts': 'https://oilprice.com/Energy/Energy-General/Oil-Prices-Continue-To-Rise-As-Bullish-News-Mounts.html',\n",
              " 'Natural Gas Prices Explode On Cold Weather Reports': 'https://oilprice.com/Energy/Natural-Gas/Natural-Gas-Prices-Explode-On-Cold-Weather-Reports.html',\n",
              " 'New Mexico Looks To Solve Its Gas Flaring Problem': 'https://oilprice.com/Energy/Energy-General/New-Mexico-Looks-To-Solve-Its-Gas-Flaring-Problem.html',\n",
              " 'Exxon And Chevron Discussed Merger In 2020': 'https://oilprice.com/Energy/Energy-General/Exxon-And-Chevron-Discussed-Merger-In-2020.html',\n",
              " 'Biden’s Green Energy Boom Could Send The Electric Car Sector Into Overdrive': 'https://oilprice.com/Energy/Energy-General/Bidens-Green-Energy-Boom-Could-Send-The-Electric-Car-Sector-Into-Overdrive.html',\n",
              " 'Will U.S. Shale Finally Reward Shareholders?': 'https://oilprice.com/Energy/Crude-Oil/Will-US-Shale-Finally-Reward-Shareholders.html',\n",
              " 'This Year Will Define The Next Decade In The Energy Industry': 'https://oilprice.com/Energy/Energy-General/This-Year-Will-Define-The-Next-Decade-In-The-Energy-Industry.html',\n",
              " 'Tesla’s 20 Million EV Ambition Faces Huge Mining Challenge': 'https://oilprice.com/Energy/Energy-General/Teslas-20-Million-EV-Ambition-Faces-Huge-Mining-Challenge.html',\n",
              " 'Europe’s Unforeseen Renewables Problem': 'https://oilprice.com/Energy/Energy-General/Europes-Unforeseen-Renewables-Problem.html',\n",
              " 'Will Electricity Or E-Fuel Power The Cars Of The Future?': 'https://oilprice.com/Alternative-Energy/Renewable-Energy/Will-Electricity-Or-E-Fuel-Power-The-Cars-Of-The-Future.html',\n",
              " 'One Of The World’s Oldest Oil Regions Is Being Reinvigorated': 'https://oilprice.com/Energy/Energy-General/One-Of-The-Worlds-Oldest-Oil-Regions-Is-Being-Reinvigorated.html',\n",
              " 'What Will The Death Of Keystone XL Mean For Canada?': 'https://oilprice.com/Energy/Energy-General/What-Will-The-Death-Of-Keystone-XL-Mean-For-Canada.html',\n",
              " 'The Impact Of Abandoned Oil Wells On The Environment': 'https://oilprice.com/Energy/Energy-General/The-Impact-Of-Abandoned-Oil-Wells-On-The-Environment.html',\n",
              " 'Two Oil Stocks To Watch In 2021': 'https://oilprice.com/Energy/Energy-General/Two-Oil-Stocks-To-Watch-In-2021.html',\n",
              " 'Tiny Oil Company Gets 1000% Wall Street Bets Bump': 'https://oilprice.com/Energy/Energy-General/Tiny-Oil-Company-Gets-1000-Wall-Street-Bets-Bump.html',\n",
              " 'Biden Could Send Electric Vehicle Stocks Soaring': 'https://oilprice.com/Energy/Energy-General/Biden-Could-Send-Electric-Vehicle-Stocks-Soaring.html',\n",
              " 'Global Natural Gas Demand Set To Rebound After Pandemic Shock': 'https://oilprice.com/Energy/Energy-General/Global-Natural-Gas-Demand-Set-To-Rebound-After-Pandemic-Shock.html',\n",
              " 'Will Oman Hit Its Lofty Oil Output Goals?': 'https://oilprice.com/Energy/Energy-General/Will-Oman-Hit-Its-Lofty-Oil-Output-Goals.html',\n",
              " 'Saudi Arabia: “We Will Be Another Germany In Renewables”': 'https://oilprice.com/Alternative-Energy/Renewable-Energy/Saudi-Arabia-We-Will-Be-Another-Germany-In-Renewables.html',\n",
              " 'Why China Can’t Replicate America’s Shale Boom': 'https://oilprice.com/Energy/Energy-General/Why-China-Cant-Replicate-Americas-Shale-Boom.html',\n",
              " 'The Real Reason Tesla’s Stock Exploded In 2020': 'https://oilprice.com/Energy/Energy-General/The-Real-Reason-Teslas-Stock-Exploded-In-2020.html',\n",
              " 'BlackRock Is Turning Up The Heat On Oil Companies': 'https://oilprice.com/Energy/Energy-General/BlackRock-Is-Turning-Up-The-Heat-On-Oil-Companies.html',\n",
              " 'The World’s Biggest Oil Firms Face Rating Downgrades': 'https://oilprice.com/Energy/Energy-General/The-Worlds-Biggest-Oil-Firms-Face-Rating-Downgrades.html',\n",
              " '5 Oil And Gas Predictions For 2021': 'https://oilprice.com/Energy/Energy-General/5-Oil-And-Gas-Predictions-For-2021.html',\n",
              " 'The Global Car Industry Is Finally Set To Rebound': 'https://oilprice.com/Energy/Energy-General/The-Global-Car-Industry-Is-Finally-Set-To-Rebound.html',\n",
              " 'Libya Prepares To Ramp Up Oil Production': 'https://oilprice.com/Energy/Energy-General/Libya-Prepares-To-Ramp-Up-Oil-Production.html',\n",
              " 'Is Maduro Trying To Steal Guyana’s Oil Riches?': 'https://oilprice.com/Energy/Energy-General/Is-Maduro-Trying-To-Steal-Guyanas-Oil-Riches.html',\n",
              " \"Big Oil's Exploration Cuts Exacerbate Supply Deficit\": 'https://oilprice.com/Energy/Crude-Oil/Big-Oils-Exploration-Cuts-Exacerbate-Supply-Deficit.html',\n",
              " 'Egypt And Israel Look To Capitalize On Natural Gas Resources': 'https://oilprice.com/Energy/Natural-Gas/Egypt-And-Israel-Look-To-Capitalize-On-Natural-Gas-Resources.html',\n",
              " 'Game-changing Iranian Pipeline Set To Launch In March': 'https://oilprice.com/Energy/Crude-Oil/Game-changing-Iranian-Pipeline-Set-To-Launch-In-March.html',\n",
              " 'Total Is Doubling Down On Its Pledge To Invest In Renewables': 'https://oilprice.com/Alternative-Energy/Renewable-Energy/Total-Is-Doubling-Down-On-Its-Pledge-To-Invest-In-Renewables.html',\n",
              " 'The 5 Best Utility Stocks In 2021': 'https://oilprice.com/Energy/Energy-General/The-5-Best-Utility-Stocks-In-2021.html',\n",
              " 'An Oil Boom Hidden Within One Of America’s Biggest Cities': 'https://oilprice.com/Energy/Crude-Oil/An-Oil-Boom-Hidden-Within-One-Of-Americas-Biggest-Cities.html',\n",
              " 'U.S. Shale Industry Accelerates As Oil Prices Rise': 'https://oilprice.com/Energy/Crude-Oil/US-Shale-Industry-Accelerates-As-Oil-Prices-Rise.html',\n",
              " 'Why Gazprom Cut Gas Supply To Europe Amid Rising Prices': 'https://oilprice.com/Energy/Natural-Gas/Why-Gazprom-Cut-Gas-Supply-To-Europe-Amid-Rising-Prices.html',\n",
              " 'Oil Majors Poised To Make Biggest Geothermal Investments In 30 Years': 'https://oilprice.com/Energy/Energy-General/Oil-Majors-Poised-To-Make-Biggest-Geothermal-Investments-In-30-Years.html',\n",
              " \"Biden's Green Energy Boom Could Send These Electric Vehicle Stocks Soaring\": 'https://oilprice.com/Energy/Energy-General/Bidens-Green-Energy-Boom-Could-Send-These-Electric-Vehicle-Stocks-Soaring.html',\n",
              " 'Egypt Looks To Resume LNG Exports As Prices Rise': 'https://oilprice.com/Energy/Energy-General/Egypt-Looks-To-Resume-LNG-Exports-As-Prices-Rise.html',\n",
              " 'How Hydrogen Could Power The Ultimate Battery': 'https://oilprice.com/Energy/Energy-General/How-Hydrogen-Could-Power-The-Ultimate-Battery.html',\n",
              " 'The One Big Problem With A Central Asian Energy Corridor': 'https://oilprice.com/Energy/Energy-General/The-One-Big-Problem-With-A-Central-Asian-Energy-Corridor.html',\n",
              " 'IHS Predicts A Record Year For Renewables In 2021': 'https://oilprice.com/Energy/Energy-General/IHS-Predicts-A-Record-Year-For-Renewables-In-2021.html',\n",
              " 'How Climate Change Increased The Need For Fossil Fuels In 2021': 'https://oilprice.com/Energy/Energy-General/How-Climate-Change-Increased-The-Need-For-Fossil-Fuels-In-2021.html',\n",
              " 'Energy Shares Plunge As Oil Rally Stalls': 'https://oilprice.com/Energy/Energy-General/Energy-Shares-Plunge-As-Oil-Rally-Stalls.html',\n",
              " 'Will Argentina’s Vaca Muerta Shale Play Ever Recover?': 'https://oilprice.com/Energy/Energy-General/Will-Argentinas-Vaca-Muerta-Shale-Play-Ever-Recover.html',\n",
              " 'China Is Struggling To Keep Up With Electricity Demand': 'https://oilprice.com/Energy/Energy-General/China-Is-Struggling-To-Keep-Up-With-Electricity-Demand.html',\n",
              " 'How Microsoft Looks To Eliminate All The Carbon It Ever Emitted': 'https://oilprice.com/Energy/Energy-General/How-Microsoft-Looks-To-Eliminate-All-The-Carbon-It-Ever-Emitted.html',\n",
              " 'Why Natural Gas Producers Are Betting Big On Hydrogen': 'https://oilprice.com/Energy/Natural-Gas/Why-Natural-Gas-Producers-Are-Betting-Big-On-Hydrogen.html',\n",
              " 'The Biden Boom Is Coming And These Stocks Could Soar': 'https://oilprice.com/Energy/Energy-General/The-Biden-Boom-Is-Coming-And-These-Stocks-Could-Soar.html',\n",
              " 'Big Oil Is Buying Into The Solar Boom': 'https://oilprice.com/Alternative-Energy/Solar-Energy/Big-Oil-Is-Buying-Into-The-Solar-Boom.html',\n",
              " 'Canada Is Cleaning Up Its Oil Sands': 'https://oilprice.com/Energy/Energy-General/Canada-Is-Cleaning-Up-Its-Oil-Sands.html',\n",
              " 'What’s Next For Very Volatile Natural Gas Markets': 'https://oilprice.com/Energy/Natural-Gas/Whats-Next-For-Very-Volatile-Natural-Gas-Markets.html',\n",
              " 'Israeli Firm Releases EV Battery That Can Charge In 5 Minutes': 'https://oilprice.com/Energy/Energy-General/Israeli-Firm-Releases-EV-Battery-That-Can-Charge-In-5-Minutes.html',\n",
              " 'Biden To Kill Keystone XL Pipeline, Rejoin Paris Agreement': 'https://oilprice.com/Energy/Energy-General/Biden-To-Kill-Keystone-XL-Pipeline-Rejoin-Paris-Agreement.html',\n",
              " 'Oil Majors Win Big As LNG Prices Soar': 'https://oilprice.com/Energy/Energy-General/Oil-Majors-Win-Big-As-LNG-Prices-Soar.html',\n",
              " 'The Real Reason Why Solar Stocks Are Selling Off': 'https://oilprice.com/Energy/Energy-General/The-Real-Reason-Why-Solar-Stocks-Are-Selling-Off.html',\n",
              " 'Angola Looks To Replicate Brazil’s Offshore Oil Boom': 'https://oilprice.com/Energy/Crude-Oil/Angola-Looks-To-Replicate-Brazils-Offshore-Oil-Boom.html',\n",
              " 'Oil Rallies Despite Growing Demand Concerns': 'https://oilprice.com/Energy/Energy-General/Oil-Rallies-Despite-Growing-Demand-Concerns.html',\n",
              " 'Oil Rises On Expectations Of ‘Big’ U.S. Stimulus Package': 'https://oilprice.com/Energy/Oil-Prices/Oil-Rises-On-Expectations-Of-Big-US-Stimulus-Package.html',\n",
              " 'Iran Looks To Poach Saudi Oil Contracts With New Projects': 'https://oilprice.com/Energy/Energy-General/Iran-Looks-To-Poach-Saudi-Oil-Contracts-With-New-Projects.html',\n",
              " 'Is This The Most Exciting ESG Play Of 2021?': 'https://oilprice.com/Energy/Energy-General/Is-This-The-Most-Exciting-ESG-Play-Of-2021.html',\n",
              " 'Why Natural Gas Prices Are Set To Go Higher': 'https://oilprice.com/Energy/Natural-Gas/Why-Natural-Gas-Prices-Are-Set-To-Go-Higher.html',\n",
              " 'Colombia Is Betting Big On Wind And Solar': 'https://oilprice.com/Alternative-Energy/Renewable-Energy/Colombia-Is-Betting-Big-On-Wind-And-Solar.html',\n",
              " 'Rosneft Starts Work On Mega Arctic Oil Project': 'https://oilprice.com/Energy/Crude-Oil/Rosneft-Starts-Work-On-Mega-Arctic-Oil-Project.html',\n",
              " 'UAE Oil Major Turns To Hydrogen': 'https://oilprice.com/Alternative-Energy/Fuel-Cells/UAE-Oil-Major-Turns-To-Hydrogen.html',\n",
              " 'The Miraculous Material Transforming Energy Storage': 'https://oilprice.com/Energy/Energy-General/The-Miraculous-Material-Transforming-Energy-Storage.html',\n",
              " 'Three Energy Tech Trends To Watch This Year': 'https://oilprice.com/Alternative-Energy/Renewable-Energy/Three-Energy-Tech-Trends-To-Watch-This-Year.html',\n",
              " 'Are Your Netflix Binges Killing The Planet?': 'https://oilprice.com/Energy/Energy-General/Are-Your-Netflix-Binges-Killing-The-Planet.html',\n",
              " 'Low Lithium Prices Could Hold Back The EV Revolution': 'https://oilprice.com/Energy/Energy-General/Low-Lithium-Prices-Could-Hold-Back-The-EV-Revolution.html',\n",
              " 'Has Big Oil Turned Its Back On Alaska?': 'https://oilprice.com/Energy/Energy-General/Has-Big-Oil-Turned-Its-Back-On-Alaska.html',\n",
              " 'Can China Make Myanmar A Major Oil Nation?': 'https://oilprice.com/Energy/Energy-General/Can-China-Make-Myanmar-A-Major-Oil-Nation.html',\n",
              " 'Ukraine Is Failing To Capitalize On Its Gas Potential': 'https://oilprice.com/Energy/Natural-Gas/Ukraine-Is-Failing-To-Capitalize-On-Its-Gas-Potential.html',\n",
              " 'OPEC Oil Revenues Could Slump To 18-Year Low': 'https://oilprice.com/Energy/Energy-General/OPEC-Oil-Revenues-Could-Slump-To-18-Year-Low.html',\n",
              " 'Oil Prices Under Fire As Traders Cite Demand Concerns': 'https://oilprice.com/Energy/Energy-General/Oil-Prices-Under-Fire-As-Traders-Cite-Demand-Concerns.html',\n",
              " 'The Hottest Oil Basin In The World': 'https://oilprice.com/Energy/Energy-General/The-Hottest-Oil-Basin-In-The-World.html',\n",
              " 'Goldman Sachs Warns Of Bullish Perfect Storm For Natural Gas': 'https://oilprice.com/Energy/Energy-General/Goldman-Sachs-Warns-Of-Bullish-Perfect-Storm-For-Natural-Gas.html',\n",
              " 'The Pandemic Could Lead To A Major Oil Supply Crunch': 'https://oilprice.com/Energy/Crude-Oil/The-Pandemic-Could-Lead-To-A-Major-Oil-Supply-Crunch.html',\n",
              " 'Saudi Arabia Starts New Bull Run In Middle East Oil': 'https://oilprice.com/Energy/Oil-Prices/Saudi-Arabia-Starts-New-Bull-Run-In-Middle-East-Oil.html',\n",
              " 'Wind Power Overtakes Coal In Texas For The First Time Ever': 'https://oilprice.com/Alternative-Energy/Wind-Power/Wind-Power-Overtakes-Coal-In-Texas-For-The-First-Time-Ever.html',\n",
              " 'Europe’s Largest Oil Producer Bets Big On Deep-Sea Mining': 'https://oilprice.com/Energy/Energy-General/Europes-Largest-Oil-Producer-Bets-Big-On-Deep-Sea-Mining.html',\n",
              " 'Goldman Finds Unexpected Source Of Demand For 1 Million Bpd Of Oil': 'https://oilprice.com/Energy/Energy-General/Goldman-Finds-Unexpected-Source-Of-Demand-For-1-Million-Bpd-Of-Oil.html',\n",
              " 'LNG Price Boom Obliterates Rally In Bitcoin': 'https://oilprice.com/Energy/Natural-Gas/LNG-Price-Boom-Obliterates-Rally-In-Bitcoin.html',\n",
              " 'The Oil Industry Is In Dire Need Of Investment': 'https://oilprice.com/Energy/Oil-Prices/The-Oil-Industry-Is-In-Dire-Need-Of-Investment.html',\n",
              " '3 Stocks To Buy As Oil Prices Rise Above $50': 'https://oilprice.com/Energy/Energy-General/3-Stocks-To-Buy-As-Oil-Prices-Rise-Above-50.html',\n",
              " 'Why Petrobras Is One Of 2021’s Most Exciting Oil Companies': 'https://oilprice.com/Energy/Energy-General/Why-Petrobras-Is-One-Of-2021s-Most-Exciting-Oil-Companies.html',\n",
              " 'Oil Prices Jump To 10-Month High On Weak Dollar': 'https://oilprice.com/Energy/Energy-General/Oil-Prices-Jump-To-10-Month-High-On-Weak-Dollar.html',\n",
              " 'Big Oil Is An Unsung Hero In The Fight Against COVID': 'https://oilprice.com/Energy/Energy-General/Big-Oil-Is-An-Unsung-Hero-In-The-Fight-Against-COVID.html',\n",
              " 'U.S. Oil Drillers To Face More Pain Despite Higher Prices': 'https://oilprice.com/Energy/Crude-Oil/US-Oil-Drillers-To-Face-More-Pain-Despite-Higher-Prices.html',\n",
              " 'Renewables To Dominate New U.S. Power Capacity In 2021': 'https://oilprice.com/Alternative-Energy/Renewable-Energy/Renewables-To-Dominate-New-US-Power-Capacity-In-2021.html',\n",
              " 'Are Clean Energy Stocks In Bubble Territory?': 'https://oilprice.com/Energy/Energy-General/Are-Clean-Energy-Stocks-In-Bubble-Territory.html',\n",
              " 'Shell Restarts Production At Huge Prelude Project As LNG Prices Soar': 'https://oilprice.com/Energy/Natural-Gas/Shell-Restarts-Production-At-Huge-Prelude-Project-As-LNG-Prices-Soar.html',\n",
              " 'How U.S. Shale Upended Global Crude Flows': 'https://oilprice.com/Energy/Crude-Oil/How-US-Shale-Upended-Global-Crude-Flows.html',\n",
              " '3 Electric Vehicle Stocks That Could Boom In 2021': 'https://oilprice.com/Energy/Energy-General/3-Electric-Vehicle-Stocks-That-Could-Boom-In-2021.html',\n",
              " 'How Will Biden’s Presidency Impact South America’s Oil Boom?': 'https://oilprice.com/Energy/Energy-General/How-Will-Bidens-Presidency-Impact-South-Americas-Oil-Boom.html',\n",
              " 'Can Tech Save The Oil Industry?': 'https://oilprice.com/Energy/Energy-General/Can-Tech-Save-The-Oil-Industry.html',\n",
              " 'Tesla Is Making A Major Push For Chinese Market Share': 'https://oilprice.com/Energy/Energy-General/Tesla-Is-Making-A-Major-Push-For-Chinese-Market-Share.html',\n",
              " 'Exxon’s Mega Oil Finds In Guyana Are Just The Beginning': 'https://oilprice.com/Energy/Crude-Oil/Exxons-Mega-Oil-Finds-In-Guyana-Are-Just-The-Beginning.html',\n",
              " \"Should You Follow Buffett's Energy Strategy Into 2021?\": 'https://oilprice.com/Energy/Energy-General/Should-You-Follow-Buffetts-Energy-Strategy-Into-2021.html',\n",
              " 'U.S. Foreign Policy Is Fueling Iran’s Interest In Venezuela': 'https://oilprice.com/Energy/Energy-General/US-Foreign-Policy-Is-Fueling-Irans-Interest-In-Venezuela.html',\n",
              " 'Will Oil Demand Recover In 2021?': 'https://oilprice.com/Energy/Crude-Oil/Will-Oil-Demand-Recover-In-2021.html',\n",
              " 'Chinese Cities Go Dark Amid Energy Spat With Australia': 'https://oilprice.com/Energy/Coal/Chinese-Cities-Go-Dark-Amid-Energy-Spat-With-Australia.html',\n",
              " 'The World’s Most Controversial Pipeline Project Enters Its Final Phase': 'https://oilprice.com/Metals/Gold/The-Worlds-Most-Controversial-Pipeline-Project-Enters-Its-Final-Phase.html',\n",
              " 'Oil Bulls Are Back': 'https://oilprice.com/Energy/Energy-General/Oil-Bulls-Are-Back.html',\n",
              " 'OPEC+ Throws U.S. Shale A Lifeline': 'https://oilprice.com/Energy/Energy-General/OPEC-Throws-US-Shale-A-Lifeline.html',\n",
              " 'Cold Weather In China Sends Coal, Gas Prices Sky-High': 'https://oilprice.com/Energy/Energy-General/Cold-Weather-In-China-Sends-Coal-Gas-Prices-Sky-High.html',\n",
              " 'Tesla Tops Facebook To Become Fifth Most Valuable Company': 'https://oilprice.com/Energy/Energy-General/Tesla-Tops-Facebook-To-Become-Fifth-Most-Valuable-Company.html',\n",
              " 'The Future For Natural Gas Is Far From Certain': 'https://oilprice.com/Energy/Natural-Gas/The-Future-For-Natural-Gas-Is-Far-From-Certain.html',\n",
              " 'UAE Oil Takes Center Stage In U.S. Pushback Against China': 'https://oilprice.com/Geopolitics/Middle-East/UAE-Oil-Takes-Center-Stage-In-US-Pushback-Against-China.html',\n",
              " 'Net-Zero Emissions Might Not Be Possible Without Nuclear Power': 'https://oilprice.com/Energy/Energy-General/Net-Zero-Emissions-Might-Not-Be-Possible-Without-Nuclear-Power.html',\n",
              " 'Big Oil Is Getting Serious About Carbon Capture': 'https://oilprice.com/Energy/Energy-General/Big-Oil-Is-Getting-Serious-About-Carbon-Capture.html',\n",
              " 'Oil, Gas And Coal Prices Rally As Cold Winter Sets In': 'https://oilprice.com/Energy/Energy-General/Oil-Gas-And-Coal-Prices-Rally-As-Cold-Winter-Sets-In.html',\n",
              " 'Scientists Find Way To Convert CO2 Into Jet Fuel': 'https://oilprice.com/Energy/Energy-General/Scientists-Find-Way-To-Convert-CO2-Into-Jet-Fuel.html',\n",
              " 'Brexit Creates Major Problem For UK Energy Companies': 'https://oilprice.com/Energy/Energy-General/Brexit-Creates-Major-Problem-For-UK-Energy-Companies.html',\n",
              " 'Pioneer CEO Paints Gloomy Growth Picture For U.S. Shale': 'https://oilprice.com/Energy/Energy-General/Pioneer-CEO-Paints-Gloomy-Growth-Outlook-For-US-Shale.html',\n",
              " 'How To Play 2021’s First Oil Rally': 'https://oilprice.com/Energy/Energy-General/How-To-Play-2021s-First-Oil-Rally.html',\n",
              " 'Rising LNG Prices Welcome News For U.S. Exporters': 'https://oilprice.com/Energy/Natural-Gas/Rising-LNG-Prices-Welcome-News-For-US-Exporters.html',\n",
              " 'Ecuador Scrambles To Clean Up Its Oil Industry': 'https://oilprice.com/Energy/Crude-Oil/Ecuador-Scrambles-To-Clean-Up-Its-Oil-Industry.html',\n",
              " 'The World’s First Major Hydrogen Hubs Are In The Making': 'https://oilprice.com/Energy/Energy-General/The-Worlds-First-Major-Hydrogen-Hubs-Are-In-The-Making.html',\n",
              " 'How To Play The Oil Price Rebound In 2021': 'https://oilprice.com/Energy/Energy-General/How-To-Play-The-Oil-Price-Rebound-In-2021.html',\n",
              " 'WTI Tops $50 As Oil Rally Continues': 'https://oilprice.com/Energy/Energy-General/WTI-Tops-50-As-Oil-Rally-Continues.html',\n",
              " 'How 400 Year Old Blood Taxis Created A $5.7 Trillion Industry': 'https://oilprice.com/Energy/Energy-General/How-400-Year-Old-Blood-Taxis-Created-A-57-Trillion-Industry.html',\n",
              " 'Western Oil Majors Are Key To Reviving Venezuela’s Oil Industry': 'https://oilprice.com/Energy/Energy-General/Western-Oil-Majors-Are-Key-To-Reviving-Venezuelas-Oil-Industry.html',\n",
              " 'LNG Faces Tough Winter In Europe': 'https://oilprice.com/Energy/Energy-General/LNG-Faces-Tough-Winter-In-Europe.html',\n",
              " 'A Silver Lining For Kazakhstan Oil In 2020': 'https://oilprice.com/Energy/Energy-General/A-Silver-Lining-For-Kazakhstan-Oil-In-2020.html',\n",
              " 'The Russian Energy Giant Mining Bitcoin With Virtually Free Energy': 'https://oilprice.com/Energy/Energy-General/The-Russian-Energy-Giant-Mining-Bitcoin-With-Virtually-Free-Energy.html',\n",
              " 'The Middle East Needs To Wake Up To Renewables': 'https://oilprice.com/Energy/Energy-General/The-Middle-East-Needs-To-Wake-Up-To-Renewables.html',\n",
              " 'Azerbaijan Starts Gas Exports To Europe Via TAP Pipeline': 'https://oilprice.com/Energy/Energy-General/Azerbaijan-Starts-Gas-Exports-To-Europe-Via-TAP-Pipeline.html',\n",
              " 'Cambodia Prepares To Produce Its First Oil': 'https://oilprice.com/Energy/Crude-Oil/Cambodia-Prepares-To-Produce-Its-First-Oil.html',\n",
              " 'The 5 Most Influential People In New Energy': 'https://oilprice.com/Energy/Energy-General/The-5-Most-Influential-People-In-New-Energy.html',\n",
              " 'Why President Biden Won’t Be Bad For Natural Gas': 'https://oilprice.com/Energy/Natural-Gas/Why-President-Biden-Wont-Be-Bad-For-Natural-Gas.html',\n",
              " 'China Is Fueling South America’s Oil Boom': 'https://oilprice.com/Energy/Crude-Oil/China-Is-Fueling-South-Americas-Oil-Boom.html',\n",
              " 'How One Bad Oil Bet Sparked A Global Trading Disaster': 'https://oilprice.com/Energy/Crude-Oil/How-One-Bad-Oil-Bet-Sparked-A-Global-Trading-Disaster.html',\n",
              " 'U.S. Energy Independence Is Fueling Iran’s Middle East Power Grab': 'https://oilprice.com/Geopolitics/International/US-Energy-Independence-Is-Fueling-Irans-Middle-East-Power-Grab.html',\n",
              " 'The Top 5 Energy Stories Of 2020': 'https://oilprice.com/Energy/Energy-General/The-Top-5-Energy-Stories-Of-2020.html',\n",
              " 'Merger Mania Is Transforming Canada’s Oil Scene': 'https://oilprice.com/Energy/Crude-Oil/Merger-Mania-Is-Transforming-Canadas-Oil-Scene.html',\n",
              " 'Oilfield Service Giants Are Expanding Beyond Oil Tech': 'https://oilprice.com/Energy/Energy-General/Oilfield-Service-Giants-Are-Expanding-Beyond-Oil-Tech.html',\n",
              " 'Will 2021 Be The Year Of Green Energy Stocks?': 'https://oilprice.com/Alternative-Energy/Renewable-Energy/Will-2021-Be-The-Year-Of-Green-Energy-Stocks.html',\n",
              " 'Greek Shipowners Easily Evade Venezuela Oil Sanctions': 'https://oilprice.com/Energy/Energy-General/Greek-Shipowners-Easily-Evade-Venezuela-Oil-Sanctions.html',\n",
              " 'Fracking Could Save Colombia From Economic Crisis': 'https://oilprice.com/Energy/Crude-Oil/Fracking-Could-Save-Colombia-From-Economic-Crisis.html',\n",
              " 'Can Venezuela’s Oil Industry Bounce Back With The Help Of Iran?': 'https://oilprice.com/Energy/Energy-General/Can-Venezuelas-Oil-Industry-Bounce-Back-With-The-Help-Of-Iran.html',\n",
              " 'Russia Looks To Become Leader In Hydrogen Tech': 'https://oilprice.com/Alternative-Energy/Fuel-Cells/Russia-Looks-To-Become-Leader-In-Hydrogen-Tech.html',\n",
              " 'PetroChina Looks To Double Shale Gas Output By 2025': 'https://oilprice.com/Energy/Natural-Gas/PetroChina-Looks-To-Double-Shale-Gas-Output-By-2025.html',\n",
              " 'Iraqi Kurdistan Finally Moves To Develop Massive Gas Resources': 'https://oilprice.com/Energy/Natural-Gas/Iraqi-Kurdistan-Finally-Moves-To-Develop-Massive-Gas-Resources.html',\n",
              " 'How Angola Can Keep Its Oil Production From Falling': 'https://oilprice.com/Energy/Energy-General/How-Angola-Can-Keep-Its-Oil-Production-From-Falling.html',\n",
              " 'Can Bioengineered Plants Solve Our Carbon Problem?': 'https://oilprice.com/Energy/Energy-General/Can-Bioengineered-Plants-Solve-Our-Carbon-Problem.html',\n",
              " 'Oil Prices Climb On Stimulus Hopes': 'https://oilprice.com/Energy/Energy-General/Oil-Prices-Climb-On-Stimulus-Hopes.html',\n",
              " 'How Diamonds Can Help Power Electric Vehicles': 'https://oilprice.com/Energy/Energy-General/How-Diamonds-Can-Help-Power-Electric-Vehicles.html',\n",
              " '3 Ways to Play the $30 Trillion ESG Boom in 2021': 'https://oilprice.com/Energy/Energy-General/3-Ways-to-Play-the-30-Trillion-ESG-Boom-in-2021.html',\n",
              " 'Russia To Aid Iran In Major Sanctions-Skirting Energy Megaprojects': 'https://oilprice.com/Energy/Energy-General/Russian-To-Aid-Iran-In-Major-Sanction-Skirting-Energy-Megaprojects.html',\n",
              " 'Will Batteries Kill Off Traditional Power Plants?': 'https://oilprice.com/Energy/Energy-General/Will-Batteries-Kill-Off-Traditional-Power-Plants.html',\n",
              " 'Is The Energy Transition Creating A Major Investment Bubble?': 'https://oilprice.com/Energy/Energy-General/Is-The-Energy-Transition-Creating-A-Major-Investment-Bubble.html',\n",
              " 'What Big Oil’s $145 Billion Write-Downs Mean For The Industry': 'https://oilprice.com/Energy/Crude-Oil/What-Big-Oils-145-Billion-Write-Downs-Mean-For-The-Industry.html',\n",
              " 'Russia: OPEC+ Deal Could Be Tweaked If Oil Demand Recovers Faster': 'https://oilprice.com/Energy/Crude-Oil/Russia-OPEC-Deal-Could-Be-Tweaked-If-Oil-Demand-Recovers-Faster.html',\n",
              " \"IHS Markit: Oil Demand Won't Fully Recover Until 2022\": 'https://oilprice.com/Energy/Energy-General/IHS-Markit-Oil-Demand-Wont-Fully-Recover-Until-2022.html',\n",
              " '3 Reasons Why Oil Could See An End Of Year Rally': 'https://oilprice.com/Energy/Oil-Prices/3-Reasons-Why-Oil-Could-See-An-End-Of-Year-Rally.html',\n",
              " 'Why No One Can Solve Texas’ Flaring Crisis': 'https://oilprice.com/Energy/Energy-General/Why-No-One-Can-Solve-Texas-Flaring-Crisis.html',\n",
              " 'The End Of Hydrogen Car Tax Credits': 'https://oilprice.com/Alternative-Energy/Fuel-Cells/The-End-Of-Hydrogen-Car-Tax-Credits.html',\n",
              " 'The Worst Performing Energy Stocks Of 2020': 'https://oilprice.com/Energy/Energy-General/The-Worst-Performing-Energy-Stocks-Of-2020.html',\n",
              " 'China Grabs Control Of LNG Infrastructure In Move To Bolster Energy Security': 'https://oilprice.com/Energy/Natural-Gas/China-Grabs-Control-Of-LNG-Infrastructure-In-Move-To-Bolster-Energy-Security.html',\n",
              " 'Researchers Are Harvesting Precious Metals From Industrial Waste': 'https://oilprice.com/Metals/Commodities/Researchers-Are-Harvesting-Precious-Metals-From-Industrial-Waste.html',\n",
              " 'China’s Energy Dependence To Grow Despite Major Oil Discoveries': 'https://oilprice.com/Energy/Energy-General/Chinas-Energy-Dependence-To-Grow-Despite-Major-Oil-Discoveries.html',\n",
              " 'Is The Green Hydrogen Hype Justified?': 'https://oilprice.com/Alternative-Energy/Renewable-Energy/Is-The-Green-Hydrogen-Hype-Justified.html',\n",
              " 'Can The U.S. Reduce Its Dependency On Chinese Rare Earths?': 'https://oilprice.com/Energy/Energy-General/Can-The-US-Reduce-Its-Dependency-On-Chinese-Rare-Earths.html',\n",
              " 'Oil, Gas Rigs Increase For Fifth Week In A Row': 'https://oilprice.com/Energy/Energy-General/Oil-Gas-Rigs-Increase-For-Fifth-Week-In-A-Row.html',\n",
              " 'Why India Is The Most Exciting Renewable Market In The World': 'https://oilprice.com/Alternative-Energy/Renewable-Energy/Why-India-Is-The-Most-Exciting-Renewable-Market-In-The-World.html',\n",
              " 'The Lone Star State Looks To Become A Leader In Renewables': 'https://oilprice.com/Energy/Energy-General/The-Lone-Star-State-Looks-To-Become-A-Leader-In-Renewables.html',\n",
              " 'Inda Ramps Up Deepwater Gas Production': 'https://oilprice.com/Energy/Natural-Gas/Inda-Ramps-Up-Deepwater-Gas-Production.html',\n",
              " '8 New Energy Technologies That Will Blow Your Mind': 'https://oilprice.com/Energy/Energy-General/8-New-Energy-Technologies-That-Will-Blow-Your-Mind.html',\n",
              " 'The Biggest Energy Bill In A Decade Was Just Passed': 'https://oilprice.com/Energy/Energy-General/The-Biggest-Energy-Bill-In-A-Decade-Was-Just-Passed.html',\n",
              " 'Morgan Stanley Sees Apple As Major Threat To Tesla’s Dominance': 'https://oilprice.com/Energy/Energy-General/Morgan-Stanley-Sees-Apple-As-Major-Threat-To-Teslas-Dominance.html',\n",
              " 'Musk: Apple Once Refused Meeting To Discuss Buying Tesla': 'https://oilprice.com/Energy/Energy-General/Musk-Apple-Once-Refused-Meeting-To-Discuss-Buying-Tesla.html',\n",
              " 'Oil Prices Rise On Bullish EIA Inventory Report': 'https://oilprice.com/Energy/Crude-Oil/Oil-Prices-Rise-On-Bullish-EIA-Inventory-Report.html',\n",
              " 'Iran Unveils Own Oil Tanker In “Goodbye Party” For Trump': 'https://oilprice.com/Energy/Energy-General/Iran-Unveils-Own-Oil-Tanker-In-Goodbye-Party-For-Trump.html',\n",
              " 'Three Energy Stocks Set To Win Big In 2021': 'https://oilprice.com/Energy/Energy-General/Three-Energy-Stocks-Set-To-Win-Big-In-2021.html',\n",
              " 'A Controversial New Power Grid Divides The Middle East': 'https://oilprice.com/Energy/Energy-General/A-Controversial-New-Power-Grid-Divides-The-Middle-East.html',\n",
              " 'Asia Remains Undisputed Leader Of Battery Tech': 'https://oilprice.com/Energy/Energy-General/Asia-Remains-Undisputed-Leader-Of-Battery-Tech.html',\n",
              " 'The World’s First Hydrogen Hubs Are In The Making': 'https://oilprice.com/Energy/Energy-General/The-Worlds-First-Hydrogen-Hubs-Are-In-The-Making.html',\n",
              " 'ConocoPhillips Makes Large Oil Discovery Offshore Norway': 'https://oilprice.com/Energy/Crude-Oil/ConocoPhillips-Makes-Large-Oil-Discovery-Offshore-Norway.html',\n",
              " 'Oil Rally Unravels On New COVID-19 Lockdowns': 'https://oilprice.com/Energy/Energy-General/Oil-Rally-Unravels-On-New-COVID-19-Lockdowns.html',\n",
              " 'The Worst May Be Over For U.S. Oil': 'https://oilprice.com/Energy/Crude-Oil/The-Worst-May-Be-Over-For-US-Oil.html',\n",
              " 'Apple To Build Own EV With “Breakthrough” Battery Tech': 'https://oilprice.com/Energy/Energy-General/Apple-To-Build-Own-EV-With-Breakthrough-Battery-Tech.html',\n",
              " 'Oil Extends Losses As Demand Fears Resurface': 'https://oilprice.com/Energy/Energy-General/Oil-Extends-Losses-As-Demand-Fears-Resurface.html',\n",
              " 'Russian Energy Ministers Tells Biden Not To Disturb Oil Markets': 'https://oilprice.com/Energy/Energy-General/Russian-Energy-Ministers-Tells-Biden-Not-To-Disturb-Oil-Markets.html',\n",
              " 'Could This Be The Top Oil Play For 2021?': 'https://oilprice.com/Energy/Energy-General/Could-This-Be-The-Top-Oil-Play-For-2021.html',\n",
              " 'How Electric Vehicle Hype Created A Brand New Trillion Dollar Market': 'https://oilprice.com/Energy/Energy-General/How-Electric-Vehicle-Hype-Created-A-Brand-New-Trillion-Dollar-Market.html',\n",
              " 'China And Iran Start Drilling In This Super Giant Gas Field': 'https://oilprice.com/Energy/Natural-Gas/China-And-Iran-Start-Drilling-In-This-Super-Giant-Gas-Field.html',\n",
              " 'The U.S. Is Facing Off Against China For Energy Storage Dominance': 'https://oilprice.com/Energy/Energy-General/The-US-Is-Facing-Off-Against-China-For-Energy-Storage-Dominance.html',\n",
              " 'Peru’s Oil Crisis Is Worsening': 'https://oilprice.com/Energy/Crude-Oil/Perus-Oil-Crisis-Is-Worsening.html',\n",
              " 'China Lifts Restrictions On Foreign Energy Investment': 'https://oilprice.com/Energy/Energy-General/China-Lifts-Restrictions-On-Foreign-Energy-Investment.html',\n",
              " 'PetroChina Makes Huge Gas Find': 'https://oilprice.com/Energy/Natural-Gas/PetroChina-Makes-Huge-Gas-Find.html',\n",
              " 'Fuel Demand In India Is Soaring Despite Pandemic': 'https://oilprice.com/Energy/Crude-Oil/Fuel-Demand-In-India-Is-Soaring-Despite-Pandemic.html',\n",
              " 'The Great Reset: BlackRock Is Fueling A $120 Trillion Transformation On Wall St.': 'https://oilprice.com/Energy/Energy-General/The-Great-Reset-BlackRock-Is-Fueling-A-120-Trillion-Transformation-On-Wall-St.html',\n",
              " 'Colombia’s Oil Industry Could Stage A Comeback In 2021': 'https://oilprice.com/Energy/Energy-General/Colombias-Oil-Industry-Could-Stage-A-Comeback-In-2021.html',\n",
              " 'This Tiny Island Group Could Soon Become An Oil Producer': 'https://oilprice.com/Energy/Crude-Oil/Tiny-This-Island-Group-Could-Soon-Become-An-Oil-Producer.html',\n",
              " 'Could Pipelines Bypass The World’s Most Critical Oil Chokepoint?': 'https://oilprice.com/Energy/Energy-General/Could-Pipelines-Bypass-The-Worlds-Most-Critical-Oil-Chokepoint.html',\n",
              " 'Energy Stocks Soar And Oil Prices Climb': 'https://oilprice.com/Energy/Energy-General/Energy-Stocks-Soar-And-Oil-Prices-Climb.html',\n",
              " 'The Oil Market Is Still In Trouble': 'https://oilprice.com/Energy/Energy-General/The-Oil-Market-Is-Still-In-Trouble.html',\n",
              " \"What's Next For OPEC?\": 'https://oilprice.com/Energy/Energy-General/Whats-Next-For-OPEC25580.html',\n",
              " 'LNG Prices Soar To Six-Year High': 'https://oilprice.com/Energy/Natural-Gas/LNG-Prices-Soar-To-Six-Year-High.html',\n",
              " 'Tesla’s 1,000% Stock Price Explosion Isn’t About Electric Cars': 'https://oilprice.com/Energy/Energy-General/Teslas-1000-Stock-Price-Explosion-Isnt-About-Electric-Cars.html',\n",
              " 'Rosneft Extremely Bullish About Arctic Oil And Gas Discoveries': 'https://oilprice.com/Energy/Energy-General/New-Arctic-Gas-Find-Boosts-Russian-Reserves.html',\n",
              " 'Hydrogen Production Is Set To Increase 5000% In Just 5 Years': 'https://oilprice.com/Energy/Energy-General/Hydrogen-Production-Is-Set-To-Increase-5000-In-Just-5-Years.html',\n",
              " 'An Under-The-Radar Opportunity In LNG': 'https://oilprice.com/Energy/Energy-General/An-Under-The-Radar-Opportunity-In-LNG.html',\n",
              " 'Wall Street Is Warming Up To Canada’s Oil Sands': 'https://oilprice.com/Energy/Energy-General/Wall-Street-Is-Warming-Up-To-Canadas-Oil-Sands.html',\n",
              " 'Offshore Oil’s Dramatic Comeback': 'https://oilprice.com/Energy/Crude-Oil/Offshore-Oils-Dramatic-Comeback.html',\n",
              " '2 Electric Car Stocks To Watch In 2021': 'https://oilprice.com/Energy/Energy-General/2-Electric-Car-Stocks-To-Watch-In-2021.html',\n",
              " 'U.S. Renewable Energy Installations Break Records Despite Pandemic': 'https://oilprice.com/Alternative-Energy/Renewable-Energy/US-Renewable-Energy-Installations-Break-Records-Despite-Pandemic.html',\n",
              " 'U.S. LNG Exports Hit Record High In November': 'https://oilprice.com/Energy/Natural-Gas/US-LNG-Exports-Hit-Record-High-In-November.html',\n",
              " 'Egypt And Iraq Sign Landmark Oil Deal': 'https://oilprice.com/Energy/Energy-General/Egypt-And-Iraq-Sign-Landmark-Oil-Deal.html',\n",
              " '2 Ways To Win Big On The Oil Price Rebound': 'https://oilprice.com/Energy/Energy-General/2-Ways-To-Win-Big-On-The-Oil-Price-Rebound.html',\n",
              " 'Mexico Is Quietly Pushing Out Foreign Oil Investors': 'https://oilprice.com/Energy/Energy-General/Mexico-Is-Quietly-Pushing-Out-Foreign-Oil-Investors.html',\n",
              " 'Low Oil Prices Force Saudi Arabia To Cut 2021 Budget Plan': 'https://oilprice.com/Energy/Energy-General/Low-Oil-Prices-Force-Saudi-Arabia-To-Cut-2021-Budget-Plan.html',\n",
              " 'Oil Jumps On Crude Inventory Draw': 'https://oilprice.com/Energy/Crude-Oil/Oil-Jumps-On-Crude-Inventory-Draw.html',\n",
              " 'World Bank Sees Oil Prices Averaging $44 In 2021': 'https://oilprice.com/Energy/Energy-General/World-Bank-Sees-Oil-Prices-Averaging-44-In-2021.html',\n",
              " 'Is It Time For A Correction In Oil Markets?': 'https://oilprice.com/Energy/Energy-General/Is-It-Time-For-A-Correction-In-Oil-Markets.html',\n",
              " 'How An Obscure 400 Year Old Law Sparked A $5 Trillion Transportation Revolution': 'https://oilprice.com/Energy/Energy-General/How-An-Obscure-400-Year-Old-Law-Sparked-A-5-Trillion-Transportation-Revolution.html',\n",
              " 'Big Oil Slammed With A $7 Trillion Reality Check': 'https://oilprice.com/Energy/Energy-General/Big-Oil-Slammed-With-A-7-Trillion-Reality-Check.html',\n",
              " 'UAE Cements US, Israel Alliance With This Huge Oil Deal': 'https://oilprice.com/Energy/Energy-General/UAE-Cements-US-Israel-Alliance-With-This-Huge-Oil-Deal.html',\n",
              " 'Another Corruption Scandal Engulfs Ecuador’s Oil Industry': 'https://oilprice.com/Energy/Energy-General/Another-Corruption-Scandal-Engulfs-Ecuadors-Oil-Industry.html',\n",
              " 'Will Oil Continue To Rally In 2021?': 'https://oilprice.com/Energy/Crude-Oil/Will-Oil-Continue-To-Rally-In-2021.html',\n",
              " 'Oil Bulls Are Back Despite New COVID Lockdowns': 'https://oilprice.com/Energy/Energy-General/Oil-Bulls-Are-Back-Despite-New-COVID-Lockdowns.html',\n",
              " 'The Two Midstream Oil Stocks Set To Thrive In 2021': 'https://oilprice.com/Energy/Energy-General/The-Two-Midstream-Oil-Stocks-Set-To-Thrive-In-2021.html',\n",
              " 'OPEC President: OPEC+ Shouldn’t Hurry To Ease Oil Output Cuts': 'https://oilprice.com/Energy/Crude-Oil/OPEC-President-OPEC-Shouldnt-Hurry-To-Ease-Oil-Output-Cuts.html',\n",
              " 'Goldman Turns Bullish On Oil: Sees $65 Brent In 2021': 'https://oilprice.com/Energy/Oil-Prices/Goldman-Turns-Bullish-On-Oil-Sees-65-Brent-In-2021.html',\n",
              " 'Why Warren Buffet Is Betting Big On Oil & Gas Pipeline Companies': 'https://oilprice.com/Energy/Energy-General/Why-Warren-Buffet-Is-Betting-Big-On-Oil-Gas-Pipeline-Companies.html',\n",
              " 'The EV Of The Future May Never Have To Be Charged': 'https://oilprice.com/Energy/Energy-General/The-EV-Of-The-Future-May-Never-Have-To-Be-Charged.html',\n",
              " 'Asset Managers Are Turning Up The Heat On Energy Companies': 'https://oilprice.com/Energy/Energy-General/Asset-Managers-Are-Turning-Up-The-Heat-On-Energy-Companies.html',\n",
              " 'Exxon’s Big Bet On Guyana’s Offshore Oil Basin Is Paying Off': 'https://oilprice.com/Energy/Energy-General/Exxons-Big-Bet-On-Guyanas-Offshore-Oil-Basin-Is-Paying-Off.html',\n",
              " 'Could Solar Power Save The Lone Star State?': 'https://oilprice.com/Energy/Energy-General/Could-Solar-Power-Save-The-Lone-Star-State.html',\n",
              " 'Battery Recycling Booms As The EV Revolution Kicks Into High Gear': 'https://oilprice.com/Energy/Energy-General/Battery-Recycling-Booms-As-The-EV-Revolution-Kicks-Into-High-Gear.html',\n",
              " 'Upheaval In Big Oil’s Board Rooms': 'https://oilprice.com/Energy/Energy-General/Upheaval-In-Big-Oils-Board-Rooms.html',\n",
              " 'Supermajors Are Betting Big On Carbon Credits': 'https://oilprice.com/Energy/Energy-General/Supermajors-Are-Betting-Big-On-Carbon-Credits.html',\n",
              " 'Oil Falls After OPEC Slashes Q1 2021 Demand Forecast': 'https://oilprice.com/Energy/Crude-Oil/Oil-Falls-After-OPEC-Slashes-Q1-2021-Demand-Forecast.html',\n",
              " 'Explosion At Saudi Port Damages Oil Tanker': 'https://oilprice.com/Energy/Energy-General/Explosion-At-Saudi-Port-Damages-Oil-Tanker.html',\n",
              " 'Oil Prices Rise As U.S. Vaccinations Begin': 'https://oilprice.com/Energy/Oil-Prices/Oil-Prices-Rise-As-US-Vaccinations-Begin.html',\n",
              " 'Bank Of China Gets Tiny Fine For Negative Oil Price Disaster': 'https://oilprice.com/Energy/Energy-General/Bank-Of-China-Gets-Tiny-Fine-For-Negative-Oil-Price-Disaster.html',\n",
              " 'Bombshell Report Pours Cold Water On Global LNG Outlook': 'https://oilprice.com/Energy/Natural-Gas/Bombshell-Report-Pours-Cold-Water-On-Global-LNG-Outlook.html',\n",
              " 'Could This Cathode Breakthrough Make Batteries Cheaper?': 'https://oilprice.com/Alternative-Energy/Solar-Energy/Could-This-Cathode-Breakthrough-Make-Batteries-Cheaper.html',\n",
              " 'Solar Energy Boom Fuels Demand For Silver': 'https://oilprice.com/Metals/Silver/Solar-Energy-Boom-Fuels-Demand-For-Silver.html',\n",
              " 'Geopolitical Rift Between Australia And China Reaches Boiling Point': 'https://oilprice.com/Energy/Energy-General/Geopolitical-Rift-Between-Australia-And-China-Reaches-Boiling-Point.html',\n",
              " 'Oman Looks To Make The Most Of Its Dwindling Oil Reserves': 'https://oilprice.com/Energy/Energy-General/Oman-Looks-To-Make-The-Most-Of-Its-Dwindling-Oil-Reserves.html',\n",
              " 'EV Metal Index Soars To Record Heights In 2020': 'https://oilprice.com/Energy/Energy-General/EV-Metal-Index-Soars-To-Record-Heights-In-2020.html',\n",
              " 'Nord Stream 2 Construction Continues Despite Delays': 'https://oilprice.com/Energy/Natural-Gas/Nord-Stream-2-Construction-Continues-Despite-Delays.html',\n",
              " 'Oil Prices Take A Breather After Big Rally': 'https://oilprice.com/Energy/Energy-General/Oil-Takes-a-Breather-After-Big-Rally.html',\n",
              " 'China Expands Its Influence Over Iraqi Oil': 'https://oilprice.com/Energy/Energy-General/China-Expands-Its-Influence-Over-Iraqi-Oil.html',\n",
              " 'Beyond Crude Oil: A Long Term Play In Natural Gas': 'https://oilprice.com/Energy/Energy-General/Beyond-Crude-Oil-A-Long-Term-Play-In-Natural-Gas.html',\n",
              " 'EU Reaches Agreement On Emission Cuts': 'https://oilprice.com/Energy/Energy-General/EU-Reaches-Agreement-On-Emission-Cuts.html',\n",
              " 'Exxon Makes First Promising Offshore Discovery Off Suriname': 'https://oilprice.com/Energy/Energy-General/Exxon-Makes-First-Promising-Offshore-Discovery-Off-Suriname.html',\n",
              " 'The Top U.S. Shale Gas Basin Continues To Bleed Cash': 'https://oilprice.com/Energy/Natural-Gas/The-Top-US-Shale-Gas-Basin-Continues-To-Bleed-Cash.html',\n",
              " 'Could We Actually See A Reversal In Energy Efficiency?': 'https://oilprice.com/Energy/Energy-General/Could-We-Actually-See-A-Reversal-In-Energy-Efficiency.html',\n",
              " 'Solar Energy Is On The Brink Of A Golden Age': 'https://oilprice.com/Energy/Energy-General/Solar-Energy-Is-On-The-Brink-Of-A-Golden-Age.html',\n",
              " 'South America Set To Struggle With Stranded Oil Assets': 'https://oilprice.com/Energy/Energy-General/South-America-Set-To-Struggle-With-Stranded-Oil-Assets.html',\n",
              " 'Was Buffett Right About Energy In 2020?': 'https://oilprice.com/Energy/Energy-General/Was-Buffett-Right-About-Energy-In-2020.html',\n",
              " 'The Electric Car Boom Is About To Get Even Hotter': 'https://oilprice.com/Energy/Energy-General/The-Electric-Car-Boom-Is-About-To-Get-Even-Hotter.html',\n",
              " 'Russia Tightens Its Grip On Kurdistan Oil': 'https://oilprice.com/Energy/Crude-Oil/Russia-Tightens-Its-Grip-On-Kurdistan-Oil.html',\n",
              " 'Large Oil Trader Trafigura Books Strongest Trading Year Ever': 'https://oilprice.com/Energy/Crude-Oil/Large-Oil-Trader-Trafigura-Books-Strongest-Trading-Year-Ever.html',\n",
              " 'The Oil Refinery Crisis Will Worsen This Winter': 'https://oilprice.com/Energy/Energy-General/The-Oil-Refinery-Crisis-Will-Worsen-This-Winter.html',\n",
              " 'Why The World Might Not Have Enough Oil To Meet Demand Trough 2050': 'https://oilprice.com/Energy/Energy-General/Why-The-World-Might-Not-Have-Enough-Oil-To-Meet-Demand-Trough-2050.html',\n",
              " 'Is Elon Musk Wrong About Lithium?': 'https://oilprice.com/Energy/Crude-Oil/Is-Elon-Musk-Wrong-About-Lithium.html',\n",
              " 'Egypt Buys Huge Oil Contracts To Hedge Against Rising Prices': 'https://oilprice.com/Energy/Crude-Oil/Egypt-Buys-Huge-Oil-Contracts-To-Hedge-Against-Rising-Prices.html',\n",
              " 'Will The UK Abandon North Sea Oil Exploration?': 'https://oilprice.com/Energy/Crude-Oil/Will-The-UK-Abandon-North-Sea-Oil-Exploration.html',\n",
              " 'Oil Plunges After EIA Reports Huge Crude Build': 'https://oilprice.com/Energy/Crude-Oil/Oil-Crashes-After-EIA-Reports-Largest-Crude-Build-Ever.html',\n",
              " \"Canada's Oil Heartland Goes Into Lockdown As Covid-19 Infections Surge\": 'https://oilprice.com/Energy/Energy-General/Canadas-Oil-Heartland-Goes-Into-Lockdown-As-Covid-19-Infections-Surge.html',\n",
              " 'How To Profit From The Death Of Car Ownership': 'https://oilprice.com/Energy/Energy-General/How-To-Profit-From-The-Death-Of-Car-Ownership.html',\n",
              " 'Russia Braces For Permanent Decline In Oil Demand': 'https://oilprice.com/Energy/Crude-Oil/Russia-Braces-For-Permanent-Decline-In-Oil-Demand.html',\n",
              " 'Porsche Is Looking Beyond Electric Vehicles': 'https://oilprice.com/Energy/Energy-General/Porsche-Is-Looking-Beyond-Electric-Vehicles.html',\n",
              " '3 Oil And Gas Stocks Outperforming The Market': 'https://oilprice.com/Energy/Energy-General/3-Oil-And-Gas-Stocks-Outperforming-The-Market.html',\n",
              " 'Why Is Denmark Ditching Natural Gas?': 'https://oilprice.com/Energy/Natural-Gas/Why-Is-Denmark-Ditching-Natural-Gas.html',\n",
              " 'Oil Market Hopeful As Vaccinations Begin': 'https://oilprice.com/Energy/Energy-General/Oil-Market-Hopeful-As-Vaccinations-Begin.html',\n",
              " 'Qatar Set To Significantly Boost Energy Investments In India': 'https://oilprice.com/Energy/Oil-Prices/Qatar-Set-To-Significantly-Boost-Energy-Investments-In-India.html',\n",
              " 'The Tiny Oil Nation At The Center Of A Middle East Power Struggle': 'https://oilprice.com/Energy/Energy-General/The-Tiny-Oil-Nation-At-The-Center-Of-A-Middle-East-Power-Struggle.html',\n",
              " 'BP Prepares To Boost Middle East Oil Production': 'https://oilprice.com/Energy/Crude-Oil/BP-Prepares-To-Boost-Middle-East-Oil-Production.html',\n",
              " 'Oil Is Key In Russia’s Rapprochement With Azerbaijan': 'https://oilprice.com/Energy/Crude-Oil/Oil-Is-Key-In-Russias-Rapprochement-With-Azerbaijan.html',\n",
              " 'Shale Executives See Little Chance Of Significant Growth': 'https://oilprice.com/Energy/Energy-General/Shale-Executives-See-Little-Chance-Of-Significant-Growth.html',\n",
              " 'The 3 Hottest Electric Car Stocks For 2021': 'https://oilprice.com/Energy/Energy-General/The-3-Hottest-Electric-Car-Stocks-For-2021.html',\n",
              " 'Top Oil Stocks For Investors This December': 'https://oilprice.com/Energy/Energy-General/Top-Oil-Stocks-For-Investors-This-December.html',\n",
              " 'Commercial Green Hydrogen Just Got A Step Closer': 'https://oilprice.com/Alternative-Energy/Renewable-Energy/Commercial-Green-Hydrogen-Just-Got-A-Step-Closer.html',\n",
              " 'Why The World Can’t Quit Fossil Fuels': 'https://oilprice.com/The-Environment/Global-Warming/Why-The-World-Cant-Quit-Fossil-Fuels.html',\n",
              " 'Energy Espionage Is Threatening The Renewable Boom': 'https://oilprice.com/Alternative-Energy/Renewable-Energy/Energy-Espionage-Is-Threatening-The-Renewable-Boom.html',\n",
              " 'Oil Rallies On OPEC+ Agreement': 'https://oilprice.com/Energy/Energy-General/Oil-Rallies-On-OPEC-Agreement.html',\n",
              " 'The End Of Growth For U.S. Shale': 'https://oilprice.com/Energy/Energy-General/The-End-Of-Growth-For-US-Shale.html',\n",
              " 'An Energy Trade War Is Brewing': 'https://oilprice.com/Energy/Energy-General/An-Energy-Trade-War-Is-Brewing.html',\n",
              " 'Decarbonizing U.S. Utilities: The Money Talks': 'https://oilprice.com/Energy/Energy-General/Decarbonizing-US-Utilities-The-Money-Talks.html',\n",
              " 'How To Play The Chinese Energy Market': 'https://oilprice.com/Energy/Energy-General/How-To-Play-The-Chinese-Energy-Market.html',\n",
              " 'Oil Prices Drop On OPEC+ Uncertainty': 'https://oilprice.com/Energy/Energy-General/Oil-Prices-Drop-On-OPEC-Uncertainty.html',\n",
              " 'Tackling The Natural Gas Industry’s Biggest Problem': 'https://oilprice.com/Energy/Natural-Gas/Tackling-The-Natural-Gas-Industrys-Biggest-Problem.html',\n",
              " 'Japan And Kuwait Strike Major Oil Storage Deal': 'https://oilprice.com/Energy/Energy-General/Japan-And-Kuwait-Strike-Major-Oil-Storage-Deal.html',\n",
              " \"Is Exxon's Dividend Too High To Justify?\": 'https://oilprice.com/Energy/Energy-General/Are-Exxons-Dividends-Too-High-To-Justify.html',\n",
              " 'U.S. Oil Production Is On The Rise Again': 'https://oilprice.com/Energy/Energy-General/US-Oil-Production-Is-On-The-Rise-Again.html',\n",
              " 'Natural Gas Demand Will Grow For Decades To Come': 'https://oilprice.com/Energy/Natural-Gas/Natural-Gas-Demand-Will-Grow-For-Decades-To-Come.html',\n",
              " 'Venezuela’s Oil Crisis Is An Environmental Time Bomb': 'https://oilprice.com/Energy/Energy-General/Venezuelas-Oil-Crisis-Is-An-Environmental-Time-Bomb.html',\n",
              " 'The World’s Largest Trade Pact Could Crush U.S. Gas Exports': 'https://oilprice.com/Energy/Energy-General/The-Worlds-Largest-Trade-Pact-Could-Crush-US-Gas-Exports.html',\n",
              " 'Five Energy Stocks To Buy Before Christmas': 'https://oilprice.com/Energy/Energy-General/Five-Energy-Stocks-To-Buy-Before-Christmas.html',\n",
              " \"The Single Biggest Threat To Venezuela's Future\": 'https://oilprice.com/Energy/Crude-Oil/The-Single-Biggest-Threat-To-Venezuelas-Future.html',\n",
              " 'The End Of The Century-Old Black Sea Drilling Dream': 'https://oilprice.com/Energy/Energy-General/The-End-Of-The-Century-Old-Black-Sea-Drilling-Dream.html',\n",
              " 'Gasoline Demand Remains Resilient During European Lockdowns': 'https://oilprice.com/Energy/Energy-General/Gasoline-Demand-Remains-Resilient-During-European-Lockdowns.html',\n",
              " 'Can Hydrogen Energy Save Coal Country?': 'https://oilprice.com/Energy/Energy-General/Can-Hydrogen-Energy-Save-Coal-Country.html',\n",
              " 'This Century-Old Refinery Is Up For Sale': 'https://oilprice.com/Energy/Energy-General/This-Century-Old-Refinery-Is-Up-For-Sale.html',\n",
              " 'Oil Markets Hopeful As OPEC+ Meeting Looms': 'https://oilprice.com/Energy/Energy-General/Oil-Markets-Hopeful-As-OPEC-Meeting-Looms.html',\n",
              " 'Low Oil Prices Could Finally Bring Iraq And Kurdistan Together': 'https://oilprice.com/Energy/Energy-General/Low-Oil-Prices-Could-Finally-Bring-Iraq-And-Kurdistan-Together.html',\n",
              " 'U.S. Shale Production Continues Its Decline': 'https://oilprice.com/Energy/Energy-General/US-Shale-Production-Continues-Its-Decline.html',\n",
              " \"Here's Why Electric Vehicle Stocks Have Exploded This Year\": 'https://oilprice.com/Energy/Energy-General/Heres-Why-Electric-Vehicle-Stocks-Have-Exploded-This-Year.html',\n",
              " 'Refineries Are Fighting Over Used Cooking Oil And Animal Fat': 'https://oilprice.com/Energy/Energy-General/Why-Refineries-Are-Fighting-Over-Used-Cooking-Oil.html',\n",
              " 'Peru’s Oil Industry Is Engulfed In Crisis': 'https://oilprice.com/Energy/Energy-General/Perus-Oil-Industry-Is-Engulfed-In-Crisis.html',\n",
              " 'Thanksgiving Thursday Brings An End To The Oil Rally': 'https://oilprice.com/Energy/Energy-General/Thanksgiving-Thursday-Brings-An-End-To-The-Oil-Rally.html',\n",
              " 'Oil Pirates Are Dangerously Close To U.S. Waters': 'https://oilprice.com/Energy/Energy-General/Oil-Pirates-Are-Dangerously-Close-To-US-Waters.html',\n",
              " 'Britain’s Richest Man Plans To Make Hydrogen Cars Mainstream': 'https://oilprice.com/Alternative-Energy/Renewable-Energy/Britains-Richest-Man-Plans-To-Make-Hydrogen-Cars-Mainstream.html',\n",
              " 'A Worrying Bottleneck For Offshore Wind Energy': 'https://oilprice.com/Alternative-Energy/Wind-Power/A-Worrying-Bottleneck-For-Offshore-Wind-Energy.html',\n",
              " 'Can Colombia’s Oil Industry Stage A Comeback In 2021?': 'https://oilprice.com/Energy/Energy-General/Can-Colombias-Oil-Industry-Stage-A-Comeback-In-2021.html',\n",
              " 'COVID Forces Exxon To Slash Oil Price Forecast': 'https://oilprice.com/Energy/Energy-General/COVID-Forces-Exxon-To-Slash-Oil-Price-Forecast.html',\n",
              " 'Oil Prices Climb Higher As The EIA Reports Inventory Draw': 'https://oilprice.com/Energy/Energy-General/Oil-Prices-Climb-Higher-As-The-EIA-Reports-Inventory-Draw.html',\n",
              " 'The Investment Trend That Could Send Tesla To $2 Trillion': 'https://oilprice.com/Energy/Energy-General/The-Investment-Trend-That-Could-Send-Tesla-To-2-Trillion.html',\n",
              " 'Oil Bulls Drive Prices Higher On Vaccine Success': 'https://oilprice.com/Energy/Energy-General/Oil-Bulls-Drive-Prices-Higher-On-Vaccine-Success.html',\n",
              " 'The API Will Do Everything In Its Power To Fight Biden’s Fracking Ban': 'https://oilprice.com/Energy/Energy-General/The-API-Will-Do-Everything-In-Its-Power-To-Fight-Bidens-Fracking-Ban.html',\n",
              " 'Saudi Aramco’s Landmark IPO Is Costing The Kingdom Billions': 'https://oilprice.com/Energy/Energy-General/Saudi-Aramcos-Landmark-IPO-Is-Costing-The-Kingdom-Billions.html',\n",
              " 'Canada’s Oil And Gas Sector Sees Record Job Losses': 'https://oilprice.com/Energy/Energy-General/Canadas-Oil-And-Gas-Sector-Sees-Record-Job-Losses.html',\n",
              " 'Why Australia Is The World’s Most Exciting Mining Frontier': 'https://oilprice.com/Alternative-Energy/Renewable-Energy/Why-Australia-Is-The-Worlds-Most-Exciting-Mining-Frontier.html',\n",
              " 'How High Can Oil Prices Go In 2021?': 'https://oilprice.com/Energy/Energy-General/How-High-Can-Oil-Prices-Go-In-2021.html',\n",
              " 'How A Biden Presidency Could Boost Colombia’s Oil Industry': 'https://oilprice.com/Energy/Energy-General/How-A-Biden-Presidency-Could-Boost-Colombias-Oil-Industry.html',\n",
              " 'Can Clean Coal Compete With Natural Gas In China?': 'https://oilprice.com/Energy/Energy-General/Can-Clean-Coal-Compete-With-Natural-Gas-In-China.html',\n",
              " 'Oil Demand Set To Rebound In 2021': 'https://oilprice.com/Energy/Energy-General/Oil-Demand-Set-To-Rebound-In-2021.html',\n",
              " 'Oil Demand Is Primed For A Major Recovery': 'https://oilprice.com/Energy/Energy-General/Oil-Demand-Is-Primed-For-A-Major-Recovery.html',\n",
              " 'Oil Majors Are Paying The Price For Investing In Renewables': 'https://oilprice.com/Energy/Energy-General/Oil-Majors-Are-Paying-The-Price-For-Investing-In-Renewables.html',\n",
              " 'Middle East Oil Producers Are Drowning In Debt': 'https://oilprice.com/Energy/Energy-General/Middle-East-Oil-Producers-Are-Drowning-In-Debt.html',\n",
              " 'Why The Energy Transition Will Be Fantastic For Small Oil Companies': 'https://oilprice.com/Energy/Crude-Oil/Why-The-Energy-Transition-Will-Be-Fantastic-For-Small-Oil-Companies.html',\n",
              " 'Desperate Venezuelans Attempt To Refine Gasoline At Home': 'https://oilprice.com/Energy/Energy-General/Desperate-Venezuelans-Attempt-To-Refine-Gasoline-At-Home.html',\n",
              " 'The Oil Price Crash Has Made Diversification Vital For Gulf Nations': 'https://oilprice.com/Energy/Energy-General/The-Oil-Price-Crash-Has-Made-Diversification-Vital-For-Gulf-Nations.html',\n",
              " 'The 3 Hottest Electric Vehicle Stocks Of The Year': 'https://oilprice.com/Energy/Energy-General/The-3-Hottest-Electric-Vehicle-Stocks-Of-The-Year.html',\n",
              " 'Why Biden’s Approach To Venezuela Is So Important For Oil Markets': 'https://oilprice.com/Geopolitics/South-America/Why-Bidens-Approach-To-Venezuela-Is-So-Important-For-Oil-Markets.html',\n",
              " 'Is Russia’s LNG Push Too Little Too Late?': 'https://oilprice.com/Energy/Energy-General/Is-Russias-LNG-Push-Too-Little-Too-Late.html',\n",
              " 'Is This The Most Exciting Oil Stock For 2021?': 'https://oilprice.com/Energy/Energy-General/Is-This-The-Most-Exciting-Oil-Stock-For-2021.html',\n",
              " 'Climate Targets Could Slash Natural Gas Investment By $1 Trillion': 'https://oilprice.com/Energy/Natural-Gas/Climate-Targets-Could-Slash-Natural-Gas-Investment-By-1-Trillion.html',\n",
              " 'Argentina’s Huge Vaca Muerta Shale Could Become A Stranded Asset': 'https://oilprice.com/Energy/Crude-Oil/Argentinas-Huge-Vaca-Muerta-Shale-Could-Become-A-Stranded-Asset.html',\n",
              " 'Oil Markets See Light At The End Of The Tunnel': 'https://oilprice.com/Energy/Energy-General/Oil-Markets-See-Light-At-The-End-Of-The-Tunnel.html',\n",
              " 'How Fast Will The Electric Industry Exit Coal?': 'https://oilprice.com/Energy/Coal/How-Fast-Will-The-Electric-Industry-Exit-Coal.html',\n",
              " 'A Major Oil Rally Could Be On The Horizon': 'https://oilprice.com/Energy/Crude-Oil/A-Major-Oil-Rally-Could-Be-On-The-Horizon.html',\n",
              " 'Ecuador’s Vast Oil Wealth May Never Be Tapped': 'https://oilprice.com/Energy/Energy-General/Ecuadors-Vast-Oil-Wealth-May-Never-Be-Tapped.html',\n",
              " 'Wyoming Becomes A Haven For The Super Rich As Its Oil Industry Crumbles': 'https://oilprice.com/Energy/Energy-General/Wyoming-Becomes-A-Haven-For-The-Super-Rich-As-Its-Oil-Industry-Crumbles.html',\n",
              " \"Japan Looks To Open The World's First Hydrogen Import Facility\": 'https://oilprice.com/Alternative-Energy/Fuel-Cells/Japan-Looks-To-Open-The-Worlds-First-Hydrogen-Import-Facility.html',\n",
              " 'Blackrock and Fidelity Are Betting Big On This $130 Trillion Mega-Trend': 'https://oilprice.com/Energy/Energy-General/Blackrock-and-Fidelity-Are-Betting-Big-On-This-130-Trillion-Mega-Trend.html',\n",
              " 'Brazil Is Emerging As The World’s Leading Offshore Oil Producer': 'https://oilprice.com/Energy/Energy-General/Brazil-Is-Emerging-As-The-Worlds-Leading-Offshore-Oil-Producer.html',\n",
              " 'Oil Majors Aren’t Worried About A Biden Presidency': 'https://oilprice.com/Energy/Energy-General/Oil-Majors-Arent-Worried-About-A-Biden-Presidency.html',\n",
              " 'Brazil Looks To Snag Market Share In World’s Fastest-Growing Oil Market': 'https://oilprice.com/Energy/Energy-General/Brazil-Looks-To-Snag-Market-Share-In-Worlds-Fastest-Growing-Oil-Market.html',\n",
              " 'Europe’s Green Deal Is Bad News For U.S. LNG': 'https://oilprice.com/Energy/Natural-Gas/Europes-Green-Deal-Is-Bad-News-For-US-LNG.html',\n",
              " 'The EV Revolution Could Create 20 Million New Jobs': 'https://oilprice.com/Energy/Energy-General/The-EV-Revolution-Could-Create-20-Million-New-Jobs.html',\n",
              " 'Will Japan Ever Reboot Its Nuclear Industry?': 'https://oilprice.com/Alternative-Energy/Nuclear-Power/Will-Japan-Ever-Reboot-Its-Nuclear-Industry.html',\n",
              " 'An Uneasy Peace Between Armenia And Azerbaijan': 'https://oilprice.com/Energy/Energy-General/An-Uneasy-Peace-Between-Armenia-And-Azerbaijan.html',\n",
              " 'Surge In COVID Cases Counters Oil Market Optimism': 'https://oilprice.com/Energy/Energy-General/Surge-In-COVID-Cases-Counters-Oil-Market-Optimism.html',\n",
              " 'Could Energy Bring Lebanon And Israel Together?': 'https://oilprice.com/Energy/Energy-General/Could-Energy-Bring-Lebanon-And-Israel-Together.html',\n",
              " 'The 6 Hottest Energy Tech Stocks For 2021': 'https://oilprice.com/Energy/Energy-General/The-6-Hottest-Energy-Tech-Stocks-For-2021.html',\n",
              " 'Will Biden Be As Bad For Oil As Critics Suggest?': 'https://oilprice.com/Energy/Crude-Oil/Will-Biden-Be-As-Bad-For-Oil-As-Critics-Suggest.html',\n",
              " 'Germany’s Growing Gas Demand Shows No Signs Of Slowing': 'https://oilprice.com/Energy/Natural-Gas/Germanys-Growing-Gas-Demand-Shows-No-Signs-Of-Slowing.html',\n",
              " 'Russia: It’s Too Early To Talk About Tweaking OPEC+ Deal': 'https://oilprice.com/Energy/Energy-General/Russia-Its-Too-Early-To-Talk-About-Tweaking-OPEC-Deal.html',\n",
              " 'An Oil Market Recovery Is On The Horizon': 'https://oilprice.com/Energy/Oil-Prices/An-Oil-Market-Recovery-Is-On-The-Horizon.html',\n",
              " 'Can Colombia Replicate Brazil’s Offshore Oil Boom?': 'https://oilprice.com/Energy/Crude-Oil/Can-Colombia-Replicate-Brazils-Offshore-Oil-Boom.html',\n",
              " 'Is This The Perfect Battery For Electric Vehicles?': 'https://oilprice.com/Energy/Energy-General/Is-This-The-Perfect-Battery-For-Electric-Vehicles.html',\n",
              " 'The Road To Recovery Is Long For Oilfield Services': 'https://oilprice.com/Energy/Energy-General/The-Road-To-Recovery-Is-Long-For-Oilfield-Services.html',\n",
              " 'India Could Be The Next Breakout Natural Gas Market': 'https://oilprice.com/Energy/Energy-General/India-Could-Be-The-Next-Breakout-Natural-Gas-Market.html',\n",
              " 'Oil Optimism Returns On Fresh Vaccine News': 'https://oilprice.com/Energy/Energy-General/Oil-Optimism-Returns-On-Fresh-Vaccine-News.html',\n",
              " 'Shell’s Largest Refinery Reduces Crude Processing Capacity By 50%': 'https://oilprice.com/Energy/Energy-General/Shells-Largest-Refinery-Reduces-Crude-Processing-Capacity-By-50.html',\n",
              " 'U.S. LNG Exports To China Expected To Grow Substantially': 'https://oilprice.com/Energy/Energy-General/US-LNG-Exports-To-China-Expected-To-Grow-Substantially.html',\n",
              " 'Vitol CEO: Oil Prices Could Hit $50 In Near Future': 'https://oilprice.com/Energy/Oil-Prices/Vitol-CEO-Oil-Prices-Could-Hit-50-In-Near-Future.html',\n",
              " 'Iran’s Mega South Pars Gas Field Nears Completion': 'https://oilprice.com/Energy/Natural-Gas/Irans-Mega-South-Pars-Gas-Field-Nears-Completion.html',\n",
              " '3 Energy Stocks Better Than ExxonMobil': 'https://oilprice.com/Energy/Energy-General/3-Energy-Stocks-Better-Than-ExxonMobil.html',\n",
              " 'The Death Of Car Ownership: How Tech Is Killing The $3 Trillion Auto Industry': 'https://oilprice.com/Energy/Energy-General/The-Death-Of-Car-Ownership-The-Tech-Killing-The-3-Trillion-Auto-Industry.html',\n",
              " 'Australia Could Lead The $11 Trillion Hydrogen Boom': 'https://oilprice.com/Alternative-Energy/Fuel-Cells/Australia-Could-Lead-The-11-Trillion-Hydrogen-Boom.html',\n",
              " 'Why U.S. Politics Don’t Impact Energy': 'https://oilprice.com/Energy/Energy-General/Why-US-Politics-Dont-Impact-Energy.html',\n",
              " 'M&A Heats Up In Canadian Oil Patch': 'https://oilprice.com/Energy/Energy-General/MA-Heats-Up-In-Canadian-Oil-Patch.html',\n",
              " 'COVID Surge Keeps Oil Below $40': 'https://oilprice.com/Energy/Energy-General/COVID-Surge-Keeps-Oil-Below-40.html',\n",
              " 'Global Oil Demand Is Weaker Than Expected': 'https://oilprice.com/Energy/Energy-General/Global-Oil-Demand-Is-Weaker-Than-Expected.html',\n",
              " 'Another Poor Earnings Season For Oil & Gas Companies': 'https://oilprice.com/Energy/Energy-General/Another-Poor-Earnings-Season-For-Oil-Gas-Companies.html',\n",
              " 'Smart Money Is Betting Big On This Trillion Dollar Lifestyle Trend': 'https://oilprice.com/Energy/Energy-General/Smart-Money-Is-Betting-Big-On-This-Trillion-Dollar-Lifestyle-Trend.html',\n",
              " 'Two Major Power Blocs Are Vying For Power In The Middle East': 'https://oilprice.com/Energy/Energy-General/Two-Major-Power-Blocs-Are-Vying-For-Power-In-The-Middle-East.html',\n",
              " 'Consolidation Is Killing Jobs In The U.S. Shale Industry': 'https://oilprice.com/Energy/Energy-General/Consolidation-Is-Killing-Jobs-In-The-US-Shale-Industry.html',\n",
              " 'The Biggest Ever Transfer Of Wealth Is Happening Right Now': 'https://oilprice.com/Energy/Energy-General/The-Biggest-Ever-Transfer-Of-Wealth-Is-Happening-Right-Now.html',\n",
              " \"This Just Became The World's Largest Gas Hub\": 'https://oilprice.com/Energy/Natural-Gas/This-Hub-Is-Becoming-The-Brent-Of-Natural-Gas.html',\n",
              " 'Texas Oil Industry May Have Left The Worst Of The Downturn Behind': 'https://oilprice.com/Energy/Energy-General/Texas-Oil-Industry-May-Have-Left-The-Worst-Of-The-Downturn-Behind.html',\n",
              " 'Is Wall Street Cutting Its Fossil Fuels Losses?': 'https://oilprice.com/Energy/Energy-General/Is-Wall-Street-Cutting-Its-Fossil-Fuels-Losses.html',\n",
              " 'Why Oil Markets Aren’t Focused On The Election': 'https://oilprice.com/Energy/Energy-General/Why-Oil-Markets-Arent-Focused-On-The-Election.html',\n",
              " '3 Ways To Foolproof Your Energy Portfolio': 'https://oilprice.com/Energy/Energy-General/3-Ways-To-Foolproof-Your-Energy-Portfolio.html',\n",
              " 'Argentina Is In Desperate Need Of An Oil Boom': 'https://oilprice.com/Energy/Crude-Oil/Argentina-Is-In-Desperate-Need-Of-An-Oil-Boom.html',\n",
              " 'Bolivia May Boost Energy Exports Under New Government': 'https://oilprice.com/Energy/Energy-General/Bolivia-May-Boost-Energy-Exports-Under-New-Government.html',\n",
              " 'The $110 Trillion Trend That Bezos, Buffet And Musk Are Betting On': 'https://oilprice.com/Energy/Energy-General/The-110-Trillion-Trend-That-Bezos-Buffet-And-Musk-Are-Betting-On.html',\n",
              " 'A Wave Of Stranded Oil Assets Is Coming To The U.S. Shale Patch': 'https://oilprice.com/Energy/Crude-Oil/A-Wave-Of-Stranded-Oil-Assets-Is-Coming-To-The-US-Shale-Patch.html',\n",
              " 'How The Oil Industry Fared Under The Last Nine U.S. Presidents': 'https://oilprice.com/Energy/Crude-Oil/How-The-Oil-Industry-Fared-Under-The-Last-Nine-US-Presidents.html',\n",
              " 'This Challenged Gulf Nation Is Betting Big On Natural Gas': 'https://oilprice.com/Energy/Natural-Gas/This-Challenged-Gulf-Nation-Is-Betting-Big-On-Natural-Gas.html',\n",
              " 'The Nuclear Power Struggle In The EU': 'https://oilprice.com/Energy/Energy-General/The-Nuclear-Power-Struggle-In-The-EU.html',\n",
              " 'The U.S. Is Making Major Moves In This Key LNG Market': 'https://oilprice.com/Energy/Energy-General/The-US-Is-Making-Major-Moves-In-This-Key-LNG-Market.html',\n",
              " 'Oil Sees Worst Month Since March': 'https://oilprice.com/Energy/Energy-General/Oil-Sees-Worst-Month-Since-March.html',\n",
              " 'China And India Drive Oil Demand Recovery': 'https://oilprice.com/Energy/Energy-General/China-And-India-Drive-Oil-Demand-Recovery.html',\n",
              " 'Analysts: Oil Prices Are Going Nowhere In The Short Term': 'https://oilprice.com/Energy/Oil-Prices/Analysts-Oil-Prices-Are-Going-Nowhere-In-The-Short-Term.html',\n",
              " 'Could Fracking Help Save Colombia’s Oil Dependent Economy?': 'https://oilprice.com/Energy/Energy-General/Could-Fracking-Help-Save-Colombias-Oil-Dependent-Economy.html',\n",
              " 'The New Energy Reality Is A Massive Opportunity For Investors': 'https://oilprice.com/Energy/Energy-General/The-New-Energy-Reality-Is-A-Massive-Opportunity-For-Investors.html',\n",
              " 'China Believes Natural Gas Demand Will Soar': 'https://oilprice.com/Energy/Energy-General/China-Believes-Natural-Gas-Demand-Will-Soar.html',\n",
              " 'Will A Fracking Boom Ever Happen In Mexico?': 'https://oilprice.com/Energy/Energy-General/Will-A-Fracking-Boom-Ever-Happen-In-Mexico.html',\n",
              " 'Is Brazil’s Oil Boom Immune To COVID?': 'https://oilprice.com/Energy/Energy-General/Is-Brazils-Oil-Boom-Immune-To-COVID.html',\n",
              " 'Philippines Is Getting Ready To Drill For Oil And Gas': 'https://oilprice.com/Energy/Crude-Oil/Philippines-Is-Getting-Ready-To-Drill-For-Oil-And-Gas.html',\n",
              " 'The Next Oil & Gas Battleground For Supermajors': 'https://oilprice.com/Energy/Energy-General/The-Next-Oil-Gas-Battleground-For-Supermajors.html',\n",
              " 'Oman Faces Tough Choices As Budget Deficit Deepens': 'https://oilprice.com/Energy/Energy-General/Oman-Faces-Tough-Choices-As-Budget-Deficit-Deepens.html',\n",
              " 'The U.S. Looks To Delay The World’s Most Controversial Pipeline Once Again': 'https://oilprice.com/Energy/Energy-General/The-US-Looks-To-Delay-The-Worlds-Most-Controversial-Pipeline-Once-Again.html',\n",
              " 'Oil Demand In Doubt As COVID Cases Climb': 'https://oilprice.com/Energy/Energy-General/Oil-Demand-In-Doubt-As-COVID-Cases-Climb.html',\n",
              " 'Will Colombia’s Struggling Oil Industry Ever Recover?': 'https://oilprice.com/Energy/Crude-Oil/Will-Colombias-Struggling-Oil-Industry-Ever-Recover.html',\n",
              " 'Saudi Energy Minister: The Worst Is Over For Oil Markets': 'https://oilprice.com/Energy/Oil-Prices/Saudi-Energy-Minister-The-Worst-Is-Over-For-Oil-Markets.html',\n",
              " 'Wall Street’s Hottest Fund Is Going All In On This $4 Trillion Market': 'https://oilprice.com/Energy/Energy-General/Wall-Streets-Hottest-Fund-Is-Going-All-In-On-This-4-Trillion-Market.html',\n",
              " 'China Sets Its Sights On Global EV Dominance': 'https://oilprice.com/Energy/Energy-General/China-Sets-Its-Sights-On-Global-EV-Dominance.html',\n",
              " 'Oil Prices Under Pressure Again As Supply Climbs': 'https://oilprice.com/Energy/Energy-General/Oil-Prices-Under-Pressure-Again-As-Supply-Climbs.html',\n",
              " 'Is Canadian LNG Too Expensive To Compete?': 'https://oilprice.com/Energy/Energy-General/Is-Canadian-LNG-Too-Expensive-To-Compete.html',\n",
              " 'The Shift Away From Fossil Fuels Is Inevitable Regardless Of Who Is Elected': 'https://oilprice.com/Energy/Energy-General/The-Shift-Away-From-Fossil-Fuels-Is-Inevitable-Regardless-Of-Who-Is-Elected.html',\n",
              " 'Big Profits Are No Longer The Top Priority For Oil Investors': 'https://oilprice.com/Energy/Energy-General/Big-Profits-Are-No-Longer-The-Top-Priority-For-Oil-Investors.html',\n",
              " 'North American Oil And Gas Bankruptcy Debt Has Hit An All-Time High': 'https://oilprice.com/Energy/Energy-General/North-American-Oil-And-Gas-Bankruptcy-Debt-Has-Hit-An-All-Time-High.html',\n",
              " 'Nuclear Energy Granted A State-Sponsored Lifeline In The U.S.': 'https://oilprice.com/Alternative-Energy/Nuclear-Power/Nuclear-Energy-Granted-A-State-Sponsored-Lifeline-In-The-US.html',\n",
              " 'The Energy Revolution Needs A $1 Trillion Investment In Key Metals': 'https://oilprice.com/Energy/Energy-General/The-Energy-Revolution-Needs-A-1-Trillion-Investment-In-Key-Metals.html',\n",
              " 'Solar Breakthrough Could Be A Game Changer For Energy Efficiency': 'https://oilprice.com/Energy/Energy-General/Solar-Breakthrough-Could-Be-A-Game-Changer-For-Energy-Efficiency.html',\n",
              " 'Oil Prices Slip Again As COVID Cases Surge': 'https://oilprice.com/Energy/Energy-General/Oil-Prices-Slip-Again-As-COVID-Cases-Surge.html',\n",
              " 'The Consolidation Of U.S. Shale': 'https://oilprice.com/Energy/Energy-General/The-Consolidation-Of-US-Shale.html',\n",
              " 'Biden Says He Would “Transition From The Oil Industry”': 'https://oilprice.com/Energy/Crude-Oil/Biden-Says-He-Would-Transition-From-The-Oil-Industry.html',\n",
              " 'Venezuela’s Oil Major Sees Oil At $35 Through 2021': 'https://oilprice.com/Energy/Oil-Prices/Venezuelas-Oil-Major-Sees-Oil-At-35-Through-2021.html',\n",
              " 'The 3 Hottest Renewable Energy IPOs': 'https://oilprice.com/Alternative-Energy/Solar-Energy/The-3-Hottest-Renewable-Energy-IPOs.html',\n",
              " 'The End Of Venezuela’s Oil Era': 'https://oilprice.com/Energy/Energy-General/The-End-Of-Venezuelas-Oil-Era.html',\n",
              " 'Technology Will Become More Important Than Oil For Energy Markets': 'https://oilprice.com/Energy/Energy-General/Technology-Will-Become-More-Important-Than-Oil-For-Energy-Markets.html',\n",
              " 'Could Oil Drillers Make Geothermal Energy Go Mainstream?': 'https://oilprice.com/Alternative-Energy/Geothermal-Energy/Could-Oil-Drillers-Make-Geothermal-Energy-Go-Mainstream.html',\n",
              " 'World Bank Sees Oil Average $44 in 2021': 'https://oilprice.com/Energy/Oil-Prices/World-Bank-Sees-Oil-Average-44-in-2021.html',\n",
              " 'Goldman Expects A Structural Bull Market For Commodities In 2021': 'https://oilprice.com/Metals/Commodities/Goldman-Expects-A-Structural-Bull-Market-For-Commodities-In-2021.html',\n",
              " 'This $40 Billion Pipeline Project Risks Becoming A Stranded Asset': 'https://oilprice.com/Energy/Natural-Gas/This-40-Billion-Pipeline-Project-Risks-Becoming-A-Stranded-Asset.html',\n",
              " 'Oil Jumps On U.S. Stimulus Hopes': 'https://oilprice.com/Energy/Energy-General/Oil-Jumps-On-US-Stimulus-Hopes.html',\n",
              " 'U.S. Gasoline Demand Drops \\xa0': 'https://oilprice.com/Energy/Energy-General/US-Gasoline-Demand-Drops.html',\n",
              " 'The World’s Largest Oil Trader Just Sent LNG Prices Soaring': 'https://oilprice.com/Energy/Gas-Prices/The-Worlds-Largest-Oil-Trader-Just-Sent-LNG-Prices-Soaring.html',\n",
              " 'Why Natural Gas Is The Most Important Fuel Of the Next Decade': 'https://oilprice.com/Energy/Energy-General/Why-Natural-Gas-Is-The-Most-Important-Fuel-Of-the-Next-Decade.html',\n",
              " 'Saudi Arabia Is Suffering The Consequences Of Its Failed Oil Price War': 'https://oilprice.com/Energy/Oil-Prices/Saudi-Arabia-Is-Suffering-The-Consequences-Of-Its-Failed-Oil-Price-War.html',\n",
              " 'Tech Breakthrough Promises Hydrogen Gas From Plastic Waste': 'https://oilprice.com/Energy/Energy-General/Tech-Breakthrough-Promises-Hydrogen-Gas-From-Plastic-Waste.html',\n",
              " \"China's Crude Imports Become Backbone Of Oil Price Recovery\": 'https://oilprice.com/Energy/Oil-Prices/Chinas-Crude-Imports-Become-Backbone-Of-Oil-Price-Recovery.html',\n",
              " 'Big Oil Hamstrung In Tackling Methane Problem': 'https://oilprice.com/Energy/Energy-General/Big-Oil-Hamstrung-In-Tackling-Methane-Problem.html',\n",
              " 'Oilfield Services Giant Baker Hughes Reports Loss': 'https://oilprice.com/Energy/Energy-General/Oilfield-Services-Giant-Baker-Hughes-Reports-Loss.html',\n",
              " 'Oil Prices Rebound On Small Crude Draw': 'https://oilprice.com/Energy/Crude-Oil/Oil-Prices-Rebound-On-Small-Crude-Draw.html',\n",
              " \"Trump Blasts Biden's Fracking Plans At Rally\": 'https://oilprice.com/Energy/Crude-Oil/Trump-Blasts-Bidens-Fracking-Plans-At-Rally.html',\n",
              " 'There’s Nothing That Can Stop The World’s Next Oil Hotspot': 'https://oilprice.com/Energy/Energy-General/Theres-Nothing-That-Can-Stop-The-Worlds-Next-Oil-Hotspot.html',\n",
              " \"The Big Oil Side Hustle: Where 'Renewable' Money Is Really Going\": 'https://oilprice.com/Energy/Crude-Oil/The-Big-Oil-Side-Hustle-Where-Renewable-Money-Is-Really-Going.html',\n",
              " 'Another Major Breakthrough For Solar Energy': 'https://oilprice.com/Alternative-Energy/Solar-Energy/Another-Major-Breakthrough-For-Solar-Energy.html',\n",
              " 'Alberta Unimpressed By Canadian Plastics Ban': 'https://oilprice.com/Energy/Energy-General/Alberta-Unimpressed-By-Canadian-Plastics-Ban.html',\n",
              " 'Oil Poised To Rebound, But What About The Long Term?': 'https://oilprice.com/Energy/Crude-Oil/Oil-Poised-To-Rebound-But-What-About-The-Long-Term.html',\n",
              " 'Oil Demand Growth Won’t Be Saved By Petrochemical Boom': 'https://oilprice.com/Energy/Crude-Oil/Oil-Demand-Growth-Wont-Be-Saved-By-Petrochemical-Boom.html',\n",
              " 'Oil Prices Aren’t Going Anywhere Until The Election': 'https://oilprice.com/Energy/Energy-General/Oil-Prices-Arent-Going-Anywhere-Until-The-Election.html',\n",
              " 'Will OPEC+ Decide To Extend Oil Output Cuts?': 'https://oilprice.com/Energy/Crude-Oil/Will-OPEC-Decide-To-Extend-Oil-Output-Cuts.html',\n",
              " 'Prepare For More U.S. Shale Mergers And Acquisitions': 'https://oilprice.com/Energy/Crude-Oil/Prepare-For-More-US-Shale-Mergers-And-Acquisitions.html',\n",
              " 'Three Energy Stocks To Watch On Election Day': 'https://oilprice.com/Energy/Energy-General/Three-Energy-Stocks-To-Watch-On-Election-Day.html',\n",
              " 'This Deal Could Create The Next Big Shale Giant': 'https://oilprice.com/Energy/Energy-General/his-Deal-Could-Create-The-Next-Big-Shale-Giant.html',\n",
              " 'OPEC+ Is On The Brink Of A Crisis': 'https://oilprice.com/Energy/Energy-General/OPEC-Is-On-The-Brink-Of-A-Crisis.html',\n",
              " 'Iran To Import North Korean missiles In 25-Year Military Deal With China': 'https://oilprice.com/Energy/Energy-General/Iran-To-Import-North-Korean-missiles-In-25-Year-Military-Deal-With-China.html',\n",
              " 'U.S. Renewable Energy Consumption Hits Record': 'https://oilprice.com/Alternative-Energy/Renewable-Energy/US-Renewable-Energy-Consumption-Hits-Record.html',\n",
              " \"Biden's $2 Trillion Energy Plan Could Crush Natural Gas\": 'https://oilprice.com/Energy/Natural-Gas/Bidens-2-Trillion-Energy-Plan-Could-Crush-Natural-Gas.html',\n",
              " 'ISIS Calls For Attacks On Saudi Oil Industry': 'https://oilprice.com/Energy/Energy-General/ISIS-Calls-For-Attacks-On-Saudi-Oil-Industry.html',\n",
              " 'Oil Majors Stuck Between A Rock And A Hard Place': 'https://oilprice.com/Energy/Energy-General/Oil-Majors-Stuck-Between-A-Rock-And-A-Hard-Place.html',\n",
              " 'Big Banks Could Lose Billions In The Global Energy Transition': 'https://oilprice.com/Energy/Energy-General/Big-Banks-Could-Lose-Billions-In-The-Global-Energy-Transition.html',\n",
              " 'How Long Will China Continue To Prop Up The Oil Market?': 'https://oilprice.com/Energy/Energy-General/How-Long-Will-China-Continue-To-Prop-Up-The-Oil-Market.html',\n",
              " 'Is This Europe’s Newest Oil & Gas Hotspot?': 'https://oilprice.com/Energy/Crude-Oil/Is-This-Europes-Newest-Oil-Gas-Hotspot.html',\n",
              " 'Sanctioned Belarus Moves Closer To Russia As Crisis Continues': 'https://oilprice.com/Energy/Energy-General/Sanctioned-Belarus-Moves-Closer-To-Russia-As-Crisis-Continues.html',\n",
              " 'Can U.S. Shale Rebound?': 'https://oilprice.com/Energy/Energy-General/Can-US-Shale-Rebound.html',\n",
              " 'The Geopolitical Influence Of Natural Gas': 'https://oilprice.com/Energy/Energy-General/The-Geopolitical-Influence-Of-Natural-Gas.html',\n",
              " 'COVID Kills Another Oil Rally': 'https://oilprice.com/Energy/Energy-General/COVID-Kills-Another-Oil-Rally.html',\n",
              " 'Natural Gas Is Booming In Africa': 'https://oilprice.com/Energy/Energy-General/Natural-Gas-Is-Booming-In-Africa.html',\n",
              " 'A Biden Presidency Could End The U.S. Oil Boom': 'https://oilprice.com/Energy/Energy-General/A-Biden-Presidency-Could-End-The-US-Oil-Boom.html',\n",
              " 'Carbon Capture Is Going To Become Critical': 'https://oilprice.com/The-Environment/Global-Warming/Carbon-Capture-Is-Going-To-Become-Critical.html',\n",
              " 'OPEC+ Discusses Stalled Demand Recovery, Return Of Libyan Oil': 'https://oilprice.com/Energy/Crude-Oil/OPEC-Discusses-Stalled-Demand-Recovery-Return-Of-Libyan-Oil.html',\n",
              " 'Many Lost U.S. Oil Jobs May Never Return': 'https://oilprice.com/Energy/Energy-General/Many-Lost-US-Oil-Jobs-May-Never-Return.html',\n",
              " 'Democrats Want Permanent Ban On Offshore Oil Leasing': 'https://oilprice.com/Energy/Energy-General/Democrats-Want-Permanent-Ban-On-Offshore-Oil-Leasing.html',\n",
              " 'The Secret Behind America’s Most Valuable Energy Play': 'https://oilprice.com/Energy/Energy-General/The-Secret-Behind-Americas-Most-Valuable-Energy-Play.html',\n",
              " \"5 Major Takeaways From The IEA's World Energy Outlook 2020\": 'https://oilprice.com/Energy/Energy-General/5-Major-Takeaways-From-The-IEAs-World-Energy-Outlook-2020.html',\n",
              " 'Iran’s Sanction Busting Pipeline Is Just Months From Completion': 'https://oilprice.com/Energy/Crude-Oil/Irans-Sanction-Busting-Pipeline-Is-Just-Months-From-Completion.html',\n",
              " 'The U.S. Is Backing Hydrogen Trucks With A New $100 Million Initiative': 'https://oilprice.com/Alternative-Energy/Fuel-Cells/The-US-Is-Backing-Hydrogen-Trucks-With-A-New-100-Million-Initiative.html',\n",
              " 'Energy Traders Expect Another Jump In Natural Gas Prices': 'https://oilprice.com/Energy/Energy-General/Energy-Traders-Expect-Another-Jump-In-Natural-Gas-Prices.html',\n",
              " 'Is U.S. Shale Finally Bouncing Back?': 'https://oilprice.com/Energy/Energy-General/Is-US-Shale-Finally-Bouncing-Back.html',\n",
              " 'Crucial Oil Infrastructure At Risk In New Caucasus Conflict': 'https://oilprice.com/Geopolitics/Europe/Crucial-Oil-Infrastructure-At-Risk-In-New-Caucasus-Conflict.html',\n",
              " 'Are LNG Prices About To Head Higher?': 'https://oilprice.com/Energy/Natural-Gas/Are-LNG-Prices-About-To-Head-Higher.html',\n",
              " 'Oil Holds Its Breath As Presidential Election Approaches': 'https://oilprice.com/Energy/Energy-General/Oil-Holds-Its-Breath-As-Presidential-Election-Approaches.html',\n",
              " 'The Real Reason China Is Betting Big On Renewables': 'https://oilprice.com/Energy/Energy-General/The-Real-Reason-China-Is-Betting-Big-On-Renewables.html',\n",
              " 'Morgan Stanley Sees Oil Prices Struggling To Break Above $50': 'https://oilprice.com/Energy/Energy-General/Morgan-Stanley-Sees-Oil-Prices-Struggling-To-Break-Above-50.html',\n",
              " '$1.7 Trillion Green Energy Spending Spree Could Send Solar Stocks Soaring': 'https://oilprice.com/Energy/Energy-General/17-Trillion-Green-Energy-Spending-Spree-Could-Send-Solar-Stocks-Soaring.html',\n",
              " 'Russian LNG Gets A Climate Change Boost': 'https://oilprice.com/Energy/Energy-General/Russian-LNG-Gets-A-Climate-Change-Boost.html',\n",
              " 'Middle East Natural Gas Megaprojects Face Major Risks': 'https://oilprice.com/Energy/Energy-General/Middle-East-Natural-Gas-Megaprojects-Face-Major-Risks.html',\n",
              " 'IEA: Natural Gas Demand To See Largest Drop Ever In 2020': 'https://oilprice.com/Energy/Energy-General/IEA-Natural-Gas-Demand-To-See-Largest-Drop-Ever-In-2020.html',\n",
              " 'Why Nuclear Fusion Remains Our Best Bet For 100% Clean Energy': 'https://oilprice.com/Energy/Crude-Oil/Why-Nuclear-Fusion-Remains-Our-Best-Bet-For-100-Clean-Energy.html',\n",
              " 'Argentina’s Oil Boom Is Showing Signs Of Life': 'https://oilprice.com/Energy/Crude-Oil/Argentinas-Oil-Boom-Is-Showing-Signs-Of-Life.html',\n",
              " 'Geothermal Energy Market Heats Up As Big Oil Moves In': 'https://oilprice.com/Energy/Energy-General/Geothermal-Energy-Market-Heats-Up-As-Big-Oil-Moves-In.html',\n",
              " 'Oil Prices Climb 10% In A Week': 'https://oilprice.com/Energy/Energy-General/Oil-Prices-Climb-10-In-A-Week.html',\n",
              " 'U.S. Shale Faces Another Year Of Contraction In 2021': 'https://oilprice.com/Energy/Energy-General/US-Shale-Faces-Another-Year-Of-Contraction-In-2021.html',\n",
              " 'Another Week Of Layoffs And Bankruptcies For Oil': 'https://oilprice.com/Energy/Energy-General/Another-Week-Of-Layoffs-And-Bankruptcies-For-Oil.html',\n",
              " 'Why The Elections Aren’t Moving Oil Prices': 'https://oilprice.com/Energy/Oil-Prices/Why-The-Elections-Arent-Moving-Oil-Prices.html',\n",
              " 'How AI And Blockchain Are Driving The Energy Transition': 'https://oilprice.com/Energy/Energy-General/How-AI-And-Blockchain-Are-Driving-The-Energy-Transition.html',\n",
              " 'Australia’s Ambitious Energy Plans At Odds With Lower Carbon Strategy': 'https://oilprice.com/Energy/Energy-General/Australias-Ambitious-Energy-Plans-At-Odds-With-Lower-Carbon-Strategy.html',\n",
              " 'India Surpasses Renewable Goals But Still Struggles To Meet Demand': 'https://oilprice.com/Alternative-Energy/Renewable-Energy/India-Surpasses-Renewable-Goals-But-Still-Struggles-To-Meet-Demand.html',\n",
              " \"Saudi Oil Giant Aramco Dismisses ''Speculation'' About Peak Demand\": 'https://oilprice.com/Energy/Crude-Oil/Saudi-Oil-Giant-Aramco-Dismisses-Speculation-About-Peak-Demand.html',\n",
              " 'The Energy Sectors Most Threatened By A Biden Presidency': 'https://oilprice.com/Energy/Energy-General/The-Energy-Sectors-Most-Threatened-By-A-Biden-Presidency.html',\n",
              " 'Why Big Oil Is Scrambling To Diversify': 'https://oilprice.com/Energy/Energy-General/Why-Big-Oil-Is-Scrambling-To-Diversify.html',\n",
              " 'The Geopolitical Power Of The Shale Revolution Is Fading': 'https://oilprice.com/Energy/Energy-General/The-Geopolitical-Power-Of-The-Shale-Revolution-Is-Fading.html',\n",
              " 'Did The U.S. Really Become The World’s Top Oil Producer Under Trump?': 'https://oilprice.com/Energy/Energy-General/Did-The-US-Really-Become-The-Worlds-Top-Oil-Producer-Under-Trump.html',\n",
              " 'Energy Deals Are Creating A Powerful Alliance Between China And Russia': 'https://oilprice.com/Energy/Energy-General/Energy-Deals-Are-Creating-A-Powerful-Alliance-Between-China-And-Russia.html',\n",
              " 'Problems Are Piling Up For Oil Majors': 'https://oilprice.com/Energy/Oil-Prices/Problems-Are-Piling-Up-For-Oil-Majors.html',\n",
              " 'Why Exxon Is Still Going Big On Oil': 'https://oilprice.com/Energy/Crude-Oil/Why-Exxon-Is-Still-Going-Big-On-Oil.html',\n",
              " 'Saudi Arabia Boosts Prices Of Flagship Crude Oil Blend': 'https://oilprice.com/Energy/Oil-Prices/Saudi-Arabia-Boosts-Prices-Of-Flagship-Crude-Oil-Blend.html',\n",
              " 'The Biggest Obstacle For Nuclear Energy': 'https://oilprice.com/Alternative-Energy/Nuclear-Power/The-Biggest-Obstacle-For-Nuclear-Energy.html',\n",
              " 'The World’s Last Major Onshore Oil Play?': 'https://oilprice.com/Energy/Energy-General/The-Worlds-Last-Major-Onshore-Oil-Play.html',\n",
              " 'Will The Permian Stage A Miraculous Comeback?': 'https://oilprice.com/Energy/Energy-General/Will-The-Permian-Stage-A-Miraculous-Comeback.html',\n",
              " 'Colombia Struggles To Overcome Its Oil Curse': 'https://oilprice.com/Energy/Energy-General/Colombia-Struggles-To-Overcome-Its-Oil-Curse.html',\n",
              " 'Natural Gas Offers Lifeline For Distressed Gulf Oil Giants': 'https://oilprice.com/Energy/Energy-General/Natural-Gas-Offers-Lifeline-For-Distressed-Gulf-Oil-Giants.html',\n",
              " 'Oil Rallies On Stimulus Hopes': 'https://oilprice.com/Energy/Energy-General/Oil-Rallies-On-Stimulus-Hopes.html',\n",
              " 'There’s More Upside For Natural Gas Prices': 'https://oilprice.com/Energy/Energy-General/Theres-More-Upside-For-Natural-Gas-Prices.html',\n",
              " 'Russia Is Expanding Its Energy Influence In Africa': 'https://oilprice.com/Energy/Energy-General/Russia-Is-Expanding-Its-Energy-Influence-In-Africa.html',\n",
              " 'Tighter Markets Cause Natural Gas Prices To Jump Almost 10%': 'https://oilprice.com/Energy/Natural-Gas/Tighter-Markets-Cause-Natural-Gas-Prices-To-Jump-Almost-10.html',\n",
              " \"Oil Majors Hit Hard By Canada's Energy Stock Selloff\": 'https://oilprice.com/Energy/Crude-Oil/Oil-Majors-Hit-Hard-By-Canadas-Energy-Stock-Selloff.html',\n",
              " '70% Of Lost U.S. Oil Jobs May Not Return Anytime Soon': 'https://oilprice.com/Energy/Energy-General/70-Of-Lost-US-Oil-Jobs-May-Not-Return-Anytime-Soon.html',\n",
              " 'Does Cryptocurrency Really Run On Clean Energy?': 'https://oilprice.com/Energy/Energy-General/Does-Cryptocurrency-Really-Run-On-Clean-Energy.html',\n",
              " 'What Will Happen To Gold Under The Fed’s New Monetary Framework?': 'https://oilprice.com/Metals/Gold/What-Will-Happen-To-Gold-Under-The-Feds-New-Monetary-Framework.html',\n",
              " 'Has Trump Helped Or Hurt The U.S. Ethanol Industry?': 'https://oilprice.com/Energy/Energy-General/Has-Trump-Helped-Or-Hurt-The-US-Ethanol-Industry.html',\n",
              " 'Souring Fundamentals Force Brent Crude Oil Below $40': 'https://oilprice.com/Energy/Oil-Prices/Souring-Fundamentals-Force-Brent-Crude-Oil-Below-40.html',\n",
              " 'The Geopolitical Impact Of A Natural Gas Revolution': 'https://oilprice.com/Energy/Energy-General/The-Geopolitical-Impact-Of-A-Natural-Gas-Revolution.html',\n",
              " 'U.S., UAE And Israel Agree On Joint Energy Strategy': 'https://oilprice.com/Energy/Energy-General/US-UAE-And-Israel-Agree-On-Joint-Energy-Strategy.html',\n",
              " 'How To Make Your Energy Portfolio Election Proof': 'https://oilprice.com/Energy/Energy-General/How-To-Make-Your-Energy-Portfolio-Election-Proof.html',\n",
              " 'Why Nigeria’s Oil Company Is Considering An IPO': 'https://oilprice.com/Energy/Energy-General/Why-Nigerias-Oil-Company-Is-Considering-An-IPO.html',\n",
              " 'Carbon Capture Is A Critical Part Of Our Energy Future': 'https://oilprice.com/Energy/Energy-General/Carbon-Capture-Is-A-Critical-Part-Of-Our-Energy-Future.html',\n",
              " 'Blue Ammonia: Another Major Breakthrough For Hydrogen Power': 'https://oilprice.com/Energy/Energy-General/Blue-Ammonia-Another-Major-Breakthrough-For-Hydrogen-Power.html',\n",
              " 'Carbon Capture Is Critical To Net-Zero Goals': 'https://oilprice.com/Energy/Energy-General/Carbon-Capture-Is-Critical-To-Net-Zero-Goals.html',\n",
              " 'Gold Could Soar If Another Stimulus Is Passed': 'https://oilprice.com/Metals/Gold/Gold-Could-Soar-If-Another-Stimulus-Is-Passed.html',\n",
              " 'China Is Ready To Give Iran’s Oil Industry A Major Boost': 'https://oilprice.com/Energy/Energy-General/China-Is-Ready-To-Give-Irans-Oil-Industry-A-Major-Boost.html',\n",
              " 'Digitalization Is The Only Way Oil Companies Can Survive': 'https://oilprice.com/Energy/Energy-General/Digitalization-Is-The-Only-Way-Oil-Companies-Can-Survive.html',\n",
              " 'A Major Supply Shortage Is Set To Hit Lithium Markets': 'https://oilprice.com/Energy/Energy-General/A-Major-Supply-Shortage-Is-Set-To-Hit-Lithium-Markets.html',\n",
              " 'Are “Energy Communities” The Future Of Renewables?': 'https://oilprice.com/Alternative-Energy/Nuclear-Power/Are-Energy-Communities-The-Future-Of-Renewables.html',\n",
              " 'China’s Clean Air Push Could Be Contributing To Global Warming': 'https://oilprice.com/The-Environment/Global-Warming/Chinas-Clean-Air-Push-Could-Be-Contributing-To-Global-Warming.html',\n",
              " 'Will Clean Energy Policies Actually Create More Jobs?': 'https://oilprice.com/Energy/Energy-General/Will-Clean-Energy-Policies-Actually-Create-More-Jobs.html',\n",
              " 'China’s EV Ambitions Put The U.S. Auto Industry At Risk': 'https://oilprice.com/Energy/Energy-General/Chinas-EV-Ambitions-Put-The-US-Auto-Industry-At-Risk.html',\n",
              " 'U.S. Onshore Oil Production To Fall Amid Slowdown In Drilling': 'https://oilprice.com/Energy/Crude-Oil/US-Onshore-Oil-Production-To-Fall-Amid-Slowdown-In-Drilling.html',\n",
              " 'The Hydrogen Boom Is On Track To Hit $11 Trillion': 'https://oilprice.com/Energy/Energy-General/The-Hydrogen-Boom-Is-On-Track-To-Hit-11-Trillion.html',\n",
              " 'Joe Biden Could Never Ban Fracking': 'https://oilprice.com/Energy/Oil-Prices/Joe-Biden-Could-Never-Ban-Fracking.html',\n",
              " ...}"
            ]
          },
          "metadata": {
            "tags": []
          },
          "execution_count": 63
        }
      ]
    },
    {
      "cell_type": "code",
      "metadata": {
        "id": "qdB17CPy-YRN"
      },
      "source": [
        "sample_url = list(article_info.values())[0]"
      ],
      "execution_count": null,
      "outputs": []
    },
    {
      "cell_type": "code",
      "metadata": {
        "id": "o9g9bElz-3fN"
      },
      "source": [
        "req = requests.get(sample_url)\n",
        "soup = BeautifulSoup(req.content, 'html.parser')"
      ],
      "execution_count": null,
      "outputs": []
    },
    {
      "cell_type": "code",
      "metadata": {
        "colab": {
          "base_uri": "https://localhost:8080/",
          "height": 35
        },
        "id": "V17cALcU_BMV",
        "outputId": "71275f5e-07ba-4bd7-8f48-7eea2aa21b95"
      },
      "source": [
        "soup.select('span.article_byline')[0].text"
      ],
      "execution_count": null,
      "outputs": [
        {
          "output_type": "execute_result",
          "data": {
            "application/vnd.google.colaboratory.intrinsic+json": {
              "type": "string"
            },
            "text/plain": [
              "'By Felicity Bradstock - Jun 14, 2021, 3:00 PM CDT'"
            ]
          },
          "metadata": {
            "tags": []
          },
          "execution_count": 66
        }
      ]
    },
    {
      "cell_type": "code",
      "metadata": {
        "colab": {
          "base_uri": "https://localhost:8080/",
          "height": 241
        },
        "id": "PJdzSTUioo68",
        "outputId": "29e467d5-862c-45eb-b392-6856d2f4fba1"
      },
      "source": [
        "article_content={}\n",
        "for title, url in article_info.items():\n",
        "    req=requests.get(url)\n",
        "    soup=BeautifulSoup(req.content, 'html.parser')\n",
        "    \n",
        "    contributor=soup.select('span.article_byline')[0].text\n",
        "    text=soup.select('#article-content')[0].text\n",
        "\n",
        "    try:\n",
        "        article_content['title'].append(title)\n",
        "        article_content['contributor'].append(contributor)\n",
        "        article_content['text'].append(text)\n",
        "\n",
        "    except:\n",
        "        article_content['title']=[title]\n",
        "        article_content['contributor']=[contributor]\n",
        "        article_content['text']=[text]\n",
        "\n"
      ],
      "execution_count": null,
      "outputs": [
        {
          "output_type": "error",
          "ename": "IndexError",
          "evalue": "ignored",
          "traceback": [
            "\u001b[0;31m---------------------------------------------------------------------------\u001b[0m",
            "\u001b[0;31mIndexError\u001b[0m                                Traceback (most recent call last)",
            "\u001b[0;32m<ipython-input-69-42a3a4f3f186>\u001b[0m in \u001b[0;36m<module>\u001b[0;34m()\u001b[0m\n\u001b[1;32m      4\u001b[0m     \u001b[0msoup\u001b[0m\u001b[0;34m=\u001b[0m\u001b[0mBeautifulSoup\u001b[0m\u001b[0;34m(\u001b[0m\u001b[0mreq\u001b[0m\u001b[0;34m.\u001b[0m\u001b[0mcontent\u001b[0m\u001b[0;34m,\u001b[0m \u001b[0;34m'html.parser'\u001b[0m\u001b[0;34m)\u001b[0m\u001b[0;34m\u001b[0m\u001b[0;34m\u001b[0m\u001b[0m\n\u001b[1;32m      5\u001b[0m \u001b[0;34m\u001b[0m\u001b[0m\n\u001b[0;32m----> 6\u001b[0;31m     \u001b[0mcontributor\u001b[0m\u001b[0;34m=\u001b[0m\u001b[0msoup\u001b[0m\u001b[0;34m.\u001b[0m\u001b[0mselect\u001b[0m\u001b[0;34m(\u001b[0m\u001b[0;34m'span.article_byline'\u001b[0m\u001b[0;34m)\u001b[0m\u001b[0;34m[\u001b[0m\u001b[0;36m0\u001b[0m\u001b[0;34m]\u001b[0m\u001b[0;34m.\u001b[0m\u001b[0mtext\u001b[0m\u001b[0;34m\u001b[0m\u001b[0;34m\u001b[0m\u001b[0m\n\u001b[0m\u001b[1;32m      7\u001b[0m     \u001b[0mtext\u001b[0m\u001b[0;34m=\u001b[0m\u001b[0msoup\u001b[0m\u001b[0;34m.\u001b[0m\u001b[0mselect\u001b[0m\u001b[0;34m(\u001b[0m\u001b[0;34m'#article-content'\u001b[0m\u001b[0;34m)\u001b[0m\u001b[0;34m[\u001b[0m\u001b[0;36m0\u001b[0m\u001b[0;34m]\u001b[0m\u001b[0;34m.\u001b[0m\u001b[0mtext\u001b[0m\u001b[0;34m\u001b[0m\u001b[0;34m\u001b[0m\u001b[0m\n\u001b[1;32m      8\u001b[0m \u001b[0;34m\u001b[0m\u001b[0m\n",
            "\u001b[0;31mIndexError\u001b[0m: list index out of range"
          ]
        }
      ]
    },
    {
      "cell_type": "code",
      "metadata": {
        "id": "73bhphCfAAJA"
      },
      "source": [
        "article_content = {}\n",
        "for title, url in article_info.items():\n",
        "  req = requests.get(url)\n",
        "  soup = BeautifulSoup(req.content, 'html.parser')\n",
        "\n",
        "  contributor = soup.select('span.article_byline')[0].text\n",
        "  text = soup.select('#article-content')[0].text\n",
        "\n",
        "  try:\n",
        "    article_content['title'].append(title)\n",
        "    article_content['contributor'].append(contributor)\n",
        "    article_content['text'].append(text)\n",
        "  except:\n",
        "    article_content['title'] = [title]\n",
        "    article_content['contributor'] = [contributor]\n",
        "    article_content['text'] = [text]"
      ],
      "execution_count": null,
      "outputs": []
    },
    {
      "cell_type": "markdown",
      "metadata": {
        "id": "f4uHQhA_7hA-"
      },
      "source": [
        "### Excercise_3 엑셀로 저장 - with pandas"
      ]
    },
    {
      "cell_type": "code",
      "metadata": {
        "id": "kbG0oFrsB6sm",
        "colab": {
          "base_uri": "https://localhost:8080/",
          "height": 203
        },
        "outputId": "754d174b-7cc8-44b5-c6e8-752e8fe13f0a"
      },
      "source": [
        "import pandas as pd\n",
        "data = pd.DataFrame.from_dict(article_content)\n",
        "data"
      ],
      "execution_count": null,
      "outputs": [
        {
          "output_type": "error",
          "ename": "NameError",
          "evalue": "ignored",
          "traceback": [
            "\u001b[0;31m---------------------------------------------------------------------------\u001b[0m",
            "\u001b[0;31mNameError\u001b[0m                                 Traceback (most recent call last)",
            "\u001b[0;32m<ipython-input-145-04630a6668b8>\u001b[0m in \u001b[0;36m<module>\u001b[0;34m()\u001b[0m\n\u001b[1;32m      1\u001b[0m \u001b[0;32mimport\u001b[0m \u001b[0mpandas\u001b[0m \u001b[0;32mas\u001b[0m \u001b[0mpd\u001b[0m\u001b[0;34m\u001b[0m\u001b[0;34m\u001b[0m\u001b[0m\n\u001b[0;32m----> 2\u001b[0;31m \u001b[0mdata\u001b[0m \u001b[0;34m=\u001b[0m \u001b[0mpd\u001b[0m\u001b[0;34m.\u001b[0m\u001b[0mDataFrame\u001b[0m\u001b[0;34m.\u001b[0m\u001b[0mfrom_dict\u001b[0m\u001b[0;34m(\u001b[0m\u001b[0marticle_content\u001b[0m\u001b[0;34m)\u001b[0m\u001b[0;34m\u001b[0m\u001b[0;34m\u001b[0m\u001b[0m\n\u001b[0m\u001b[1;32m      3\u001b[0m \u001b[0mdata\u001b[0m\u001b[0;34m\u001b[0m\u001b[0;34m\u001b[0m\u001b[0m\n",
            "\u001b[0;31mNameError\u001b[0m: name 'article_content' is not defined"
          ]
        }
      ]
    },
    {
      "cell_type": "code",
      "metadata": {
        "id": "bFQTDMvgEXFc"
      },
      "source": [
        "data.to_excel('/content/drive/MyDrive/JHS/data/oil_price_contentHS.xlsx', index=False)"
      ],
      "execution_count": null,
      "outputs": []
    },
    {
      "cell_type": "markdown",
      "metadata": {
        "id": "_IBWdKXcE-TC"
      },
      "source": [
        "Excercise_4 Dataframe 후처리"
      ]
    },
    {
      "cell_type": "code",
      "metadata": {
        "id": "rDXQwW9GFiho"
      },
      "source": [
        "import re"
      ],
      "execution_count": null,
      "outputs": []
    },
    {
      "cell_type": "code",
      "metadata": {
        "id": "1wLS1lS4FkvW",
        "colab": {
          "base_uri": "https://localhost:8080/",
          "height": 34
        },
        "outputId": "b7664457-5c79-4f7c-acf3-3fc7757cc45d"
      },
      "source": [
        "'2009년 10월 15일'"
      ],
      "execution_count": null,
      "outputs": [
        {
          "output_type": "execute_result",
          "data": {
            "application/vnd.google.colaboratory.intrinsic+json": {
              "type": "string"
            },
            "text/plain": [
              "'2009년 10월 15일'"
            ]
          },
          "metadata": {
            "tags": []
          },
          "execution_count": 148
        }
      ]
    },
    {
      "cell_type": "code",
      "metadata": {
        "colab": {
          "base_uri": "https://localhost:8080/"
        },
        "id": "IcRPip0RucPL",
        "outputId": "4d9ccdd3-3817-483e-932e-fa9b134044e7"
      },
      "source": [
        "is_number=re.compile('[0-9]+')\n",
        "re.findall(is_number,'By Tsvetana Paraskova - 6 13, 2021, 4:00 PM CDT \\n\\n')"
      ],
      "execution_count": null,
      "outputs": [
        {
          "output_type": "execute_result",
          "data": {
            "text/plain": [
              "['6', '13', '2021', '4', '00']"
            ]
          },
          "metadata": {
            "tags": []
          },
          "execution_count": 149
        }
      ]
    },
    {
      "cell_type": "code",
      "metadata": {
        "colab": {
          "base_uri": "https://localhost:8080/"
        },
        "id": "mWM0peNFu1lZ",
        "outputId": "e205128c-858d-4ae1-c331-e432daac2abf"
      },
      "source": [
        "is_all=re.compile('[A-z]+')\n",
        "re.findall(is_all,'By Tsvetana Paraskova - 6 13, 2021, 4:00 PM CDT \\n\\n')"
      ],
      "execution_count": null,
      "outputs": [
        {
          "output_type": "execute_result",
          "data": {
            "text/plain": [
              "['By', 'Tsvetana', 'Paraskova', 'PM', 'CDT']"
            ]
          },
          "metadata": {
            "tags": []
          },
          "execution_count": 150
        }
      ]
    },
    {
      "cell_type": "code",
      "metadata": {
        "colab": {
          "base_uri": "https://localhost:8080/"
        },
        "id": "PZD3nPDUFksW",
        "outputId": "eed2125d-745a-4b2d-f981-927b54c331c7"
      },
      "source": [
        "is_number = re.compile('[\\s]+')\n",
        "re.findall(is_number, 'By Tsvetana Paraskova - 6 13, 2021, 4:00 PM CDT \\n\\n')"
      ],
      "execution_count": null,
      "outputs": [
        {
          "output_type": "execute_result",
          "data": {
            "text/plain": [
              "[' ', ' ', ' ', ' ', ' ', ' ', ' ', ' ', ' ', ' \\n\\n']"
            ]
          },
          "metadata": {
            "tags": []
          },
          "execution_count": 151
        }
      ]
    },
    {
      "cell_type": "code",
      "metadata": {
        "colab": {
          "base_uri": "https://localhost:8080/",
          "height": 158
        },
        "id": "yJG0u7MLGAhI",
        "outputId": "4fa59920-eebc-4061-b446-077f38aa436b"
      },
      "source": [
        "data['text'][0]"
      ],
      "execution_count": null,
      "outputs": [
        {
          "output_type": "execute_result",
          "data": {
            "application/vnd.google.colaboratory.intrinsic+json": {
              "type": "string"
            },
            "text/plain": [
              "\"\\n\\nSaudi Arabia is synonymous with oil, the EU is obsessed with renewable energy, and the U.S. is the world's leading natural gas producer, but there are few countries pursuing all three of these energy sources with as much vigor as the UAE.While much of the West, encouraged by the International Energy Agency (IEA) aim for net-zero, is shunning fossil fuels, energy demand continues to rise across the globe. Without sufficient renewable energy development to meet this demand, the UAE is acknowledging its position as a world leader in oil and gas, which are still very much still needed to power the world over the next decade and beyond.?Abu Dhabi is further expanding upon its already strong oil industry through the full-field development of its Belbazem offshore block, with heavy investment expected to boost oil output in the coming years.?In May, the National Petroleum Construction Company (NPCC) was awarded a $744 million contract by Al Yasat Petroleum Operations Company, a joint venture between the Abu Dhabi National Oil Company (Adnoc) and the China National Petroleum Corporation (CNPC) to develop Abu Dhabi’s Belbazem offshore block. Adnoc holds a 60 percent stake in Al Yasat, while CNPC holds 40 percent.The contract covers the marginal offshore fields Belbazem, Umm Al Salsal, and Umm Al Dholou. It is expected that offshore facilities in the development will produce 45,000 bpd of light crude starting in 2023.??Around 65 percent of the award value is expected to go directly into the UAE economy thanks to the Adnoc’s In-Country Value (ICV) program in line with the company’s 2030 strategy.?\\n\\ngoogletag.cmd.push(function(){googletag.display('div-gpt-ad-1555424664620-0');});\\n\\nThis adds to the discovery of two billion barrels of conventional oil reserves, as well as 22 billion barrels of unconventional oil reserves, last November, which the UAE’s Energy Minister Suhail al-Mazrouei said “reflect the constant development operations carried out by ADNOC in its endeavor to reach its target of increasing oil production capacity to 5 million bpd by 2030,” in a tweet.?The UAE’s Adnoc has been clear in its plans to ramp up oil production over the coming decade, partly due to the rebound in oil demand following a year of stagnation, but also due to fears of a demand peak later this decade.?However, this is not the country’s only focus. As part of the UAE’s plan to diversify away from oil, its gas industry is going from strength to strength. In fact, the state is aiming to become self-sufficient in gas supply by 2030.The discovery of a natural gas reservoir earlier this year, situated between Abu Dhabi and Dubai, was the biggest of its kind from the last 15 years. The Jebel Ali reservoir presents an optimistic find for the UAE, with the potential to meet the country’s gas needs for up to 30 years. In addition, the Sharjah emirate also announced an onshore gas discovery, its first since the early 1980s.?Related: Russia Expands Its Influence In Major Iraqi Oil FieldsThe CEO of energy giant Crescent Petroleum explained of the diversification of the country’s energy sector, “I think that's an exciting opportunity and it's one we hope to play a key role in, both in the UAE and wider in the region,”. Further, “Our region overall, has roughly half the world's oil and gas proven reserves. And actually, there's probably still a lot more that isn't proven because exploration is under-explored.”?\\n\\ngoogletag.cmd.push(function(){googletag.display('div-gpt-ad-1555424877814-0');});\\n\\nWhile the UAE’s traditional energy sector continues to boom, it isn’t shying away from alternative energy developments. In fact, Abu Dhabi is hoping to become a world leader in green hydrogen fuel over the next decade.?At present, Adnoc already produces hydrogen for its downstream operations. However, last November Sheikh Mohamed bin Zayed delivered a mandate encouraging the exploration of hydrogen and ammonia derived from natural gas, to meet increasing international demand.??Adnoc will explore the country’s blue and green hydrogen energy potential, through carbon capture in traditional energy production, as well as the extraction of gas from water using electrolysis fuelled by renewable sources. To this end, the Mohammed bin Rashid Al Maktoum Solar Park, based in Dubai, is expected to be the first solar-powered hydrogen plant in the Middle Eastern region.Not only is the UAE continuing to develop its fierce oil industry, the country’s aim to diversify its energy industry and economy has meant significant advances in gas, as well as cutting edge green energies such as hydrogen. This is certainly one to watch over the coming years.By Felicity Bradstock for Oilprice.comMore Top Reads From Oilprice.com:China’s Oil Imports To Drop After Refinery Margins Near $0The Renewable Energy Revolution Has A Major Employment ProblemThe Biggest Threat To Europe’s Battery Boom\\n\\n\""
            ]
          },
          "metadata": {
            "tags": []
          },
          "execution_count": 152
        }
      ]
    },
    {
      "cell_type": "code",
      "metadata": {
        "id": "8ui1D3wqE984"
      },
      "source": [
        "sample_text= data['text'][0].strip()"
      ],
      "execution_count": null,
      "outputs": []
    },
    {
      "cell_type": "code",
      "metadata": {
        "colab": {
          "base_uri": "https://localhost:8080/",
          "height": 158
        },
        "id": "Dc-Z6xYAE967",
        "outputId": "290e31f6-0f96-4871-88dc-f35c1f398d77"
      },
      "source": [
        "is_not_word=re.compile('[^a-zA-Z0-9 .]+')\n",
        "re.sub(is_not_word,'',sample_text)"
      ],
      "execution_count": null,
      "outputs": [
        {
          "output_type": "execute_result",
          "data": {
            "application/vnd.google.colaboratory.intrinsic+json": {
              "type": "string"
            },
            "text/plain": [
              "'Saudi Arabia is synonymous with oil the EU is obsessed with renewable energy and the U.S. is the worlds leading natural gas producer but there are few countries pursuing all three of these energy sources with as much vigor as the UAE.While much of the West encouraged by the International Energy Agency IEA aim for netzero is shunning fossil fuels energy demand continues to rise across the globe. Without sufficient renewable energy development to meet this demand the UAE is acknowledging its position as a world leader in oil and gas which are still very much still needed to power the world over the next decade and beyond.Abu Dhabi is further expanding upon its already strong oil industry through the fullfield development of its Belbazem offshore block with heavy investment expected to boost oil output in the coming years.In May the National Petroleum Construction Company NPCC was awarded a 744 million contract by Al Yasat Petroleum Operations Company a joint venture between the Abu Dhabi National Oil Company Adnoc and the China National Petroleum Corporation CNPC to develop Abu Dhabis Belbazem offshore block. Adnoc holds a 60 percent stake in Al Yasat while CNPC holds 40 percent.The contract covers the marginal offshore fields Belbazem Umm Al Salsal and Umm Al Dholou. It is expected that offshore facilities in the development will produce 45000 bpd of light crude starting in 2023.Around 65 percent of the award value is expected to go directly into the UAE economy thanks to the Adnocs InCountry Value ICV program in line with the companys 2030 strategy.googletag.cmd.pushfunctiongoogletag.displaydivgptad15554246646200This adds to the discovery of two billion barrels of conventional oil reserves as well as 22 billion barrels of unconventional oil reserves last November which the UAEs Energy Minister Suhail alMazrouei said reflect the constant development operations carried out by ADNOC in its endeavor to reach its target of increasing oil production capacity to 5 million bpd by 2030 in a tweet.The UAEs Adnoc has been clear in its plans to ramp up oil production over the coming decade partly due to the rebound in oil demand following a year of stagnation but also due to fears of a demand peak later this decade.However this is not the countrys only focus. As part of the UAEs plan to diversify away from oil its gas industry is going from strength to strength. In fact the state is aiming to become selfsufficient in gas supply by 2030.The discovery of a natural gas reservoir earlier this year situated between Abu Dhabi and Dubai was the biggest of its kind from the last 15 years. The Jebel Ali reservoir presents an optimistic find for the UAE with the potential to meet the countrys gas needs for up to 30 years. In addition the Sharjah emirate also announced an onshore gas discovery its first since the early 1980s.Related Russia Expands Its Influence In Major Iraqi Oil FieldsThe CEO of energy giant Crescent Petroleum explained of the diversification of the countrys energy sector I think thats an exciting opportunity and its one we hope to play a key role in both in the UAE and wider in the region. Further Our region overall has roughly half the worlds oil and gas proven reserves. And actually theres probably still a lot more that isnt proven because exploration is underexplored.googletag.cmd.pushfunctiongoogletag.displaydivgptad15554248778140While the UAEs traditional energy sector continues to boom it isnt shying away from alternative energy developments. In fact Abu Dhabi is hoping to become a world leader in green hydrogen fuel over the next decade.At present Adnoc already produces hydrogen for its downstream operations. However last November Sheikh Mohamed bin Zayed delivered a mandate encouraging the exploration of hydrogen and ammonia derived from natural gas to meet increasing international demand.Adnoc will explore the countrys blue and green hydrogen energy potential through carbon capture in traditional energy production as well as the extraction of gas from water using electrolysis fuelled by renewable sources. To this end the Mohammed bin Rashid Al Maktoum Solar Park based in Dubai is expected to be the first solarpowered hydrogen plant in the Middle Eastern region.Not only is the UAE continuing to develop its fierce oil industry the countrys aim to diversify its energy industry and economy has meant significant advances in gas as well as cutting edge green energies such as hydrogen. This is certainly one to watch over the coming years.By Felicity Bradstock for Oilprice.comMore Top Reads From Oilprice.comChinas Oil Imports To Drop After Refinery Margins Near 0The Renewable Energy Revolution Has A Major Employment ProblemThe Biggest Threat To Europes Battery Boom'"
            ]
          },
          "metadata": {
            "tags": []
          },
          "execution_count": 154
        }
      ]
    },
    {
      "cell_type": "code",
      "metadata": {
        "id": "HMnwWdZD2v-M"
      },
      "source": [
        "is_not_word=re.compile('[^a-zA-Z0-9 .]+')"
      ],
      "execution_count": null,
      "outputs": []
    },
    {
      "cell_type": "code",
      "metadata": {
        "colab": {
          "base_uri": "https://localhost:8080/"
        },
        "id": "47G29JjX2gAq",
        "outputId": "7a654c84-19b0-413a-95cf-0425a3fe6214"
      },
      "source": [
        "data['text']=list(map(lambda x:re.sub(is_not_word,'',x), data['text']))\n",
        "data['text']"
      ],
      "execution_count": null,
      "outputs": [
        {
          "output_type": "execute_result",
          "data": {
            "text/plain": [
              "0        Saudi Arabia is synonymous with oil the EU is ...\n",
              "1        Renewable energy is going gangbusters. The rem...\n",
              "2        In just a few years the image of natural gas m...\n",
              "3        The world of Nigerian refining is an enigma sh...\n",
              "4        Global economic recovery is gradually taking s...\n",
              "                               ...                        \n",
              "10093    Indonesia which had begun producing oil in the...\n",
              "10094    Largely overlooked in the nonRussian press an ...\n",
              "10095    A funny thing is happening on the way to the c...\n",
              "10096    Having looked at the major alternatives to fos...\n",
              "10097    Jim Lane at Biofuelsdigest.com has written an ...\n",
              "Name: text, Length: 10097, dtype: object"
            ]
          },
          "metadata": {
            "tags": []
          },
          "execution_count": 156
        }
      ]
    },
    {
      "cell_type": "code",
      "metadata": {
        "colab": {
          "base_uri": "https://localhost:8080/",
          "height": 414
        },
        "id": "tzjAhVQV47r2",
        "outputId": "d6f6a236-b32a-43b4-d96e-18c87084a786"
      },
      "source": [
        "data"
      ],
      "execution_count": null,
      "outputs": [
        {
          "output_type": "execute_result",
          "data": {
            "text/html": [
              "<div>\n",
              "<style scoped>\n",
              "    .dataframe tbody tr th:only-of-type {\n",
              "        vertical-align: middle;\n",
              "    }\n",
              "\n",
              "    .dataframe tbody tr th {\n",
              "        vertical-align: top;\n",
              "    }\n",
              "\n",
              "    .dataframe thead th {\n",
              "        text-align: right;\n",
              "    }\n",
              "</style>\n",
              "<table border=\"1\" class=\"dataframe\">\n",
              "  <thead>\n",
              "    <tr style=\"text-align: right;\">\n",
              "      <th></th>\n",
              "      <th>title</th>\n",
              "      <th>text</th>\n",
              "      <th>date</th>\n",
              "    </tr>\n",
              "  </thead>\n",
              "  <tbody>\n",
              "    <tr>\n",
              "      <th>0</th>\n",
              "      <td>The UAE Is Poised To Become The Next Middle Ea...</td>\n",
              "      <td>Saudi Arabia is synonymous with oil the EU is ...</td>\n",
              "      <td>2021-06-14</td>\n",
              "    </tr>\n",
              "    <tr>\n",
              "      <th>1</th>\n",
              "      <td>The Renewable Energy Revolution Has A Major Em...</td>\n",
              "      <td>Renewable energy is going gangbusters. The rem...</td>\n",
              "      <td>2021-06-14</td>\n",
              "    </tr>\n",
              "    <tr>\n",
              "      <th>2</th>\n",
              "      <td>Energy Transition Forces LNG Industry To Cut E...</td>\n",
              "      <td>In just a few years the image of natural gas m...</td>\n",
              "      <td>2021-06-13</td>\n",
              "    </tr>\n",
              "    <tr>\n",
              "      <th>3</th>\n",
              "      <td>Solving Nigeria’s Gasoline Crisis</td>\n",
              "      <td>The world of Nigerian refining is an enigma sh...</td>\n",
              "      <td>2021-06-13</td>\n",
              "    </tr>\n",
              "    <tr>\n",
              "      <th>4</th>\n",
              "      <td>China’s Pivot To Gas Is Fueling Support In LNG...</td>\n",
              "      <td>Global economic recovery is gradually taking s...</td>\n",
              "      <td>2021-06-12</td>\n",
              "    </tr>\n",
              "    <tr>\n",
              "      <th>...</th>\n",
              "      <td>...</td>\n",
              "      <td>...</td>\n",
              "      <td>...</td>\n",
              "    </tr>\n",
              "    <tr>\n",
              "      <th>10093</th>\n",
              "      <td>Former OPEC Member Indonesia Diversifies its E...</td>\n",
              "      <td>Indonesia which had begun producing oil in the...</td>\n",
              "      <td>2012-02-15</td>\n",
              "    </tr>\n",
              "    <tr>\n",
              "      <th>10094</th>\n",
              "      <td>Putin Looking to Modernize Russia's Energy Sec...</td>\n",
              "      <td>Largely overlooked in the nonRussian press an ...</td>\n",
              "      <td>2012-02-15</td>\n",
              "    </tr>\n",
              "    <tr>\n",
              "      <th>10095</th>\n",
              "      <td>How the US Shale Boom Will Change the World</td>\n",
              "      <td>A funny thing is happening on the way to the c...</td>\n",
              "      <td>2012-02-15</td>\n",
              "    </tr>\n",
              "    <tr>\n",
              "      <th>10096</th>\n",
              "      <td>The Age of Fossil Fuels is Far From Over</td>\n",
              "      <td>Having looked at the major alternatives to fos...</td>\n",
              "      <td>2012-02-15</td>\n",
              "    </tr>\n",
              "    <tr>\n",
              "      <th>10097</th>\n",
              "      <td>How the U.S. Can Produce 36 Billion Gallons of...</td>\n",
              "      <td>Jim Lane at Biofuelsdigest.com has written an ...</td>\n",
              "      <td>2012-02-15</td>\n",
              "    </tr>\n",
              "  </tbody>\n",
              "</table>\n",
              "<p>10097 rows × 3 columns</p>\n",
              "</div>"
            ],
            "text/plain": [
              "                                                   title  ...       date\n",
              "0      The UAE Is Poised To Become The Next Middle Ea...  ... 2021-06-14\n",
              "1      The Renewable Energy Revolution Has A Major Em...  ... 2021-06-14\n",
              "2      Energy Transition Forces LNG Industry To Cut E...  ... 2021-06-13\n",
              "3                      Solving Nigeria’s Gasoline Crisis  ... 2021-06-13\n",
              "4      China’s Pivot To Gas Is Fueling Support In LNG...  ... 2021-06-12\n",
              "...                                                  ...  ...        ...\n",
              "10093  Former OPEC Member Indonesia Diversifies its E...  ... 2012-02-15\n",
              "10094  Putin Looking to Modernize Russia's Energy Sec...  ... 2012-02-15\n",
              "10095        How the US Shale Boom Will Change the World  ... 2012-02-15\n",
              "10096           The Age of Fossil Fuels is Far From Over  ... 2012-02-15\n",
              "10097  How the U.S. Can Produce 36 Billion Gallons of...  ... 2012-02-15\n",
              "\n",
              "[10097 rows x 3 columns]"
            ]
          },
          "metadata": {
            "tags": []
          },
          "execution_count": 157
        }
      ]
    },
    {
      "cell_type": "code",
      "metadata": {
        "colab": {
          "base_uri": "https://localhost:8080/"
        },
        "id": "3GqZnr3zE91M",
        "outputId": "033cc311-a11a-48f2-b013-641bf6813000"
      },
      "source": [
        "%time\n",
        "data['text'] = data['text'].apply(lambda x : re.sub(is_not_word, '', x))"
      ],
      "execution_count": null,
      "outputs": [
        {
          "output_type": "stream",
          "text": [
            "CPU times: user 3 µs, sys: 0 ns, total: 3 µs\n",
            "Wall time: 5.72 µs\n"
          ],
          "name": "stdout"
        }
      ]
    },
    {
      "cell_type": "code",
      "metadata": {
        "colab": {
          "base_uri": "https://localhost:8080/"
        },
        "id": "B8QsJwn9Jc2e",
        "outputId": "de2f82bc-5915-4d1e-84e5-4d05f68f1c1a"
      },
      "source": [
        "%time\n",
        "data['text'] = list(map(lambda x:re.sub(is_not_word, '', x), data['text']))"
      ],
      "execution_count": null,
      "outputs": [
        {
          "output_type": "stream",
          "text": [
            "CPU times: user 3 µs, sys: 0 ns, total: 3 µs\n",
            "Wall time: 7.39 µs\n"
          ],
          "name": "stdout"
        }
      ]
    },
    {
      "cell_type": "code",
      "metadata": {
        "colab": {
          "base_uri": "https://localhost:8080/"
        },
        "id": "BsT-JKJ5KHpN",
        "outputId": "27a53fd4-1cbe-4d51-fd3d-edff137e1a04"
      },
      "source": [
        "%time\n",
        "sample=[]\n",
        "for text in data['text']:\n",
        "  sample.append(re.sub(is_not_word, '', text))\n",
        "data['text'] = sample"
      ],
      "execution_count": null,
      "outputs": [
        {
          "output_type": "stream",
          "text": [
            "CPU times: user 4 µs, sys: 0 ns, total: 4 µs\n",
            "Wall time: 7.63 µs\n"
          ],
          "name": "stdout"
        }
      ]
    },
    {
      "cell_type": "code",
      "metadata": {
        "id": "Y-ahLnF2KQ5o"
      },
      "source": [
        ""
      ],
      "execution_count": null,
      "outputs": []
    },
    {
      "cell_type": "markdown",
      "metadata": {
        "id": "jZGLb8XFf4Yt"
      },
      "source": [
        "data load 및 전처리\n"
      ]
    },
    {
      "cell_type": "code",
      "metadata": {
        "colab": {
          "base_uri": "https://localhost:8080/"
        },
        "id": "cXa2zlF_f8Un",
        "outputId": "eb1b11c5-ea3f-4426-c34e-a3c444d9a951"
      },
      "source": [
        "from google.colab import drive\n",
        "drive.mount('/content/drive')"
      ],
      "execution_count": null,
      "outputs": [
        {
          "output_type": "stream",
          "text": [
            "Mounted at /content/drive\n"
          ],
          "name": "stdout"
        }
      ]
    },
    {
      "cell_type": "code",
      "metadata": {
        "id": "Xk445oVegTBE"
      },
      "source": [
        "import glob\n",
        "import numpy as np\n",
        "import pandas as pd"
      ],
      "execution_count": null,
      "outputs": []
    },
    {
      "cell_type": "code",
      "metadata": {
        "colab": {
          "base_uri": "https://localhost:8080/",
          "height": 186
        },
        "id": "TaxP8BdJf8ob",
        "outputId": "66073d5d-74f5-478c-dbe2-ad1c24d694d9"
      },
      "source": [
        "file=glob.glob('./drive/MyDrive/JHS/data/*')\n",
        "file"
      ],
      "execution_count": null,
      "outputs": [
        {
          "output_type": "error",
          "ename": "NameError",
          "evalue": "ignored",
          "traceback": [
            "\u001b[0;31m---------------------------------------------------------------------------\u001b[0m",
            "\u001b[0;31mNameError\u001b[0m                                 Traceback (most recent call last)",
            "\u001b[0;32m<ipython-input-3-57bc623ca1b9>\u001b[0m in \u001b[0;36m<module>\u001b[0;34m()\u001b[0m\n\u001b[0;32m----> 1\u001b[0;31m \u001b[0mfile\u001b[0m\u001b[0;34m=\u001b[0m\u001b[0mglob\u001b[0m\u001b[0;34m.\u001b[0m\u001b[0mglob\u001b[0m\u001b[0;34m(\u001b[0m\u001b[0;34m'./drive/MyDrive/JHS/data/*'\u001b[0m\u001b[0;34m)\u001b[0m\u001b[0;34m\u001b[0m\u001b[0;34m\u001b[0m\u001b[0m\n\u001b[0m\u001b[1;32m      2\u001b[0m \u001b[0mfile\u001b[0m\u001b[0;34m\u001b[0m\u001b[0;34m\u001b[0m\u001b[0m\n",
            "\u001b[0;31mNameError\u001b[0m: name 'glob' is not defined"
          ]
        }
      ]
    },
    {
      "cell_type": "code",
      "metadata": {
        "colab": {
          "base_uri": "https://localhost:8080/",
          "height": 186
        },
        "id": "XtzGkdZEhdBX",
        "outputId": "5e89e1ae-b73e-4053-cc40-fdf784085ea6"
      },
      "source": [
        "data=pd.read_csv('./drive/MyDrive/JHS/data/oil_price_contentHS.csv',encoding='cp949')\n",
        "data"
      ],
      "execution_count": null,
      "outputs": [
        {
          "output_type": "error",
          "ename": "NameError",
          "evalue": "ignored",
          "traceback": [
            "\u001b[0;31m---------------------------------------------------------------------------\u001b[0m",
            "\u001b[0;31mNameError\u001b[0m                                 Traceback (most recent call last)",
            "\u001b[0;32m<ipython-input-5-1ac540ad263e>\u001b[0m in \u001b[0;36m<module>\u001b[0;34m()\u001b[0m\n\u001b[0;32m----> 1\u001b[0;31m \u001b[0mdata\u001b[0m\u001b[0;34m=\u001b[0m\u001b[0mpd\u001b[0m\u001b[0;34m.\u001b[0m\u001b[0mread_csv\u001b[0m\u001b[0;34m(\u001b[0m\u001b[0;34m'./drive/MyDrive/JHS/data/oil_price_contentHS.csv'\u001b[0m\u001b[0;34m,\u001b[0m\u001b[0mencoding\u001b[0m\u001b[0;34m=\u001b[0m\u001b[0;34m'cp949'\u001b[0m\u001b[0;34m)\u001b[0m\u001b[0;34m\u001b[0m\u001b[0;34m\u001b[0m\u001b[0m\n\u001b[0m\u001b[1;32m      2\u001b[0m \u001b[0mdata\u001b[0m\u001b[0;34m\u001b[0m\u001b[0;34m\u001b[0m\u001b[0m\n",
            "\u001b[0;31mNameError\u001b[0m: name 'pd' is not defined"
          ]
        }
      ]
    },
    {
      "cell_type": "markdown",
      "metadata": {
        "id": "wvyNswm0X99J"
      },
      "source": [
        "Preprocessing-datetime\n",
        "\n",
        "\n"
      ]
    },
    {
      "cell_type": "code",
      "metadata": {
        "id": "3JVIUlgNjeiF"
      },
      "source": [
        "data['date']=list(map(lambda x:x.split('-')[1], data['contributor']))\n"
      ],
      "execution_count": null,
      "outputs": []
    },
    {
      "cell_type": "code",
      "metadata": {
        "colab": {
          "base_uri": "https://localhost:8080/"
        },
        "id": "w0OT_yZDbKMG",
        "outputId": "dbcbdb11-04c8-4670-9e5d-037ca9990ea0"
      },
      "source": [
        "data['month']=list(map(lambda x:x.split(' ')[1], data['date']))\n",
        "\n",
        "data['month'].value_counts()\n",
        "data['month'].unique()"
      ],
      "execution_count": null,
      "outputs": [
        {
          "output_type": "execute_result",
          "data": {
            "text/plain": [
              "array(['Jun', 'May', 'Apr', 'Mar', 'Feb', 'Jan', 'Dec', 'Nov', 'Oct',\n",
              "       'Sep', 'Aug', 'Jul', ''], dtype=object)"
            ]
          },
          "metadata": {
            "tags": []
          },
          "execution_count": 8
        }
      ]
    },
    {
      "cell_type": "code",
      "metadata": {
        "colab": {
          "base_uri": "https://localhost:8080/",
          "height": 97
        },
        "id": "AYa0J-skfN-4",
        "outputId": "f64845a5-a9da-4b56-bdb6-bc8cdabcb8a9"
      },
      "source": [
        "data.query(\"month==''\")"
      ],
      "execution_count": null,
      "outputs": [
        {
          "output_type": "execute_result",
          "data": {
            "text/html": [
              "<div>\n",
              "<style scoped>\n",
              "    .dataframe tbody tr th:only-of-type {\n",
              "        vertical-align: middle;\n",
              "    }\n",
              "\n",
              "    .dataframe tbody tr th {\n",
              "        vertical-align: top;\n",
              "    }\n",
              "\n",
              "    .dataframe thead th {\n",
              "        text-align: right;\n",
              "    }\n",
              "</style>\n",
              "<table border=\"1\" class=\"dataframe\">\n",
              "  <thead>\n",
              "    <tr style=\"text-align: right;\">\n",
              "      <th></th>\n",
              "      <th>title</th>\n",
              "      <th>contributor</th>\n",
              "      <th>text</th>\n",
              "      <th>date</th>\n",
              "      <th>month</th>\n",
              "    </tr>\n",
              "  </thead>\n",
              "  <tbody>\n",
              "    <tr>\n",
              "      <th>9273</th>\n",
              "      <td>Never Mind Oil, Libya could Supply Europe with...</td>\n",
              "      <td>By Nicolai Due-Gundersen - Apr 15, 2013, 4:48 ...</td>\n",
              "      <td>\\n\\nA few years back, an article appeared in t...</td>\n",
              "      <td>Gundersen</td>\n",
              "      <td></td>\n",
              "    </tr>\n",
              "  </tbody>\n",
              "</table>\n",
              "</div>"
            ],
            "text/plain": [
              "                                                  title  ... month\n",
              "9273  Never Mind Oil, Libya could Supply Europe with...  ...      \n",
              "\n",
              "[1 rows x 5 columns]"
            ]
          },
          "metadata": {
            "tags": []
          },
          "execution_count": 9
        }
      ]
    },
    {
      "cell_type": "code",
      "metadata": {
        "id": "RpwWCU-egFpv"
      },
      "source": [
        "data.drop(index=9273,inplace=True)"
      ],
      "execution_count": null,
      "outputs": []
    },
    {
      "cell_type": "code",
      "metadata": {
        "id": "g4YFK3w2ZKVD"
      },
      "source": [
        "data['month']=list(map(lambda x:x.split()[0], data['date']))\n",
        "data['day'] = list(map(lambda x : x.split()[1].replace(',', ''), data['date']))\n",
        "data['year'] = list(map(lambda x : x.split()[2].replace(',', ''), data['date']))"
      ],
      "execution_count": null,
      "outputs": []
    },
    {
      "cell_type": "code",
      "metadata": {
        "colab": {
          "base_uri": "https://localhost:8080/",
          "height": 725
        },
        "id": "vxZiMJN4ZKlT",
        "outputId": "1062c5c9-63c5-4c1f-da2d-6a9fc48069fb"
      },
      "source": [
        "data['date']=data['year']+'-'+data['month']+'-'+data['day']\n",
        "data['date']=pd.to_datetime(data['date'])\n",
        "data"
      ],
      "execution_count": null,
      "outputs": [
        {
          "output_type": "execute_result",
          "data": {
            "text/html": [
              "<div>\n",
              "<style scoped>\n",
              "    .dataframe tbody tr th:only-of-type {\n",
              "        vertical-align: middle;\n",
              "    }\n",
              "\n",
              "    .dataframe tbody tr th {\n",
              "        vertical-align: top;\n",
              "    }\n",
              "\n",
              "    .dataframe thead th {\n",
              "        text-align: right;\n",
              "    }\n",
              "</style>\n",
              "<table border=\"1\" class=\"dataframe\">\n",
              "  <thead>\n",
              "    <tr style=\"text-align: right;\">\n",
              "      <th></th>\n",
              "      <th>title</th>\n",
              "      <th>contributor</th>\n",
              "      <th>text</th>\n",
              "      <th>date</th>\n",
              "      <th>month</th>\n",
              "      <th>day</th>\n",
              "      <th>year</th>\n",
              "    </tr>\n",
              "  </thead>\n",
              "  <tbody>\n",
              "    <tr>\n",
              "      <th>0</th>\n",
              "      <td>The UAE Is Poised To Become The Next Middle Ea...</td>\n",
              "      <td>By Felicity Bradstock - Jun 14, 2021, 3:00 PM CDT</td>\n",
              "      <td>\\n\\nSaudi Arabia is synonymous with oil, the E...</td>\n",
              "      <td>2021-06-14</td>\n",
              "      <td>Jun</td>\n",
              "      <td>14</td>\n",
              "      <td>2021</td>\n",
              "    </tr>\n",
              "    <tr>\n",
              "      <th>1</th>\n",
              "      <td>The Renewable Energy Revolution Has A Major Em...</td>\n",
              "      <td>By Haley Zaremba - Jun 14, 2021, 1:00 PM CDT</td>\n",
              "      <td>\\n\\nRenewable energy is going gangbusters. The...</td>\n",
              "      <td>2021-06-14</td>\n",
              "      <td>Jun</td>\n",
              "      <td>14</td>\n",
              "      <td>2021</td>\n",
              "    </tr>\n",
              "    <tr>\n",
              "      <th>2</th>\n",
              "      <td>Energy Transition Forces LNG Industry To Cut E...</td>\n",
              "      <td>By Tsvetana Paraskova - Jun 13, 2021, 4:00 PM CDT</td>\n",
              "      <td>\\n\\nIn just a few years, the image of natural ...</td>\n",
              "      <td>2021-06-13</td>\n",
              "      <td>Jun</td>\n",
              "      <td>13</td>\n",
              "      <td>2021</td>\n",
              "    </tr>\n",
              "    <tr>\n",
              "      <th>3</th>\n",
              "      <td>Solving Nigeria’s Gasoline Crisis</td>\n",
              "      <td>By Gerald Jansen - Jun 13, 2021, 10:00 AM CDT</td>\n",
              "      <td>\\n\\nThe world of Nigerian refining is an enigm...</td>\n",
              "      <td>2021-06-13</td>\n",
              "      <td>Jun</td>\n",
              "      <td>13</td>\n",
              "      <td>2021</td>\n",
              "    </tr>\n",
              "    <tr>\n",
              "      <th>4</th>\n",
              "      <td>China’s Pivot To Gas Is Fueling Support In LNG...</td>\n",
              "      <td>By Vanand Meliksetian - Jun 12, 2021, 2:00 PM CDT</td>\n",
              "      <td>\\n\\nGlobal economic recovery is gradually taki...</td>\n",
              "      <td>2021-06-12</td>\n",
              "      <td>Jun</td>\n",
              "      <td>12</td>\n",
              "      <td>2021</td>\n",
              "    </tr>\n",
              "    <tr>\n",
              "      <th>...</th>\n",
              "      <td>...</td>\n",
              "      <td>...</td>\n",
              "      <td>...</td>\n",
              "      <td>...</td>\n",
              "      <td>...</td>\n",
              "      <td>...</td>\n",
              "      <td>...</td>\n",
              "    </tr>\n",
              "    <tr>\n",
              "      <th>10093</th>\n",
              "      <td>Former OPEC Member Indonesia Diversifies its E...</td>\n",
              "      <td>By John Daly - Feb 15, 2012, 7:48 PM CST</td>\n",
              "      <td>\\n\\nIndonesia, which had begun producing oil i...</td>\n",
              "      <td>2012-02-15</td>\n",
              "      <td>Feb</td>\n",
              "      <td>15</td>\n",
              "      <td>2012</td>\n",
              "    </tr>\n",
              "    <tr>\n",
              "      <th>10094</th>\n",
              "      <td>Putin Looking to Modernize Russia's Energy Sec...</td>\n",
              "      <td>By John Daly - Feb 15, 2012, 5:09 PM CST</td>\n",
              "      <td>\\n\\nLargely overlooked in the non-Russian pres...</td>\n",
              "      <td>2012-02-15</td>\n",
              "      <td>Feb</td>\n",
              "      <td>15</td>\n",
              "      <td>2012</td>\n",
              "    </tr>\n",
              "    <tr>\n",
              "      <th>10095</th>\n",
              "      <td>How the US Shale Boom Will Change the World</td>\n",
              "      <td>By Gary Hunt - Feb 15, 2012, 5:02 PM CST</td>\n",
              "      <td>\\n\\nA funny thing is happening on the way to t...</td>\n",
              "      <td>2012-02-15</td>\n",
              "      <td>Feb</td>\n",
              "      <td>15</td>\n",
              "      <td>2012</td>\n",
              "    </tr>\n",
              "    <tr>\n",
              "      <th>10096</th>\n",
              "      <td>The Age of Fossil Fuels is Far From Over</td>\n",
              "      <td>By Tom Murphy - Feb 15, 2012, 4:32 PM CST</td>\n",
              "      <td>\\n\\nHaving looked at the major alternatives to...</td>\n",
              "      <td>2012-02-15</td>\n",
              "      <td>Feb</td>\n",
              "      <td>15</td>\n",
              "      <td>2012</td>\n",
              "    </tr>\n",
              "    <tr>\n",
              "      <th>10097</th>\n",
              "      <td>How the U.S. Can Produce 36 Billion Gallons of...</td>\n",
              "      <td>By Brian Westenhaus - Feb 15, 2012, 4:18 PM CST</td>\n",
              "      <td>\\n\\nJim Lane at Biofuelsdigest.com has written...</td>\n",
              "      <td>2012-02-15</td>\n",
              "      <td>Feb</td>\n",
              "      <td>15</td>\n",
              "      <td>2012</td>\n",
              "    </tr>\n",
              "  </tbody>\n",
              "</table>\n",
              "<p>10097 rows × 7 columns</p>\n",
              "</div>"
            ],
            "text/plain": [
              "                                                   title  ...  year\n",
              "0      The UAE Is Poised To Become The Next Middle Ea...  ...  2021\n",
              "1      The Renewable Energy Revolution Has A Major Em...  ...  2021\n",
              "2      Energy Transition Forces LNG Industry To Cut E...  ...  2021\n",
              "3                      Solving Nigeria’s Gasoline Crisis  ...  2021\n",
              "4      China’s Pivot To Gas Is Fueling Support In LNG...  ...  2021\n",
              "...                                                  ...  ...   ...\n",
              "10093  Former OPEC Member Indonesia Diversifies its E...  ...  2012\n",
              "10094  Putin Looking to Modernize Russia's Energy Sec...  ...  2012\n",
              "10095        How the US Shale Boom Will Change the World  ...  2012\n",
              "10096           The Age of Fossil Fuels is Far From Over  ...  2012\n",
              "10097  How the U.S. Can Produce 36 Billion Gallons of...  ...  2012\n",
              "\n",
              "[10097 rows x 7 columns]"
            ]
          },
          "metadata": {
            "tags": []
          },
          "execution_count": 12
        }
      ]
    },
    {
      "cell_type": "code",
      "metadata": {
        "colab": {
          "base_uri": "https://localhost:8080/",
          "height": 589
        },
        "id": "ws3tm6QVhXij",
        "outputId": "a9a41cc7-ff67-4bd0-f379-e754ebcac8ef"
      },
      "source": [
        "data.drop(columns=['year','month','day','contributor'],inplace=True)\n",
        "data"
      ],
      "execution_count": null,
      "outputs": [
        {
          "output_type": "execute_result",
          "data": {
            "text/html": [
              "<div>\n",
              "<style scoped>\n",
              "    .dataframe tbody tr th:only-of-type {\n",
              "        vertical-align: middle;\n",
              "    }\n",
              "\n",
              "    .dataframe tbody tr th {\n",
              "        vertical-align: top;\n",
              "    }\n",
              "\n",
              "    .dataframe thead th {\n",
              "        text-align: right;\n",
              "    }\n",
              "</style>\n",
              "<table border=\"1\" class=\"dataframe\">\n",
              "  <thead>\n",
              "    <tr style=\"text-align: right;\">\n",
              "      <th></th>\n",
              "      <th>title</th>\n",
              "      <th>text</th>\n",
              "      <th>date</th>\n",
              "    </tr>\n",
              "  </thead>\n",
              "  <tbody>\n",
              "    <tr>\n",
              "      <th>0</th>\n",
              "      <td>The UAE Is Poised To Become The Next Middle Ea...</td>\n",
              "      <td>\\n\\nSaudi Arabia is synonymous with oil, the E...</td>\n",
              "      <td>2021-06-14</td>\n",
              "    </tr>\n",
              "    <tr>\n",
              "      <th>1</th>\n",
              "      <td>The Renewable Energy Revolution Has A Major Em...</td>\n",
              "      <td>\\n\\nRenewable energy is going gangbusters. The...</td>\n",
              "      <td>2021-06-14</td>\n",
              "    </tr>\n",
              "    <tr>\n",
              "      <th>2</th>\n",
              "      <td>Energy Transition Forces LNG Industry To Cut E...</td>\n",
              "      <td>\\n\\nIn just a few years, the image of natural ...</td>\n",
              "      <td>2021-06-13</td>\n",
              "    </tr>\n",
              "    <tr>\n",
              "      <th>3</th>\n",
              "      <td>Solving Nigeria’s Gasoline Crisis</td>\n",
              "      <td>\\n\\nThe world of Nigerian refining is an enigm...</td>\n",
              "      <td>2021-06-13</td>\n",
              "    </tr>\n",
              "    <tr>\n",
              "      <th>4</th>\n",
              "      <td>China’s Pivot To Gas Is Fueling Support In LNG...</td>\n",
              "      <td>\\n\\nGlobal economic recovery is gradually taki...</td>\n",
              "      <td>2021-06-12</td>\n",
              "    </tr>\n",
              "    <tr>\n",
              "      <th>...</th>\n",
              "      <td>...</td>\n",
              "      <td>...</td>\n",
              "      <td>...</td>\n",
              "    </tr>\n",
              "    <tr>\n",
              "      <th>10093</th>\n",
              "      <td>Former OPEC Member Indonesia Diversifies its E...</td>\n",
              "      <td>\\n\\nIndonesia, which had begun producing oil i...</td>\n",
              "      <td>2012-02-15</td>\n",
              "    </tr>\n",
              "    <tr>\n",
              "      <th>10094</th>\n",
              "      <td>Putin Looking to Modernize Russia's Energy Sec...</td>\n",
              "      <td>\\n\\nLargely overlooked in the non-Russian pres...</td>\n",
              "      <td>2012-02-15</td>\n",
              "    </tr>\n",
              "    <tr>\n",
              "      <th>10095</th>\n",
              "      <td>How the US Shale Boom Will Change the World</td>\n",
              "      <td>\\n\\nA funny thing is happening on the way to t...</td>\n",
              "      <td>2012-02-15</td>\n",
              "    </tr>\n",
              "    <tr>\n",
              "      <th>10096</th>\n",
              "      <td>The Age of Fossil Fuels is Far From Over</td>\n",
              "      <td>\\n\\nHaving looked at the major alternatives to...</td>\n",
              "      <td>2012-02-15</td>\n",
              "    </tr>\n",
              "    <tr>\n",
              "      <th>10097</th>\n",
              "      <td>How the U.S. Can Produce 36 Billion Gallons of...</td>\n",
              "      <td>\\n\\nJim Lane at Biofuelsdigest.com has written...</td>\n",
              "      <td>2012-02-15</td>\n",
              "    </tr>\n",
              "  </tbody>\n",
              "</table>\n",
              "<p>10097 rows × 3 columns</p>\n",
              "</div>"
            ],
            "text/plain": [
              "                                                   title  ...       date\n",
              "0      The UAE Is Poised To Become The Next Middle Ea...  ... 2021-06-14\n",
              "1      The Renewable Energy Revolution Has A Major Em...  ... 2021-06-14\n",
              "2      Energy Transition Forces LNG Industry To Cut E...  ... 2021-06-13\n",
              "3                      Solving Nigeria’s Gasoline Crisis  ... 2021-06-13\n",
              "4      China’s Pivot To Gas Is Fueling Support In LNG...  ... 2021-06-12\n",
              "...                                                  ...  ...        ...\n",
              "10093  Former OPEC Member Indonesia Diversifies its E...  ... 2012-02-15\n",
              "10094  Putin Looking to Modernize Russia's Energy Sec...  ... 2012-02-15\n",
              "10095        How the US Shale Boom Will Change the World  ... 2012-02-15\n",
              "10096           The Age of Fossil Fuels is Far From Over  ... 2012-02-15\n",
              "10097  How the U.S. Can Produce 36 Billion Gallons of...  ... 2012-02-15\n",
              "\n",
              "[10097 rows x 3 columns]"
            ]
          },
          "metadata": {
            "tags": []
          },
          "execution_count": 13
        }
      ]
    },
    {
      "cell_type": "markdown",
      "metadata": {
        "id": "9eZWCo3nimaV"
      },
      "source": [
        "Preprocessing-text preprocessing"
      ]
    },
    {
      "cell_type": "code",
      "metadata": {
        "id": "ac7R6jVkiria"
      },
      "source": [
        "import re"
      ],
      "execution_count": null,
      "outputs": []
    },
    {
      "cell_type": "code",
      "metadata": {
        "colab": {
          "base_uri": "https://localhost:8080/",
          "height": 238
        },
        "id": "Z6mkiN6qirnQ",
        "outputId": "275596e8-ba87-44fa-bd28-adf3e740911e"
      },
      "source": [
        "data['text'][0].strip()"
      ],
      "execution_count": null,
      "outputs": [
        {
          "output_type": "execute_result",
          "data": {
            "application/vnd.google.colaboratory.intrinsic+json": {
              "type": "string"
            },
            "text/plain": [
              "\"Saudi Arabia is synonymous with oil, the EU is obsessed with renewable energy, and the U.S. is the world's leading natural gas producer, but there are few countries pursuing all three of these energy sources with as much vigor as the UAE.While much of the West, encouraged by the International Energy Agency (IEA) aim for net-zero, is shunning fossil fuels, energy demand continues to rise across the globe. Without sufficient renewable energy development to meet this demand, the UAE is acknowledging its position as a world leader in oil and gas, which are still very much still needed to power the world over the next decade and beyond.?Abu Dhabi is further expanding upon its already strong oil industry through the full-field development of its Belbazem offshore block, with heavy investment expected to boost oil output in the coming years.?In May, the National Petroleum Construction Company (NPCC) was awarded a $744 million contract by Al Yasat Petroleum Operations Company, a joint venture between the Abu Dhabi National Oil Company (Adnoc) and the China National Petroleum Corporation (CNPC) to develop Abu Dhabi’s Belbazem offshore block. Adnoc holds a 60 percent stake in Al Yasat, while CNPC holds 40 percent.The contract covers the marginal offshore fields Belbazem, Umm Al Salsal, and Umm Al Dholou. It is expected that offshore facilities in the development will produce 45,000 bpd of light crude starting in 2023.??Around 65 percent of the award value is expected to go directly into the UAE economy thanks to the Adnoc’s In-Country Value (ICV) program in line with the company’s 2030 strategy.?\\n\\ngoogletag.cmd.push(function(){googletag.display('div-gpt-ad-1555424664620-0');});\\n\\nThis adds to the discovery of two billion barrels of conventional oil reserves, as well as 22 billion barrels of unconventional oil reserves, last November, which the UAE’s Energy Minister Suhail al-Mazrouei said “reflect the constant development operations carried out by ADNOC in its endeavor to reach its target of increasing oil production capacity to 5 million bpd by 2030,” in a tweet.?The UAE’s Adnoc has been clear in its plans to ramp up oil production over the coming decade, partly due to the rebound in oil demand following a year of stagnation, but also due to fears of a demand peak later this decade.?However, this is not the country’s only focus. As part of the UAE’s plan to diversify away from oil, its gas industry is going from strength to strength. In fact, the state is aiming to become self-sufficient in gas supply by 2030.The discovery of a natural gas reservoir earlier this year, situated between Abu Dhabi and Dubai, was the biggest of its kind from the last 15 years. The Jebel Ali reservoir presents an optimistic find for the UAE, with the potential to meet the country’s gas needs for up to 30 years. In addition, the Sharjah emirate also announced an onshore gas discovery, its first since the early 1980s.?Related: Russia Expands Its Influence In Major Iraqi Oil FieldsThe CEO of energy giant Crescent Petroleum explained of the diversification of the country’s energy sector, “I think that's an exciting opportunity and it's one we hope to play a key role in, both in the UAE and wider in the region,”. Further, “Our region overall, has roughly half the world's oil and gas proven reserves. And actually, there's probably still a lot more that isn't proven because exploration is under-explored.”?\\n\\ngoogletag.cmd.push(function(){googletag.display('div-gpt-ad-1555424877814-0');});\\n\\nWhile the UAE’s traditional energy sector continues to boom, it isn’t shying away from alternative energy developments. In fact, Abu Dhabi is hoping to become a world leader in green hydrogen fuel over the next decade.?At present, Adnoc already produces hydrogen for its downstream operations. However, last November Sheikh Mohamed bin Zayed delivered a mandate encouraging the exploration of hydrogen and ammonia derived from natural gas, to meet increasing international demand.??Adnoc will explore the country’s blue and green hydrogen energy potential, through carbon capture in traditional energy production, as well as the extraction of gas from water using electrolysis fuelled by renewable sources. To this end, the Mohammed bin Rashid Al Maktoum Solar Park, based in Dubai, is expected to be the first solar-powered hydrogen plant in the Middle Eastern region.Not only is the UAE continuing to develop its fierce oil industry, the country’s aim to diversify its energy industry and economy has meant significant advances in gas, as well as cutting edge green energies such as hydrogen. This is certainly one to watch over the coming years.By Felicity Bradstock for Oilprice.comMore Top Reads From Oilprice.com:China’s Oil Imports To Drop After Refinery Margins Near $0The Renewable Energy Revolution Has A Major Employment ProblemThe Biggest Threat To Europe’s Battery Boom\""
            ]
          },
          "metadata": {
            "tags": []
          },
          "execution_count": 15
        }
      ]
    },
    {
      "cell_type": "code",
      "metadata": {
        "id": "Z5wcGY35ir7h"
      },
      "source": [
        "re_x=re.compile(\"[^ 0-9a-zA-Z . ' ]+\")"
      ],
      "execution_count": null,
      "outputs": []
    },
    {
      "cell_type": "code",
      "metadata": {
        "id": "367YuTeqr_Ef"
      },
      "source": [
        "re_xa=re.compile('googletag.+;')"
      ],
      "execution_count": null,
      "outputs": []
    },
    {
      "cell_type": "code",
      "metadata": {
        "colab": {
          "base_uri": "https://localhost:8080/",
          "height": 237
        },
        "id": "Gr7vvWCZisFm",
        "outputId": "94c057a4-74a7-42b4-b8da-78b3405d438c"
      },
      "source": [
        "''.join(re.split(re_xa,data['text'][0]))"
      ],
      "execution_count": null,
      "outputs": [
        {
          "output_type": "execute_result",
          "data": {
            "application/vnd.google.colaboratory.intrinsic+json": {
              "type": "string"
            },
            "text/plain": [
              "\"\\n\\nSaudi Arabia is synonymous with oil, the EU is obsessed with renewable energy, and the U.S. is the world's leading natural gas producer, but there are few countries pursuing all three of these energy sources with as much vigor as the UAE.While much of the West, encouraged by the International Energy Agency (IEA) aim for net-zero, is shunning fossil fuels, energy demand continues to rise across the globe. Without sufficient renewable energy development to meet this demand, the UAE is acknowledging its position as a world leader in oil and gas, which are still very much still needed to power the world over the next decade and beyond.?Abu Dhabi is further expanding upon its already strong oil industry through the full-field development of its Belbazem offshore block, with heavy investment expected to boost oil output in the coming years.?In May, the National Petroleum Construction Company (NPCC) was awarded a $744 million contract by Al Yasat Petroleum Operations Company, a joint venture between the Abu Dhabi National Oil Company (Adnoc) and the China National Petroleum Corporation (CNPC) to develop Abu Dhabi’s Belbazem offshore block. Adnoc holds a 60 percent stake in Al Yasat, while CNPC holds 40 percent.The contract covers the marginal offshore fields Belbazem, Umm Al Salsal, and Umm Al Dholou. It is expected that offshore facilities in the development will produce 45,000 bpd of light crude starting in 2023.??Around 65 percent of the award value is expected to go directly into the UAE economy thanks to the Adnoc’s In-Country Value (ICV) program in line with the company’s 2030 strategy.?\\n\\n\\n\\nThis adds to the discovery of two billion barrels of conventional oil reserves, as well as 22 billion barrels of unconventional oil reserves, last November, which the UAE’s Energy Minister Suhail al-Mazrouei said “reflect the constant development operations carried out by ADNOC in its endeavor to reach its target of increasing oil production capacity to 5 million bpd by 2030,” in a tweet.?The UAE’s Adnoc has been clear in its plans to ramp up oil production over the coming decade, partly due to the rebound in oil demand following a year of stagnation, but also due to fears of a demand peak later this decade.?However, this is not the country’s only focus. As part of the UAE’s plan to diversify away from oil, its gas industry is going from strength to strength. In fact, the state is aiming to become self-sufficient in gas supply by 2030.The discovery of a natural gas reservoir earlier this year, situated between Abu Dhabi and Dubai, was the biggest of its kind from the last 15 years. The Jebel Ali reservoir presents an optimistic find for the UAE, with the potential to meet the country’s gas needs for up to 30 years. In addition, the Sharjah emirate also announced an onshore gas discovery, its first since the early 1980s.?Related: Russia Expands Its Influence In Major Iraqi Oil FieldsThe CEO of energy giant Crescent Petroleum explained of the diversification of the country’s energy sector, “I think that's an exciting opportunity and it's one we hope to play a key role in, both in the UAE and wider in the region,”. Further, “Our region overall, has roughly half the world's oil and gas proven reserves. And actually, there's probably still a lot more that isn't proven because exploration is under-explored.”?\\n\\n\\n\\nWhile the UAE’s traditional energy sector continues to boom, it isn’t shying away from alternative energy developments. In fact, Abu Dhabi is hoping to become a world leader in green hydrogen fuel over the next decade.?At present, Adnoc already produces hydrogen for its downstream operations. However, last November Sheikh Mohamed bin Zayed delivered a mandate encouraging the exploration of hydrogen and ammonia derived from natural gas, to meet increasing international demand.??Adnoc will explore the country’s blue and green hydrogen energy potential, through carbon capture in traditional energy production, as well as the extraction of gas from water using electrolysis fuelled by renewable sources. To this end, the Mohammed bin Rashid Al Maktoum Solar Park, based in Dubai, is expected to be the first solar-powered hydrogen plant in the Middle Eastern region.Not only is the UAE continuing to develop its fierce oil industry, the country’s aim to diversify its energy industry and economy has meant significant advances in gas, as well as cutting edge green energies such as hydrogen. This is certainly one to watch over the coming years.By Felicity Bradstock for Oilprice.comMore Top Reads From Oilprice.com:China’s Oil Imports To Drop After Refinery Margins Near $0The Renewable Energy Revolution Has A Major Employment ProblemThe Biggest Threat To Europe’s Battery Boom\\n\\n\""
            ]
          },
          "metadata": {
            "tags": []
          },
          "execution_count": 18
        }
      ]
    },
    {
      "cell_type": "code",
      "metadata": {
        "id": "NG-lCIMc-hcT"
      },
      "source": [
        "data['text']=list(map(lambda x:''.join(re.split(re_xa,x)),data['text']))\n"
      ],
      "execution_count": null,
      "outputs": []
    },
    {
      "cell_type": "code",
      "metadata": {
        "id": "fnPAdk7tAKxn"
      },
      "source": [
        "data['text']=list(map(lambda x:re.sub(re_x,'',x),data['text']))"
      ],
      "execution_count": null,
      "outputs": []
    },
    {
      "cell_type": "code",
      "metadata": {
        "colab": {
          "base_uri": "https://localhost:8080/",
          "height": 238
        },
        "id": "iGCgfTHJ_ipH",
        "outputId": "192f643b-ed66-48a1-d7d0-fa618705bfed"
      },
      "source": [
        "data['text'][0]"
      ],
      "execution_count": null,
      "outputs": [
        {
          "output_type": "execute_result",
          "data": {
            "application/vnd.google.colaboratory.intrinsic+json": {
              "type": "string"
            },
            "text/plain": [
              "\"Saudi Arabia is synonymous with oil the EU is obsessed with renewable energy and the U.S. is the world's leading natural gas producer but there are few countries pursuing all three of these energy sources with as much vigor as the UAE.While much of the West encouraged by the International Energy Agency IEA aim for netzero is shunning fossil fuels energy demand continues to rise across the globe. Without sufficient renewable energy development to meet this demand the UAE is acknowledging its position as a world leader in oil and gas which are still very much still needed to power the world over the next decade and beyond.Abu Dhabi is further expanding upon its already strong oil industry through the fullfield development of its Belbazem offshore block with heavy investment expected to boost oil output in the coming years.In May the National Petroleum Construction Company NPCC was awarded a 744 million contract by Al Yasat Petroleum Operations Company a joint venture between the Abu Dhabi National Oil Company Adnoc and the China National Petroleum Corporation CNPC to develop Abu Dhabis Belbazem offshore block. Adnoc holds a 60 percent stake in Al Yasat while CNPC holds 40 percent.The contract covers the marginal offshore fields Belbazem Umm Al Salsal and Umm Al Dholou. It is expected that offshore facilities in the development will produce 45000 bpd of light crude starting in 2023.Around 65 percent of the award value is expected to go directly into the UAE economy thanks to the Adnocs InCountry Value ICV program in line with the companys 2030 strategy.This adds to the discovery of two billion barrels of conventional oil reserves as well as 22 billion barrels of unconventional oil reserves last November which the UAEs Energy Minister Suhail alMazrouei said reflect the constant development operations carried out by ADNOC in its endeavor to reach its target of increasing oil production capacity to 5 million bpd by 2030 in a tweet.The UAEs Adnoc has been clear in its plans to ramp up oil production over the coming decade partly due to the rebound in oil demand following a year of stagnation but also due to fears of a demand peak later this decade.However this is not the countrys only focus. As part of the UAEs plan to diversify away from oil its gas industry is going from strength to strength. In fact the state is aiming to become selfsufficient in gas supply by 2030.The discovery of a natural gas reservoir earlier this year situated between Abu Dhabi and Dubai was the biggest of its kind from the last 15 years. The Jebel Ali reservoir presents an optimistic find for the UAE with the potential to meet the countrys gas needs for up to 30 years. In addition the Sharjah emirate also announced an onshore gas discovery its first since the early 1980s.Related Russia Expands Its Influence In Major Iraqi Oil FieldsThe CEO of energy giant Crescent Petroleum explained of the diversification of the countrys energy sector I think that's an exciting opportunity and it's one we hope to play a key role in both in the UAE and wider in the region. Further Our region overall has roughly half the world's oil and gas proven reserves. And actually there's probably still a lot more that isn't proven because exploration is underexplored.While the UAEs traditional energy sector continues to boom it isnt shying away from alternative energy developments. In fact Abu Dhabi is hoping to become a world leader in green hydrogen fuel over the next decade.At present Adnoc already produces hydrogen for its downstream operations. However last November Sheikh Mohamed bin Zayed delivered a mandate encouraging the exploration of hydrogen and ammonia derived from natural gas to meet increasing international demand.Adnoc will explore the countrys blue and green hydrogen energy potential through carbon capture in traditional energy production as well as the extraction of gas from water using electrolysis fuelled by renewable sources. To this end the Mohammed bin Rashid Al Maktoum Solar Park based in Dubai is expected to be the first solarpowered hydrogen plant in the Middle Eastern region.Not only is the UAE continuing to develop its fierce oil industry the countrys aim to diversify its energy industry and economy has meant significant advances in gas as well as cutting edge green energies such as hydrogen. This is certainly one to watch over the coming years.By Felicity Bradstock for Oilprice.comMore Top Reads From Oilprice.comChinas Oil Imports To Drop After Refinery Margins Near 0The Renewable Energy Revolution Has A Major Employment ProblemThe Biggest Threat To Europes Battery Boom\""
            ]
          },
          "metadata": {
            "tags": []
          },
          "execution_count": 21
        }
      ]
    },
    {
      "cell_type": "markdown",
      "metadata": {
        "id": "urrm8fHvAf9O"
      },
      "source": [
        "stopword preprocessing\n"
      ]
    },
    {
      "cell_type": "code",
      "metadata": {
        "id": "JcrF1lfdApkh"
      },
      "source": [
        "data.to_csv('/content/drive/MyDrive/JHS/data/oilprice_preprocessing.csv')"
      ],
      "execution_count": null,
      "outputs": []
    },
    {
      "cell_type": "code",
      "metadata": {
        "id": "QF08U4zYPQfx"
      },
      "source": [
        "import glob\n",
        "import numpy as np\n",
        "import pandas as pd"
      ],
      "execution_count": null,
      "outputs": []
    },
    {
      "cell_type": "code",
      "metadata": {
        "colab": {
          "base_uri": "https://localhost:8080/",
          "height": 414
        },
        "id": "9Jo6xMGSOwum",
        "outputId": "369d41a0-8218-450f-fa8c-aaa453e00a51"
      },
      "source": [
        "df=pd.read_csv('./drive/MyDrive/JHS/data/oilprice_preprocessing.csv',encoding='utf-8')\n",
        "df"
      ],
      "execution_count": null,
      "outputs": [
        {
          "output_type": "execute_result",
          "data": {
            "text/html": [
              "<div>\n",
              "<style scoped>\n",
              "    .dataframe tbody tr th:only-of-type {\n",
              "        vertical-align: middle;\n",
              "    }\n",
              "\n",
              "    .dataframe tbody tr th {\n",
              "        vertical-align: top;\n",
              "    }\n",
              "\n",
              "    .dataframe thead th {\n",
              "        text-align: right;\n",
              "    }\n",
              "</style>\n",
              "<table border=\"1\" class=\"dataframe\">\n",
              "  <thead>\n",
              "    <tr style=\"text-align: right;\">\n",
              "      <th></th>\n",
              "      <th>Unnamed: 0</th>\n",
              "      <th>title</th>\n",
              "      <th>text</th>\n",
              "      <th>date</th>\n",
              "    </tr>\n",
              "  </thead>\n",
              "  <tbody>\n",
              "    <tr>\n",
              "      <th>0</th>\n",
              "      <td>0</td>\n",
              "      <td>The UAE Is Poised To Become The Next Middle Ea...</td>\n",
              "      <td>Saudi Arabia is synonymous with oil the EU is ...</td>\n",
              "      <td>2021-06-14</td>\n",
              "    </tr>\n",
              "    <tr>\n",
              "      <th>1</th>\n",
              "      <td>1</td>\n",
              "      <td>The Renewable Energy Revolution Has A Major Em...</td>\n",
              "      <td>Renewable energy is going gangbusters. The rem...</td>\n",
              "      <td>2021-06-14</td>\n",
              "    </tr>\n",
              "    <tr>\n",
              "      <th>2</th>\n",
              "      <td>2</td>\n",
              "      <td>Energy Transition Forces LNG Industry To Cut E...</td>\n",
              "      <td>In just a few years the image of natural gas m...</td>\n",
              "      <td>2021-06-13</td>\n",
              "    </tr>\n",
              "    <tr>\n",
              "      <th>3</th>\n",
              "      <td>3</td>\n",
              "      <td>Solving Nigeria’s Gasoline Crisis</td>\n",
              "      <td>The world of Nigerian refining is an enigma sh...</td>\n",
              "      <td>2021-06-13</td>\n",
              "    </tr>\n",
              "    <tr>\n",
              "      <th>4</th>\n",
              "      <td>4</td>\n",
              "      <td>China’s Pivot To Gas Is Fueling Support In LNG...</td>\n",
              "      <td>Global economic recovery is gradually taking s...</td>\n",
              "      <td>2021-06-12</td>\n",
              "    </tr>\n",
              "    <tr>\n",
              "      <th>...</th>\n",
              "      <td>...</td>\n",
              "      <td>...</td>\n",
              "      <td>...</td>\n",
              "      <td>...</td>\n",
              "    </tr>\n",
              "    <tr>\n",
              "      <th>10092</th>\n",
              "      <td>10093</td>\n",
              "      <td>Former OPEC Member Indonesia Diversifies its E...</td>\n",
              "      <td>Indonesia which had begun producing oil in the...</td>\n",
              "      <td>2012-02-15</td>\n",
              "    </tr>\n",
              "    <tr>\n",
              "      <th>10093</th>\n",
              "      <td>10094</td>\n",
              "      <td>Putin Looking to Modernize Russia's Energy Sec...</td>\n",
              "      <td>Largely overlooked in the nonRussian press an ...</td>\n",
              "      <td>2012-02-15</td>\n",
              "    </tr>\n",
              "    <tr>\n",
              "      <th>10094</th>\n",
              "      <td>10095</td>\n",
              "      <td>How the US Shale Boom Will Change the World</td>\n",
              "      <td>A funny thing is happening on the way to the c...</td>\n",
              "      <td>2012-02-15</td>\n",
              "    </tr>\n",
              "    <tr>\n",
              "      <th>10095</th>\n",
              "      <td>10096</td>\n",
              "      <td>The Age of Fossil Fuels is Far From Over</td>\n",
              "      <td>Having looked at the major alternatives to fos...</td>\n",
              "      <td>2012-02-15</td>\n",
              "    </tr>\n",
              "    <tr>\n",
              "      <th>10096</th>\n",
              "      <td>10097</td>\n",
              "      <td>How the U.S. Can Produce 36 Billion Gallons of...</td>\n",
              "      <td>Jim Lane at Biofuelsdigest.com has written an ...</td>\n",
              "      <td>2012-02-15</td>\n",
              "    </tr>\n",
              "  </tbody>\n",
              "</table>\n",
              "<p>10097 rows × 4 columns</p>\n",
              "</div>"
            ],
            "text/plain": [
              "       Unnamed: 0  ...        date\n",
              "0               0  ...  2021-06-14\n",
              "1               1  ...  2021-06-14\n",
              "2               2  ...  2021-06-13\n",
              "3               3  ...  2021-06-13\n",
              "4               4  ...  2021-06-12\n",
              "...           ...  ...         ...\n",
              "10092       10093  ...  2012-02-15\n",
              "10093       10094  ...  2012-02-15\n",
              "10094       10095  ...  2012-02-15\n",
              "10095       10096  ...  2012-02-15\n",
              "10096       10097  ...  2012-02-15\n",
              "\n",
              "[10097 rows x 4 columns]"
            ]
          },
          "metadata": {
            "tags": []
          },
          "execution_count": 56
        }
      ]
    },
    {
      "cell_type": "code",
      "metadata": {
        "id": "hPpIv3mvoz8t"
      },
      "source": [
        "df['text']=df['text'].str.replace(\"[^a-z A-Z 0-9]\",\"\")"
      ],
      "execution_count": null,
      "outputs": []
    },
    {
      "cell_type": "code",
      "metadata": {
        "id": "gVM3O90QpJxS"
      },
      "source": [
        "df['title']=df['title'].str.replace(\"[^a-z A-Z 0-9]\",\"\")"
      ],
      "execution_count": null,
      "outputs": []
    },
    {
      "cell_type": "markdown",
      "metadata": {
        "id": "TfwPQRExh4wB"
      },
      "source": [
        "Vocab 만들기"
      ]
    },
    {
      "cell_type": "code",
      "metadata": {
        "id": "X1yJtdAUhrky"
      },
      "source": [
        "vocab={}\n",
        "for sentence in df['text']:\n",
        "    for token in sentence.split():\n",
        "        token=token.lower()\n",
        "        if token not in stop_words:\n",
        "            try :\n",
        "                vocab[token]+=1\n",
        "            except:\n",
        "                vocab[token]=1"
      ],
      "execution_count": null,
      "outputs": []
    },
    {
      "cell_type": "code",
      "metadata": {
        "id": "DWjIX-HDhrxe"
      },
      "source": [
        "sorted(vocab.items(),key=lambda x: x[1],reverse=True)"
      ],
      "execution_count": null,
      "outputs": []
    },
    {
      "cell_type": "markdown",
      "metadata": {
        "id": "mRnhPVlCh8R8"
      },
      "source": [
        "Tokenize, 불용어 처리"
      ]
    },
    {
      "cell_type": "code",
      "metadata": {
        "id": "P2jmJNNQOw3A"
      },
      "source": [
        "from lxml import etree\n",
        "import re\n",
        "from nltk.tokenize import word_tokenize, sent_tokenize"
      ],
      "execution_count": null,
      "outputs": []
    },
    {
      "cell_type": "code",
      "metadata": {
        "colab": {
          "base_uri": "https://localhost:8080/"
        },
        "id": "N-S-2eW-Rs71",
        "outputId": "940ab1f8-6d62-4525-f721-3a17964d2855"
      },
      "source": [
        "import nltk\n",
        "nltk.download('punkt')"
      ],
      "execution_count": null,
      "outputs": [
        {
          "output_type": "stream",
          "text": [
            "[nltk_data] Downloading package punkt to /root/nltk_data...\n",
            "[nltk_data]   Package punkt is already up-to-date!\n"
          ],
          "name": "stdout"
        },
        {
          "output_type": "execute_result",
          "data": {
            "text/plain": [
              "True"
            ]
          },
          "metadata": {
            "tags": []
          },
          "execution_count": 63
        }
      ]
    },
    {
      "cell_type": "code",
      "metadata": {
        "id": "-xU5ZGsqaYvJ",
        "colab": {
          "base_uri": "https://localhost:8080/",
          "height": 302
        },
        "outputId": "3ec25a72-8d23-4105-fe28-01d89f8c84b3"
      },
      "source": [
        "df['title_tokenize']=df['title'].apply(word_tokenize)\n",
        "df['text_tokenize']=df['text'].apply(word_tokenize)\n",
        "\n",
        "df.head()"
      ],
      "execution_count": null,
      "outputs": [
        {
          "output_type": "execute_result",
          "data": {
            "text/html": [
              "<div>\n",
              "<style scoped>\n",
              "    .dataframe tbody tr th:only-of-type {\n",
              "        vertical-align: middle;\n",
              "    }\n",
              "\n",
              "    .dataframe tbody tr th {\n",
              "        vertical-align: top;\n",
              "    }\n",
              "\n",
              "    .dataframe thead th {\n",
              "        text-align: right;\n",
              "    }\n",
              "</style>\n",
              "<table border=\"1\" class=\"dataframe\">\n",
              "  <thead>\n",
              "    <tr style=\"text-align: right;\">\n",
              "      <th></th>\n",
              "      <th>Unnamed: 0</th>\n",
              "      <th>title</th>\n",
              "      <th>text</th>\n",
              "      <th>date</th>\n",
              "      <th>title_tokenize</th>\n",
              "      <th>text_tokenize</th>\n",
              "    </tr>\n",
              "  </thead>\n",
              "  <tbody>\n",
              "    <tr>\n",
              "      <th>0</th>\n",
              "      <td>0</td>\n",
              "      <td>The UAE Is Poised To Become The Next Middle Ea...</td>\n",
              "      <td>Saudi Arabia is synonymous with oil the EU is ...</td>\n",
              "      <td>2021-06-14</td>\n",
              "      <td>[The, UAE, Is, Poised, To, Become, The, Next, ...</td>\n",
              "      <td>[Saudi, Arabia, is, synonymous, with, oil, the...</td>\n",
              "    </tr>\n",
              "    <tr>\n",
              "      <th>1</th>\n",
              "      <td>1</td>\n",
              "      <td>The Renewable Energy Revolution Has A Major Em...</td>\n",
              "      <td>Renewable energy is going gangbusters The rema...</td>\n",
              "      <td>2021-06-14</td>\n",
              "      <td>[The, Renewable, Energy, Revolution, Has, A, M...</td>\n",
              "      <td>[Renewable, energy, is, going, gangbusters, Th...</td>\n",
              "    </tr>\n",
              "    <tr>\n",
              "      <th>2</th>\n",
              "      <td>2</td>\n",
              "      <td>Energy Transition Forces LNG Industry To Cut E...</td>\n",
              "      <td>In just a few years the image of natural gas m...</td>\n",
              "      <td>2021-06-13</td>\n",
              "      <td>[Energy, Transition, Forces, LNG, Industry, To...</td>\n",
              "      <td>[In, just, a, few, years, the, image, of, natu...</td>\n",
              "    </tr>\n",
              "    <tr>\n",
              "      <th>3</th>\n",
              "      <td>3</td>\n",
              "      <td>Solving Nigerias Gasoline Crisis</td>\n",
              "      <td>The world of Nigerian refining is an enigma sh...</td>\n",
              "      <td>2021-06-13</td>\n",
              "      <td>[Solving, Nigerias, Gasoline, Crisis]</td>\n",
              "      <td>[The, world, of, Nigerian, refining, is, an, e...</td>\n",
              "    </tr>\n",
              "    <tr>\n",
              "      <th>4</th>\n",
              "      <td>4</td>\n",
              "      <td>Chinas Pivot To Gas Is Fueling Support In LNG ...</td>\n",
              "      <td>Global economic recovery is gradually taking s...</td>\n",
              "      <td>2021-06-12</td>\n",
              "      <td>[Chinas, Pivot, To, Gas, Is, Fueling, Support,...</td>\n",
              "      <td>[Global, economic, recovery, is, gradually, ta...</td>\n",
              "    </tr>\n",
              "  </tbody>\n",
              "</table>\n",
              "</div>"
            ],
            "text/plain": [
              "   Unnamed: 0  ...                                      text_tokenize\n",
              "0           0  ...  [Saudi, Arabia, is, synonymous, with, oil, the...\n",
              "1           1  ...  [Renewable, energy, is, going, gangbusters, Th...\n",
              "2           2  ...  [In, just, a, few, years, the, image, of, natu...\n",
              "3           3  ...  [The, world, of, Nigerian, refining, is, an, e...\n",
              "4           4  ...  [Global, economic, recovery, is, gradually, ta...\n",
              "\n",
              "[5 rows x 6 columns]"
            ]
          },
          "metadata": {
            "tags": []
          },
          "execution_count": 64
        }
      ]
    },
    {
      "cell_type": "code",
      "metadata": {
        "colab": {
          "base_uri": "https://localhost:8080/",
          "height": 34
        },
        "id": "qXm9IYEGIvly",
        "outputId": "4e399ced-2a1c-4148-f83c-d591d355017b"
      },
      "source": [
        "df['title_tokenize'][0][0]"
      ],
      "execution_count": null,
      "outputs": [
        {
          "output_type": "execute_result",
          "data": {
            "application/vnd.google.colaboratory.intrinsic+json": {
              "type": "string"
            },
            "text/plain": [
              "'The'"
            ]
          },
          "metadata": {
            "tags": []
          },
          "execution_count": 65
        }
      ]
    },
    {
      "cell_type": "code",
      "metadata": {
        "id": "SBf9wd1ufu8b"
      },
      "source": [
        "df['title_tokenize']=df['title_tokenize'].apply(lambda x: [item.lower() for item in x])\n",
        "df['text_tokenize']=df['text_tokenize'].apply(lambda x:[item.lower() for item in x])"
      ],
      "execution_count": null,
      "outputs": []
    },
    {
      "cell_type": "code",
      "metadata": {
        "colab": {
          "base_uri": "https://localhost:8080/"
        },
        "id": "NZhqPE9VApZ-",
        "outputId": "cf5aadcc-6931-4a0b-8dee-a6d733ffa88b"
      },
      "source": [
        "import nltk\n",
        "nltk.download('stopwords')\n",
        "from nltk.corpus import stopwords\n"
      ],
      "execution_count": null,
      "outputs": [
        {
          "output_type": "stream",
          "text": [
            "[nltk_data] Downloading package stopwords to /root/nltk_data...\n",
            "[nltk_data]   Package stopwords is already up-to-date!\n"
          ],
          "name": "stdout"
        }
      ]
    },
    {
      "cell_type": "code",
      "metadata": {
        "id": "DTsjjf_VeIvy"
      },
      "source": [
        "stop_words=stopwords.words('english')"
      ],
      "execution_count": null,
      "outputs": []
    },
    {
      "cell_type": "code",
      "metadata": {
        "id": "VoHecIC2mw9U"
      },
      "source": [
        "plus='this', 'in', 'on', 'at', 'but', 'and', 'however'\n",
        "stop_words.append(plus)\n",
        "stop_words"
      ],
      "execution_count": null,
      "outputs": []
    },
    {
      "cell_type": "code",
      "metadata": {
        "colab": {
          "base_uri": "https://localhost:8080/",
          "height": 302
        },
        "id": "gzodNLUUgrNV",
        "outputId": "8c8c337a-ef9e-4bb5-b87c-dbc5d188e9c1"
      },
      "source": [
        "df['title_tokenize']=df['title_tokenize'].apply(lambda x: [item for item in x if item not in stop_words])\n",
        "df['text_tokenize']=df['text_tokenize'].apply(lambda x: [item for item in x if item not in stop_words])\n",
        "df.head()"
      ],
      "execution_count": null,
      "outputs": [
        {
          "output_type": "execute_result",
          "data": {
            "text/html": [
              "<div>\n",
              "<style scoped>\n",
              "    .dataframe tbody tr th:only-of-type {\n",
              "        vertical-align: middle;\n",
              "    }\n",
              "\n",
              "    .dataframe tbody tr th {\n",
              "        vertical-align: top;\n",
              "    }\n",
              "\n",
              "    .dataframe thead th {\n",
              "        text-align: right;\n",
              "    }\n",
              "</style>\n",
              "<table border=\"1\" class=\"dataframe\">\n",
              "  <thead>\n",
              "    <tr style=\"text-align: right;\">\n",
              "      <th></th>\n",
              "      <th>Unnamed: 0</th>\n",
              "      <th>title</th>\n",
              "      <th>text</th>\n",
              "      <th>date</th>\n",
              "      <th>title_tokenize</th>\n",
              "      <th>text_tokenize</th>\n",
              "    </tr>\n",
              "  </thead>\n",
              "  <tbody>\n",
              "    <tr>\n",
              "      <th>0</th>\n",
              "      <td>0</td>\n",
              "      <td>The UAE Is Poised To Become The Next Middle Ea...</td>\n",
              "      <td>Saudi Arabia is synonymous with oil the EU is ...</td>\n",
              "      <td>2021-06-14</td>\n",
              "      <td>[uae, poised, become, next, middle, east, ener...</td>\n",
              "      <td>[saudi, arabia, synonymous, oil, eu, obsessed,...</td>\n",
              "    </tr>\n",
              "    <tr>\n",
              "      <th>1</th>\n",
              "      <td>1</td>\n",
              "      <td>The Renewable Energy Revolution Has A Major Em...</td>\n",
              "      <td>Renewable energy is going gangbusters The rema...</td>\n",
              "      <td>2021-06-14</td>\n",
              "      <td>[renewable, energy, revolution, major, employm...</td>\n",
              "      <td>[renewable, energy, going, gangbusters, remark...</td>\n",
              "    </tr>\n",
              "    <tr>\n",
              "      <th>2</th>\n",
              "      <td>2</td>\n",
              "      <td>Energy Transition Forces LNG Industry To Cut E...</td>\n",
              "      <td>In just a few years the image of natural gas m...</td>\n",
              "      <td>2021-06-13</td>\n",
              "      <td>[energy, transition, forces, lng, industry, cu...</td>\n",
              "      <td>[years, image, natural, gas, markedly, shifted...</td>\n",
              "    </tr>\n",
              "    <tr>\n",
              "      <th>3</th>\n",
              "      <td>3</td>\n",
              "      <td>Solving Nigerias Gasoline Crisis</td>\n",
              "      <td>The world of Nigerian refining is an enigma sh...</td>\n",
              "      <td>2021-06-13</td>\n",
              "      <td>[solving, nigerias, gasoline, crisis]</td>\n",
              "      <td>[world, nigerian, refining, enigma, shrouded, ...</td>\n",
              "    </tr>\n",
              "    <tr>\n",
              "      <th>4</th>\n",
              "      <td>4</td>\n",
              "      <td>Chinas Pivot To Gas Is Fueling Support In LNG ...</td>\n",
              "      <td>Global economic recovery is gradually taking s...</td>\n",
              "      <td>2021-06-12</td>\n",
              "      <td>[chinas, pivot, gas, fueling, support, lng, de...</td>\n",
              "      <td>[global, economic, recovery, gradually, taking...</td>\n",
              "    </tr>\n",
              "  </tbody>\n",
              "</table>\n",
              "</div>"
            ],
            "text/plain": [
              "   Unnamed: 0  ...                                      text_tokenize\n",
              "0           0  ...  [saudi, arabia, synonymous, oil, eu, obsessed,...\n",
              "1           1  ...  [renewable, energy, going, gangbusters, remark...\n",
              "2           2  ...  [years, image, natural, gas, markedly, shifted...\n",
              "3           3  ...  [world, nigerian, refining, enigma, shrouded, ...\n",
              "4           4  ...  [global, economic, recovery, gradually, taking...\n",
              "\n",
              "[5 rows x 6 columns]"
            ]
          },
          "metadata": {
            "tags": []
          },
          "execution_count": 70
        }
      ]
    },
    {
      "cell_type": "code",
      "metadata": {
        "colab": {
          "base_uri": "https://localhost:8080/",
          "height": 34
        },
        "id": "K4EPi1VVJF84",
        "outputId": "fe12fe62-94e5-46bc-a136-ba8fd4a38429"
      },
      "source": [
        "df['title_tokenize'][0][1]"
      ],
      "execution_count": null,
      "outputs": [
        {
          "output_type": "execute_result",
          "data": {
            "application/vnd.google.colaboratory.intrinsic+json": {
              "type": "string"
            },
            "text/plain": [
              "'poised'"
            ]
          },
          "metadata": {
            "tags": []
          },
          "execution_count": 71
        }
      ]
    },
    {
      "cell_type": "code",
      "metadata": {
        "colab": {
          "base_uri": "https://localhost:8080/"
        },
        "id": "qgC-L8RaJNH1",
        "outputId": "a785abe7-0182-4b16-cde5-bf7ff2339f35"
      },
      "source": [
        "from nltk.stem import WordNetLemmatizer\n",
        "n=WordNetLemmatizer()\n",
        "import nltk\n",
        "nltk.download('wordnet')\n",
        "from nltk import pos_tag\n",
        "nltk.download('averaged_perceptron_tagger')"
      ],
      "execution_count": null,
      "outputs": [
        {
          "output_type": "stream",
          "text": [
            "[nltk_data] Downloading package wordnet to /root/nltk_data...\n",
            "[nltk_data]   Package wordnet is already up-to-date!\n",
            "[nltk_data] Downloading package averaged_perceptron_tagger to\n",
            "[nltk_data]     /root/nltk_data...\n",
            "[nltk_data]   Package averaged_perceptron_tagger is already up-to-\n",
            "[nltk_data]       date!\n"
          ],
          "name": "stdout"
        },
        {
          "output_type": "execute_result",
          "data": {
            "text/plain": [
              "True"
            ]
          },
          "metadata": {
            "tags": []
          },
          "execution_count": 72
        }
      ]
    },
    {
      "cell_type": "code",
      "metadata": {
        "id": "Yy0ohPrgeGv0"
      },
      "source": [
        "df.to_csv('/content/drive/MyDrive/JHS/data/oilprice_preprocessing_rev.csv')"
      ],
      "execution_count": null,
      "outputs": []
    },
    {
      "cell_type": "code",
      "metadata": {
        "id": "c9rawf28TnbW"
      },
      "source": [
        "df"
      ],
      "execution_count": null,
      "outputs": []
    },
    {
      "cell_type": "code",
      "metadata": {
        "colab": {
          "base_uri": "https://localhost:8080/"
        },
        "id": "BA6QlxjBT2fQ",
        "outputId": "f57d7232-4d7e-4019-a7ad-201a8cdcf3b0"
      },
      "source": [
        "word=['apple','banana', 'golf']\n",
        "print([n.lemmatize(a) for a in word])\n"
      ],
      "execution_count": null,
      "outputs": [
        {
          "output_type": "stream",
          "text": [
            "['apple', 'banana', 'golf']\n"
          ],
          "name": "stdout"
        }
      ]
    },
    {
      "cell_type": "code",
      "metadata": {
        "id": "GGtEcUfaTzd1"
      },
      "source": [
        "df['lemmi_text']=df['text_tokenize'].apply(lambda x:[n.lemmatize(i) for i in x])\n",
        "df['lemmi_title']=df['title_tokenize'].apply(lambda x:[n.lemmatize(i) for i in x])\n"
      ],
      "execution_count": null,
      "outputs": []
    },
    {
      "cell_type": "code",
      "metadata": {
        "colab": {
          "base_uri": "https://localhost:8080/",
          "height": 302
        },
        "id": "7B1NSDXfBOI9",
        "outputId": "d14ed936-3226-40f8-e6a2-a6db66303acd"
      },
      "source": [
        "df.head()"
      ],
      "execution_count": null,
      "outputs": [
        {
          "output_type": "execute_result",
          "data": {
            "text/html": [
              "<div>\n",
              "<style scoped>\n",
              "    .dataframe tbody tr th:only-of-type {\n",
              "        vertical-align: middle;\n",
              "    }\n",
              "\n",
              "    .dataframe tbody tr th {\n",
              "        vertical-align: top;\n",
              "    }\n",
              "\n",
              "    .dataframe thead th {\n",
              "        text-align: right;\n",
              "    }\n",
              "</style>\n",
              "<table border=\"1\" class=\"dataframe\">\n",
              "  <thead>\n",
              "    <tr style=\"text-align: right;\">\n",
              "      <th></th>\n",
              "      <th>Unnamed: 0</th>\n",
              "      <th>title</th>\n",
              "      <th>text</th>\n",
              "      <th>date</th>\n",
              "      <th>title_tokenize</th>\n",
              "      <th>text_tokenize</th>\n",
              "      <th>lemmi_text</th>\n",
              "      <th>lemmi_title</th>\n",
              "    </tr>\n",
              "  </thead>\n",
              "  <tbody>\n",
              "    <tr>\n",
              "      <th>0</th>\n",
              "      <td>0</td>\n",
              "      <td>The UAE Is Poised To Become The Next Middle Ea...</td>\n",
              "      <td>Saudi Arabia is synonymous with oil the EU is ...</td>\n",
              "      <td>2021-06-14</td>\n",
              "      <td>[uae, poised, become, next, middle, east, ener...</td>\n",
              "      <td>[saudi, arabia, synonymous, oil, eu, obsessed,...</td>\n",
              "      <td>[saudi, arabia, synonymous, oil, eu, obsessed,...</td>\n",
              "      <td>[uae, poised, become, next, middle, east, ener...</td>\n",
              "    </tr>\n",
              "    <tr>\n",
              "      <th>1</th>\n",
              "      <td>1</td>\n",
              "      <td>The Renewable Energy Revolution Has A Major Em...</td>\n",
              "      <td>Renewable energy is going gangbusters The rema...</td>\n",
              "      <td>2021-06-14</td>\n",
              "      <td>[renewable, energy, revolution, major, employm...</td>\n",
              "      <td>[renewable, energy, going, gangbusters, remark...</td>\n",
              "      <td>[renewable, energy, going, gangbusters, remark...</td>\n",
              "      <td>[renewable, energy, revolution, major, employm...</td>\n",
              "    </tr>\n",
              "    <tr>\n",
              "      <th>2</th>\n",
              "      <td>2</td>\n",
              "      <td>Energy Transition Forces LNG Industry To Cut E...</td>\n",
              "      <td>In just a few years the image of natural gas m...</td>\n",
              "      <td>2021-06-13</td>\n",
              "      <td>[energy, transition, forces, lng, industry, cu...</td>\n",
              "      <td>[years, image, natural, gas, markedly, shifted...</td>\n",
              "      <td>[year, image, natural, gas, markedly, shifted,...</td>\n",
              "      <td>[energy, transition, force, lng, industry, cut...</td>\n",
              "    </tr>\n",
              "    <tr>\n",
              "      <th>3</th>\n",
              "      <td>3</td>\n",
              "      <td>Solving Nigerias Gasoline Crisis</td>\n",
              "      <td>The world of Nigerian refining is an enigma sh...</td>\n",
              "      <td>2021-06-13</td>\n",
              "      <td>[solving, nigerias, gasoline, crisis]</td>\n",
              "      <td>[world, nigerian, refining, enigma, shrouded, ...</td>\n",
              "      <td>[world, nigerian, refining, enigma, shrouded, ...</td>\n",
              "      <td>[solving, nigeria, gasoline, crisis]</td>\n",
              "    </tr>\n",
              "    <tr>\n",
              "      <th>4</th>\n",
              "      <td>4</td>\n",
              "      <td>Chinas Pivot To Gas Is Fueling Support In LNG ...</td>\n",
              "      <td>Global economic recovery is gradually taking s...</td>\n",
              "      <td>2021-06-12</td>\n",
              "      <td>[chinas, pivot, gas, fueling, support, lng, de...</td>\n",
              "      <td>[global, economic, recovery, gradually, taking...</td>\n",
              "      <td>[global, economic, recovery, gradually, taking...</td>\n",
              "      <td>[china, pivot, gas, fueling, support, lng, dem...</td>\n",
              "    </tr>\n",
              "  </tbody>\n",
              "</table>\n",
              "</div>"
            ],
            "text/plain": [
              "   Unnamed: 0  ...                                        lemmi_title\n",
              "0           0  ...  [uae, poised, become, next, middle, east, ener...\n",
              "1           1  ...  [renewable, energy, revolution, major, employm...\n",
              "2           2  ...  [energy, transition, force, lng, industry, cut...\n",
              "3           3  ...               [solving, nigeria, gasoline, crisis]\n",
              "4           4  ...  [china, pivot, gas, fueling, support, lng, dem...\n",
              "\n",
              "[5 rows x 8 columns]"
            ]
          },
          "metadata": {
            "tags": []
          },
          "execution_count": 74
        }
      ]
    },
    {
      "cell_type": "code",
      "metadata": {
        "colab": {
          "base_uri": "https://localhost:8080/",
          "height": 34
        },
        "id": "SsAPLN0dloc3",
        "outputId": "e8ed1758-f871-4d16-c7ca-dc48bb07d29a"
      },
      "source": [
        "df['lemmi_title'][0][0]"
      ],
      "execution_count": null,
      "outputs": [
        {
          "output_type": "execute_result",
          "data": {
            "application/vnd.google.colaboratory.intrinsic+json": {
              "type": "string"
            },
            "text/plain": [
              "'uae'"
            ]
          },
          "metadata": {
            "tags": []
          },
          "execution_count": 75
        }
      ]
    },
    {
      "cell_type": "markdown",
      "metadata": {
        "id": "KLiDL7nKl2za"
      },
      "source": [
        "tf-idf"
      ]
    },
    {
      "cell_type": "code",
      "metadata": {
        "id": "l-ri5dJhls-M"
      },
      "source": [
        "from sklearn.feature_extraction.text import TfidfVectorizer"
      ],
      "execution_count": null,
      "outputs": []
    },
    {
      "cell_type": "code",
      "metadata": {
        "id": "N6lsxRJXltJ0"
      },
      "source": [
        "tfidf=TfidfVectorizer()"
      ],
      "execution_count": null,
      "outputs": []
    },
    {
      "cell_type": "code",
      "metadata": {
        "id": "TBWJmN4sl0Qc"
      },
      "source": [
        "tfidfv=tfidf.fit(df['lemmi_title'][0])"
      ],
      "execution_count": null,
      "outputs": []
    },
    {
      "cell_type": "code",
      "metadata": {
        "colab": {
          "base_uri": "https://localhost:8080/"
        },
        "id": "Y2EruSRnl0To",
        "outputId": "33389819-5c6b-4180-ac4b-3df49f039912"
      },
      "source": [
        "print(tfidfv.transform(df['lemmi_title'][0]).toarray())"
      ],
      "execution_count": null,
      "outputs": [
        {
          "output_type": "stream",
          "text": [
            "[[0. 0. 0. 0. 0. 0. 0. 1.]\n",
            " [0. 0. 0. 0. 0. 0. 1. 0.]\n",
            " [1. 0. 0. 0. 0. 0. 0. 0.]\n",
            " [0. 0. 0. 0. 0. 1. 0. 0.]\n",
            " [0. 0. 0. 0. 1. 0. 0. 0.]\n",
            " [0. 1. 0. 0. 0. 0. 0. 0.]\n",
            " [0. 0. 1. 0. 0. 0. 0. 0.]\n",
            " [0. 0. 0. 1. 0. 0. 0. 0.]]\n"
          ],
          "name": "stdout"
        }
      ]
    },
    {
      "cell_type": "code",
      "metadata": {
        "id": "8BxSzIHdIXkb"
      },
      "source": [
        "df['tfidf']=df['lemmi_title'].apply(lambda x: [tfidfv.transform([i]).toarray() for i in x])"
      ],
      "execution_count": null,
      "outputs": []
    },
    {
      "cell_type": "code",
      "metadata": {
        "colab": {
          "base_uri": "https://localhost:8080/"
        },
        "id": "AdjD66leRuGv",
        "outputId": "8836220f-0001-4c0b-ef1f-fa0dffb5d247"
      },
      "source": [
        "df['tfidf'][0]"
      ],
      "execution_count": null,
      "outputs": [
        {
          "output_type": "execute_result",
          "data": {
            "text/plain": [
              "[array([[0., 0., 0., 0., 0., 0., 0., 1.]]),\n",
              " array([[0., 0., 0., 0., 0., 0., 1., 0.]]),\n",
              " array([[1., 0., 0., 0., 0., 0., 0., 0.]]),\n",
              " array([[0., 0., 0., 0., 0., 1., 0., 0.]]),\n",
              " array([[0., 0., 0., 0., 1., 0., 0., 0.]]),\n",
              " array([[0., 1., 0., 0., 0., 0., 0., 0.]]),\n",
              " array([[0., 0., 1., 0., 0., 0., 0., 0.]]),\n",
              " array([[0., 0., 0., 1., 0., 0., 0., 0.]])]"
            ]
          },
          "metadata": {
            "tags": []
          },
          "execution_count": 108
        }
      ]
    },
    {
      "cell_type": "code",
      "metadata": {
        "colab": {
          "base_uri": "https://localhost:8080/"
        },
        "id": "YAtLDzJ1SbMV",
        "outputId": "93234f0a-6af4-4c4c-c988-c779babbf300"
      },
      "source": [
        "df['lemmi_title'][0]"
      ],
      "execution_count": null,
      "outputs": [
        {
          "output_type": "execute_result",
          "data": {
            "text/plain": [
              "['uae', 'poised', 'become', 'next', 'middle', 'east', 'energy', 'giant']"
            ]
          },
          "metadata": {
            "tags": []
          },
          "execution_count": 110
        }
      ]
    },
    {
      "cell_type": "code",
      "metadata": {
        "colab": {
          "base_uri": "https://localhost:8080/"
        },
        "id": "SLCNgn8vQVdt",
        "outputId": "a2c5155a-fd20-4b9c-9f80-cb67f22ee9f1"
      },
      "source": [
        "a=[1,2,3]\n",
        "np.array(a)"
      ],
      "execution_count": null,
      "outputs": [
        {
          "output_type": "execute_result",
          "data": {
            "text/plain": [
              "array([1, 2, 3])"
            ]
          },
          "metadata": {
            "tags": []
          },
          "execution_count": 101
        }
      ]
    },
    {
      "cell_type": "code",
      "metadata": {
        "id": "R0GTooCLfLev"
      },
      "source": [
        "from gensim.models import Word2Vec\n",
        "from gensim.models import KeyedVectors"
      ],
      "execution_count": null,
      "outputs": []
    },
    {
      "cell_type": "code",
      "metadata": {
        "colab": {
          "base_uri": "https://localhost:8080/",
          "height": 350
        },
        "id": "AtK0jbdlgYrA",
        "outputId": "5e54677e-9545-4dda-9f0d-e8d5acf08c5a"
      },
      "source": [
        "df['word2vec']=df['lemmi_title'].apply(lambda x : [loaded_model.get_vector(i) for i in x])"
      ],
      "execution_count": null,
      "outputs": [
        {
          "output_type": "error",
          "ename": "KeyError",
          "evalue": "ignored",
          "traceback": [
            "\u001b[0;31m---------------------------------------------------------------------------\u001b[0m",
            "\u001b[0;31mKeyError\u001b[0m                                  Traceback (most recent call last)",
            "\u001b[0;32m<ipython-input-134-c065026be0cc>\u001b[0m in \u001b[0;36m<module>\u001b[0;34m()\u001b[0m\n\u001b[0;32m----> 1\u001b[0;31m \u001b[0mdf\u001b[0m\u001b[0;34m[\u001b[0m\u001b[0;34m'word2vec'\u001b[0m\u001b[0;34m]\u001b[0m\u001b[0;34m=\u001b[0m\u001b[0mdf\u001b[0m\u001b[0;34m[\u001b[0m\u001b[0;34m'lemmi_title'\u001b[0m\u001b[0;34m]\u001b[0m\u001b[0;34m.\u001b[0m\u001b[0mapply\u001b[0m\u001b[0;34m(\u001b[0m\u001b[0;32mlambda\u001b[0m \u001b[0mx\u001b[0m \u001b[0;34m:\u001b[0m \u001b[0;34m[\u001b[0m\u001b[0mloaded_model\u001b[0m\u001b[0;34m.\u001b[0m\u001b[0mget_vector\u001b[0m\u001b[0;34m(\u001b[0m\u001b[0mi\u001b[0m\u001b[0;34m)\u001b[0m \u001b[0;32mfor\u001b[0m \u001b[0mi\u001b[0m \u001b[0;32min\u001b[0m \u001b[0mx\u001b[0m\u001b[0;34m]\u001b[0m\u001b[0;34m)\u001b[0m\u001b[0;34m\u001b[0m\u001b[0;34m\u001b[0m\u001b[0m\n\u001b[0m",
            "\u001b[0;32m/usr/local/lib/python3.7/dist-packages/pandas/core/series.py\u001b[0m in \u001b[0;36mapply\u001b[0;34m(self, func, convert_dtype, args, **kwds)\u001b[0m\n\u001b[1;32m   4211\u001b[0m             \u001b[0;32melse\u001b[0m\u001b[0;34m:\u001b[0m\u001b[0;34m\u001b[0m\u001b[0;34m\u001b[0m\u001b[0m\n\u001b[1;32m   4212\u001b[0m                 \u001b[0mvalues\u001b[0m \u001b[0;34m=\u001b[0m \u001b[0mself\u001b[0m\u001b[0;34m.\u001b[0m\u001b[0mastype\u001b[0m\u001b[0;34m(\u001b[0m\u001b[0mobject\u001b[0m\u001b[0;34m)\u001b[0m\u001b[0;34m.\u001b[0m\u001b[0m_values\u001b[0m\u001b[0;34m\u001b[0m\u001b[0;34m\u001b[0m\u001b[0m\n\u001b[0;32m-> 4213\u001b[0;31m                 \u001b[0mmapped\u001b[0m \u001b[0;34m=\u001b[0m \u001b[0mlib\u001b[0m\u001b[0;34m.\u001b[0m\u001b[0mmap_infer\u001b[0m\u001b[0;34m(\u001b[0m\u001b[0mvalues\u001b[0m\u001b[0;34m,\u001b[0m \u001b[0mf\u001b[0m\u001b[0;34m,\u001b[0m \u001b[0mconvert\u001b[0m\u001b[0;34m=\u001b[0m\u001b[0mconvert_dtype\u001b[0m\u001b[0;34m)\u001b[0m\u001b[0;34m\u001b[0m\u001b[0;34m\u001b[0m\u001b[0m\n\u001b[0m\u001b[1;32m   4214\u001b[0m \u001b[0;34m\u001b[0m\u001b[0m\n\u001b[1;32m   4215\u001b[0m         \u001b[0;32mif\u001b[0m \u001b[0mlen\u001b[0m\u001b[0;34m(\u001b[0m\u001b[0mmapped\u001b[0m\u001b[0;34m)\u001b[0m \u001b[0;32mand\u001b[0m \u001b[0misinstance\u001b[0m\u001b[0;34m(\u001b[0m\u001b[0mmapped\u001b[0m\u001b[0;34m[\u001b[0m\u001b[0;36m0\u001b[0m\u001b[0;34m]\u001b[0m\u001b[0;34m,\u001b[0m \u001b[0mSeries\u001b[0m\u001b[0;34m)\u001b[0m\u001b[0;34m:\u001b[0m\u001b[0;34m\u001b[0m\u001b[0;34m\u001b[0m\u001b[0m\n",
            "\u001b[0;32mpandas/_libs/lib.pyx\u001b[0m in \u001b[0;36mpandas._libs.lib.map_infer\u001b[0;34m()\u001b[0m\n",
            "\u001b[0;32m<ipython-input-134-c065026be0cc>\u001b[0m in \u001b[0;36m<lambda>\u001b[0;34m(x)\u001b[0m\n\u001b[0;32m----> 1\u001b[0;31m \u001b[0mdf\u001b[0m\u001b[0;34m[\u001b[0m\u001b[0;34m'word2vec'\u001b[0m\u001b[0;34m]\u001b[0m\u001b[0;34m=\u001b[0m\u001b[0mdf\u001b[0m\u001b[0;34m[\u001b[0m\u001b[0;34m'lemmi_title'\u001b[0m\u001b[0;34m]\u001b[0m\u001b[0;34m.\u001b[0m\u001b[0mapply\u001b[0m\u001b[0;34m(\u001b[0m\u001b[0;32mlambda\u001b[0m \u001b[0mx\u001b[0m \u001b[0;34m:\u001b[0m \u001b[0;34m[\u001b[0m\u001b[0mloaded_model\u001b[0m\u001b[0;34m.\u001b[0m\u001b[0mget_vector\u001b[0m\u001b[0;34m(\u001b[0m\u001b[0mi\u001b[0m\u001b[0;34m)\u001b[0m \u001b[0;32mfor\u001b[0m \u001b[0mi\u001b[0m \u001b[0;32min\u001b[0m \u001b[0mx\u001b[0m\u001b[0;34m]\u001b[0m\u001b[0;34m)\u001b[0m\u001b[0;34m\u001b[0m\u001b[0;34m\u001b[0m\u001b[0m\n\u001b[0m",
            "\u001b[0;32m<ipython-input-134-c065026be0cc>\u001b[0m in \u001b[0;36m<listcomp>\u001b[0;34m(.0)\u001b[0m\n\u001b[0;32m----> 1\u001b[0;31m \u001b[0mdf\u001b[0m\u001b[0;34m[\u001b[0m\u001b[0;34m'word2vec'\u001b[0m\u001b[0;34m]\u001b[0m\u001b[0;34m=\u001b[0m\u001b[0mdf\u001b[0m\u001b[0;34m[\u001b[0m\u001b[0;34m'lemmi_title'\u001b[0m\u001b[0;34m]\u001b[0m\u001b[0;34m.\u001b[0m\u001b[0mapply\u001b[0m\u001b[0;34m(\u001b[0m\u001b[0;32mlambda\u001b[0m \u001b[0mx\u001b[0m \u001b[0;34m:\u001b[0m \u001b[0;34m[\u001b[0m\u001b[0mloaded_model\u001b[0m\u001b[0;34m.\u001b[0m\u001b[0mget_vector\u001b[0m\u001b[0;34m(\u001b[0m\u001b[0mi\u001b[0m\u001b[0;34m)\u001b[0m \u001b[0;32mfor\u001b[0m \u001b[0mi\u001b[0m \u001b[0;32min\u001b[0m \u001b[0mx\u001b[0m\u001b[0;34m]\u001b[0m\u001b[0;34m)\u001b[0m\u001b[0;34m\u001b[0m\u001b[0;34m\u001b[0m\u001b[0m\n\u001b[0m",
            "\u001b[0;32m/usr/local/lib/python3.7/dist-packages/gensim/models/keyedvectors.py\u001b[0m in \u001b[0;36mget_vector\u001b[0;34m(self, word)\u001b[0m\n\u001b[1;32m    453\u001b[0m \u001b[0;34m\u001b[0m\u001b[0m\n\u001b[1;32m    454\u001b[0m     \u001b[0;32mdef\u001b[0m \u001b[0mget_vector\u001b[0m\u001b[0;34m(\u001b[0m\u001b[0mself\u001b[0m\u001b[0;34m,\u001b[0m \u001b[0mword\u001b[0m\u001b[0;34m)\u001b[0m\u001b[0;34m:\u001b[0m\u001b[0;34m\u001b[0m\u001b[0;34m\u001b[0m\u001b[0m\n\u001b[0;32m--> 455\u001b[0;31m         \u001b[0;32mreturn\u001b[0m \u001b[0mself\u001b[0m\u001b[0;34m.\u001b[0m\u001b[0mword_vec\u001b[0m\u001b[0;34m(\u001b[0m\u001b[0mword\u001b[0m\u001b[0;34m)\u001b[0m\u001b[0;34m\u001b[0m\u001b[0;34m\u001b[0m\u001b[0m\n\u001b[0m\u001b[1;32m    456\u001b[0m \u001b[0;34m\u001b[0m\u001b[0m\n\u001b[1;32m    457\u001b[0m     \u001b[0;32mdef\u001b[0m \u001b[0mwords_closer_than\u001b[0m\u001b[0;34m(\u001b[0m\u001b[0mself\u001b[0m\u001b[0;34m,\u001b[0m \u001b[0mw1\u001b[0m\u001b[0;34m,\u001b[0m \u001b[0mw2\u001b[0m\u001b[0;34m)\u001b[0m\u001b[0;34m:\u001b[0m\u001b[0;34m\u001b[0m\u001b[0;34m\u001b[0m\u001b[0m\n",
            "\u001b[0;32m/usr/local/lib/python3.7/dist-packages/gensim/models/keyedvectors.py\u001b[0m in \u001b[0;36mword_vec\u001b[0;34m(self, word, use_norm)\u001b[0m\n\u001b[1;32m    450\u001b[0m             \u001b[0;32mreturn\u001b[0m \u001b[0mresult\u001b[0m\u001b[0;34m\u001b[0m\u001b[0;34m\u001b[0m\u001b[0m\n\u001b[1;32m    451\u001b[0m         \u001b[0;32melse\u001b[0m\u001b[0;34m:\u001b[0m\u001b[0;34m\u001b[0m\u001b[0;34m\u001b[0m\u001b[0m\n\u001b[0;32m--> 452\u001b[0;31m             \u001b[0;32mraise\u001b[0m \u001b[0mKeyError\u001b[0m\u001b[0;34m(\u001b[0m\u001b[0;34m\"word '%s' not in vocabulary\"\u001b[0m \u001b[0;34m%\u001b[0m \u001b[0mword\u001b[0m\u001b[0;34m)\u001b[0m\u001b[0;34m\u001b[0m\u001b[0;34m\u001b[0m\u001b[0m\n\u001b[0m\u001b[1;32m    453\u001b[0m \u001b[0;34m\u001b[0m\u001b[0m\n\u001b[1;32m    454\u001b[0m     \u001b[0;32mdef\u001b[0m \u001b[0mget_vector\u001b[0m\u001b[0;34m(\u001b[0m\u001b[0mself\u001b[0m\u001b[0;34m,\u001b[0m \u001b[0mword\u001b[0m\u001b[0;34m)\u001b[0m\u001b[0;34m:\u001b[0m\u001b[0;34m\u001b[0m\u001b[0;34m\u001b[0m\u001b[0m\n",
            "\u001b[0;31mKeyError\u001b[0m: \"word 'solving' not in vocabulary\""
          ]
        }
      ]
    },
    {
      "cell_type": "code",
      "metadata": {
        "colab": {
          "base_uri": "https://localhost:8080/"
        },
        "id": "_1JGe4HeqHbK",
        "outputId": "7e1df4f3-342f-436c-c7ea-20f88c1fd26c"
      },
      "source": [
        "loaded_model.get_vector(\"uae\")"
      ],
      "execution_count": null,
      "outputs": [
        {
          "output_type": "execute_result",
          "data": {
            "text/plain": [
              "array([ 0.14015311,  0.04944398,  0.07569135,  0.00567519,  0.05914401,\n",
              "        0.11963748,  0.02940406,  0.14644766, -0.03426981,  0.03344195,\n",
              "       -0.07028589,  0.08589093, -0.09518461,  0.06391553,  0.1752236 ,\n",
              "       -0.17142028, -0.06663116, -0.18755151, -0.08084892, -0.07019907,\n",
              "        0.08139094,  0.18474427, -0.2332523 , -0.02221418, -0.12499598,\n",
              "       -0.21192436, -0.19841751,  0.06562069, -0.07154199, -0.12927255,\n",
              "        0.07057619, -0.10932018, -0.1776624 ,  0.14954446, -0.02624759,\n",
              "       -0.12148854, -0.07198396, -0.07963964, -0.02892969, -0.15345195,\n",
              "       -0.06868204,  0.17647381, -0.09321401, -0.07322565, -0.07310056,\n",
              "       -0.18219592, -0.10568142, -0.14999501,  0.10372308, -0.1414438 ,\n",
              "       -0.13047954,  0.24877042,  0.05182329,  0.07353585, -0.01348604,\n",
              "        0.2987417 ,  0.12145665, -0.11931058, -0.12800086, -0.27122146,\n",
              "        0.02329631, -0.01489131,  0.02612748,  0.23864974,  0.0513752 ,\n",
              "       -0.10551874, -0.19443107, -0.04879979,  0.07605988,  0.0855206 ,\n",
              "       -0.13859794,  0.0669008 ,  0.10842454, -0.05415726,  0.20380062,\n",
              "        0.04278067, -0.1167308 ,  0.02384876, -0.05465565, -0.04054549,\n",
              "       -0.2885172 , -0.08876503, -0.11881019, -0.39264104,  0.05847253,\n",
              "        0.21344835,  0.19769703,  0.10041494,  0.00362628,  0.02656829,\n",
              "       -0.04583944,  0.06855326,  0.04304413, -0.03030508,  0.17319056,\n",
              "       -0.24104223, -0.00551081, -0.1598676 ,  0.11298555,  0.01019932],\n",
              "      dtype=float32)"
            ]
          },
          "metadata": {
            "tags": []
          },
          "execution_count": 128
        }
      ]
    },
    {
      "cell_type": "markdown",
      "metadata": {
        "id": "8-NsZcumkILM"
      },
      "source": [
        "Word2Vec"
      ]
    },
    {
      "cell_type": "code",
      "metadata": {
        "id": "1CYGQ29_Aos5"
      },
      "source": [
        "from gensim.models import Word2Vec"
      ],
      "execution_count": null,
      "outputs": []
    },
    {
      "cell_type": "code",
      "metadata": {
        "id": "KeeFiy7ikfAL"
      },
      "source": [
        "model = Word2Vec(sentences=df['lemmi_title'], size=100, window=5, min_count=5, workers=4, sg=1)"
      ],
      "execution_count": null,
      "outputs": []
    },
    {
      "cell_type": "code",
      "metadata": {
        "id": "JJNgj-t4kfCi"
      },
      "source": [
        "from gensim.models import KeyedVectors\n",
        "model.wv.save_word2vec_format('eng_w2v') # 모델 저장\n",
        "loaded_model = KeyedVectors.load_word2vec_format(\"eng_w2v\") # 모델 로드"
      ],
      "execution_count": null,
      "outputs": []
    },
    {
      "cell_type": "code",
      "metadata": {
        "colab": {
          "base_uri": "https://localhost:8080/"
        },
        "id": "hYMh2arTkfK2",
        "outputId": "fdf31025-8ee5-4881-c356-5b67d8accc1a"
      },
      "source": [
        "model_result = loaded_model.most_similar(\"price\")\n",
        "print(model_result)"
      ],
      "execution_count": null,
      "outputs": [
        {
          "output_type": "stream",
          "text": [
            "[('rise', 0.9742411971092224), ('low', 0.9739410281181335), ('fall', 0.9734461307525635), ('production', 0.9636420011520386), ('oil', 0.962026834487915), ('rally', 0.9486740827560425), ('higher', 0.94339919090271), ('hit', 0.9421190023422241), ('rig', 0.9364202618598938), ('natural', 0.9356290102005005)]\n"
          ],
          "name": "stdout"
        }
      ]
    },
    {
      "cell_type": "markdown",
      "metadata": {
        "id": "2J5-BuAXxhti"
      },
      "source": [
        "NG Price 데이터 load"
      ]
    },
    {
      "cell_type": "code",
      "metadata": {
        "id": "eR26AMEmkfSX"
      },
      "source": [
        "from datetime import datetime\n",
        "from fredapi import Fred\n",
        "import pandas_datareader as pdr\n",
        "import pandas_datareader as data "
      ],
      "execution_count": null,
      "outputs": []
    },
    {
      "cell_type": "code",
      "metadata": {
        "colab": {
          "base_uri": "https://localhost:8080/"
        },
        "id": "D0tJTKZGEIt0",
        "outputId": "7badbe7a-c9ac-4425-830c-29e239425fd6"
      },
      "source": [
        "pip install fredapi"
      ],
      "execution_count": null,
      "outputs": [
        {
          "output_type": "stream",
          "text": [
            "Collecting fredapi\n",
            "  Downloading https://files.pythonhosted.org/packages/db/82/9ca1e4a7f1b2ae057e8352cc46d016866c067a12d013fc05af0670f4291a/fredapi-0.4.3-py3-none-any.whl\n",
            "Requirement already satisfied: pandas in /usr/local/lib/python3.7/dist-packages (from fredapi) (1.1.5)\n",
            "Requirement already satisfied: python-dateutil>=2.7.3 in /usr/local/lib/python3.7/dist-packages (from pandas->fredapi) (2.8.1)\n",
            "Requirement already satisfied: numpy>=1.15.4 in /usr/local/lib/python3.7/dist-packages (from pandas->fredapi) (1.19.5)\n",
            "Requirement already satisfied: pytz>=2017.2 in /usr/local/lib/python3.7/dist-packages (from pandas->fredapi) (2018.9)\n",
            "Requirement already satisfied: six>=1.5 in /usr/local/lib/python3.7/dist-packages (from python-dateutil>=2.7.3->pandas->fredapi) (1.15.0)\n",
            "Installing collected packages: fredapi\n",
            "Successfully installed fredapi-0.4.3\n"
          ],
          "name": "stdout"
        }
      ]
    },
    {
      "cell_type": "code",
      "metadata": {
        "id": "IpkefjrHxxSv"
      },
      "source": [
        "fred=Fred(api_key='5b00d2114222da72aab563643d32fb11')"
      ],
      "execution_count": null,
      "outputs": []
    },
    {
      "cell_type": "code",
      "metadata": {
        "id": "QJA3ytOUxxXJ"
      },
      "source": [
        "start=datetime(2012,2,15)\n",
        "end=datetime(2021,6,14)"
      ],
      "execution_count": null,
      "outputs": []
    },
    {
      "cell_type": "code",
      "metadata": {
        "colab": {
          "base_uri": "https://localhost:8080/",
          "height": 232
        },
        "id": "dJerTvXexxhn",
        "outputId": "8cb8eaa9-7c96-4d1e-b423-ca6beec6fbde"
      },
      "source": [
        "df_NG=pdr.DataReader('DHHNGSP','fred',start,end)\n",
        "df_NG.head()"
      ],
      "execution_count": null,
      "outputs": [
        {
          "output_type": "execute_result",
          "data": {
            "text/html": [
              "<div>\n",
              "<style scoped>\n",
              "    .dataframe tbody tr th:only-of-type {\n",
              "        vertical-align: middle;\n",
              "    }\n",
              "\n",
              "    .dataframe tbody tr th {\n",
              "        vertical-align: top;\n",
              "    }\n",
              "\n",
              "    .dataframe thead th {\n",
              "        text-align: right;\n",
              "    }\n",
              "</style>\n",
              "<table border=\"1\" class=\"dataframe\">\n",
              "  <thead>\n",
              "    <tr style=\"text-align: right;\">\n",
              "      <th></th>\n",
              "      <th>DHHNGSP</th>\n",
              "    </tr>\n",
              "    <tr>\n",
              "      <th>DATE</th>\n",
              "      <th></th>\n",
              "    </tr>\n",
              "  </thead>\n",
              "  <tbody>\n",
              "    <tr>\n",
              "      <th>2012-02-15</th>\n",
              "      <td>2.54</td>\n",
              "    </tr>\n",
              "    <tr>\n",
              "      <th>2012-02-16</th>\n",
              "      <td>2.47</td>\n",
              "    </tr>\n",
              "    <tr>\n",
              "      <th>2012-02-17</th>\n",
              "      <td>2.67</td>\n",
              "    </tr>\n",
              "    <tr>\n",
              "      <th>2012-02-20</th>\n",
              "      <td>NaN</td>\n",
              "    </tr>\n",
              "    <tr>\n",
              "      <th>2012-02-21</th>\n",
              "      <td>2.63</td>\n",
              "    </tr>\n",
              "  </tbody>\n",
              "</table>\n",
              "</div>"
            ],
            "text/plain": [
              "            DHHNGSP\n",
              "DATE               \n",
              "2012-02-15     2.54\n",
              "2012-02-16     2.47\n",
              "2012-02-17     2.67\n",
              "2012-02-20      NaN\n",
              "2012-02-21     2.63"
            ]
          },
          "metadata": {
            "tags": []
          },
          "execution_count": 93
        }
      ]
    },
    {
      "cell_type": "code",
      "metadata": {
        "colab": {
          "base_uri": "https://localhost:8080/"
        },
        "id": "HrF8XGXBz6Qb",
        "outputId": "d3e7909f-e470-4b62-fe01-a951ff460b62"
      },
      "source": [
        "df['date']=pd.to_datetime(df['date'])\n",
        "df.info()"
      ],
      "execution_count": null,
      "outputs": [
        {
          "output_type": "stream",
          "text": [
            "<class 'pandas.core.frame.DataFrame'>\n",
            "RangeIndex: 10097 entries, 0 to 10096\n",
            "Data columns (total 9 columns):\n",
            " #   Column          Non-Null Count  Dtype         \n",
            "---  ------          --------------  -----         \n",
            " 0   Unnamed: 0      10097 non-null  int64         \n",
            " 1   title           10097 non-null  object        \n",
            " 2   text            10097 non-null  object        \n",
            " 3   date            10097 non-null  datetime64[ns]\n",
            " 4   title_tokenize  10097 non-null  object        \n",
            " 5   text_tokenize   10097 non-null  object        \n",
            " 6   lemmi_text      10097 non-null  object        \n",
            " 7   lemmi_title     10097 non-null  object        \n",
            " 8   tfidf           10097 non-null  object        \n",
            "dtypes: datetime64[ns](1), int64(1), object(7)\n",
            "memory usage: 710.1+ KB\n"
          ],
          "name": "stdout"
        }
      ]
    },
    {
      "cell_type": "code",
      "metadata": {
        "colab": {
          "base_uri": "https://localhost:8080/"
        },
        "id": "Uye7q4SxMrWC",
        "outputId": "59d5ccd6-3070-4c2d-df97-24b603e42bea"
      },
      "source": [
        "df=df.set_index('date')\n",
        "df.info()"
      ],
      "execution_count": null,
      "outputs": [
        {
          "output_type": "stream",
          "text": [
            "<class 'pandas.core.frame.DataFrame'>\n",
            "DatetimeIndex: 10097 entries, 2021-06-14 to 2012-02-15\n",
            "Data columns (total 8 columns):\n",
            " #   Column          Non-Null Count  Dtype \n",
            "---  ------          --------------  ----- \n",
            " 0   Unnamed: 0      10097 non-null  int64 \n",
            " 1   title           10097 non-null  object\n",
            " 2   text            10097 non-null  object\n",
            " 3   title_tokenize  10097 non-null  object\n",
            " 4   text_tokenize   10097 non-null  object\n",
            " 5   lemmi_text      10097 non-null  object\n",
            " 6   lemmi_title     10097 non-null  object\n",
            " 7   tfidf           10097 non-null  object\n",
            "dtypes: int64(1), object(7)\n",
            "memory usage: 709.9+ KB\n"
          ],
          "name": "stdout"
        }
      ]
    },
    {
      "cell_type": "code",
      "metadata": {
        "colab": {
          "base_uri": "https://localhost:8080/"
        },
        "id": "mKI6OzdnMgrM",
        "outputId": "4107bf93-8266-48fa-9116-9c22ca50c55c"
      },
      "source": [
        "df_NG.info()"
      ],
      "execution_count": null,
      "outputs": [
        {
          "output_type": "stream",
          "text": [
            "<class 'pandas.core.frame.DataFrame'>\n",
            "DatetimeIndex: 2439 entries, 2012-02-15 to 2021-06-14\n",
            "Data columns (total 1 columns):\n",
            " #   Column   Non-Null Count  Dtype  \n",
            "---  ------   --------------  -----  \n",
            " 0   DHHNGSP  2367 non-null   float64\n",
            "dtypes: float64(1)\n",
            "memory usage: 38.1 KB\n"
          ],
          "name": "stdout"
        }
      ]
    },
    {
      "cell_type": "code",
      "metadata": {
        "colab": {
          "base_uri": "https://localhost:8080/",
          "height": 764
        },
        "id": "PEr_R5hRxxlx",
        "outputId": "2f5caee1-f668-4e8f-b04a-ea0d33f4c4c3"
      },
      "source": [
        "df_merge=pd.merge(df,df_NG, left_index=True, right_index=True, how='left')\n",
        "df_merge"
      ],
      "execution_count": null,
      "outputs": [
        {
          "output_type": "execute_result",
          "data": {
            "text/html": [
              "<div>\n",
              "<style scoped>\n",
              "    .dataframe tbody tr th:only-of-type {\n",
              "        vertical-align: middle;\n",
              "    }\n",
              "\n",
              "    .dataframe tbody tr th {\n",
              "        vertical-align: top;\n",
              "    }\n",
              "\n",
              "    .dataframe thead th {\n",
              "        text-align: right;\n",
              "    }\n",
              "</style>\n",
              "<table border=\"1\" class=\"dataframe\">\n",
              "  <thead>\n",
              "    <tr style=\"text-align: right;\">\n",
              "      <th></th>\n",
              "      <th>Unnamed: 0</th>\n",
              "      <th>title</th>\n",
              "      <th>text</th>\n",
              "      <th>title_tokenize</th>\n",
              "      <th>text_tokenize</th>\n",
              "      <th>lemmi_text</th>\n",
              "      <th>lemmi_title</th>\n",
              "      <th>tfidf</th>\n",
              "      <th>DHHNGSP</th>\n",
              "    </tr>\n",
              "  </thead>\n",
              "  <tbody>\n",
              "    <tr>\n",
              "      <th>2012-02-15</th>\n",
              "      <td>10093</td>\n",
              "      <td>Former OPEC Member Indonesia Diversifies its E...</td>\n",
              "      <td>Indonesia which had begun producing oil in the...</td>\n",
              "      <td>[former, opec, member, indonesia, diversifies,...</td>\n",
              "      <td>[indonesia, begun, producing, oil, early, 20th...</td>\n",
              "      <td>[indonesia, begun, producing, oil, early, 20th...</td>\n",
              "      <td>[former, opec, member, indonesia, diversifies,...</td>\n",
              "      <td>[[[0.0, 0.0, 0.0, 0.0, 0.0, 0.0, 0.0, 0.0]], [...</td>\n",
              "      <td>2.54</td>\n",
              "    </tr>\n",
              "    <tr>\n",
              "      <th>2012-02-15</th>\n",
              "      <td>10094</td>\n",
              "      <td>Putin Looking to Modernize Russias Energy Sect...</td>\n",
              "      <td>Largely overlooked in the nonRussian press an ...</td>\n",
              "      <td>[putin, looking, modernize, russias, energy, s...</td>\n",
              "      <td>[largely, overlooked, nonrussian, press, incip...</td>\n",
              "      <td>[largely, overlooked, nonrussian, press, incip...</td>\n",
              "      <td>[putin, looking, modernize, russia, energy, se...</td>\n",
              "      <td>[[[0.0, 0.0, 0.0, 0.0, 0.0, 0.0, 0.0, 0.0]], [...</td>\n",
              "      <td>2.54</td>\n",
              "    </tr>\n",
              "    <tr>\n",
              "      <th>2012-02-15</th>\n",
              "      <td>10095</td>\n",
              "      <td>How the US Shale Boom Will Change the World</td>\n",
              "      <td>A funny thing is happening on the way to the c...</td>\n",
              "      <td>[us, shale, boom, change, world]</td>\n",
              "      <td>[funny, thing, happening, way, clean, energy, ...</td>\n",
              "      <td>[funny, thing, happening, way, clean, energy, ...</td>\n",
              "      <td>[u, shale, boom, change, world]</td>\n",
              "      <td>[[[0.0, 0.0, 0.0, 0.0, 0.0, 0.0, 0.0, 0.0]], [...</td>\n",
              "      <td>2.54</td>\n",
              "    </tr>\n",
              "    <tr>\n",
              "      <th>2012-02-15</th>\n",
              "      <td>10096</td>\n",
              "      <td>The Age of Fossil Fuels is Far From Over</td>\n",
              "      <td>Having looked at the major alternatives to fos...</td>\n",
              "      <td>[age, fossil, fuels, far]</td>\n",
              "      <td>[looked, major, alternatives, fossil, fuel, en...</td>\n",
              "      <td>[looked, major, alternative, fossil, fuel, ene...</td>\n",
              "      <td>[age, fossil, fuel, far]</td>\n",
              "      <td>[[[0.0, 0.0, 0.0, 0.0, 0.0, 0.0, 0.0, 0.0]], [...</td>\n",
              "      <td>2.54</td>\n",
              "    </tr>\n",
              "    <tr>\n",
              "      <th>2012-02-15</th>\n",
              "      <td>10097</td>\n",
              "      <td>How the US Can Produce 36 Billion Gallons of B...</td>\n",
              "      <td>Jim Lane at Biofuelsdigestcom has written an a...</td>\n",
              "      <td>[us, produce, 36, billion, gallons, biofuels, ...</td>\n",
              "      <td>[jim, lane, biofuelsdigestcom, written, articl...</td>\n",
              "      <td>[jim, lane, biofuelsdigestcom, written, articl...</td>\n",
              "      <td>[u, produce, 36, billion, gallon, biofuels, an...</td>\n",
              "      <td>[[[0.0, 0.0, 0.0, 0.0, 0.0, 0.0, 0.0, 0.0]], [...</td>\n",
              "      <td>2.54</td>\n",
              "    </tr>\n",
              "    <tr>\n",
              "      <th>...</th>\n",
              "      <td>...</td>\n",
              "      <td>...</td>\n",
              "      <td>...</td>\n",
              "      <td>...</td>\n",
              "      <td>...</td>\n",
              "      <td>...</td>\n",
              "      <td>...</td>\n",
              "      <td>...</td>\n",
              "      <td>...</td>\n",
              "    </tr>\n",
              "    <tr>\n",
              "      <th>2021-06-12</th>\n",
              "      <td>6</td>\n",
              "      <td>Turkey Makes Moves To Become An Energy Hub</td>\n",
              "      <td>Turkey has dreamed about becoming an energy hu...</td>\n",
              "      <td>[turkey, makes, moves, become, energy, hub]</td>\n",
              "      <td>[turkey, dreamed, becoming, energy, hub, decad...</td>\n",
              "      <td>[turkey, dreamed, becoming, energy, hub, decad...</td>\n",
              "      <td>[turkey, make, move, become, energy, hub]</td>\n",
              "      <td>[[[0.0, 0.0, 0.0, 0.0, 0.0, 0.0, 0.0, 0.0]], [...</td>\n",
              "      <td>NaN</td>\n",
              "    </tr>\n",
              "    <tr>\n",
              "      <th>2021-06-13</th>\n",
              "      <td>2</td>\n",
              "      <td>Energy Transition Forces LNG Industry To Cut E...</td>\n",
              "      <td>In just a few years the image of natural gas m...</td>\n",
              "      <td>[energy, transition, forces, lng, industry, cu...</td>\n",
              "      <td>[years, image, natural, gas, markedly, shifted...</td>\n",
              "      <td>[year, image, natural, gas, markedly, shifted,...</td>\n",
              "      <td>[energy, transition, force, lng, industry, cut...</td>\n",
              "      <td>[[[0.0, 0.0, 1.0, 0.0, 0.0, 0.0, 0.0, 0.0]], [...</td>\n",
              "      <td>NaN</td>\n",
              "    </tr>\n",
              "    <tr>\n",
              "      <th>2021-06-13</th>\n",
              "      <td>3</td>\n",
              "      <td>Solving Nigerias Gasoline Crisis</td>\n",
              "      <td>The world of Nigerian refining is an enigma sh...</td>\n",
              "      <td>[solving, nigerias, gasoline, crisis]</td>\n",
              "      <td>[world, nigerian, refining, enigma, shrouded, ...</td>\n",
              "      <td>[world, nigerian, refining, enigma, shrouded, ...</td>\n",
              "      <td>[solving, nigeria, gasoline, crisis]</td>\n",
              "      <td>[[[0.0, 0.0, 0.0, 0.0, 0.0, 0.0, 0.0, 0.0]], [...</td>\n",
              "      <td>NaN</td>\n",
              "    </tr>\n",
              "    <tr>\n",
              "      <th>2021-06-14</th>\n",
              "      <td>0</td>\n",
              "      <td>The UAE Is Poised To Become The Next Middle Ea...</td>\n",
              "      <td>Saudi Arabia is synonymous with oil the EU is ...</td>\n",
              "      <td>[uae, poised, become, next, middle, east, ener...</td>\n",
              "      <td>[saudi, arabia, synonymous, oil, eu, obsessed,...</td>\n",
              "      <td>[saudi, arabia, synonymous, oil, eu, obsessed,...</td>\n",
              "      <td>[uae, poised, become, next, middle, east, ener...</td>\n",
              "      <td>[[[0.0, 0.0, 0.0, 0.0, 0.0, 0.0, 0.0, 1.0]], [...</td>\n",
              "      <td>3.36</td>\n",
              "    </tr>\n",
              "    <tr>\n",
              "      <th>2021-06-14</th>\n",
              "      <td>1</td>\n",
              "      <td>The Renewable Energy Revolution Has A Major Em...</td>\n",
              "      <td>Renewable energy is going gangbusters The rema...</td>\n",
              "      <td>[renewable, energy, revolution, major, employm...</td>\n",
              "      <td>[renewable, energy, going, gangbusters, remark...</td>\n",
              "      <td>[renewable, energy, going, gangbusters, remark...</td>\n",
              "      <td>[renewable, energy, revolution, major, employm...</td>\n",
              "      <td>[[[0.0, 0.0, 0.0, 0.0, 0.0, 0.0, 0.0, 0.0]], [...</td>\n",
              "      <td>3.36</td>\n",
              "    </tr>\n",
              "  </tbody>\n",
              "</table>\n",
              "<p>10097 rows × 9 columns</p>\n",
              "</div>"
            ],
            "text/plain": [
              "            Unnamed: 0  ... DHHNGSP\n",
              "2012-02-15       10093  ...    2.54\n",
              "2012-02-15       10094  ...    2.54\n",
              "2012-02-15       10095  ...    2.54\n",
              "2012-02-15       10096  ...    2.54\n",
              "2012-02-15       10097  ...    2.54\n",
              "...                ...  ...     ...\n",
              "2021-06-12           6  ...     NaN\n",
              "2021-06-13           2  ...     NaN\n",
              "2021-06-13           3  ...     NaN\n",
              "2021-06-14           0  ...    3.36\n",
              "2021-06-14           1  ...    3.36\n",
              "\n",
              "[10097 rows x 9 columns]"
            ]
          },
          "metadata": {
            "tags": []
          },
          "execution_count": 97
        }
      ]
    },
    {
      "cell_type": "code",
      "metadata": {
        "id": "OeZJK7jmEVB2"
      },
      "source": [
        "df_merge.to_csv('/content/drive/MyDrive/JHS/data/NGprice_preprocessing.csv')"
      ],
      "execution_count": null,
      "outputs": []
    },
    {
      "cell_type": "code",
      "metadata": {
        "colab": {
          "base_uri": "https://localhost:8080/"
        },
        "id": "HqXd4nGwNjeg",
        "outputId": "3f774f71-7cab-4b6e-b602-acb7f3fef5a7"
      },
      "source": [
        "df_merge['tfidf'][0][0]"
      ],
      "execution_count": null,
      "outputs": [
        {
          "output_type": "execute_result",
          "data": {
            "text/plain": [
              "array([[0., 0., 0., 0., 0., 0., 0., 0.]])"
            ]
          },
          "metadata": {
            "tags": []
          },
          "execution_count": 104
        }
      ]
    },
    {
      "cell_type": "markdown",
      "metadata": {
        "id": "3CzLGpgTBPT0"
      },
      "source": [
        "TF-IDF"
      ]
    },
    {
      "cell_type": "code",
      "metadata": {
        "id": "0jlgmBx-QduI"
      },
      "source": [
        "import pandas as pd"
      ],
      "execution_count": null,
      "outputs": []
    },
    {
      "cell_type": "code",
      "metadata": {
        "id": "NQ8nQMicQdWE"
      },
      "source": [
        "df=pd.read_csv('/content/drive/MyDrive/JHS/data/NGprice_preprocessing.csv')"
      ],
      "execution_count": null,
      "outputs": []
    },
    {
      "cell_type": "code",
      "metadata": {
        "id": "kzC_WqCJRzaH",
        "colab": {
          "base_uri": "https://localhost:8080/",
          "height": 764
        },
        "outputId": "b2540a4c-090d-4fd3-b012-ddf698e637cc"
      },
      "source": [
        "df"
      ],
      "execution_count": null,
      "outputs": [
        {
          "output_type": "execute_result",
          "data": {
            "text/html": [
              "<div>\n",
              "<style scoped>\n",
              "    .dataframe tbody tr th:only-of-type {\n",
              "        vertical-align: middle;\n",
              "    }\n",
              "\n",
              "    .dataframe tbody tr th {\n",
              "        vertical-align: top;\n",
              "    }\n",
              "\n",
              "    .dataframe thead th {\n",
              "        text-align: right;\n",
              "    }\n",
              "</style>\n",
              "<table border=\"1\" class=\"dataframe\">\n",
              "  <thead>\n",
              "    <tr style=\"text-align: right;\">\n",
              "      <th></th>\n",
              "      <th>Unnamed: 0</th>\n",
              "      <th>Unnamed: 0.1</th>\n",
              "      <th>title</th>\n",
              "      <th>text</th>\n",
              "      <th>title_tokenize</th>\n",
              "      <th>text_tokenize</th>\n",
              "      <th>lemmi_text</th>\n",
              "      <th>lemmi_title</th>\n",
              "      <th>tfidf</th>\n",
              "      <th>DHHNGSP</th>\n",
              "    </tr>\n",
              "  </thead>\n",
              "  <tbody>\n",
              "    <tr>\n",
              "      <th>0</th>\n",
              "      <td>2012-02-15</td>\n",
              "      <td>10093</td>\n",
              "      <td>Former OPEC Member Indonesia Diversifies its E...</td>\n",
              "      <td>Indonesia which had begun producing oil in the...</td>\n",
              "      <td>['former', 'opec', 'member', 'indonesia', 'div...</td>\n",
              "      <td>['indonesia', 'begun', 'producing', 'oil', 'ea...</td>\n",
              "      <td>['indonesia', 'begun', 'producing', 'oil', 'ea...</td>\n",
              "      <td>['former', 'opec', 'member', 'indonesia', 'div...</td>\n",
              "      <td>[array([[0., 0., 0., 0., 0., 0., 0., 0.]]), ar...</td>\n",
              "      <td>2.54</td>\n",
              "    </tr>\n",
              "    <tr>\n",
              "      <th>1</th>\n",
              "      <td>2012-02-15</td>\n",
              "      <td>10094</td>\n",
              "      <td>Putin Looking to Modernize Russias Energy Sect...</td>\n",
              "      <td>Largely overlooked in the nonRussian press an ...</td>\n",
              "      <td>['putin', 'looking', 'modernize', 'russias', '...</td>\n",
              "      <td>['largely', 'overlooked', 'nonrussian', 'press...</td>\n",
              "      <td>['largely', 'overlooked', 'nonrussian', 'press...</td>\n",
              "      <td>['putin', 'looking', 'modernize', 'russia', 'e...</td>\n",
              "      <td>[array([[0., 0., 0., 0., 0., 0., 0., 0.]]), ar...</td>\n",
              "      <td>2.54</td>\n",
              "    </tr>\n",
              "    <tr>\n",
              "      <th>2</th>\n",
              "      <td>2012-02-15</td>\n",
              "      <td>10095</td>\n",
              "      <td>How the US Shale Boom Will Change the World</td>\n",
              "      <td>A funny thing is happening on the way to the c...</td>\n",
              "      <td>['us', 'shale', 'boom', 'change', 'world']</td>\n",
              "      <td>['funny', 'thing', 'happening', 'way', 'clean'...</td>\n",
              "      <td>['funny', 'thing', 'happening', 'way', 'clean'...</td>\n",
              "      <td>['u', 'shale', 'boom', 'change', 'world']</td>\n",
              "      <td>[array([[0., 0., 0., 0., 0., 0., 0., 0.]]), ar...</td>\n",
              "      <td>2.54</td>\n",
              "    </tr>\n",
              "    <tr>\n",
              "      <th>3</th>\n",
              "      <td>2012-02-15</td>\n",
              "      <td>10096</td>\n",
              "      <td>The Age of Fossil Fuels is Far From Over</td>\n",
              "      <td>Having looked at the major alternatives to fos...</td>\n",
              "      <td>['age', 'fossil', 'fuels', 'far']</td>\n",
              "      <td>['looked', 'major', 'alternatives', 'fossil', ...</td>\n",
              "      <td>['looked', 'major', 'alternative', 'fossil', '...</td>\n",
              "      <td>['age', 'fossil', 'fuel', 'far']</td>\n",
              "      <td>[array([[0., 0., 0., 0., 0., 0., 0., 0.]]), ar...</td>\n",
              "      <td>2.54</td>\n",
              "    </tr>\n",
              "    <tr>\n",
              "      <th>4</th>\n",
              "      <td>2012-02-15</td>\n",
              "      <td>10097</td>\n",
              "      <td>How the US Can Produce 36 Billion Gallons of B...</td>\n",
              "      <td>Jim Lane at Biofuelsdigestcom has written an a...</td>\n",
              "      <td>['us', 'produce', '36', 'billion', 'gallons', ...</td>\n",
              "      <td>['jim', 'lane', 'biofuelsdigestcom', 'written'...</td>\n",
              "      <td>['jim', 'lane', 'biofuelsdigestcom', 'written'...</td>\n",
              "      <td>['u', 'produce', '36', 'billion', 'gallon', 'b...</td>\n",
              "      <td>[array([[0., 0., 0., 0., 0., 0., 0., 0.]]), ar...</td>\n",
              "      <td>2.54</td>\n",
              "    </tr>\n",
              "    <tr>\n",
              "      <th>...</th>\n",
              "      <td>...</td>\n",
              "      <td>...</td>\n",
              "      <td>...</td>\n",
              "      <td>...</td>\n",
              "      <td>...</td>\n",
              "      <td>...</td>\n",
              "      <td>...</td>\n",
              "      <td>...</td>\n",
              "      <td>...</td>\n",
              "      <td>...</td>\n",
              "    </tr>\n",
              "    <tr>\n",
              "      <th>10092</th>\n",
              "      <td>2021-06-12</td>\n",
              "      <td>6</td>\n",
              "      <td>Turkey Makes Moves To Become An Energy Hub</td>\n",
              "      <td>Turkey has dreamed about becoming an energy hu...</td>\n",
              "      <td>['turkey', 'makes', 'moves', 'become', 'energy...</td>\n",
              "      <td>['turkey', 'dreamed', 'becoming', 'energy', 'h...</td>\n",
              "      <td>['turkey', 'dreamed', 'becoming', 'energy', 'h...</td>\n",
              "      <td>['turkey', 'make', 'move', 'become', 'energy',...</td>\n",
              "      <td>[array([[0., 0., 0., 0., 0., 0., 0., 0.]]), ar...</td>\n",
              "      <td>NaN</td>\n",
              "    </tr>\n",
              "    <tr>\n",
              "      <th>10093</th>\n",
              "      <td>2021-06-13</td>\n",
              "      <td>2</td>\n",
              "      <td>Energy Transition Forces LNG Industry To Cut E...</td>\n",
              "      <td>In just a few years the image of natural gas m...</td>\n",
              "      <td>['energy', 'transition', 'forces', 'lng', 'ind...</td>\n",
              "      <td>['years', 'image', 'natural', 'gas', 'markedly...</td>\n",
              "      <td>['year', 'image', 'natural', 'gas', 'markedly'...</td>\n",
              "      <td>['energy', 'transition', 'force', 'lng', 'indu...</td>\n",
              "      <td>[array([[0., 0., 1., 0., 0., 0., 0., 0.]]), ar...</td>\n",
              "      <td>NaN</td>\n",
              "    </tr>\n",
              "    <tr>\n",
              "      <th>10094</th>\n",
              "      <td>2021-06-13</td>\n",
              "      <td>3</td>\n",
              "      <td>Solving Nigerias Gasoline Crisis</td>\n",
              "      <td>The world of Nigerian refining is an enigma sh...</td>\n",
              "      <td>['solving', 'nigerias', 'gasoline', 'crisis']</td>\n",
              "      <td>['world', 'nigerian', 'refining', 'enigma', 's...</td>\n",
              "      <td>['world', 'nigerian', 'refining', 'enigma', 's...</td>\n",
              "      <td>['solving', 'nigeria', 'gasoline', 'crisis']</td>\n",
              "      <td>[array([[0., 0., 0., 0., 0., 0., 0., 0.]]), ar...</td>\n",
              "      <td>NaN</td>\n",
              "    </tr>\n",
              "    <tr>\n",
              "      <th>10095</th>\n",
              "      <td>2021-06-14</td>\n",
              "      <td>0</td>\n",
              "      <td>The UAE Is Poised To Become The Next Middle Ea...</td>\n",
              "      <td>Saudi Arabia is synonymous with oil the EU is ...</td>\n",
              "      <td>['uae', 'poised', 'become', 'next', 'middle', ...</td>\n",
              "      <td>['saudi', 'arabia', 'synonymous', 'oil', 'eu',...</td>\n",
              "      <td>['saudi', 'arabia', 'synonymous', 'oil', 'eu',...</td>\n",
              "      <td>['uae', 'poised', 'become', 'next', 'middle', ...</td>\n",
              "      <td>[array([[0., 0., 0., 0., 0., 0., 0., 1.]]), ar...</td>\n",
              "      <td>3.36</td>\n",
              "    </tr>\n",
              "    <tr>\n",
              "      <th>10096</th>\n",
              "      <td>2021-06-14</td>\n",
              "      <td>1</td>\n",
              "      <td>The Renewable Energy Revolution Has A Major Em...</td>\n",
              "      <td>Renewable energy is going gangbusters The rema...</td>\n",
              "      <td>['renewable', 'energy', 'revolution', 'major',...</td>\n",
              "      <td>['renewable', 'energy', 'going', 'gangbusters'...</td>\n",
              "      <td>['renewable', 'energy', 'going', 'gangbusters'...</td>\n",
              "      <td>['renewable', 'energy', 'revolution', 'major',...</td>\n",
              "      <td>[array([[0., 0., 0., 0., 0., 0., 0., 0.]]), ar...</td>\n",
              "      <td>3.36</td>\n",
              "    </tr>\n",
              "  </tbody>\n",
              "</table>\n",
              "<p>10097 rows × 10 columns</p>\n",
              "</div>"
            ],
            "text/plain": [
              "       Unnamed: 0  ...  DHHNGSP\n",
              "0      2012-02-15  ...     2.54\n",
              "1      2012-02-15  ...     2.54\n",
              "2      2012-02-15  ...     2.54\n",
              "3      2012-02-15  ...     2.54\n",
              "4      2012-02-15  ...     2.54\n",
              "...           ...  ...      ...\n",
              "10092  2021-06-12  ...      NaN\n",
              "10093  2021-06-13  ...      NaN\n",
              "10094  2021-06-13  ...      NaN\n",
              "10095  2021-06-14  ...     3.36\n",
              "10096  2021-06-14  ...     3.36\n",
              "\n",
              "[10097 rows x 10 columns]"
            ]
          },
          "metadata": {
            "tags": []
          },
          "execution_count": 7
        }
      ]
    },
    {
      "cell_type": "code",
      "metadata": {
        "colab": {
          "base_uri": "https://localhost:8080/",
          "height": 52
        },
        "id": "yUB1qe8turQ_",
        "outputId": "fde3e186-c7dc-4fe6-b229-34d7de4dbd49"
      },
      "source": [
        "df['tfidf'][0]"
      ],
      "execution_count": null,
      "outputs": [
        {
          "output_type": "execute_result",
          "data": {
            "application/vnd.google.colaboratory.intrinsic+json": {
              "type": "string"
            },
            "text/plain": [
              "'[array([[0., 0., 0., 0., 0., 0., 0., 0.]]), array([[0., 0., 0., 0., 0., 0., 0., 0.]]), array([[0., 0., 0., 0., 0., 0., 0., 0.]]), array([[0., 0., 0., 0., 0., 0., 0., 0.]]), array([[0., 0., 0., 0., 0., 0., 0., 0.]]), array([[0., 0., 1., 0., 0., 0., 0., 0.]]), array([[0., 0., 0., 0., 0., 0., 0., 0.]])]'"
            ]
          },
          "metadata": {
            "tags": []
          },
          "execution_count": 5
        }
      ]
    },
    {
      "cell_type": "markdown",
      "metadata": {
        "id": "9NZbZAwQYMK7"
      },
      "source": [
        "Natural gas price 통계 데이터"
      ]
    },
    {
      "cell_type": "code",
      "metadata": {
        "id": "9t6JwsjcM6Xi"
      },
      "source": [
        "import statistics"
      ],
      "execution_count": null,
      "outputs": []
    },
    {
      "cell_type": "code",
      "metadata": {
        "id": "vAfOxLmQZZYP"
      },
      "source": [
        "df_NG['DHHNGSP']=pd.to_numeric(df_NG['DHHNGSP'])\n"
      ],
      "execution_count": null,
      "outputs": []
    },
    {
      "cell_type": "code",
      "metadata": {
        "id": "sQr2xMcKZPWd"
      },
      "source": [
        "df_NG.dropna(inplace=True)"
      ],
      "execution_count": null,
      "outputs": []
    },
    {
      "cell_type": "code",
      "metadata": {
        "colab": {
          "base_uri": "https://localhost:8080/"
        },
        "id": "vuLZEdqYYKqv",
        "outputId": "51ab4fbc-39b1-4c64-82c6-761d58b15e11"
      },
      "source": [
        "statistics.mean(df_NG['DHHNGSP'])"
      ],
      "execution_count": null,
      "outputs": [
        {
          "output_type": "execute_result",
          "data": {
            "text/plain": [
              "2.981972961554711"
            ]
          },
          "metadata": {
            "tags": []
          },
          "execution_count": 29
        }
      ]
    },
    {
      "cell_type": "code",
      "metadata": {
        "colab": {
          "base_uri": "https://localhost:8080/"
        },
        "id": "BYXdpBQQZWIf",
        "outputId": "d7955ef5-e2c1-464d-a7f1-659f5cb1ec6b"
      },
      "source": [
        "statistics.stdev(df_NG['DHHNGSP'])"
      ],
      "execution_count": null,
      "outputs": [
        {
          "output_type": "execute_result",
          "data": {
            "text/plain": [
              "0.9409134080955804"
            ]
          },
          "metadata": {
            "tags": []
          },
          "execution_count": 30
        }
      ]
    },
    {
      "cell_type": "code",
      "metadata": {
        "id": "NIRDCXnLM7LJ"
      },
      "source": [
        ""
      ],
      "execution_count": null,
      "outputs": []
    }
  ]
}